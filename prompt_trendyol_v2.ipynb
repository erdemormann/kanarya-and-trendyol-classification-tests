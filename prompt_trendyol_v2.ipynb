{
 "cells": [
  {
   "cell_type": "markdown",
   "metadata": {},
   "source": [
    "**Not:**\n",
    "\n",
    "**Trendyol/Trendyol-LLM-7b-chat-dpo-v1.0** -> https://huggingface.co/Trendyol/Trendyol-LLM-7b-chat-dpo-v1.0\n",
    "\n",
    "**Bu trendyolun llm chat modeli olduğu için eğitmeden bile sınıflandırma yapabilirsin.**\n",
    "\n",
    "**Eğitim yapmak ve tahmin için aşağıdaki kodları kullanabilirsin.**"
   ]
  },
  {
   "cell_type": "code",
   "execution_count": 1,
   "metadata": {
    "colab": {
     "base_uri": "https://localhost:8080/"
    },
    "execution": {
     "iopub.execute_input": "2024-05-30T19:18:46.644068Z",
     "iopub.status.busy": "2024-05-30T19:18:46.643818Z",
     "iopub.status.idle": "2024-05-30T19:18:47.450532Z",
     "shell.execute_reply": "2024-05-30T19:18:47.449532Z",
     "shell.execute_reply.started": "2024-05-30T19:18:46.644045Z"
    },
    "executionInfo": {
     "elapsed": 28302,
     "status": "ok",
     "timestamp": 1711482213220,
     "user": {
      "displayName": "Bruce Wayne",
      "userId": "03236562819884458513"
     },
     "user_tz": -180
    },
    "id": "WZoyywJ35xQQ",
    "outputId": "2805c332-90b0-4a93-c81c-eb1937f612ab"
   },
   "outputs": [
    {
     "name": "stdout",
     "output_type": "stream",
     "text": [
      "/kaggle/input/Subtask_A/tr_gr_train.csv\n",
      "/kaggle/input/Subtask_A/refugee_train.csv\n",
      "/kaggle/input/Subtask_A/isr_pal_train.csv\n",
      "/kaggle/input/Subtask_A/.ipynb_checkpoints/isr_pal_train-checkpoint.csv\n",
      "/kaggle/input/Subtask_A/.ipynb_checkpoints/refugee_train-checkpoint.csv\n",
      "/kaggle/input/Subtask_A/.ipynb_checkpoints/tr_gr_train-checkpoint.csv\n",
      "/kaggle/input/Subtask_A/test/TaskA_withoutLabels.csv\n",
      "/kaggle/input/Subtask_A/test/TaskA_sampleSubmission.csv\n",
      "/kaggle/input/Subtask_A/test/.ipynb_checkpoints/TaskA_withoutLabels-checkpoint.csv\n",
      "/kaggle/input/Subtask_A/test/.ipynb_checkpoints/TaskA_sampleSubmission-checkpoint.csv\n"
     ]
    }
   ],
   "source": [
    "# This Python 3 environment comes with many helpful analytics libraries installed\n",
    "# It is defined by the kaggle/python Docker image: https://github.com/kaggle/docker-python\n",
    "# For example, here's several helpful packages to load\n",
    "\n",
    "import numpy as np # linear algebra\n",
    "import pandas as pd # data processing, CSV file I/O (e.g. pd.read_csv)\n",
    "\n",
    "# Input data files are available in the read-only \"../input/\" directory\n",
    "# For example, running this (by clicking run or pressing Shift+Enter) will list all files under the input directory\n",
    "\n",
    "import os\n",
    "for dirname, _, filenames in os.walk('/kaggle/input'):\n",
    "    for filename in filenames:\n",
    "        print(os.path.join(dirname, filename))\n",
    "\n",
    "# You can write up to 20GB to the current directory (/kaggle/working/) that gets preserved as output when you create a version using \"Save & Run All\" \n",
    "# You can also write temporary files to /kaggle/temp/, but they won't be saved outside of the current session"
   ]
  },
  {
   "cell_type": "code",
   "execution_count": 2,
   "metadata": {
    "colab": {
     "base_uri": "https://localhost:8080/"
    },
    "execution": {
     "iopub.execute_input": "2024-05-30T19:18:47.453003Z",
     "iopub.status.busy": "2024-05-30T19:18:47.452302Z",
     "iopub.status.idle": "2024-05-30T19:19:05.486916Z",
     "shell.execute_reply": "2024-05-30T19:19:05.485937Z",
     "shell.execute_reply.started": "2024-05-30T19:18:47.452967Z"
    },
    "executionInfo": {
     "elapsed": 16847,
     "status": "ok",
     "timestamp": 1711482230064,
     "user": {
      "displayName": "Bruce Wayne",
      "userId": "03236562819884458513"
     },
     "user_tz": -180
    },
    "id": "wOylb_jIFUAi",
    "outputId": "382ed79c-da88-4d2e-d0bb-2bc155f518ad"
   },
   "outputs": [
    {
     "name": "stdout",
     "output_type": "stream",
     "text": [
      "NLTK Downloader\n",
      "---------------------------------------------------------------------------\n",
      "    d) Download   l) List    u) Update   c) Config   h) Help   q) Quit\n",
      "---------------------------------------------------------------------------\n"
     ]
    },
    {
     "name": "stdin",
     "output_type": "stream",
     "text": [
      "Downloader>  d\n"
     ]
    },
    {
     "name": "stdout",
     "output_type": "stream",
     "text": [
      "\n",
      "Download which package (l=list; x=cancel)?\n"
     ]
    },
    {
     "name": "stdin",
     "output_type": "stream",
     "text": [
      "  Identifier>  punkt\n"
     ]
    },
    {
     "name": "stdout",
     "output_type": "stream",
     "text": [
      "    Downloading package punkt to /usr/share/nltk_data...\n",
      "      Package punkt is already up-to-date!\n",
      "\n",
      "---------------------------------------------------------------------------\n",
      "    d) Download   l) List    u) Update   c) Config   h) Help   q) Quit\n",
      "---------------------------------------------------------------------------\n"
     ]
    },
    {
     "name": "stdin",
     "output_type": "stream",
     "text": [
      "Downloader>  d\n"
     ]
    },
    {
     "name": "stdout",
     "output_type": "stream",
     "text": [
      "\n",
      "Download which package (l=list; x=cancel)?\n"
     ]
    },
    {
     "name": "stdin",
     "output_type": "stream",
     "text": [
      "  Identifier>  stopwords\n"
     ]
    },
    {
     "name": "stdout",
     "output_type": "stream",
     "text": [
      "    Downloading package stopwords to /usr/share/nltk_data...\n",
      "      Package stopwords is already up-to-date!\n",
      "\n",
      "---------------------------------------------------------------------------\n",
      "    d) Download   l) List    u) Update   c) Config   h) Help   q) Quit\n",
      "---------------------------------------------------------------------------\n"
     ]
    },
    {
     "name": "stdin",
     "output_type": "stream",
     "text": [
      "Downloader>  q\n"
     ]
    },
    {
     "data": {
      "text/plain": [
       "True"
      ]
     },
     "execution_count": 2,
     "metadata": {},
     "output_type": "execute_result"
    }
   ],
   "source": [
    "import nltk\n",
    "nltk.download() #punkt stopwords"
   ]
  },
  {
   "cell_type": "markdown",
   "metadata": {
    "id": "XY0kKs5VKAwG"
   },
   "source": [
    "## Installations and imports"
   ]
  },
  {
   "cell_type": "code",
   "execution_count": 3,
   "metadata": {
    "colab": {
     "base_uri": "https://localhost:8080/"
    },
    "execution": {
     "iopub.execute_input": "2024-05-30T19:19:07.843266Z",
     "iopub.status.busy": "2024-05-30T19:19:07.842927Z",
     "iopub.status.idle": "2024-05-30T19:20:50.023801Z",
     "shell.execute_reply": "2024-05-30T19:20:50.022718Z",
     "shell.execute_reply.started": "2024-05-30T19:19:07.843240Z"
    },
    "executionInfo": {
     "elapsed": 197486,
     "status": "ok",
     "timestamp": 1711482430851,
     "user": {
      "displayName": "Bruce Wayne",
      "userId": "03236562819884458513"
     },
     "user_tz": -180
    },
    "id": "hwbiiBi0FUC3",
    "outputId": "3017d297-9861-4f68-8dc1-8feeb9772966"
   },
   "outputs": [
    {
     "name": "stdout",
     "output_type": "stream",
     "text": [
      "Requirement already satisfied: torch==2.1.2 in /opt/conda/lib/python3.10/site-packages (2.1.2)\n",
      "Requirement already satisfied: tensorboard in /opt/conda/lib/python3.10/site-packages (2.15.1)\n",
      "Requirement already satisfied: filelock in /opt/conda/lib/python3.10/site-packages (from torch==2.1.2) (3.13.1)\n",
      "Requirement already satisfied: typing-extensions in /opt/conda/lib/python3.10/site-packages (from torch==2.1.2) (4.9.0)\n",
      "Requirement already satisfied: sympy in /opt/conda/lib/python3.10/site-packages (from torch==2.1.2) (1.12)\n",
      "Requirement already satisfied: networkx in /opt/conda/lib/python3.10/site-packages (from torch==2.1.2) (3.2.1)\n",
      "Requirement already satisfied: jinja2 in /opt/conda/lib/python3.10/site-packages (from torch==2.1.2) (3.1.2)\n",
      "Requirement already satisfied: fsspec in /opt/conda/lib/python3.10/site-packages (from torch==2.1.2) (2024.2.0)\n",
      "Requirement already satisfied: absl-py>=0.4 in /opt/conda/lib/python3.10/site-packages (from tensorboard) (1.4.0)\n",
      "Requirement already satisfied: grpcio>=1.48.2 in /opt/conda/lib/python3.10/site-packages (from tensorboard) (1.51.1)\n",
      "Requirement already satisfied: google-auth<3,>=1.6.3 in /opt/conda/lib/python3.10/site-packages (from tensorboard) (2.26.1)\n",
      "Requirement already satisfied: google-auth-oauthlib<2,>=0.5 in /opt/conda/lib/python3.10/site-packages (from tensorboard) (1.2.0)\n",
      "Requirement already satisfied: markdown>=2.6.8 in /opt/conda/lib/python3.10/site-packages (from tensorboard) (3.5.2)\n",
      "Requirement already satisfied: numpy>=1.12.0 in /opt/conda/lib/python3.10/site-packages (from tensorboard) (1.26.4)\n",
      "Requirement already satisfied: protobuf<4.24,>=3.19.6 in /opt/conda/lib/python3.10/site-packages (from tensorboard) (3.20.3)\n",
      "Requirement already satisfied: requests<3,>=2.21.0 in /opt/conda/lib/python3.10/site-packages (from tensorboard) (2.31.0)\n",
      "Requirement already satisfied: setuptools>=41.0.0 in /opt/conda/lib/python3.10/site-packages (from tensorboard) (69.0.3)\n",
      "Requirement already satisfied: six>1.9 in /opt/conda/lib/python3.10/site-packages (from tensorboard) (1.16.0)\n",
      "Requirement already satisfied: tensorboard-data-server<0.8.0,>=0.7.0 in /opt/conda/lib/python3.10/site-packages (from tensorboard) (0.7.2)\n",
      "Requirement already satisfied: werkzeug>=1.0.1 in /opt/conda/lib/python3.10/site-packages (from tensorboard) (3.0.2)\n",
      "Requirement already satisfied: cachetools<6.0,>=2.0.0 in /opt/conda/lib/python3.10/site-packages (from google-auth<3,>=1.6.3->tensorboard) (4.2.4)\n",
      "Requirement already satisfied: pyasn1-modules>=0.2.1 in /opt/conda/lib/python3.10/site-packages (from google-auth<3,>=1.6.3->tensorboard) (0.3.0)\n",
      "Requirement already satisfied: rsa<5,>=3.1.4 in /opt/conda/lib/python3.10/site-packages (from google-auth<3,>=1.6.3->tensorboard) (4.9)\n",
      "Requirement already satisfied: requests-oauthlib>=0.7.0 in /opt/conda/lib/python3.10/site-packages (from google-auth-oauthlib<2,>=0.5->tensorboard) (1.3.1)\n",
      "Requirement already satisfied: charset-normalizer<4,>=2 in /opt/conda/lib/python3.10/site-packages (from requests<3,>=2.21.0->tensorboard) (3.3.2)\n",
      "Requirement already satisfied: idna<4,>=2.5 in /opt/conda/lib/python3.10/site-packages (from requests<3,>=2.21.0->tensorboard) (3.6)\n",
      "Requirement already satisfied: urllib3<3,>=1.21.1 in /opt/conda/lib/python3.10/site-packages (from requests<3,>=2.21.0->tensorboard) (1.26.18)\n",
      "Requirement already satisfied: certifi>=2017.4.17 in /opt/conda/lib/python3.10/site-packages (from requests<3,>=2.21.0->tensorboard) (2024.2.2)\n",
      "Requirement already satisfied: MarkupSafe>=2.1.1 in /opt/conda/lib/python3.10/site-packages (from werkzeug>=1.0.1->tensorboard) (2.1.3)\n",
      "Requirement already satisfied: mpmath>=0.19 in /opt/conda/lib/python3.10/site-packages (from sympy->torch==2.1.2) (1.3.0)\n",
      "Requirement already satisfied: pyasn1<0.6.0,>=0.4.6 in /opt/conda/lib/python3.10/site-packages (from pyasn1-modules>=0.2.1->google-auth<3,>=1.6.3->tensorboard) (0.5.1)\n",
      "Requirement already satisfied: oauthlib>=3.0.0 in /opt/conda/lib/python3.10/site-packages (from requests-oauthlib>=0.7.0->google-auth-oauthlib<2,>=0.5->tensorboard) (3.2.2)\n",
      "Collecting transformers==4.36.2\n",
      "  Downloading transformers-4.36.2-py3-none-any.whl.metadata (126 kB)\n",
      "\u001b[2K     \u001b[90m━━━━━━━━━━━━━━━━━━━━━━━━━━━━━━━━━━━━━━━\u001b[0m \u001b[32m126.8/126.8 kB\u001b[0m \u001b[31m1.4 MB/s\u001b[0m eta \u001b[36m0:00:00\u001b[0ma \u001b[36m0:00:01\u001b[0m\n",
      "\u001b[?25hCollecting datasets==2.16.1\n",
      "  Downloading datasets-2.16.1-py3-none-any.whl.metadata (20 kB)\n",
      "Collecting accelerate==0.26.1\n",
      "  Downloading accelerate-0.26.1-py3-none-any.whl.metadata (18 kB)\n",
      "Collecting evaluate==0.4.1\n",
      "  Downloading evaluate-0.4.1-py3-none-any.whl.metadata (9.4 kB)\n",
      "Collecting bitsandbytes==0.42.0\n",
      "  Downloading bitsandbytes-0.42.0-py3-none-any.whl.metadata (9.9 kB)\n",
      "Requirement already satisfied: filelock in /opt/conda/lib/python3.10/site-packages (from transformers==4.36.2) (3.13.1)\n",
      "Requirement already satisfied: huggingface-hub<1.0,>=0.19.3 in /opt/conda/lib/python3.10/site-packages (from transformers==4.36.2) (0.22.2)\n",
      "Requirement already satisfied: numpy>=1.17 in /opt/conda/lib/python3.10/site-packages (from transformers==4.36.2) (1.26.4)\n",
      "Requirement already satisfied: packaging>=20.0 in /opt/conda/lib/python3.10/site-packages (from transformers==4.36.2) (21.3)\n",
      "Requirement already satisfied: pyyaml>=5.1 in /opt/conda/lib/python3.10/site-packages (from transformers==4.36.2) (6.0.1)\n",
      "Requirement already satisfied: regex!=2019.12.17 in /opt/conda/lib/python3.10/site-packages (from transformers==4.36.2) (2023.12.25)\n",
      "Requirement already satisfied: requests in /opt/conda/lib/python3.10/site-packages (from transformers==4.36.2) (2.31.0)\n",
      "Requirement already satisfied: tokenizers<0.19,>=0.14 in /opt/conda/lib/python3.10/site-packages (from transformers==4.36.2) (0.15.2)\n",
      "Requirement already satisfied: safetensors>=0.3.1 in /opt/conda/lib/python3.10/site-packages (from transformers==4.36.2) (0.4.3)\n",
      "Requirement already satisfied: tqdm>=4.27 in /opt/conda/lib/python3.10/site-packages (from transformers==4.36.2) (4.66.1)\n",
      "Requirement already satisfied: pyarrow>=8.0.0 in /opt/conda/lib/python3.10/site-packages (from datasets==2.16.1) (15.0.2)\n",
      "Requirement already satisfied: pyarrow-hotfix in /opt/conda/lib/python3.10/site-packages (from datasets==2.16.1) (0.6)\n",
      "Collecting dill<0.3.8,>=0.3.0 (from datasets==2.16.1)\n",
      "  Downloading dill-0.3.7-py3-none-any.whl.metadata (9.9 kB)\n",
      "Requirement already satisfied: pandas in /opt/conda/lib/python3.10/site-packages (from datasets==2.16.1) (2.1.4)\n",
      "Requirement already satisfied: xxhash in /opt/conda/lib/python3.10/site-packages (from datasets==2.16.1) (3.4.1)\n",
      "Requirement already satisfied: multiprocess in /opt/conda/lib/python3.10/site-packages (from datasets==2.16.1) (0.70.16)\n",
      "Collecting fsspec<=2023.10.0,>=2023.1.0 (from fsspec[http]<=2023.10.0,>=2023.1.0->datasets==2.16.1)\n",
      "  Downloading fsspec-2023.10.0-py3-none-any.whl.metadata (6.8 kB)\n",
      "Requirement already satisfied: aiohttp in /opt/conda/lib/python3.10/site-packages (from datasets==2.16.1) (3.9.1)\n",
      "Requirement already satisfied: psutil in /opt/conda/lib/python3.10/site-packages (from accelerate==0.26.1) (5.9.3)\n",
      "Requirement already satisfied: torch>=1.10.0 in /opt/conda/lib/python3.10/site-packages (from accelerate==0.26.1) (2.1.2)\n",
      "Collecting responses<0.19 (from evaluate==0.4.1)\n",
      "  Downloading responses-0.18.0-py3-none-any.whl.metadata (29 kB)\n",
      "Requirement already satisfied: scipy in /opt/conda/lib/python3.10/site-packages (from bitsandbytes==0.42.0) (1.11.4)\n",
      "Requirement already satisfied: attrs>=17.3.0 in /opt/conda/lib/python3.10/site-packages (from aiohttp->datasets==2.16.1) (23.2.0)\n",
      "Requirement already satisfied: multidict<7.0,>=4.5 in /opt/conda/lib/python3.10/site-packages (from aiohttp->datasets==2.16.1) (6.0.4)\n",
      "Requirement already satisfied: yarl<2.0,>=1.0 in /opt/conda/lib/python3.10/site-packages (from aiohttp->datasets==2.16.1) (1.9.3)\n",
      "Requirement already satisfied: frozenlist>=1.1.1 in /opt/conda/lib/python3.10/site-packages (from aiohttp->datasets==2.16.1) (1.4.1)\n",
      "Requirement already satisfied: aiosignal>=1.1.2 in /opt/conda/lib/python3.10/site-packages (from aiohttp->datasets==2.16.1) (1.3.1)\n",
      "Requirement already satisfied: async-timeout<5.0,>=4.0 in /opt/conda/lib/python3.10/site-packages (from aiohttp->datasets==2.16.1) (4.0.3)\n",
      "Requirement already satisfied: typing-extensions>=3.7.4.3 in /opt/conda/lib/python3.10/site-packages (from huggingface-hub<1.0,>=0.19.3->transformers==4.36.2) (4.9.0)\n",
      "Requirement already satisfied: pyparsing!=3.0.5,>=2.0.2 in /opt/conda/lib/python3.10/site-packages (from packaging>=20.0->transformers==4.36.2) (3.1.1)\n",
      "Requirement already satisfied: charset-normalizer<4,>=2 in /opt/conda/lib/python3.10/site-packages (from requests->transformers==4.36.2) (3.3.2)\n",
      "Requirement already satisfied: idna<4,>=2.5 in /opt/conda/lib/python3.10/site-packages (from requests->transformers==4.36.2) (3.6)\n",
      "Requirement already satisfied: urllib3<3,>=1.21.1 in /opt/conda/lib/python3.10/site-packages (from requests->transformers==4.36.2) (1.26.18)\n",
      "Requirement already satisfied: certifi>=2017.4.17 in /opt/conda/lib/python3.10/site-packages (from requests->transformers==4.36.2) (2024.2.2)\n",
      "Requirement already satisfied: sympy in /opt/conda/lib/python3.10/site-packages (from torch>=1.10.0->accelerate==0.26.1) (1.12)\n",
      "Requirement already satisfied: networkx in /opt/conda/lib/python3.10/site-packages (from torch>=1.10.0->accelerate==0.26.1) (3.2.1)\n",
      "Requirement already satisfied: jinja2 in /opt/conda/lib/python3.10/site-packages (from torch>=1.10.0->accelerate==0.26.1) (3.1.2)\n",
      "INFO: pip is looking at multiple versions of multiprocess to determine which version is compatible with other requirements. This could take a while.\n",
      "Collecting multiprocess (from datasets==2.16.1)\n",
      "  Downloading multiprocess-0.70.15-py310-none-any.whl.metadata (7.2 kB)\n",
      "Requirement already satisfied: python-dateutil>=2.8.2 in /opt/conda/lib/python3.10/site-packages (from pandas->datasets==2.16.1) (2.9.0.post0)\n",
      "Requirement already satisfied: pytz>=2020.1 in /opt/conda/lib/python3.10/site-packages (from pandas->datasets==2.16.1) (2023.3.post1)\n",
      "Requirement already satisfied: tzdata>=2022.1 in /opt/conda/lib/python3.10/site-packages (from pandas->datasets==2.16.1) (2023.4)\n",
      "Requirement already satisfied: six>=1.5 in /opt/conda/lib/python3.10/site-packages (from python-dateutil>=2.8.2->pandas->datasets==2.16.1) (1.16.0)\n",
      "Requirement already satisfied: MarkupSafe>=2.0 in /opt/conda/lib/python3.10/site-packages (from jinja2->torch>=1.10.0->accelerate==0.26.1) (2.1.3)\n",
      "Requirement already satisfied: mpmath>=0.19 in /opt/conda/lib/python3.10/site-packages (from sympy->torch>=1.10.0->accelerate==0.26.1) (1.3.0)\n",
      "Downloading transformers-4.36.2-py3-none-any.whl (8.2 MB)\n",
      "\u001b[2K   \u001b[90m━━━━━━━━━━━━━━━━━━━━━━━━━━━━━━━━━━━━━━━━\u001b[0m \u001b[32m8.2/8.2 MB\u001b[0m \u001b[31m34.4 MB/s\u001b[0m eta \u001b[36m0:00:00\u001b[0m00:01\u001b[0m00:01\u001b[0m\n",
      "\u001b[?25hDownloading datasets-2.16.1-py3-none-any.whl (507 kB)\n",
      "\u001b[2K   \u001b[90m━━━━━━━━━━━━━━━━━━━━━━━━━━━━━━━━━━━━━━━━\u001b[0m \u001b[32m507.1/507.1 kB\u001b[0m \u001b[31m31.9 MB/s\u001b[0m eta \u001b[36m0:00:00\u001b[0m\n",
      "\u001b[?25hDownloading accelerate-0.26.1-py3-none-any.whl (270 kB)\n",
      "\u001b[2K   \u001b[90m━━━━━━━━━━━━━━━━━━━━━━━━━━━━━━━━━━━━━━━━\u001b[0m \u001b[32m270.9/270.9 kB\u001b[0m \u001b[31m22.0 MB/s\u001b[0m eta \u001b[36m0:00:00\u001b[0m\n",
      "\u001b[?25hDownloading evaluate-0.4.1-py3-none-any.whl (84 kB)\n",
      "\u001b[2K   \u001b[90m━━━━━━━━━━━━━━━━━━━━━━━━━━━━━━━━━━━━━━━━\u001b[0m \u001b[32m84.1/84.1 kB\u001b[0m \u001b[31m6.8 MB/s\u001b[0m eta \u001b[36m0:00:00\u001b[0m\n",
      "\u001b[?25hDownloading bitsandbytes-0.42.0-py3-none-any.whl (105.0 MB)\n",
      "\u001b[2K   \u001b[90m━━━━━━━━━━━━━━━━━━━━━━━━━━━━━━━━━━━━━━━━\u001b[0m \u001b[32m105.0/105.0 MB\u001b[0m \u001b[31m12.6 MB/s\u001b[0m eta \u001b[36m0:00:00\u001b[0m00:01\u001b[0m00:01\u001b[0m\n",
      "\u001b[?25hDownloading dill-0.3.7-py3-none-any.whl (115 kB)\n",
      "\u001b[2K   \u001b[90m━━━━━━━━━━━━━━━━━━━━━━━━━━━━━━━━━━━━━━━━\u001b[0m \u001b[32m115.3/115.3 kB\u001b[0m \u001b[31m9.0 MB/s\u001b[0m eta \u001b[36m0:00:00\u001b[0m\n",
      "\u001b[?25hDownloading fsspec-2023.10.0-py3-none-any.whl (166 kB)\n",
      "\u001b[2K   \u001b[90m━━━━━━━━━━━━━━━━━━━━━━━━━━━━━━━━━━━━━━━━\u001b[0m \u001b[32m166.4/166.4 kB\u001b[0m \u001b[31m13.9 MB/s\u001b[0m eta \u001b[36m0:00:00\u001b[0m\n",
      "\u001b[?25hDownloading responses-0.18.0-py3-none-any.whl (38 kB)\n",
      "Downloading multiprocess-0.70.15-py310-none-any.whl (134 kB)\n",
      "\u001b[2K   \u001b[90m━━━━━━━━━━━━━━━━━━━━━━━━━━━━━━━━━━━━━━━━\u001b[0m \u001b[32m134.8/134.8 kB\u001b[0m \u001b[31m11.5 MB/s\u001b[0m eta \u001b[36m0:00:00\u001b[0m\n",
      "\u001b[?25hInstalling collected packages: fsspec, dill, responses, multiprocess, bitsandbytes, accelerate, transformers, datasets, evaluate\n",
      "  Attempting uninstall: fsspec\n",
      "    Found existing installation: fsspec 2024.2.0\n",
      "    Uninstalling fsspec-2024.2.0:\n",
      "      Successfully uninstalled fsspec-2024.2.0\n",
      "  Attempting uninstall: dill\n",
      "    Found existing installation: dill 0.3.8\n",
      "    Uninstalling dill-0.3.8:\n",
      "      Successfully uninstalled dill-0.3.8\n",
      "  Attempting uninstall: multiprocess\n",
      "    Found existing installation: multiprocess 0.70.16\n",
      "    Uninstalling multiprocess-0.70.16:\n",
      "      Successfully uninstalled multiprocess-0.70.16\n",
      "  Attempting uninstall: accelerate\n",
      "    Found existing installation: accelerate 0.29.3\n",
      "    Uninstalling accelerate-0.29.3:\n",
      "      Successfully uninstalled accelerate-0.29.3\n",
      "  Attempting uninstall: transformers\n",
      "    Found existing installation: transformers 4.39.3\n",
      "    Uninstalling transformers-4.39.3:\n",
      "      Successfully uninstalled transformers-4.39.3\n",
      "  Attempting uninstall: datasets\n",
      "    Found existing installation: datasets 2.18.0\n",
      "    Uninstalling datasets-2.18.0:\n",
      "      Successfully uninstalled datasets-2.18.0\n",
      "\u001b[31mERROR: pip's dependency resolver does not currently take into account all the packages that are installed. This behaviour is the source of the following dependency conflicts.\n",
      "cudf 23.8.0 requires cubinlinker, which is not installed.\n",
      "cudf 23.8.0 requires cupy-cuda11x>=12.0.0, which is not installed.\n",
      "cudf 23.8.0 requires ptxcompiler, which is not installed.\n",
      "cuml 23.8.0 requires cupy-cuda11x>=12.0.0, which is not installed.\n",
      "dask-cudf 23.8.0 requires cupy-cuda11x>=12.0.0, which is not installed.\n",
      "apache-beam 2.46.0 requires dill<0.3.2,>=0.3.1.1, but you have dill 0.3.7 which is incompatible.\n",
      "apache-beam 2.46.0 requires numpy<1.25.0,>=1.14.3, but you have numpy 1.26.4 which is incompatible.\n",
      "apache-beam 2.46.0 requires pyarrow<10.0.0,>=3.0.0, but you have pyarrow 15.0.2 which is incompatible.\n",
      "cudf 23.8.0 requires cuda-python<12.0a0,>=11.7.1, but you have cuda-python 12.4.0 which is incompatible.\n",
      "cudf 23.8.0 requires pandas<1.6.0dev0,>=1.3, but you have pandas 2.1.4 which is incompatible.\n",
      "cudf 23.8.0 requires protobuf<5,>=4.21, but you have protobuf 3.20.3 which is incompatible.\n",
      "cudf 23.8.0 requires pyarrow==11.*, but you have pyarrow 15.0.2 which is incompatible.\n",
      "cuml 23.8.0 requires dask==2023.7.1, but you have dask 2024.4.1 which is incompatible.\n",
      "dask-cuda 23.8.0 requires dask==2023.7.1, but you have dask 2024.4.1 which is incompatible.\n",
      "dask-cuda 23.8.0 requires pandas<1.6.0dev0,>=1.3, but you have pandas 2.1.4 which is incompatible.\n",
      "dask-cudf 23.8.0 requires dask==2023.7.1, but you have dask 2024.4.1 which is incompatible.\n",
      "dask-cudf 23.8.0 requires pandas<1.6.0dev0,>=1.3, but you have pandas 2.1.4 which is incompatible.\n",
      "distributed 2023.7.1 requires dask==2023.7.1, but you have dask 2024.4.1 which is incompatible.\n",
      "gcsfs 2024.2.0 requires fsspec==2024.2.0, but you have fsspec 2023.10.0 which is incompatible.\n",
      "pathos 0.3.2 requires dill>=0.3.8, but you have dill 0.3.7 which is incompatible.\n",
      "pathos 0.3.2 requires multiprocess>=0.70.16, but you have multiprocess 0.70.15 which is incompatible.\n",
      "raft-dask 23.8.0 requires dask==2023.7.1, but you have dask 2024.4.1 which is incompatible.\n",
      "s3fs 2024.2.0 requires fsspec==2024.2.0, but you have fsspec 2023.10.0 which is incompatible.\u001b[0m\u001b[31m\n",
      "\u001b[0mSuccessfully installed accelerate-0.26.1 bitsandbytes-0.42.0 datasets-2.16.1 dill-0.3.7 evaluate-0.4.1 fsspec-2023.10.0 multiprocess-0.70.15 responses-0.18.0 transformers-4.36.2\n",
      "Collecting git+https://github.com/huggingface/trl@a3c5b7178ac4f65569975efadc97db2f3749c65e\n",
      "  Cloning https://github.com/huggingface/trl (to revision a3c5b7178ac4f65569975efadc97db2f3749c65e) to /tmp/pip-req-build-c7cel9sh\n",
      "  Running command git clone --filter=blob:none --quiet https://github.com/huggingface/trl /tmp/pip-req-build-c7cel9sh\n",
      "  Running command git rev-parse -q --verify 'sha^a3c5b7178ac4f65569975efadc97db2f3749c65e'\n",
      "  Running command git fetch -q https://github.com/huggingface/trl a3c5b7178ac4f65569975efadc97db2f3749c65e\n",
      "  Running command git checkout -q a3c5b7178ac4f65569975efadc97db2f3749c65e\n",
      "  Resolved https://github.com/huggingface/trl to commit a3c5b7178ac4f65569975efadc97db2f3749c65e\n",
      "  Installing build dependencies ... \u001b[?25ldone\n",
      "\u001b[?25h  Getting requirements to build wheel ... \u001b[?25ldone\n",
      "\u001b[?25h  Preparing metadata (pyproject.toml) ... \u001b[?25ldone\n",
      "\u001b[?25hRequirement already satisfied: torch>=1.4.0 in /opt/conda/lib/python3.10/site-packages (from trl==0.7.11.dev0) (2.1.2)\n",
      "Requirement already satisfied: transformers>=4.31.0 in /opt/conda/lib/python3.10/site-packages (from trl==0.7.11.dev0) (4.36.2)\n",
      "Requirement already satisfied: numpy>=1.18.2 in /opt/conda/lib/python3.10/site-packages (from trl==0.7.11.dev0) (1.26.4)\n",
      "Requirement already satisfied: accelerate in /opt/conda/lib/python3.10/site-packages (from trl==0.7.11.dev0) (0.26.1)\n",
      "Requirement already satisfied: datasets in /opt/conda/lib/python3.10/site-packages (from trl==0.7.11.dev0) (2.16.1)\n",
      "Collecting tyro>=0.5.11 (from trl==0.7.11.dev0)\n",
      "  Downloading tyro-0.8.4-py3-none-any.whl.metadata (7.9 kB)\n",
      "Requirement already satisfied: filelock in /opt/conda/lib/python3.10/site-packages (from torch>=1.4.0->trl==0.7.11.dev0) (3.13.1)\n",
      "Requirement already satisfied: typing-extensions in /opt/conda/lib/python3.10/site-packages (from torch>=1.4.0->trl==0.7.11.dev0) (4.9.0)\n",
      "Requirement already satisfied: sympy in /opt/conda/lib/python3.10/site-packages (from torch>=1.4.0->trl==0.7.11.dev0) (1.12)\n",
      "Requirement already satisfied: networkx in /opt/conda/lib/python3.10/site-packages (from torch>=1.4.0->trl==0.7.11.dev0) (3.2.1)\n",
      "Requirement already satisfied: jinja2 in /opt/conda/lib/python3.10/site-packages (from torch>=1.4.0->trl==0.7.11.dev0) (3.1.2)\n",
      "Requirement already satisfied: fsspec in /opt/conda/lib/python3.10/site-packages (from torch>=1.4.0->trl==0.7.11.dev0) (2023.10.0)\n",
      "Requirement already satisfied: huggingface-hub<1.0,>=0.19.3 in /opt/conda/lib/python3.10/site-packages (from transformers>=4.31.0->trl==0.7.11.dev0) (0.22.2)\n",
      "Requirement already satisfied: packaging>=20.0 in /opt/conda/lib/python3.10/site-packages (from transformers>=4.31.0->trl==0.7.11.dev0) (21.3)\n",
      "Requirement already satisfied: pyyaml>=5.1 in /opt/conda/lib/python3.10/site-packages (from transformers>=4.31.0->trl==0.7.11.dev0) (6.0.1)\n",
      "Requirement already satisfied: regex!=2019.12.17 in /opt/conda/lib/python3.10/site-packages (from transformers>=4.31.0->trl==0.7.11.dev0) (2023.12.25)\n",
      "Requirement already satisfied: requests in /opt/conda/lib/python3.10/site-packages (from transformers>=4.31.0->trl==0.7.11.dev0) (2.31.0)\n",
      "Requirement already satisfied: tokenizers<0.19,>=0.14 in /opt/conda/lib/python3.10/site-packages (from transformers>=4.31.0->trl==0.7.11.dev0) (0.15.2)\n",
      "Requirement already satisfied: safetensors>=0.3.1 in /opt/conda/lib/python3.10/site-packages (from transformers>=4.31.0->trl==0.7.11.dev0) (0.4.3)\n",
      "Requirement already satisfied: tqdm>=4.27 in /opt/conda/lib/python3.10/site-packages (from transformers>=4.31.0->trl==0.7.11.dev0) (4.66.1)\n",
      "Requirement already satisfied: docstring-parser>=0.14.1 in /opt/conda/lib/python3.10/site-packages (from tyro>=0.5.11->trl==0.7.11.dev0) (0.15)\n",
      "Requirement already satisfied: rich>=11.1.0 in /opt/conda/lib/python3.10/site-packages (from tyro>=0.5.11->trl==0.7.11.dev0) (13.7.0)\n",
      "Collecting shtab>=1.5.6 (from tyro>=0.5.11->trl==0.7.11.dev0)\n",
      "  Downloading shtab-1.7.1-py3-none-any.whl.metadata (7.3 kB)\n",
      "Requirement already satisfied: psutil in /opt/conda/lib/python3.10/site-packages (from accelerate->trl==0.7.11.dev0) (5.9.3)\n",
      "Requirement already satisfied: pyarrow>=8.0.0 in /opt/conda/lib/python3.10/site-packages (from datasets->trl==0.7.11.dev0) (15.0.2)\n",
      "Requirement already satisfied: pyarrow-hotfix in /opt/conda/lib/python3.10/site-packages (from datasets->trl==0.7.11.dev0) (0.6)\n",
      "Requirement already satisfied: dill<0.3.8,>=0.3.0 in /opt/conda/lib/python3.10/site-packages (from datasets->trl==0.7.11.dev0) (0.3.7)\n",
      "Requirement already satisfied: pandas in /opt/conda/lib/python3.10/site-packages (from datasets->trl==0.7.11.dev0) (2.1.4)\n",
      "Requirement already satisfied: xxhash in /opt/conda/lib/python3.10/site-packages (from datasets->trl==0.7.11.dev0) (3.4.1)\n",
      "Requirement already satisfied: multiprocess in /opt/conda/lib/python3.10/site-packages (from datasets->trl==0.7.11.dev0) (0.70.15)\n",
      "Requirement already satisfied: aiohttp in /opt/conda/lib/python3.10/site-packages (from datasets->trl==0.7.11.dev0) (3.9.1)\n",
      "Requirement already satisfied: attrs>=17.3.0 in /opt/conda/lib/python3.10/site-packages (from aiohttp->datasets->trl==0.7.11.dev0) (23.2.0)\n",
      "Requirement already satisfied: multidict<7.0,>=4.5 in /opt/conda/lib/python3.10/site-packages (from aiohttp->datasets->trl==0.7.11.dev0) (6.0.4)\n",
      "Requirement already satisfied: yarl<2.0,>=1.0 in /opt/conda/lib/python3.10/site-packages (from aiohttp->datasets->trl==0.7.11.dev0) (1.9.3)\n",
      "Requirement already satisfied: frozenlist>=1.1.1 in /opt/conda/lib/python3.10/site-packages (from aiohttp->datasets->trl==0.7.11.dev0) (1.4.1)\n",
      "Requirement already satisfied: aiosignal>=1.1.2 in /opt/conda/lib/python3.10/site-packages (from aiohttp->datasets->trl==0.7.11.dev0) (1.3.1)\n",
      "Requirement already satisfied: async-timeout<5.0,>=4.0 in /opt/conda/lib/python3.10/site-packages (from aiohttp->datasets->trl==0.7.11.dev0) (4.0.3)\n",
      "Requirement already satisfied: pyparsing!=3.0.5,>=2.0.2 in /opt/conda/lib/python3.10/site-packages (from packaging>=20.0->transformers>=4.31.0->trl==0.7.11.dev0) (3.1.1)\n",
      "Requirement already satisfied: charset-normalizer<4,>=2 in /opt/conda/lib/python3.10/site-packages (from requests->transformers>=4.31.0->trl==0.7.11.dev0) (3.3.2)\n",
      "Requirement already satisfied: idna<4,>=2.5 in /opt/conda/lib/python3.10/site-packages (from requests->transformers>=4.31.0->trl==0.7.11.dev0) (3.6)\n",
      "Requirement already satisfied: urllib3<3,>=1.21.1 in /opt/conda/lib/python3.10/site-packages (from requests->transformers>=4.31.0->trl==0.7.11.dev0) (1.26.18)\n",
      "Requirement already satisfied: certifi>=2017.4.17 in /opt/conda/lib/python3.10/site-packages (from requests->transformers>=4.31.0->trl==0.7.11.dev0) (2024.2.2)\n",
      "Requirement already satisfied: markdown-it-py>=2.2.0 in /opt/conda/lib/python3.10/site-packages (from rich>=11.1.0->tyro>=0.5.11->trl==0.7.11.dev0) (3.0.0)\n",
      "Requirement already satisfied: pygments<3.0.0,>=2.13.0 in /opt/conda/lib/python3.10/site-packages (from rich>=11.1.0->tyro>=0.5.11->trl==0.7.11.dev0) (2.17.2)\n",
      "Requirement already satisfied: MarkupSafe>=2.0 in /opt/conda/lib/python3.10/site-packages (from jinja2->torch>=1.4.0->trl==0.7.11.dev0) (2.1.3)\n",
      "Requirement already satisfied: python-dateutil>=2.8.2 in /opt/conda/lib/python3.10/site-packages (from pandas->datasets->trl==0.7.11.dev0) (2.9.0.post0)\n",
      "Requirement already satisfied: pytz>=2020.1 in /opt/conda/lib/python3.10/site-packages (from pandas->datasets->trl==0.7.11.dev0) (2023.3.post1)\n",
      "Requirement already satisfied: tzdata>=2022.1 in /opt/conda/lib/python3.10/site-packages (from pandas->datasets->trl==0.7.11.dev0) (2023.4)\n",
      "Requirement already satisfied: mpmath>=0.19 in /opt/conda/lib/python3.10/site-packages (from sympy->torch>=1.4.0->trl==0.7.11.dev0) (1.3.0)\n",
      "Requirement already satisfied: mdurl~=0.1 in /opt/conda/lib/python3.10/site-packages (from markdown-it-py>=2.2.0->rich>=11.1.0->tyro>=0.5.11->trl==0.7.11.dev0) (0.1.2)\n",
      "Requirement already satisfied: six>=1.5 in /opt/conda/lib/python3.10/site-packages (from python-dateutil>=2.8.2->pandas->datasets->trl==0.7.11.dev0) (1.16.0)\n",
      "Downloading tyro-0.8.4-py3-none-any.whl (102 kB)\n",
      "\u001b[2K   \u001b[90m━━━━━━━━━━━━━━━━━━━━━━━━━━━━━━━━━━━━━━━━\u001b[0m \u001b[32m102.4/102.4 kB\u001b[0m \u001b[31m1.1 MB/s\u001b[0m eta \u001b[36m0:00:00\u001b[0m \u001b[36m0:00:01\u001b[0m\n",
      "\u001b[?25hDownloading shtab-1.7.1-py3-none-any.whl (14 kB)\n",
      "Building wheels for collected packages: trl\n",
      "  Building wheel for trl (pyproject.toml) ... \u001b[?25ldone\n",
      "\u001b[?25h  Created wheel for trl: filename=trl-0.7.11.dev0-py3-none-any.whl size=151090 sha256=24f83d404242d58d37f4dd235358ba1000411ccce3c19f4f4d60a418a8a67bdf\n",
      "  Stored in directory: /root/.cache/pip/wheels/69/fc/ec/e718a169cea1752bd9c3eb798e9d8a56686d0752c49f97e1c1\n",
      "Successfully built trl\n",
      "Installing collected packages: shtab, tyro, trl\n",
      "Successfully installed shtab-1.7.1 trl-0.7.11.dev0 tyro-0.8.4\n",
      "Collecting git+https://github.com/huggingface/peft@4a1559582281fc3c9283892caea8ccef1d6f5a4f\n",
      "  Cloning https://github.com/huggingface/peft (to revision 4a1559582281fc3c9283892caea8ccef1d6f5a4f) to /tmp/pip-req-build-qthyd7ws\n",
      "  Running command git clone --filter=blob:none --quiet https://github.com/huggingface/peft /tmp/pip-req-build-qthyd7ws\n",
      "  Running command git rev-parse -q --verify 'sha^4a1559582281fc3c9283892caea8ccef1d6f5a4f'\n",
      "  Running command git fetch -q https://github.com/huggingface/peft 4a1559582281fc3c9283892caea8ccef1d6f5a4f\n",
      "  Running command git checkout -q 4a1559582281fc3c9283892caea8ccef1d6f5a4f\n",
      "  Resolved https://github.com/huggingface/peft to commit 4a1559582281fc3c9283892caea8ccef1d6f5a4f\n",
      "  Installing build dependencies ... \u001b[?25ldone\n",
      "\u001b[?25h  Getting requirements to build wheel ... \u001b[?25ldone\n",
      "\u001b[?25h  Preparing metadata (pyproject.toml) ... \u001b[?25ldone\n",
      "\u001b[?25hRequirement already satisfied: numpy>=1.17 in /opt/conda/lib/python3.10/site-packages (from peft==0.7.2.dev0) (1.26.4)\n",
      "Requirement already satisfied: packaging>=20.0 in /opt/conda/lib/python3.10/site-packages (from peft==0.7.2.dev0) (21.3)\n",
      "Requirement already satisfied: psutil in /opt/conda/lib/python3.10/site-packages (from peft==0.7.2.dev0) (5.9.3)\n",
      "Requirement already satisfied: pyyaml in /opt/conda/lib/python3.10/site-packages (from peft==0.7.2.dev0) (6.0.1)\n",
      "Requirement already satisfied: torch>=1.13.0 in /opt/conda/lib/python3.10/site-packages (from peft==0.7.2.dev0) (2.1.2)\n",
      "Requirement already satisfied: transformers in /opt/conda/lib/python3.10/site-packages (from peft==0.7.2.dev0) (4.36.2)\n",
      "Requirement already satisfied: tqdm in /opt/conda/lib/python3.10/site-packages (from peft==0.7.2.dev0) (4.66.1)\n",
      "Requirement already satisfied: accelerate>=0.21.0 in /opt/conda/lib/python3.10/site-packages (from peft==0.7.2.dev0) (0.26.1)\n",
      "Requirement already satisfied: safetensors in /opt/conda/lib/python3.10/site-packages (from peft==0.7.2.dev0) (0.4.3)\n",
      "Requirement already satisfied: huggingface-hub>=0.17.0 in /opt/conda/lib/python3.10/site-packages (from peft==0.7.2.dev0) (0.22.2)\n",
      "Requirement already satisfied: filelock in /opt/conda/lib/python3.10/site-packages (from huggingface-hub>=0.17.0->peft==0.7.2.dev0) (3.13.1)\n",
      "Requirement already satisfied: fsspec>=2023.5.0 in /opt/conda/lib/python3.10/site-packages (from huggingface-hub>=0.17.0->peft==0.7.2.dev0) (2023.10.0)\n",
      "Requirement already satisfied: requests in /opt/conda/lib/python3.10/site-packages (from huggingface-hub>=0.17.0->peft==0.7.2.dev0) (2.31.0)\n",
      "Requirement already satisfied: typing-extensions>=3.7.4.3 in /opt/conda/lib/python3.10/site-packages (from huggingface-hub>=0.17.0->peft==0.7.2.dev0) (4.9.0)\n",
      "Requirement already satisfied: pyparsing!=3.0.5,>=2.0.2 in /opt/conda/lib/python3.10/site-packages (from packaging>=20.0->peft==0.7.2.dev0) (3.1.1)\n",
      "Requirement already satisfied: sympy in /opt/conda/lib/python3.10/site-packages (from torch>=1.13.0->peft==0.7.2.dev0) (1.12)\n",
      "Requirement already satisfied: networkx in /opt/conda/lib/python3.10/site-packages (from torch>=1.13.0->peft==0.7.2.dev0) (3.2.1)\n",
      "Requirement already satisfied: jinja2 in /opt/conda/lib/python3.10/site-packages (from torch>=1.13.0->peft==0.7.2.dev0) (3.1.2)\n",
      "Requirement already satisfied: regex!=2019.12.17 in /opt/conda/lib/python3.10/site-packages (from transformers->peft==0.7.2.dev0) (2023.12.25)\n",
      "Requirement already satisfied: tokenizers<0.19,>=0.14 in /opt/conda/lib/python3.10/site-packages (from transformers->peft==0.7.2.dev0) (0.15.2)\n",
      "Requirement already satisfied: MarkupSafe>=2.0 in /opt/conda/lib/python3.10/site-packages (from jinja2->torch>=1.13.0->peft==0.7.2.dev0) (2.1.3)\n",
      "Requirement already satisfied: charset-normalizer<4,>=2 in /opt/conda/lib/python3.10/site-packages (from requests->huggingface-hub>=0.17.0->peft==0.7.2.dev0) (3.3.2)\n",
      "Requirement already satisfied: idna<4,>=2.5 in /opt/conda/lib/python3.10/site-packages (from requests->huggingface-hub>=0.17.0->peft==0.7.2.dev0) (3.6)\n",
      "Requirement already satisfied: urllib3<3,>=1.21.1 in /opt/conda/lib/python3.10/site-packages (from requests->huggingface-hub>=0.17.0->peft==0.7.2.dev0) (1.26.18)\n",
      "Requirement already satisfied: certifi>=2017.4.17 in /opt/conda/lib/python3.10/site-packages (from requests->huggingface-hub>=0.17.0->peft==0.7.2.dev0) (2024.2.2)\n",
      "Requirement already satisfied: mpmath>=0.19 in /opt/conda/lib/python3.10/site-packages (from sympy->torch>=1.13.0->peft==0.7.2.dev0) (1.3.0)\n",
      "Building wheels for collected packages: peft\n",
      "  Building wheel for peft (pyproject.toml) ... \u001b[?25ldone\n",
      "\u001b[?25h  Created wheel for peft: filename=peft-0.7.2.dev0-py3-none-any.whl size=183144 sha256=5b0a0b7dbc5fea5481e4185fd9e6a106201e05c12713865f784e8d5f8cc2f9ae\n",
      "  Stored in directory: /root/.cache/pip/wheels/94/88/30/67a50390d00daa42c311fb8b162fb3b320e9cdab6bd0bb8568\n",
      "Successfully built peft\n",
      "Installing collected packages: peft\n",
      "Successfully installed peft-0.7.2.dev0\n"
     ]
    }
   ],
   "source": [
    "# Install Pytorch & other libraries\n",
    "!pip install \"torch==2.1.2\" tensorboard\n",
    "\n",
    "# Install Hugging Face libraries\n",
    "!pip install  --upgrade \\\n",
    "  \"transformers==4.36.2\" \\\n",
    "  \"datasets==2.16.1\" \\\n",
    "  \"accelerate==0.26.1\" \\\n",
    "  \"evaluate==0.4.1\" \\\n",
    "  \"bitsandbytes==0.42.0\" \\\n",
    "  # \"trl==0.7.10\" # \\\n",
    "  # \"peft==0.7.1\" \\\n",
    "\n",
    "# install peft & trl from github\n",
    "!pip install git+https://github.com/huggingface/trl@a3c5b7178ac4f65569975efadc97db2f3749c65e --upgrade\n",
    "!pip install git+https://github.com/huggingface/peft@4a1559582281fc3c9283892caea8ccef1d6f5a4f --upgrade\n"
   ]
  },
  {
   "cell_type": "code",
   "execution_count": 4,
   "metadata": {
    "execution": {
     "iopub.execute_input": "2024-05-30T19:20:50.026434Z",
     "iopub.status.busy": "2024-05-30T19:20:50.026093Z",
     "iopub.status.idle": "2024-05-30T19:21:08.396080Z",
     "shell.execute_reply": "2024-05-30T19:21:08.395315Z",
     "shell.execute_reply.started": "2024-05-30T19:20:50.026402Z"
    },
    "executionInfo": {
     "elapsed": 22987,
     "status": "ok",
     "timestamp": 1711482473530,
     "user": {
      "displayName": "Bruce Wayne",
      "userId": "03236562819884458513"
     },
     "user_tz": -180
    },
    "id": "ve64zirMFUFp"
   },
   "outputs": [
    {
     "name": "stderr",
     "output_type": "stream",
     "text": [
      "2024-05-30 19:20:58.251334: E external/local_xla/xla/stream_executor/cuda/cuda_dnn.cc:9261] Unable to register cuDNN factory: Attempting to register factory for plugin cuDNN when one has already been registered\n",
      "2024-05-30 19:20:58.251474: E external/local_xla/xla/stream_executor/cuda/cuda_fft.cc:607] Unable to register cuFFT factory: Attempting to register factory for plugin cuFFT when one has already been registered\n",
      "2024-05-30 19:20:58.378279: E external/local_xla/xla/stream_executor/cuda/cuda_blas.cc:1515] Unable to register cuBLAS factory: Attempting to register factory for plugin cuBLAS when one has already been registered\n"
     ]
    }
   ],
   "source": [
    "# import the required libraries\n",
    "import os\n",
    "import torch\n",
    "import string\n",
    "import pandas as pd\n",
    "import numpy as np\n",
    "from pprint import pprint\n",
    "from random import randrange\n",
    "from functools import partial\n",
    "from tqdm import tqdm\n",
    "\n",
    "from sklearn.model_selection import train_test_split\n",
    "\n",
    "import re\n",
    "\n",
    "from nltk.corpus import stopwords\n",
    "stop_words = set(stopwords.words('turkish'))\n",
    "\n",
    "from torch.utils.data import DataLoader\n",
    "import datasets # !pip install datasets\n",
    "from datasets import load_dataset, Dataset\n",
    "\n",
    "from transformers import AutoConfig\n",
    "from peft import LoraConfig, PeftModel, TaskType\n",
    "\n",
    "# tokenizers\n",
    "from nltk.tokenize import word_tokenize\n",
    "from transformers import (\n",
    "                          GPTJForSequenceClassification,\n",
    "                          AutoModelForSequenceClassification,\n",
    "                          AutoTokenizer,\n",
    "                          Trainer,\n",
    "                          AutoModelForCausalLM,\n",
    "                          BitsAndBytesConfig,\n",
    "                          DataCollatorForLanguageModeling,\n",
    "                          EarlyStoppingCallback,\n",
    "                          TrainingArguments,\n",
    "                          HfArgumentParser,\n",
    "                          pipeline,\n",
    "                          logging,\n",
    "                          set_seed\n",
    "                          )\n",
    "\n",
    "import bitsandbytes as bnb\n",
    "from peft import LoraConfig, get_peft_model, prepare_model_for_kbit_training, PeftModel, AutoPeftModelForCausalLM\n",
    "from trl import SFTTrainer\n",
    "from trl import setup_chat_format\n",
    "\n",
    "import matplotlib.pyplot as plt\n",
    "import seaborn as sns\n",
    "from sklearn.metrics import (accuracy_score,\n",
    "                             f1_score,\n",
    "                             classification_report,\n",
    "                             confusion_matrix)\n",
    "\n",
    "import evaluate\n",
    "from evaluate import load\n"
   ]
  },
  {
   "cell_type": "code",
   "execution_count": 5,
   "metadata": {
    "execution": {
     "iopub.execute_input": "2024-05-30T19:21:23.100100Z",
     "iopub.status.busy": "2024-05-30T19:21:23.099743Z",
     "iopub.status.idle": "2024-05-30T19:21:23.194502Z",
     "shell.execute_reply": "2024-05-30T19:21:23.193741Z",
     "shell.execute_reply.started": "2024-05-30T19:21:23.100071Z"
    },
    "executionInfo": {
     "elapsed": 4349,
     "status": "ok",
     "timestamp": 1711482477877,
     "user": {
      "displayName": "Bruce Wayne",
      "userId": "03236562819884458513"
     },
     "user_tz": -180
    },
    "id": "2PQkstd5FUIR"
   },
   "outputs": [],
   "source": [
    "df_tr_gr_train = pd.read_csv(\"/kaggle/input/Subtask_A/tr_gr_train.csv\")\n",
    "df_refugee_train = pd.read_csv(\"/kaggle/input/Subtask_A/refugee_train.csv\")\n",
    "df_isr_pal_train = pd.read_csv(\"/kaggle/input/Subtask_A/isr_pal_train.csv\")"
   ]
  },
  {
   "cell_type": "code",
   "execution_count": 6,
   "metadata": {
    "colab": {
     "base_uri": "https://localhost:8080/",
     "height": 206
    },
    "execution": {
     "iopub.execute_input": "2024-05-30T19:21:23.338341Z",
     "iopub.status.busy": "2024-05-30T19:21:23.338037Z",
     "iopub.status.idle": "2024-05-30T19:21:23.356883Z",
     "shell.execute_reply": "2024-05-30T19:21:23.356022Z",
     "shell.execute_reply.started": "2024-05-30T19:21:23.338315Z"
    },
    "executionInfo": {
     "elapsed": 22,
     "status": "ok",
     "timestamp": 1711482477879,
     "user": {
      "displayName": "Bruce Wayne",
      "userId": "03236562819884458513"
     },
     "user_tz": -180
    },
    "id": "-VWQLwHVFVGY",
    "outputId": "4035dd27-08fb-46aa-b688-ac82d9b3a82c"
   },
   "outputs": [
    {
     "data": {
      "text/html": [
       "<div>\n",
       "<style scoped>\n",
       "    .dataframe tbody tr th:only-of-type {\n",
       "        vertical-align: middle;\n",
       "    }\n",
       "\n",
       "    .dataframe tbody tr th {\n",
       "        vertical-align: top;\n",
       "    }\n",
       "\n",
       "    .dataframe thead th {\n",
       "        text-align: right;\n",
       "    }\n",
       "</style>\n",
       "<table border=\"1\" class=\"dataframe\">\n",
       "  <thead>\n",
       "    <tr style=\"text-align: right;\">\n",
       "      <th></th>\n",
       "      <th>id</th>\n",
       "      <th>text</th>\n",
       "      <th>label</th>\n",
       "    </tr>\n",
       "  </thead>\n",
       "  <tbody>\n",
       "    <tr>\n",
       "      <th>0</th>\n",
       "      <td>1568524118357864451</td>\n",
       "      <td>Yunan ülkemizi işgal etmiş namusumuza tecavüz ...</td>\n",
       "      <td>1</td>\n",
       "    </tr>\n",
       "    <tr>\n",
       "      <th>1</th>\n",
       "      <td>1527761356061134851</td>\n",
       "      <td>@FeramuzKartal @Neslihan662 Düşüncen dogru kon...</td>\n",
       "      <td>0</td>\n",
       "    </tr>\n",
       "    <tr>\n",
       "      <th>2</th>\n",
       "      <td>1503008593372749826</td>\n",
       "      <td>@UfukUras Adaların silahlandırılması savaş seb...</td>\n",
       "      <td>0</td>\n",
       "    </tr>\n",
       "    <tr>\n",
       "      <th>3</th>\n",
       "      <td>1568255642095296513</td>\n",
       "      <td>@___MuraT_ASM___ İzmire gavur diyen keske yuna...</td>\n",
       "      <td>1</td>\n",
       "    </tr>\n",
       "    <tr>\n",
       "      <th>4</th>\n",
       "      <td>1525787544083910656</td>\n",
       "      <td>Bugünden 103 yıl önce İzmir’de Yunan işgal bir...</td>\n",
       "      <td>0</td>\n",
       "    </tr>\n",
       "  </tbody>\n",
       "</table>\n",
       "</div>"
      ],
      "text/plain": [
       "                    id                                               text  \\\n",
       "0  1568524118357864451  Yunan ülkemizi işgal etmiş namusumuza tecavüz ...   \n",
       "1  1527761356061134851  @FeramuzKartal @Neslihan662 Düşüncen dogru kon...   \n",
       "2  1503008593372749826  @UfukUras Adaların silahlandırılması savaş seb...   \n",
       "3  1568255642095296513  @___MuraT_ASM___ İzmire gavur diyen keske yuna...   \n",
       "4  1525787544083910656  Bugünden 103 yıl önce İzmir’de Yunan işgal bir...   \n",
       "\n",
       "   label  \n",
       "0      1  \n",
       "1      0  \n",
       "2      0  \n",
       "3      1  \n",
       "4      0  "
      ]
     },
     "execution_count": 6,
     "metadata": {},
     "output_type": "execute_result"
    }
   ],
   "source": [
    "df_train = pd.concat([df_tr_gr_train, df_isr_pal_train, df_refugee_train], ignore_index=True)\n",
    "df_train.head()"
   ]
  },
  {
   "cell_type": "code",
   "execution_count": 7,
   "metadata": {
    "colab": {
     "base_uri": "https://localhost:8080/"
    },
    "execution": {
     "iopub.execute_input": "2024-05-30T19:21:23.598879Z",
     "iopub.status.busy": "2024-05-30T19:21:23.598597Z",
     "iopub.status.idle": "2024-05-30T19:21:23.606268Z",
     "shell.execute_reply": "2024-05-30T19:21:23.605274Z",
     "shell.execute_reply.started": "2024-05-30T19:21:23.598857Z"
    },
    "executionInfo": {
     "elapsed": 20,
     "status": "ok",
     "timestamp": 1711482477879,
     "user": {
      "displayName": "Bruce Wayne",
      "userId": "03236562819884458513"
     },
     "user_tz": -180
    },
    "id": "vAOqfYihFVId",
    "outputId": "14f9e9a5-edf9-4124-b8d3-b1a5ef3bd036"
   },
   "outputs": [
    {
     "name": "stdout",
     "output_type": "stream",
     "text": [
      "Yunan ülkemizi işgal etmiş namusumuza tecavüz ediyor niçin onların ağzına sictik denize döktük demiyorsunuz Osmanlıyı kotuluyorsunuz.Dörtyüz sene çok mu gücünüze gitti.Hala acıyormu. 1 \n",
      "\n",
      "@hurmafidesi #KuduesBizimdir \n",
      "#KudusBizimdir 0 \n",
      "\n",
      "Mescidi aksâ yanarken arkada zafer kutlaması yapan yahudiler...\n",
      "ALLAH(c.c)'ın lâneti üzerinize olsun..\n",
      "#Kahrolsunİsrail \n",
      "#israilteroerdevletidir \n",
      "#MescidiAksaOnurumuzdur https://t.co/4epq5GIBaM 1 \n",
      "\n",
      "@username @username Sözcü gazetesi okuyanlar da  vatansever ; kendi vatanlarını seviyorlar ABD iTrail Ermenistan rumkesimi Yunanistan 1 \n",
      "\n",
      "@@user hocam ülkenin huzuru kalmadı bu şekilde giderse 20 30 seneye türk ırkı kendi vatanında sığınmacı durumuna düşecektir.. misafirlik bir yere kadardır misafirin kısa kalanı makbuldür 0 \n",
      "\n"
     ]
    }
   ],
   "source": [
    "print(df_train[\"text\"].iloc[0], df_train[\"label\"].iloc[0], \"\\n\")\n",
    "print(df_train[\"text\"].iloc[1000], df_train[\"label\"].iloc[1000], \"\\n\")\n",
    "print(df_train[\"text\"].iloc[2000], df_train[\"label\"].iloc[2000], \"\\n\")\n",
    "print(df_train[\"text\"].iloc[3000], df_train[\"label\"].iloc[3000] , \"\\n\")\n",
    "print(df_train[\"text\"].iloc[4000], df_train[\"label\"].iloc[4000], \"\\n\")"
   ]
  },
  {
   "cell_type": "code",
   "execution_count": 8,
   "metadata": {
    "colab": {
     "base_uri": "https://localhost:8080/"
    },
    "execution": {
     "iopub.execute_input": "2024-05-30T19:21:23.766812Z",
     "iopub.status.busy": "2024-05-30T19:21:23.766450Z",
     "iopub.status.idle": "2024-05-30T19:21:23.773520Z",
     "shell.execute_reply": "2024-05-30T19:21:23.772578Z",
     "shell.execute_reply.started": "2024-05-30T19:21:23.766786Z"
    },
    "executionInfo": {
     "elapsed": 15,
     "status": "ok",
     "timestamp": 1711482477879,
     "user": {
      "displayName": "Bruce Wayne",
      "userId": "03236562819884458513"
     },
     "user_tz": -180
    },
    "id": "aWI6VvlcFVLE",
    "outputId": "4b86301c-3a19-481d-9346-a2ea1983b54b"
   },
   "outputs": [
    {
     "name": "stdout",
     "output_type": "stream",
     "text": [
      "#kürecik açıkken kahrolsun israil naraları 😁\n",
      "#FilistinKazanıyor neyi?\n",
      "#FilistinDireniyor kime?\n",
      "#KüreciğiKapat yoo? 0 \n",
      "\n"
     ]
    }
   ],
   "source": [
    "# emojiler\n",
    "print(df_train[\"text\"].iloc[1200], df_train[\"label\"].iloc[1200] , \"\\n\")"
   ]
  },
  {
   "cell_type": "markdown",
   "metadata": {
    "id": "5cb_IT0KJPwk"
   },
   "source": [
    "## Process The Data"
   ]
  },
  {
   "cell_type": "markdown",
   "metadata": {
    "id": "JLtnkYubJQDY"
   },
   "source": [
    "**Extending the stopwords**"
   ]
  },
  {
   "cell_type": "code",
   "execution_count": 9,
   "metadata": {
    "execution": {
     "iopub.execute_input": "2024-05-30T19:21:24.284068Z",
     "iopub.status.busy": "2024-05-30T19:21:24.283704Z",
     "iopub.status.idle": "2024-05-30T19:21:24.288465Z",
     "shell.execute_reply": "2024-05-30T19:21:24.287594Z",
     "shell.execute_reply.started": "2024-05-30T19:21:24.284039Z"
    },
    "executionInfo": {
     "elapsed": 12,
     "status": "ok",
     "timestamp": 1711482477880,
     "user": {
      "displayName": "Bruce Wayne",
      "userId": "03236562819884458513"
     },
     "user_tz": -180
    },
    "id": "4j6liHAQFVN2"
   },
   "outputs": [],
   "source": [
    "stop_words = stop_words.union([\"bir\", \"kadar\", \"sonra\", \"kere\", \"mi\", \"ye\", \"te\", \"ta\", \"nun\", \"daki\", \"nın\", \"ten\", \"nin\", \"nün\"])\n",
    "#stop_words"
   ]
  },
  {
   "cell_type": "code",
   "execution_count": 10,
   "metadata": {
    "execution": {
     "iopub.execute_input": "2024-05-30T19:21:24.459808Z",
     "iopub.status.busy": "2024-05-30T19:21:24.459441Z",
     "iopub.status.idle": "2024-05-30T19:21:24.464702Z",
     "shell.execute_reply": "2024-05-30T19:21:24.463605Z",
     "shell.execute_reply.started": "2024-05-30T19:21:24.459778Z"
    },
    "executionInfo": {
     "elapsed": 12,
     "status": "ok",
     "timestamp": 1711482477880,
     "user": {
      "displayName": "Bruce Wayne",
      "userId": "03236562819884458513"
     },
     "user_tz": -180
    },
    "id": "e9xQ9z2WFVRR"
   },
   "outputs": [],
   "source": [
    "def remove_punctuation(text):\n",
    "    return ''.join(d for d in text if d not in string.punctuation or d == '!' or d == '?')"
   ]
  },
  {
   "cell_type": "code",
   "execution_count": 11,
   "metadata": {
    "execution": {
     "iopub.execute_input": "2024-05-30T19:21:24.637582Z",
     "iopub.status.busy": "2024-05-30T19:21:24.637271Z",
     "iopub.status.idle": "2024-05-30T19:21:24.642159Z",
     "shell.execute_reply": "2024-05-30T19:21:24.641126Z",
     "shell.execute_reply.started": "2024-05-30T19:21:24.637535Z"
    },
    "executionInfo": {
     "elapsed": 12,
     "status": "ok",
     "timestamp": 1711482477881,
     "user": {
      "displayName": "Bruce Wayne",
      "userId": "03236562819884458513"
     },
     "user_tz": -180
    },
    "id": "MvC4I0QjJUv7"
   },
   "outputs": [],
   "source": [
    "def remove_extra_space(text):\n",
    "    text = re.sub(' +', ' ', text)\n",
    "    return text.strip()"
   ]
  },
  {
   "cell_type": "code",
   "execution_count": 12,
   "metadata": {
    "execution": {
     "iopub.execute_input": "2024-05-30T19:21:24.804503Z",
     "iopub.status.busy": "2024-05-30T19:21:24.803948Z",
     "iopub.status.idle": "2024-05-30T19:21:24.808559Z",
     "shell.execute_reply": "2024-05-30T19:21:24.807565Z",
     "shell.execute_reply.started": "2024-05-30T19:21:24.804476Z"
    },
    "executionInfo": {
     "elapsed": 12,
     "status": "ok",
     "timestamp": 1711482477881,
     "user": {
      "displayName": "Bruce Wayne",
      "userId": "03236562819884458513"
     },
     "user_tz": -180
    },
    "id": "ZjNVVUO0JUyN"
   },
   "outputs": [],
   "source": [
    "def remove_emoji(text):\n",
    "    text = re.sub(r'[\\U00010000-\\U0010ffff]', '', text)\n",
    "    return text"
   ]
  },
  {
   "cell_type": "code",
   "execution_count": 13,
   "metadata": {
    "execution": {
     "iopub.execute_input": "2024-05-30T19:21:25.007409Z",
     "iopub.status.busy": "2024-05-30T19:21:25.007147Z",
     "iopub.status.idle": "2024-05-30T19:21:25.014285Z",
     "shell.execute_reply": "2024-05-30T19:21:25.013468Z",
     "shell.execute_reply.started": "2024-05-30T19:21:25.007387Z"
    },
    "executionInfo": {
     "elapsed": 12,
     "status": "ok",
     "timestamp": 1711482477881,
     "user": {
      "displayName": "Bruce Wayne",
      "userId": "03236562819884458513"
     },
     "user_tz": -180
    },
    "id": "20iuTh0HJU01"
   },
   "outputs": [],
   "source": [
    "# creating a function to process the data\n",
    "def data_processing(text):\n",
    "\n",
    "    text = re.sub('\\n', '', text)\n",
    "    text = re.sub('<.*?>+', '', text)\n",
    "    text = re.sub(r\"https\\S+|www\\S+http\\S+\", '', text, flags = re.MULTILINE)\n",
    "    text = re.sub(r'\\@w+|\\#', '', text)\n",
    "    text = text.replace('I','ı') # lower() için\n",
    "    text = text.replace('İ','i')\n",
    "    text = text.lower()\n",
    "    text = re.sub(r'\\d', '', text)\n",
    "\n",
    "    text = remove_punctuation(text)\n",
    "    text = remove_extra_space(text)\n",
    "    text = remove_emoji(text)\n",
    "\n",
    "    text_tokens = word_tokenize(text)\n",
    "\n",
    "    filtered_text = [w for w in text_tokens if not w in stop_words]\n",
    "\n",
    "    return \" \".join(filtered_text)\n"
   ]
  },
  {
   "cell_type": "markdown",
   "metadata": {
    "id": "AP6Gd82pJaVm"
   },
   "source": [
    "### Applying the processing algorithm"
   ]
  },
  {
   "cell_type": "code",
   "execution_count": 14,
   "metadata": {
    "execution": {
     "iopub.execute_input": "2024-05-30T19:21:25.426625Z",
     "iopub.status.busy": "2024-05-30T19:21:25.426315Z",
     "iopub.status.idle": "2024-05-30T19:21:25.855581Z",
     "shell.execute_reply": "2024-05-30T19:21:25.854830Z",
     "shell.execute_reply.started": "2024-05-30T19:21:25.426601Z"
    },
    "executionInfo": {
     "elapsed": 720,
     "status": "ok",
     "timestamp": 1711482478589,
     "user": {
      "displayName": "Bruce Wayne",
      "userId": "03236562819884458513"
     },
     "user_tz": -180
    },
    "id": "0K6mqJ92JU3T"
   },
   "outputs": [],
   "source": [
    "df_tr_gr_train.text = df_tr_gr_train['text'].apply(data_processing)\n",
    "df_tr_gr_train = df_tr_gr_train.drop_duplicates('text')"
   ]
  },
  {
   "cell_type": "code",
   "execution_count": 15,
   "metadata": {
    "execution": {
     "iopub.execute_input": "2024-05-30T19:21:25.858187Z",
     "iopub.status.busy": "2024-05-30T19:21:25.857411Z",
     "iopub.status.idle": "2024-05-30T19:21:28.427913Z",
     "shell.execute_reply": "2024-05-30T19:21:28.427111Z",
     "shell.execute_reply.started": "2024-05-30T19:21:25.858149Z"
    },
    "executionInfo": {
     "elapsed": 1056,
     "status": "ok",
     "timestamp": 1711482479639,
     "user": {
      "displayName": "Bruce Wayne",
      "userId": "03236562819884458513"
     },
     "user_tz": -180
    },
    "id": "6jMDHF0XJU6Y"
   },
   "outputs": [],
   "source": [
    "df_refugee_train.text = df_refugee_train['text'].apply(data_processing)\n",
    "df_refugee_train = df_refugee_train.drop_duplicates('text')"
   ]
  },
  {
   "cell_type": "code",
   "execution_count": 16,
   "metadata": {
    "execution": {
     "iopub.execute_input": "2024-05-30T19:21:28.429195Z",
     "iopub.status.busy": "2024-05-30T19:21:28.428927Z",
     "iopub.status.idle": "2024-05-30T19:21:29.204894Z",
     "shell.execute_reply": "2024-05-30T19:21:29.203917Z",
     "shell.execute_reply.started": "2024-05-30T19:21:28.429172Z"
    },
    "executionInfo": {
     "elapsed": 493,
     "status": "ok",
     "timestamp": 1711482480126,
     "user": {
      "displayName": "Bruce Wayne",
      "userId": "03236562819884458513"
     },
     "user_tz": -180
    },
    "id": "s9texKRTJU8E"
   },
   "outputs": [],
   "source": [
    "df_isr_pal_train.text = df_isr_pal_train['text'].apply(data_processing)\n",
    "df_isr_pal_train = df_isr_pal_train.drop_duplicates('text')"
   ]
  },
  {
   "cell_type": "code",
   "execution_count": 17,
   "metadata": {
    "colab": {
     "base_uri": "https://localhost:8080/"
    },
    "execution": {
     "iopub.execute_input": "2024-05-30T19:21:29.207884Z",
     "iopub.status.busy": "2024-05-30T19:21:29.207500Z",
     "iopub.status.idle": "2024-05-30T19:21:29.214720Z",
     "shell.execute_reply": "2024-05-30T19:21:29.213763Z",
     "shell.execute_reply.started": "2024-05-30T19:21:29.207852Z"
    },
    "executionInfo": {
     "elapsed": 16,
     "status": "ok",
     "timestamp": 1711482480127,
     "user": {
      "displayName": "Bruce Wayne",
      "userId": "03236562819884458513"
     },
     "user_tz": -180
    },
    "id": "lznrbIU2JU-b",
    "outputId": "7177cca1-3a72-452b-ab14-08bfd3a2ebb6"
   },
   "outputs": [
    {
     "name": "stdout",
     "output_type": "stream",
     "text": [
      "yunan ülkemizi işgal etmiş namusumuza tecavüz ediyor onların ağzına sictik denize döktük demiyorsunuz osmanlıyı kotuluyorsunuzdörtyüz sene gücünüze gittihala acıyormu \n",
      "\n",
      "feramuzkartal neslihan düşüncen dogru konuya yanlış yerden bakıyorsunrusya ukranya nato üyesi değil yunanistan türkiye savaşı olursa iki ülke nato üyesinasıl olacak ? atina kara sınırını mile çıkartır işte zaman savaş başlar günde teslim alırbuna ülke bile destek vermez \n",
      "\n",
      "ufukuras adaların silahlandırılması savaş sebebidir tabi öncelik diplomasidir fakat yunanistan var olan antlaşmayı yok sayıp adaları silahlandırıyordiplomasiden sonuç alınmazsa savaşırsınız durumu kabullenirsiniz \n",
      "\n",
      "muratasm izmire gavur diyen keske yunan kazansaydı diyen ermeni tohumlarına birakacaz zannediyorsunuz güzel izmiri bütün hainleri denize yine dökeriz sıkıntı yok yaşa mustafa kemal paşa yaşa \n",
      "\n",
      "bugünden yıl önce izmir ’ yunan işgal birliklerine ilk kurşunu atan milli mücadele ’ ateşinı yakan kahraman hasantahsin ‘ i saygı rahmet minnetle anıyorum \n",
      "\n"
     ]
    }
   ],
   "source": [
    "print(df_tr_gr_train[\"text\"].iloc[0], \"\\n\")\n",
    "print(df_tr_gr_train[\"text\"].iloc[1], \"\\n\")\n",
    "print(df_tr_gr_train[\"text\"].iloc[2], \"\\n\")\n",
    "print(df_tr_gr_train[\"text\"].iloc[3], \"\\n\")\n",
    "print(df_tr_gr_train[\"text\"].iloc[4], \"\\n\")"
   ]
  },
  {
   "cell_type": "code",
   "execution_count": 18,
   "metadata": {
    "colab": {
     "base_uri": "https://localhost:8080/",
     "height": 424
    },
    "execution": {
     "iopub.execute_input": "2024-05-30T19:21:29.216267Z",
     "iopub.status.busy": "2024-05-30T19:21:29.215922Z",
     "iopub.status.idle": "2024-05-30T19:21:29.232587Z",
     "shell.execute_reply": "2024-05-30T19:21:29.231600Z",
     "shell.execute_reply.started": "2024-05-30T19:21:29.216242Z"
    },
    "executionInfo": {
     "elapsed": 13,
     "status": "ok",
     "timestamp": 1711482480127,
     "user": {
      "displayName": "Bruce Wayne",
      "userId": "03236562819884458513"
     },
     "user_tz": -180
    },
    "id": "NNzZYa0hJgR7",
    "outputId": "32d3f0fb-4673-45ce-8a4d-722c70896ce1"
   },
   "outputs": [
    {
     "data": {
      "text/html": [
       "<div>\n",
       "<style scoped>\n",
       "    .dataframe tbody tr th:only-of-type {\n",
       "        vertical-align: middle;\n",
       "    }\n",
       "\n",
       "    .dataframe tbody tr th {\n",
       "        vertical-align: top;\n",
       "    }\n",
       "\n",
       "    .dataframe thead th {\n",
       "        text-align: right;\n",
       "    }\n",
       "</style>\n",
       "<table border=\"1\" class=\"dataframe\">\n",
       "  <thead>\n",
       "    <tr style=\"text-align: right;\">\n",
       "      <th></th>\n",
       "      <th>id</th>\n",
       "      <th>text</th>\n",
       "      <th>label</th>\n",
       "    </tr>\n",
       "  </thead>\n",
       "  <tbody>\n",
       "    <tr>\n",
       "      <th>0</th>\n",
       "      <td>1568524118357864451</td>\n",
       "      <td>yunan ülkemizi işgal etmiş namusumuza tecavüz ...</td>\n",
       "      <td>1</td>\n",
       "    </tr>\n",
       "    <tr>\n",
       "      <th>1</th>\n",
       "      <td>1527761356061134851</td>\n",
       "      <td>feramuzkartal neslihan düşüncen dogru konuya y...</td>\n",
       "      <td>0</td>\n",
       "    </tr>\n",
       "    <tr>\n",
       "      <th>2</th>\n",
       "      <td>1503008593372749826</td>\n",
       "      <td>ufukuras adaların silahlandırılması savaş sebe...</td>\n",
       "      <td>0</td>\n",
       "    </tr>\n",
       "    <tr>\n",
       "      <th>3</th>\n",
       "      <td>1568255642095296513</td>\n",
       "      <td>muratasm izmire gavur diyen keske yunan kazans...</td>\n",
       "      <td>1</td>\n",
       "    </tr>\n",
       "    <tr>\n",
       "      <th>4</th>\n",
       "      <td>1525787544083910656</td>\n",
       "      <td>bugünden yıl önce izmir ’ yunan işgal birlikle...</td>\n",
       "      <td>0</td>\n",
       "    </tr>\n",
       "    <tr>\n",
       "      <th>...</th>\n",
       "      <td>...</td>\n",
       "      <td>...</td>\n",
       "      <td>...</td>\n",
       "    </tr>\n",
       "    <tr>\n",
       "      <th>8452</th>\n",
       "      <td>1393434648647192577</td>\n",
       "      <td>kudüseyürüyoruz sponsoru şeytan olan katil siy...</td>\n",
       "      <td>1</td>\n",
       "    </tr>\n",
       "    <tr>\n",
       "      <th>8453</th>\n",
       "      <td>1515487032570789894</td>\n",
       "      <td>mübarek günlerin hürmetine özgürleştir ilk kıb...</td>\n",
       "      <td>0</td>\n",
       "    </tr>\n",
       "    <tr>\n",
       "      <th>8454</th>\n",
       "      <td>1391751856884523008</td>\n",
       "      <td>bugün ibadethaneye saldırılıyor yalnızca ibade...</td>\n",
       "      <td>0</td>\n",
       "    </tr>\n",
       "    <tr>\n",
       "      <th>8455</th>\n",
       "      <td>1514963851342663684</td>\n",
       "      <td>kurşun atıyorsunuz işlemiyor ! çocuklarımızı k...</td>\n",
       "      <td>1</td>\n",
       "    </tr>\n",
       "    <tr>\n",
       "      <th>8456</th>\n",
       "      <td>1392403022903488516</td>\n",
       "      <td>uyan ey müslüman ! ilk kıblen mübarek mescidi ...</td>\n",
       "      <td>0</td>\n",
       "    </tr>\n",
       "  </tbody>\n",
       "</table>\n",
       "<p>8457 rows × 3 columns</p>\n",
       "</div>"
      ],
      "text/plain": [
       "                       id                                               text  \\\n",
       "0     1568524118357864451  yunan ülkemizi işgal etmiş namusumuza tecavüz ...   \n",
       "1     1527761356061134851  feramuzkartal neslihan düşüncen dogru konuya y...   \n",
       "2     1503008593372749826  ufukuras adaların silahlandırılması savaş sebe...   \n",
       "3     1568255642095296513  muratasm izmire gavur diyen keske yunan kazans...   \n",
       "4     1525787544083910656  bugünden yıl önce izmir ’ yunan işgal birlikle...   \n",
       "...                   ...                                                ...   \n",
       "8452  1393434648647192577  kudüseyürüyoruz sponsoru şeytan olan katil siy...   \n",
       "8453  1515487032570789894  mübarek günlerin hürmetine özgürleştir ilk kıb...   \n",
       "8454  1391751856884523008  bugün ibadethaneye saldırılıyor yalnızca ibade...   \n",
       "8455  1514963851342663684  kurşun atıyorsunuz işlemiyor ! çocuklarımızı k...   \n",
       "8456  1392403022903488516  uyan ey müslüman ! ilk kıblen mübarek mescidi ...   \n",
       "\n",
       "      label  \n",
       "0         1  \n",
       "1         0  \n",
       "2         0  \n",
       "3         1  \n",
       "4         0  \n",
       "...     ...  \n",
       "8452      1  \n",
       "8453      0  \n",
       "8454      0  \n",
       "8455      1  \n",
       "8456      0  \n",
       "\n",
       "[8457 rows x 3 columns]"
      ]
     },
     "execution_count": 18,
     "metadata": {},
     "output_type": "execute_result"
    }
   ],
   "source": [
    "df_train = pd.concat([df_tr_gr_train, df_refugee_train, df_isr_pal_train], ignore_index=True)\n",
    "df_train"
   ]
  },
  {
   "cell_type": "code",
   "execution_count": 19,
   "metadata": {
    "colab": {
     "base_uri": "https://localhost:8080/",
     "height": 424
    },
    "execution": {
     "iopub.execute_input": "2024-05-30T19:21:29.234263Z",
     "iopub.status.busy": "2024-05-30T19:21:29.233929Z",
     "iopub.status.idle": "2024-05-30T19:21:29.247596Z",
     "shell.execute_reply": "2024-05-30T19:21:29.246795Z",
     "shell.execute_reply.started": "2024-05-30T19:21:29.234234Z"
    },
    "executionInfo": {
     "elapsed": 12,
     "status": "ok",
     "timestamp": 1711482480127,
     "user": {
      "displayName": "Bruce Wayne",
      "userId": "03236562819884458513"
     },
     "user_tz": -180
    },
    "id": "F89gmRJEJgUg",
    "outputId": "1986c233-82d2-4463-b25c-3e448b8e4421"
   },
   "outputs": [
    {
     "data": {
      "text/html": [
       "<div>\n",
       "<style scoped>\n",
       "    .dataframe tbody tr th:only-of-type {\n",
       "        vertical-align: middle;\n",
       "    }\n",
       "\n",
       "    .dataframe tbody tr th {\n",
       "        vertical-align: top;\n",
       "    }\n",
       "\n",
       "    .dataframe thead th {\n",
       "        text-align: right;\n",
       "    }\n",
       "</style>\n",
       "<table border=\"1\" class=\"dataframe\">\n",
       "  <thead>\n",
       "    <tr style=\"text-align: right;\">\n",
       "      <th></th>\n",
       "      <th>id</th>\n",
       "      <th>text</th>\n",
       "      <th>label</th>\n",
       "    </tr>\n",
       "  </thead>\n",
       "  <tbody>\n",
       "    <tr>\n",
       "      <th>0</th>\n",
       "      <td>1568524118357864451</td>\n",
       "      <td>yunan ülkemizi işgal etmiş namusumuza tecavüz ...</td>\n",
       "      <td>1</td>\n",
       "    </tr>\n",
       "    <tr>\n",
       "      <th>1</th>\n",
       "      <td>1527761356061134851</td>\n",
       "      <td>feramuzkartal neslihan düşüncen dogru konuya y...</td>\n",
       "      <td>0</td>\n",
       "    </tr>\n",
       "    <tr>\n",
       "      <th>2</th>\n",
       "      <td>1503008593372749826</td>\n",
       "      <td>ufukuras adaların silahlandırılması savaş sebe...</td>\n",
       "      <td>0</td>\n",
       "    </tr>\n",
       "    <tr>\n",
       "      <th>3</th>\n",
       "      <td>1568255642095296513</td>\n",
       "      <td>muratasm izmire gavur diyen keske yunan kazans...</td>\n",
       "      <td>1</td>\n",
       "    </tr>\n",
       "    <tr>\n",
       "      <th>4</th>\n",
       "      <td>1525787544083910656</td>\n",
       "      <td>bugünden yıl önce izmir ’ yunan işgal birlikle...</td>\n",
       "      <td>0</td>\n",
       "    </tr>\n",
       "    <tr>\n",
       "      <th>...</th>\n",
       "      <td>...</td>\n",
       "      <td>...</td>\n",
       "      <td>...</td>\n",
       "    </tr>\n",
       "    <tr>\n",
       "      <th>8452</th>\n",
       "      <td>1393434648647192577</td>\n",
       "      <td>kudüseyürüyoruz sponsoru şeytan olan katil siy...</td>\n",
       "      <td>1</td>\n",
       "    </tr>\n",
       "    <tr>\n",
       "      <th>8453</th>\n",
       "      <td>1515487032570789894</td>\n",
       "      <td>mübarek günlerin hürmetine özgürleştir ilk kıb...</td>\n",
       "      <td>0</td>\n",
       "    </tr>\n",
       "    <tr>\n",
       "      <th>8454</th>\n",
       "      <td>1391751856884523008</td>\n",
       "      <td>bugün ibadethaneye saldırılıyor yalnızca ibade...</td>\n",
       "      <td>0</td>\n",
       "    </tr>\n",
       "    <tr>\n",
       "      <th>8455</th>\n",
       "      <td>1514963851342663684</td>\n",
       "      <td>kurşun atıyorsunuz işlemiyor ! çocuklarımızı k...</td>\n",
       "      <td>1</td>\n",
       "    </tr>\n",
       "    <tr>\n",
       "      <th>8456</th>\n",
       "      <td>1392403022903488516</td>\n",
       "      <td>uyan ey müslüman ! ilk kıblen mübarek mescidi ...</td>\n",
       "      <td>0</td>\n",
       "    </tr>\n",
       "  </tbody>\n",
       "</table>\n",
       "<p>8430 rows × 3 columns</p>\n",
       "</div>"
      ],
      "text/plain": [
       "                       id                                               text  \\\n",
       "0     1568524118357864451  yunan ülkemizi işgal etmiş namusumuza tecavüz ...   \n",
       "1     1527761356061134851  feramuzkartal neslihan düşüncen dogru konuya y...   \n",
       "2     1503008593372749826  ufukuras adaların silahlandırılması savaş sebe...   \n",
       "3     1568255642095296513  muratasm izmire gavur diyen keske yunan kazans...   \n",
       "4     1525787544083910656  bugünden yıl önce izmir ’ yunan işgal birlikle...   \n",
       "...                   ...                                                ...   \n",
       "8452  1393434648647192577  kudüseyürüyoruz sponsoru şeytan olan katil siy...   \n",
       "8453  1515487032570789894  mübarek günlerin hürmetine özgürleştir ilk kıb...   \n",
       "8454  1391751856884523008  bugün ibadethaneye saldırılıyor yalnızca ibade...   \n",
       "8455  1514963851342663684  kurşun atıyorsunuz işlemiyor ! çocuklarımızı k...   \n",
       "8456  1392403022903488516  uyan ey müslüman ! ilk kıblen mübarek mescidi ...   \n",
       "\n",
       "      label  \n",
       "0         1  \n",
       "1         0  \n",
       "2         0  \n",
       "3         1  \n",
       "4         0  \n",
       "...     ...  \n",
       "8452      1  \n",
       "8453      0  \n",
       "8454      0  \n",
       "8455      1  \n",
       "8456      0  \n",
       "\n",
       "[8430 rows x 3 columns]"
      ]
     },
     "execution_count": 19,
     "metadata": {},
     "output_type": "execute_result"
    }
   ],
   "source": [
    "df_train = df_train.drop_duplicates('text')\n",
    "df_train"
   ]
  },
  {
   "cell_type": "code",
   "execution_count": 20,
   "metadata": {
    "colab": {
     "base_uri": "https://localhost:8080/",
     "height": 424
    },
    "execution": {
     "iopub.execute_input": "2024-05-30T19:21:29.249002Z",
     "iopub.status.busy": "2024-05-30T19:21:29.248678Z",
     "iopub.status.idle": "2024-05-30T19:21:29.263320Z",
     "shell.execute_reply": "2024-05-30T19:21:29.262345Z",
     "shell.execute_reply.started": "2024-05-30T19:21:29.248972Z"
    },
    "executionInfo": {
     "elapsed": 965,
     "status": "ok",
     "timestamp": 1711482493466,
     "user": {
      "displayName": "Bruce Wayne",
      "userId": "03236562819884458513"
     },
     "user_tz": -180
    },
    "id": "WcvCIU6KJjuO",
    "outputId": "9c138aab-59d3-41c9-abdb-2208534e72db"
   },
   "outputs": [
    {
     "data": {
      "text/html": [
       "<div>\n",
       "<style scoped>\n",
       "    .dataframe tbody tr th:only-of-type {\n",
       "        vertical-align: middle;\n",
       "    }\n",
       "\n",
       "    .dataframe tbody tr th {\n",
       "        vertical-align: top;\n",
       "    }\n",
       "\n",
       "    .dataframe thead th {\n",
       "        text-align: right;\n",
       "    }\n",
       "</style>\n",
       "<table border=\"1\" class=\"dataframe\">\n",
       "  <thead>\n",
       "    <tr style=\"text-align: right;\">\n",
       "      <th></th>\n",
       "      <th>id</th>\n",
       "      <th>text</th>\n",
       "      <th>label</th>\n",
       "    </tr>\n",
       "  </thead>\n",
       "  <tbody>\n",
       "    <tr>\n",
       "      <th>0</th>\n",
       "      <td>1568524118357864451</td>\n",
       "      <td>yunan ülkemizi işgal etmiş namusumuza tecavüz ...</td>\n",
       "      <td>1</td>\n",
       "    </tr>\n",
       "    <tr>\n",
       "      <th>1</th>\n",
       "      <td>1527761356061134851</td>\n",
       "      <td>feramuzkartal neslihan düşüncen dogru konuya y...</td>\n",
       "      <td>0</td>\n",
       "    </tr>\n",
       "    <tr>\n",
       "      <th>2</th>\n",
       "      <td>1503008593372749826</td>\n",
       "      <td>ufukuras adaların silahlandırılması savaş sebe...</td>\n",
       "      <td>0</td>\n",
       "    </tr>\n",
       "    <tr>\n",
       "      <th>3</th>\n",
       "      <td>1568255642095296513</td>\n",
       "      <td>muratasm izmire gavur diyen keske yunan kazans...</td>\n",
       "      <td>1</td>\n",
       "    </tr>\n",
       "    <tr>\n",
       "      <th>4</th>\n",
       "      <td>1525787544083910656</td>\n",
       "      <td>bugünden yıl önce izmir ’ yunan işgal birlikle...</td>\n",
       "      <td>0</td>\n",
       "    </tr>\n",
       "    <tr>\n",
       "      <th>...</th>\n",
       "      <td>...</td>\n",
       "      <td>...</td>\n",
       "      <td>...</td>\n",
       "    </tr>\n",
       "    <tr>\n",
       "      <th>8452</th>\n",
       "      <td>1393434648647192577</td>\n",
       "      <td>kudüseyürüyoruz sponsoru şeytan olan katil siy...</td>\n",
       "      <td>1</td>\n",
       "    </tr>\n",
       "    <tr>\n",
       "      <th>8453</th>\n",
       "      <td>1515487032570789894</td>\n",
       "      <td>mübarek günlerin hürmetine özgürleştir ilk kıb...</td>\n",
       "      <td>0</td>\n",
       "    </tr>\n",
       "    <tr>\n",
       "      <th>8454</th>\n",
       "      <td>1391751856884523008</td>\n",
       "      <td>bugün ibadethaneye saldırılıyor yalnızca ibade...</td>\n",
       "      <td>0</td>\n",
       "    </tr>\n",
       "    <tr>\n",
       "      <th>8455</th>\n",
       "      <td>1514963851342663684</td>\n",
       "      <td>kurşun atıyorsunuz işlemiyor ! çocuklarımızı k...</td>\n",
       "      <td>1</td>\n",
       "    </tr>\n",
       "    <tr>\n",
       "      <th>8456</th>\n",
       "      <td>1392403022903488516</td>\n",
       "      <td>uyan ey müslüman ! ilk kıblen mübarek mescidi ...</td>\n",
       "      <td>0</td>\n",
       "    </tr>\n",
       "  </tbody>\n",
       "</table>\n",
       "<p>8430 rows × 3 columns</p>\n",
       "</div>"
      ],
      "text/plain": [
       "                       id                                               text  \\\n",
       "0     1568524118357864451  yunan ülkemizi işgal etmiş namusumuza tecavüz ...   \n",
       "1     1527761356061134851  feramuzkartal neslihan düşüncen dogru konuya y...   \n",
       "2     1503008593372749826  ufukuras adaların silahlandırılması savaş sebe...   \n",
       "3     1568255642095296513  muratasm izmire gavur diyen keske yunan kazans...   \n",
       "4     1525787544083910656  bugünden yıl önce izmir ’ yunan işgal birlikle...   \n",
       "...                   ...                                                ...   \n",
       "8452  1393434648647192577  kudüseyürüyoruz sponsoru şeytan olan katil siy...   \n",
       "8453  1515487032570789894  mübarek günlerin hürmetine özgürleştir ilk kıb...   \n",
       "8454  1391751856884523008  bugün ibadethaneye saldırılıyor yalnızca ibade...   \n",
       "8455  1514963851342663684  kurşun atıyorsunuz işlemiyor ! çocuklarımızı k...   \n",
       "8456  1392403022903488516  uyan ey müslüman ! ilk kıblen mübarek mescidi ...   \n",
       "\n",
       "      label  \n",
       "0         1  \n",
       "1         0  \n",
       "2         0  \n",
       "3         1  \n",
       "4         0  \n",
       "...     ...  \n",
       "8452      1  \n",
       "8453      0  \n",
       "8454      0  \n",
       "8455      1  \n",
       "8456      0  \n",
       "\n",
       "[8430 rows x 3 columns]"
      ]
     },
     "execution_count": 20,
     "metadata": {},
     "output_type": "execute_result"
    }
   ],
   "source": [
    "df_test = pd.concat([df_tr_gr_train, df_refugee_train, df_isr_pal_train], ignore_index=True)\n",
    "df_test = df_test.drop_duplicates('text')\n",
    "df_test"
   ]
  },
  {
   "cell_type": "markdown",
   "metadata": {
    "id": "aifx3tyWJnE1"
   },
   "source": [
    "**Formating the data**"
   ]
  },
  {
   "cell_type": "code",
   "execution_count": 21,
   "metadata": {
    "execution": {
     "iopub.execute_input": "2024-05-30T19:21:29.264845Z",
     "iopub.status.busy": "2024-05-30T19:21:29.264479Z",
     "iopub.status.idle": "2024-05-30T19:21:29.270303Z",
     "shell.execute_reply": "2024-05-30T19:21:29.269499Z",
     "shell.execute_reply.started": "2024-05-30T19:21:29.264812Z"
    },
    "executionInfo": {
     "elapsed": 14,
     "status": "ok",
     "timestamp": 1711482495021,
     "user": {
      "displayName": "Bruce Wayne",
      "userId": "03236562819884458513"
     },
     "user_tz": -180
    },
    "id": "qlLO984DJjwW"
   },
   "outputs": [],
   "source": [
    "def formatting(data):\n",
    "    data.insert(0, \"instruction\", \"Metni negatif veya pozitif olarak sınıflandır.\")\n",
    "    data.drop('id', inplace=True, axis=1)\n",
    "    data[\"label\"] = data[\"label\"].apply(lambda x: \"negatif\" if x==1 else \"pozitif\")\n",
    "    data.rename(columns={\"text\": \"input\"}, inplace=True)\n",
    "\n",
    "    return data"
   ]
  },
  {
   "cell_type": "code",
   "execution_count": 22,
   "metadata": {
    "colab": {
     "base_uri": "https://localhost:8080/",
     "height": 424
    },
    "execution": {
     "iopub.execute_input": "2024-05-30T19:21:29.273412Z",
     "iopub.status.busy": "2024-05-30T19:21:29.273136Z",
     "iopub.status.idle": "2024-05-30T19:21:29.283960Z",
     "shell.execute_reply": "2024-05-30T19:21:29.282928Z",
     "shell.execute_reply.started": "2024-05-30T19:21:29.273389Z"
    },
    "executionInfo": {
     "elapsed": 13,
     "status": "ok",
     "timestamp": 1711482495021,
     "user": {
      "displayName": "Bruce Wayne",
      "userId": "03236562819884458513"
     },
     "user_tz": -180
    },
    "id": "lB9RDMrWJjzS",
    "outputId": "96fd07d9-de56-4183-e27b-8bd42d2e271e"
   },
   "outputs": [
    {
     "data": {
      "text/html": [
       "<div>\n",
       "<style scoped>\n",
       "    .dataframe tbody tr th:only-of-type {\n",
       "        vertical-align: middle;\n",
       "    }\n",
       "\n",
       "    .dataframe tbody tr th {\n",
       "        vertical-align: top;\n",
       "    }\n",
       "\n",
       "    .dataframe thead th {\n",
       "        text-align: right;\n",
       "    }\n",
       "</style>\n",
       "<table border=\"1\" class=\"dataframe\">\n",
       "  <thead>\n",
       "    <tr style=\"text-align: right;\">\n",
       "      <th></th>\n",
       "      <th>id</th>\n",
       "      <th>text</th>\n",
       "      <th>label</th>\n",
       "    </tr>\n",
       "  </thead>\n",
       "  <tbody>\n",
       "    <tr>\n",
       "      <th>0</th>\n",
       "      <td>1568524118357864451</td>\n",
       "      <td>yunan ülkemizi işgal etmiş namusumuza tecavüz ...</td>\n",
       "      <td>1</td>\n",
       "    </tr>\n",
       "    <tr>\n",
       "      <th>1</th>\n",
       "      <td>1527761356061134851</td>\n",
       "      <td>feramuzkartal neslihan düşüncen dogru konuya y...</td>\n",
       "      <td>0</td>\n",
       "    </tr>\n",
       "    <tr>\n",
       "      <th>2</th>\n",
       "      <td>1503008593372749826</td>\n",
       "      <td>ufukuras adaların silahlandırılması savaş sebe...</td>\n",
       "      <td>0</td>\n",
       "    </tr>\n",
       "    <tr>\n",
       "      <th>3</th>\n",
       "      <td>1568255642095296513</td>\n",
       "      <td>muratasm izmire gavur diyen keske yunan kazans...</td>\n",
       "      <td>1</td>\n",
       "    </tr>\n",
       "    <tr>\n",
       "      <th>4</th>\n",
       "      <td>1525787544083910656</td>\n",
       "      <td>bugünden yıl önce izmir ’ yunan işgal birlikle...</td>\n",
       "      <td>0</td>\n",
       "    </tr>\n",
       "    <tr>\n",
       "      <th>...</th>\n",
       "      <td>...</td>\n",
       "      <td>...</td>\n",
       "      <td>...</td>\n",
       "    </tr>\n",
       "    <tr>\n",
       "      <th>8452</th>\n",
       "      <td>1393434648647192577</td>\n",
       "      <td>kudüseyürüyoruz sponsoru şeytan olan katil siy...</td>\n",
       "      <td>1</td>\n",
       "    </tr>\n",
       "    <tr>\n",
       "      <th>8453</th>\n",
       "      <td>1515487032570789894</td>\n",
       "      <td>mübarek günlerin hürmetine özgürleştir ilk kıb...</td>\n",
       "      <td>0</td>\n",
       "    </tr>\n",
       "    <tr>\n",
       "      <th>8454</th>\n",
       "      <td>1391751856884523008</td>\n",
       "      <td>bugün ibadethaneye saldırılıyor yalnızca ibade...</td>\n",
       "      <td>0</td>\n",
       "    </tr>\n",
       "    <tr>\n",
       "      <th>8455</th>\n",
       "      <td>1514963851342663684</td>\n",
       "      <td>kurşun atıyorsunuz işlemiyor ! çocuklarımızı k...</td>\n",
       "      <td>1</td>\n",
       "    </tr>\n",
       "    <tr>\n",
       "      <th>8456</th>\n",
       "      <td>1392403022903488516</td>\n",
       "      <td>uyan ey müslüman ! ilk kıblen mübarek mescidi ...</td>\n",
       "      <td>0</td>\n",
       "    </tr>\n",
       "  </tbody>\n",
       "</table>\n",
       "<p>8430 rows × 3 columns</p>\n",
       "</div>"
      ],
      "text/plain": [
       "                       id                                               text  \\\n",
       "0     1568524118357864451  yunan ülkemizi işgal etmiş namusumuza tecavüz ...   \n",
       "1     1527761356061134851  feramuzkartal neslihan düşüncen dogru konuya y...   \n",
       "2     1503008593372749826  ufukuras adaların silahlandırılması savaş sebe...   \n",
       "3     1568255642095296513  muratasm izmire gavur diyen keske yunan kazans...   \n",
       "4     1525787544083910656  bugünden yıl önce izmir ’ yunan işgal birlikle...   \n",
       "...                   ...                                                ...   \n",
       "8452  1393434648647192577  kudüseyürüyoruz sponsoru şeytan olan katil siy...   \n",
       "8453  1515487032570789894  mübarek günlerin hürmetine özgürleştir ilk kıb...   \n",
       "8454  1391751856884523008  bugün ibadethaneye saldırılıyor yalnızca ibade...   \n",
       "8455  1514963851342663684  kurşun atıyorsunuz işlemiyor ! çocuklarımızı k...   \n",
       "8456  1392403022903488516  uyan ey müslüman ! ilk kıblen mübarek mescidi ...   \n",
       "\n",
       "      label  \n",
       "0         1  \n",
       "1         0  \n",
       "2         0  \n",
       "3         1  \n",
       "4         0  \n",
       "...     ...  \n",
       "8452      1  \n",
       "8453      0  \n",
       "8454      0  \n",
       "8455      1  \n",
       "8456      0  \n",
       "\n",
       "[8430 rows x 3 columns]"
      ]
     },
     "execution_count": 22,
     "metadata": {},
     "output_type": "execute_result"
    }
   ],
   "source": [
    "df_train"
   ]
  },
  {
   "cell_type": "code",
   "execution_count": 23,
   "metadata": {
    "colab": {
     "base_uri": "https://localhost:8080/",
     "height": 701
    },
    "execution": {
     "iopub.execute_input": "2024-05-30T19:21:29.285414Z",
     "iopub.status.busy": "2024-05-30T19:21:29.285127Z",
     "iopub.status.idle": "2024-05-30T19:21:29.302383Z",
     "shell.execute_reply": "2024-05-30T19:21:29.301472Z",
     "shell.execute_reply.started": "2024-05-30T19:21:29.285387Z"
    },
    "executionInfo": {
     "elapsed": 11,
     "status": "ok",
     "timestamp": 1711482495021,
     "user": {
      "displayName": "Bruce Wayne",
      "userId": "03236562819884458513"
     },
     "user_tz": -180
    },
    "id": "h-MTkaw1Jqjk",
    "outputId": "17dcb1e1-7ae0-4c02-8822-45c1a106e5c0"
   },
   "outputs": [
    {
     "name": "stderr",
     "output_type": "stream",
     "text": [
      "/tmp/ipykernel_34/2240005627.py:3: SettingWithCopyWarning: \n",
      "A value is trying to be set on a copy of a slice from a DataFrame\n",
      "\n",
      "See the caveats in the documentation: https://pandas.pydata.org/pandas-docs/stable/user_guide/indexing.html#returning-a-view-versus-a-copy\n",
      "  data.drop('id', inplace=True, axis=1)\n",
      "/tmp/ipykernel_34/2240005627.py:4: SettingWithCopyWarning: \n",
      "A value is trying to be set on a copy of a slice from a DataFrame.\n",
      "Try using .loc[row_indexer,col_indexer] = value instead\n",
      "\n",
      "See the caveats in the documentation: https://pandas.pydata.org/pandas-docs/stable/user_guide/indexing.html#returning-a-view-versus-a-copy\n",
      "  data[\"label\"] = data[\"label\"].apply(lambda x: \"negatif\" if x==1 else \"pozitif\")\n",
      "/tmp/ipykernel_34/2240005627.py:5: SettingWithCopyWarning: \n",
      "A value is trying to be set on a copy of a slice from a DataFrame\n",
      "\n",
      "See the caveats in the documentation: https://pandas.pydata.org/pandas-docs/stable/user_guide/indexing.html#returning-a-view-versus-a-copy\n",
      "  data.rename(columns={\"text\": \"input\"}, inplace=True)\n"
     ]
    },
    {
     "data": {
      "text/html": [
       "<div>\n",
       "<style scoped>\n",
       "    .dataframe tbody tr th:only-of-type {\n",
       "        vertical-align: middle;\n",
       "    }\n",
       "\n",
       "    .dataframe tbody tr th {\n",
       "        vertical-align: top;\n",
       "    }\n",
       "\n",
       "    .dataframe thead th {\n",
       "        text-align: right;\n",
       "    }\n",
       "</style>\n",
       "<table border=\"1\" class=\"dataframe\">\n",
       "  <thead>\n",
       "    <tr style=\"text-align: right;\">\n",
       "      <th></th>\n",
       "      <th>instruction</th>\n",
       "      <th>input</th>\n",
       "      <th>label</th>\n",
       "    </tr>\n",
       "  </thead>\n",
       "  <tbody>\n",
       "    <tr>\n",
       "      <th>0</th>\n",
       "      <td>Metni negatif veya pozitif olarak sınıflandır.</td>\n",
       "      <td>yunan ülkemizi işgal etmiş namusumuza tecavüz ...</td>\n",
       "      <td>negatif</td>\n",
       "    </tr>\n",
       "    <tr>\n",
       "      <th>1</th>\n",
       "      <td>Metni negatif veya pozitif olarak sınıflandır.</td>\n",
       "      <td>feramuzkartal neslihan düşüncen dogru konuya y...</td>\n",
       "      <td>pozitif</td>\n",
       "    </tr>\n",
       "    <tr>\n",
       "      <th>2</th>\n",
       "      <td>Metni negatif veya pozitif olarak sınıflandır.</td>\n",
       "      <td>ufukuras adaların silahlandırılması savaş sebe...</td>\n",
       "      <td>pozitif</td>\n",
       "    </tr>\n",
       "    <tr>\n",
       "      <th>3</th>\n",
       "      <td>Metni negatif veya pozitif olarak sınıflandır.</td>\n",
       "      <td>muratasm izmire gavur diyen keske yunan kazans...</td>\n",
       "      <td>negatif</td>\n",
       "    </tr>\n",
       "    <tr>\n",
       "      <th>4</th>\n",
       "      <td>Metni negatif veya pozitif olarak sınıflandır.</td>\n",
       "      <td>bugünden yıl önce izmir ’ yunan işgal birlikle...</td>\n",
       "      <td>pozitif</td>\n",
       "    </tr>\n",
       "    <tr>\n",
       "      <th>...</th>\n",
       "      <td>...</td>\n",
       "      <td>...</td>\n",
       "      <td>...</td>\n",
       "    </tr>\n",
       "    <tr>\n",
       "      <th>8452</th>\n",
       "      <td>Metni negatif veya pozitif olarak sınıflandır.</td>\n",
       "      <td>kudüseyürüyoruz sponsoru şeytan olan katil siy...</td>\n",
       "      <td>negatif</td>\n",
       "    </tr>\n",
       "    <tr>\n",
       "      <th>8453</th>\n",
       "      <td>Metni negatif veya pozitif olarak sınıflandır.</td>\n",
       "      <td>mübarek günlerin hürmetine özgürleştir ilk kıb...</td>\n",
       "      <td>pozitif</td>\n",
       "    </tr>\n",
       "    <tr>\n",
       "      <th>8454</th>\n",
       "      <td>Metni negatif veya pozitif olarak sınıflandır.</td>\n",
       "      <td>bugün ibadethaneye saldırılıyor yalnızca ibade...</td>\n",
       "      <td>pozitif</td>\n",
       "    </tr>\n",
       "    <tr>\n",
       "      <th>8455</th>\n",
       "      <td>Metni negatif veya pozitif olarak sınıflandır.</td>\n",
       "      <td>kurşun atıyorsunuz işlemiyor ! çocuklarımızı k...</td>\n",
       "      <td>negatif</td>\n",
       "    </tr>\n",
       "    <tr>\n",
       "      <th>8456</th>\n",
       "      <td>Metni negatif veya pozitif olarak sınıflandır.</td>\n",
       "      <td>uyan ey müslüman ! ilk kıblen mübarek mescidi ...</td>\n",
       "      <td>pozitif</td>\n",
       "    </tr>\n",
       "  </tbody>\n",
       "</table>\n",
       "<p>8430 rows × 3 columns</p>\n",
       "</div>"
      ],
      "text/plain": [
       "                                         instruction  \\\n",
       "0     Metni negatif veya pozitif olarak sınıflandır.   \n",
       "1     Metni negatif veya pozitif olarak sınıflandır.   \n",
       "2     Metni negatif veya pozitif olarak sınıflandır.   \n",
       "3     Metni negatif veya pozitif olarak sınıflandır.   \n",
       "4     Metni negatif veya pozitif olarak sınıflandır.   \n",
       "...                                              ...   \n",
       "8452  Metni negatif veya pozitif olarak sınıflandır.   \n",
       "8453  Metni negatif veya pozitif olarak sınıflandır.   \n",
       "8454  Metni negatif veya pozitif olarak sınıflandır.   \n",
       "8455  Metni negatif veya pozitif olarak sınıflandır.   \n",
       "8456  Metni negatif veya pozitif olarak sınıflandır.   \n",
       "\n",
       "                                                  input    label  \n",
       "0     yunan ülkemizi işgal etmiş namusumuza tecavüz ...  negatif  \n",
       "1     feramuzkartal neslihan düşüncen dogru konuya y...  pozitif  \n",
       "2     ufukuras adaların silahlandırılması savaş sebe...  pozitif  \n",
       "3     muratasm izmire gavur diyen keske yunan kazans...  negatif  \n",
       "4     bugünden yıl önce izmir ’ yunan işgal birlikle...  pozitif  \n",
       "...                                                 ...      ...  \n",
       "8452  kudüseyürüyoruz sponsoru şeytan olan katil siy...  negatif  \n",
       "8453  mübarek günlerin hürmetine özgürleştir ilk kıb...  pozitif  \n",
       "8454  bugün ibadethaneye saldırılıyor yalnızca ibade...  pozitif  \n",
       "8455  kurşun atıyorsunuz işlemiyor ! çocuklarımızı k...  negatif  \n",
       "8456  uyan ey müslüman ! ilk kıblen mübarek mescidi ...  pozitif  \n",
       "\n",
       "[8430 rows x 3 columns]"
      ]
     },
     "execution_count": 23,
     "metadata": {},
     "output_type": "execute_result"
    }
   ],
   "source": [
    "df_train = formatting(df_train)\n",
    "df_train"
   ]
  },
  {
   "cell_type": "markdown",
   "metadata": {
    "id": "qn219g5LJvdT"
   },
   "source": [
    "### Creating Bitsandbytes Configuration"
   ]
  },
  {
   "cell_type": "code",
   "execution_count": 24,
   "metadata": {
    "execution": {
     "iopub.execute_input": "2024-05-30T19:21:29.303903Z",
     "iopub.status.busy": "2024-05-30T19:21:29.303576Z",
     "iopub.status.idle": "2024-05-30T19:21:29.310096Z",
     "shell.execute_reply": "2024-05-30T19:21:29.309146Z",
     "shell.execute_reply.started": "2024-05-30T19:21:29.303874Z"
    },
    "executionInfo": {
     "elapsed": 4,
     "status": "ok",
     "timestamp": 1711482496521,
     "user": {
      "displayName": "Bruce Wayne",
      "userId": "03236562819884458513"
     },
     "user_tz": -180
    },
    "id": "T2VzG8v1Jql1"
   },
   "outputs": [],
   "source": [
    "def create_bnb_config(load_in_4bit, bnb_4bit_use_double_quant, bnb_4bit_quant_type, bnb_4bit_compute_dtype):\n",
    "    \"\"\"\n",
    "    Configures model quantization method using bitsandbytes to speed up training and inference\n",
    "\n",
    "    :param load_in_4bit: Load model in 4-bit precision mode\n",
    "    :param bnb_4bit_use_double_quant: Nested quantization for 4-bit model\n",
    "    :param bnb_4bit_quant_type: Quantization data type for 4-bit model\n",
    "    :param bnb_4bit_compute_dtype: Computation data type for 4-bit model\n",
    "    \"\"\"\n",
    "\n",
    "    bnb_config = BitsAndBytesConfig(\n",
    "        load_in_4bit = load_in_4bit,\n",
    "        bnb_4bit_use_double_quant = bnb_4bit_use_double_quant,\n",
    "        bnb_4bit_quant_type = bnb_4bit_quant_type,\n",
    "        bnb_4bit_compute_dtype = bnb_4bit_compute_dtype,\n",
    "    )\n",
    "\n",
    "    return bnb_config"
   ]
  },
  {
   "cell_type": "markdown",
   "metadata": {
    "id": "mkZBwDZaJywl"
   },
   "source": [
    "## Loading Hugging Face Model and Tokenizer"
   ]
  },
  {
   "cell_type": "code",
   "execution_count": 25,
   "metadata": {
    "execution": {
     "iopub.execute_input": "2024-05-30T19:21:29.311684Z",
     "iopub.status.busy": "2024-05-30T19:21:29.311307Z",
     "iopub.status.idle": "2024-05-30T19:21:29.318786Z",
     "shell.execute_reply": "2024-05-30T19:21:29.317872Z",
     "shell.execute_reply.started": "2024-05-30T19:21:29.311654Z"
    },
    "executionInfo": {
     "elapsed": 4,
     "status": "ok",
     "timestamp": 1711482496522,
     "user": {
      "displayName": "Bruce Wayne",
      "userId": "03236562819884458513"
     },
     "user_tz": -180
    },
    "id": "vwi3CqbAJj1m"
   },
   "outputs": [],
   "source": [
    "def load_model(model_name, bnb_config):\n",
    "    \"\"\"\n",
    "    Loads model and model tokenizer\n",
    "\n",
    "    :param model_name: Hugging Face model name\n",
    "    :param bnb_config: Bitsandbytes configuration\n",
    "    \"\"\"\n",
    "\n",
    "    # Get number of GPU device and set maximum memory\n",
    "    n_gpus = torch.cuda.device_count()\n",
    "    max_memory = f'{40960}MB'\n",
    "\n",
    "    # Load model\n",
    "    model = AutoModelForCausalLM.from_pretrained(\n",
    "        model_name,\n",
    "        quantization_config = bnb_config,\n",
    "        device_map = \"auto\", # dispatch the model efficiently on the available resources\n",
    "        torch_dtype=torch.bfloat16,\n",
    "        max_memory = {i: max_memory for i in range(n_gpus)},\n",
    "    )\n",
    "\n",
    "    # Load model tokenizer with the user authentication token\n",
    "    tokenizer = AutoTokenizer.from_pretrained(model_name)\n",
    "\n",
    "    # Set padding token as EOS token\n",
    "    tokenizer.pad_token = tokenizer.eos_token\n",
    "    tokenizer.padding_side = \"right\"\n",
    "\n",
    "    return model, tokenizer"
   ]
  },
  {
   "cell_type": "code",
   "execution_count": 26,
   "metadata": {
    "execution": {
     "iopub.execute_input": "2024-05-30T19:21:29.320219Z",
     "iopub.status.busy": "2024-05-30T19:21:29.319942Z",
     "iopub.status.idle": "2024-05-30T19:21:29.329433Z",
     "shell.execute_reply": "2024-05-30T19:21:29.328417Z",
     "shell.execute_reply.started": "2024-05-30T19:21:29.320197Z"
    },
    "executionInfo": {
     "elapsed": 4,
     "status": "ok",
     "timestamp": 1711482496522,
     "user": {
      "displayName": "Bruce Wayne",
      "userId": "03236562819884458513"
     },
     "user_tz": -180
    },
    "id": "8mKR3Z3xJgWk"
   },
   "outputs": [],
   "source": [
    "################################################################################\n",
    "# transformers parameters\n",
    "################################################################################\n",
    "\n",
    "# The pre-trained model from the Hugging Face Hub to load and fine-tune\n",
    "model_name = \"Trendyol/Trendyol-LLM-7b-chat-dpo-v1.0\"\n",
    "\n",
    "################################################################################\n",
    "# bitsandbytes parameters\n",
    "################################################################################\n",
    "\n",
    "# Activate 4-bit precision base model loading\n",
    "load_in_4bit = True\n",
    "\n",
    "# Activate nested quantization for 4-bit base models (double quantization)\n",
    "bnb_4bit_use_double_quant = True\n",
    "\n",
    "# Quantization type (fp4 or nf4)\n",
    "bnb_4bit_quant_type = \"nf4\"\n",
    "\n",
    "# Compute data type for 4-bit base models\n",
    "bnb_4bit_compute_dtype = torch.bfloat16"
   ]
  },
  {
   "cell_type": "code",
   "execution_count": 27,
   "metadata": {
    "colab": {
     "base_uri": "https://localhost:8080/",
     "height": 493,
     "referenced_widgets": [
      "9f560c5bc55c4d26b7b41565eae8d2ab",
      "8c555e3eb6084d56882cfa2bbef220d0",
      "faf400f4769e4d7d8ac623821a7ecb07",
      "e4344682e9b44878bf02c6e553f7870a",
      "e13ea5fb7dfe48b48452d0363f6b304c",
      "f05d54ec27804680aba2d15b0e7d4b4e",
      "e4e7294b031d48b689018def2c6e9385",
      "8e6dca186dfa46f4b757110c220e3cff",
      "e2bd9e690a664ca4941d104976d11ba7",
      "75803716e71746d59ef5b148741eaf6a",
      "87515115ba9746b3ad4ccc081ad06b47",
      "3909d10497e348c9a17427044d3850ad",
      "f86fcf6327f44f808864797c44b6b9d7",
      "5134ffa319ff4c3bb29ce281ce4ccbdd",
      "b1b2f243018c4f7a94ba05c0dca09e17",
      "50784f0f1075432591efa954197997ec",
      "44d54aeb4d3f44efbaef344cd9aa3f79",
      "8d5068d7e96f458c9c5a41c1fa137db6",
      "2c9c0da3aaed4850963d3eaf031d7438",
      "f0fd3dff79d44681b94b7660b7699f21",
      "87a089836f6f49159878e55333ffedee",
      "978ea2b307b649c885910780d06193a3",
      "bb271b39f9294758a9fc294cdef91e0e",
      "5de3e45bbdb74e809f08c91343900b83",
      "5bf72b41c7014ee99e9360047097f7b4",
      "104dc0111b4a4f2cabe0568b4e85ab28",
      "daa655060f1f4e33a9cab83b9b3fec19",
      "fcc2a298b2c4449f84526981742ef0c0",
      "e628c7df8b7848369b5c6e900f425e24",
      "86d6c26012534320b35849f1b5456483",
      "c25cfbbb004e4d9fbdf1ac7dd66d03d7",
      "90eea7e3555f4d029a86b9058fd5bc5a",
      "8038497ddf6f427da0ee23d467e58659",
      "bdac836b13404e45af909b006b4303c9",
      "f68995584e904b52962aebd4ba869b29",
      "7d19ecd3c5b74f0fa2e4499d951ea19c",
      "8578147e065f4ed58ee76b96663517f9",
      "f11b4064cbc640249ceff2c9f6278c10",
      "096817325dfe4969963ce9a48ffe1a63",
      "08a9112251244ff39ac1b7dbbc0a776a",
      "be9c0733e512449a93b63635cee4da5f",
      "f9b3de0c2832459aaf551fc9a5779000",
      "59c6c0f235af482aaff77ac75ea15e78",
      "3ae2306421db437f8b12353c2ccd3a28",
      "f63a8b16016b42d9ac6fbd223971c7a5",
      "ce6af25e4e234fe7867c5eef0dc071f9",
      "be617f5426ac46ea806399df210cdd18",
      "15c9b94cd671475daf29d586551fa84d",
      "a06ac2458a85449191a075f0860f0f8e",
      "c394fafc19fc44a28ad936747e0b897a",
      "55216296dec740a986cc2027d293c8ed",
      "437503b148f1473da74efc0e4e900bc1",
      "071637dc0df1470495ad9ffbdd7be316",
      "98a32537482b4143bdeb0fb541e5a207",
      "bdc5eb2954be4bfa8f6b9406e5c8dbb6",
      "c40b9220e1c8413281fa4a092e78e432",
      "e712542676c446b4977f36d7b3aede70",
      "105af6f0b19d4f9b8f03cb1520782de0",
      "a0d8bc4bd7ea42a381bcfde3e055bf8d",
      "81c931fe094d405c93d2f5aacf97474f",
      "6a8345ec90e4494faea9595236c1b194",
      "0e102c457d5a4d7eaca0c99acb8eb17d",
      "118960f0de3149e4b92a1a577484db4b",
      "60de3ec2ac8444d785e3b37e7359f41b",
      "1f160d6b2ec249b0ada5009d4ee9ae86",
      "1a8818f7621a41d8b80dd75a56757d81",
      "f6b3942047c1405f9185fe85199d0747",
      "566c609cf4f2457aa07fac5093d3d0ea",
      "8be9d98be84646eca2273f2274ba6557",
      "6004d4a247bb4ce387bd7119ecc844d8",
      "363324ede95b4a618283c6f41f838ce9",
      "5041e9d8e78e433fa8f5727a7e71ca57",
      "1ca6e36449ee4326b4fd727cfce63022",
      "34089ad2d2fe411ba43d8f795524e989",
      "53c1ecdeeb864ecd8e1d484f3acbf5e8",
      "289a165ae49445a39465ab20e6d9440e",
      "ee256b2bd7b94affb0c406e0d2afdda3",
      "1cea28f01347470ea196c60f3420e34f",
      "acc8f20895514e02988238062aa358f5",
      "4565521b702043d98ff2b8b245602336",
      "88024b99ebfd4df286fcb24ce19dc70f",
      "27f7e7de99474d9783b47c9033ed0ff7",
      "781448299cf34cd881fe1cfce30176e5",
      "85e34517c51149a19ac9b897af43b3e9",
      "945893f2ca634310a483ed927b6d7ca0",
      "3c6b6b078d274f8f8b18be5e8bc0dd45",
      "de8bf8f509334ec08eeebca4ebe68514",
      "83b5ec09e4bf4b4e9d42f524b31994ec",
      "b0053152f6c14a338ca94c55b125d8c9",
      "d73815ee4550463b967f57086536772c",
      "3b6821f54bb443809c2eeb625cd557ab",
      "d81df7837487415b849cb4fcf6630b2c",
      "e2205bba78764fddb5323950c710ddba",
      "e7337069636948b7bcf6977cf7e286d3",
      "581ed5170a734dc889b75e53bb4e400b",
      "86258b09868b4533afbfa67ac577a69d",
      "1fdd28868bca49bf8157ae5aad95783b",
      "5577fba1eb1d45fbb25f907c66fed9a5",
      "012cd7546a724d1e9aa82ce805327719",
      "06fe02dca6d64a688207e8ae8d87e532",
      "f2c94128196f46488cafbf518e26de19",
      "77d50d641ce249c9ab2d7a26c32a8b54",
      "2ce18f7631c34b3db2a14e0f3ef197b9",
      "7ea6308fb0444ee7b1fb753f1a51db07",
      "3f0aa99d0ede4e1d8852c67be1755780",
      "62d86dee12d346df88d26343eba4d6d1",
      "7efce6c0d1f24cc1bdfa34a95ab16c4c",
      "6865ab8770c54fcdb063eeccc0d2bd54",
      "213b2756c32b4ca891fcd6cb831f493b",
      "7c287346488d4a1d8a75483309b1e2ac",
      "4ff00db54bdd491a9a3bb619c0682ec2",
      "143f552b5ae34621af80cf329ebfac58",
      "1c5cedfa94834b67bf691a9a5de9328e",
      "3cb4e4b87c0b4cf98aeb424079ee611b",
      "569f6cf512654c9392f56e314c327a6e",
      "154978c429974325af6a0169bcb82abc",
      "58230bdb88bd425a99d0321a3b75f19c",
      "6f3c83f7484a49cda988e8c732230de2",
      "4f19e0f801fd4aeea8a56c67ccacbb1a",
      "c9ecdd08450346bda79602a1e46436cd",
      "c1efc223fff24e44a67ddbcb3e956811"
     ]
    },
    "execution": {
     "iopub.execute_input": "2024-05-30T19:21:29.331480Z",
     "iopub.status.busy": "2024-05-30T19:21:29.331033Z",
     "iopub.status.idle": "2024-05-30T19:23:12.509603Z",
     "shell.execute_reply": "2024-05-30T19:23:12.508793Z",
     "shell.execute_reply.started": "2024-05-30T19:21:29.331447Z"
    },
    "executionInfo": {
     "elapsed": 210401,
     "status": "ok",
     "timestamp": 1711482706919,
     "user": {
      "displayName": "Bruce Wayne",
      "userId": "03236562819884458513"
     },
     "user_tz": -180
    },
    "id": "XvXZfoC4JgZD",
    "outputId": "46a0d842-ffbf-4e29-9301-cfe6f0941e67"
   },
   "outputs": [
    {
     "data": {
      "application/vnd.jupyter.widget-view+json": {
       "model_id": "0e970fb9619d4844ab419495dafab95e",
       "version_major": 2,
       "version_minor": 0
      },
      "text/plain": [
       "config.json:   0%|          | 0.00/655 [00:00<?, ?B/s]"
      ]
     },
     "metadata": {},
     "output_type": "display_data"
    },
    {
     "data": {
      "application/vnd.jupyter.widget-view+json": {
       "model_id": "b631c926146641088ee1261fd01cca61",
       "version_major": 2,
       "version_minor": 0
      },
      "text/plain": [
       "model.safetensors.index.json:   0%|          | 0.00/23.9k [00:00<?, ?B/s]"
      ]
     },
     "metadata": {},
     "output_type": "display_data"
    },
    {
     "data": {
      "application/vnd.jupyter.widget-view+json": {
       "model_id": "6b36359bbd634532ac7f063fab9ade54",
       "version_major": 2,
       "version_minor": 0
      },
      "text/plain": [
       "Downloading shards:   0%|          | 0/3 [00:00<?, ?it/s]"
      ]
     },
     "metadata": {},
     "output_type": "display_data"
    },
    {
     "data": {
      "application/vnd.jupyter.widget-view+json": {
       "model_id": "577c206c451c477bbdfc3fa60ea0a2c2",
       "version_major": 2,
       "version_minor": 0
      },
      "text/plain": [
       "model-00001-of-00003.safetensors:   0%|          | 0.00/4.93G [00:00<?, ?B/s]"
      ]
     },
     "metadata": {},
     "output_type": "display_data"
    },
    {
     "data": {
      "application/vnd.jupyter.widget-view+json": {
       "model_id": "8b599dcd76aa409a8792b4c69a1b2a30",
       "version_major": 2,
       "version_minor": 0
      },
      "text/plain": [
       "model-00002-of-00003.safetensors:   0%|          | 0.00/4.92G [00:00<?, ?B/s]"
      ]
     },
     "metadata": {},
     "output_type": "display_data"
    },
    {
     "data": {
      "application/vnd.jupyter.widget-view+json": {
       "model_id": "bf3df4ac1d514ee38c68b4c76b460f98",
       "version_major": 2,
       "version_minor": 0
      },
      "text/plain": [
       "model-00003-of-00003.safetensors:   0%|          | 0.00/4.84G [00:00<?, ?B/s]"
      ]
     },
     "metadata": {},
     "output_type": "display_data"
    },
    {
     "data": {
      "application/vnd.jupyter.widget-view+json": {
       "model_id": "be0b848657cd457b97dbfc38c8263bc4",
       "version_major": 2,
       "version_minor": 0
      },
      "text/plain": [
       "Loading checkpoint shards:   0%|          | 0/3 [00:00<?, ?it/s]"
      ]
     },
     "metadata": {},
     "output_type": "display_data"
    },
    {
     "data": {
      "application/vnd.jupyter.widget-view+json": {
       "model_id": "94653c9faa304780bea188770675387e",
       "version_major": 2,
       "version_minor": 0
      },
      "text/plain": [
       "generation_config.json:   0%|          | 0.00/111 [00:00<?, ?B/s]"
      ]
     },
     "metadata": {},
     "output_type": "display_data"
    },
    {
     "data": {
      "application/vnd.jupyter.widget-view+json": {
       "model_id": "54fbc8473f224e40b603b2cd05334602",
       "version_major": 2,
       "version_minor": 0
      },
      "text/plain": [
       "tokenizer_config.json:   0%|          | 0.00/1.42k [00:00<?, ?B/s]"
      ]
     },
     "metadata": {},
     "output_type": "display_data"
    },
    {
     "data": {
      "application/vnd.jupyter.widget-view+json": {
       "model_id": "c854fdc5ef294f4780c8717335c47c50",
       "version_major": 2,
       "version_minor": 0
      },
      "text/plain": [
       "tokenizer.model:   0%|          | 0.00/712k [00:00<?, ?B/s]"
      ]
     },
     "metadata": {},
     "output_type": "display_data"
    },
    {
     "data": {
      "application/vnd.jupyter.widget-view+json": {
       "model_id": "4cf3bcb5a0be44ff86de2c06c9244ad4",
       "version_major": 2,
       "version_minor": 0
      },
      "text/plain": [
       "special_tokens_map.json:   0%|          | 0.00/551 [00:00<?, ?B/s]"
      ]
     },
     "metadata": {},
     "output_type": "display_data"
    }
   ],
   "source": [
    "# Load model from Hugging Face Hub with model name and bitsandbytes configuration\n",
    "\n",
    "bnb_config = create_bnb_config(load_in_4bit, bnb_4bit_use_double_quant, bnb_4bit_quant_type, bnb_4bit_compute_dtype)\n",
    "\n",
    "model, tokenizer = load_model(model_name, bnb_config)\n",
    "\n",
    "model, tokenizer = setup_chat_format(model, tokenizer)"
   ]
  },
  {
   "cell_type": "code",
   "execution_count": 28,
   "metadata": {
    "colab": {
     "base_uri": "https://localhost:8080/"
    },
    "execution": {
     "iopub.execute_input": "2024-05-30T19:23:12.511958Z",
     "iopub.status.busy": "2024-05-30T19:23:12.511672Z",
     "iopub.status.idle": "2024-05-30T19:23:12.520463Z",
     "shell.execute_reply": "2024-05-30T19:23:12.519561Z",
     "shell.execute_reply.started": "2024-05-30T19:23:12.511934Z"
    },
    "executionInfo": {
     "elapsed": 9,
     "status": "ok",
     "timestamp": 1711482706919,
     "user": {
      "displayName": "Bruce Wayne",
      "userId": "03236562819884458513"
     },
     "user_tz": -180
    },
    "id": "Z3aoa4CHJgbk",
    "outputId": "0ffb0756-cfd6-4c7c-8eb1-107740404d73"
   },
   "outputs": [
    {
     "data": {
      "text/plain": [
       "MistralForCausalLM(\n",
       "  (model): MistralModel(\n",
       "    (embed_tokens): Embedding(44314, 4096)\n",
       "    (layers): ModuleList(\n",
       "      (0-31): 32 x MistralDecoderLayer(\n",
       "        (self_attn): MistralAttention(\n",
       "          (q_proj): Linear4bit(in_features=4096, out_features=4096, bias=False)\n",
       "          (k_proj): Linear4bit(in_features=4096, out_features=1024, bias=False)\n",
       "          (v_proj): Linear4bit(in_features=4096, out_features=1024, bias=False)\n",
       "          (o_proj): Linear4bit(in_features=4096, out_features=4096, bias=False)\n",
       "          (rotary_emb): MistralRotaryEmbedding()\n",
       "        )\n",
       "        (mlp): MistralMLP(\n",
       "          (gate_proj): Linear4bit(in_features=4096, out_features=14336, bias=False)\n",
       "          (up_proj): Linear4bit(in_features=4096, out_features=14336, bias=False)\n",
       "          (down_proj): Linear4bit(in_features=14336, out_features=4096, bias=False)\n",
       "          (act_fn): SiLU()\n",
       "        )\n",
       "        (input_layernorm): MistralRMSNorm()\n",
       "        (post_attention_layernorm): MistralRMSNorm()\n",
       "      )\n",
       "    )\n",
       "    (norm): MistralRMSNorm()\n",
       "  )\n",
       "  (lm_head): Linear(in_features=4096, out_features=44314, bias=False)\n",
       ")"
      ]
     },
     "execution_count": 28,
     "metadata": {},
     "output_type": "execute_result"
    }
   ],
   "source": [
    "model"
   ]
  },
  {
   "cell_type": "markdown",
   "metadata": {
    "id": "eNX_vBV1PhB_"
   },
   "source": [
    "### Dataset\n",
    "\n"
   ]
  },
  {
   "cell_type": "code",
   "execution_count": 29,
   "metadata": {
    "execution": {
     "iopub.execute_input": "2024-05-30T19:23:16.554233Z",
     "iopub.status.busy": "2024-05-30T19:23:16.553346Z",
     "iopub.status.idle": "2024-05-30T19:23:16.654437Z",
     "shell.execute_reply": "2024-05-30T19:23:16.653426Z",
     "shell.execute_reply.started": "2024-05-30T19:23:16.554200Z"
    },
    "executionInfo": {
     "elapsed": 3,
     "status": "ok",
     "timestamp": 1711482746749,
     "user": {
      "displayName": "Bruce Wayne",
      "userId": "03236562819884458513"
     },
     "user_tz": -180
    },
    "id": "1NuqRQf-PecG"
   },
   "outputs": [],
   "source": [
    "df_train.to_csv('hate_classification.csv', index=False)"
   ]
  },
  {
   "cell_type": "code",
   "execution_count": 30,
   "metadata": {
    "execution": {
     "iopub.execute_input": "2024-05-30T19:23:16.720731Z",
     "iopub.status.busy": "2024-05-30T19:23:16.720406Z",
     "iopub.status.idle": "2024-05-30T19:23:16.725747Z",
     "shell.execute_reply": "2024-05-30T19:23:16.724806Z",
     "shell.execute_reply.started": "2024-05-30T19:23:16.720705Z"
    },
    "executionInfo": {
     "elapsed": 2,
     "status": "ok",
     "timestamp": 1711482746749,
     "user": {
      "displayName": "Bruce Wayne",
      "userId": "03236562819884458513"
     },
     "user_tz": -180
    },
    "id": "7CJgLN07Pee_"
   },
   "outputs": [],
   "source": [
    "dataset_name = \"/kaggle/working/hate_classification.csv\""
   ]
  },
  {
   "cell_type": "code",
   "execution_count": 31,
   "metadata": {
    "colab": {
     "base_uri": "https://localhost:8080/",
     "height": 118,
     "referenced_widgets": [
      "434ec2e6fe0a4068a6f06d2e0ea27cdb",
      "0db63aca86b849abbde55c6c52bfdf8a",
      "e18977b4f79f4b46999b34a6583dc906",
      "55ccb5dbc1274eb9aa5601291f4fde31",
      "cb2bd29cb0c341809a568607e648c491",
      "18ca3691c733474682df38598f2ad70f",
      "a4eb042e0b3a49e0910b94ce5fcc11a6",
      "858a11559c7644959eef71b7976fa7a3",
      "da1cbf9ea6674034a09a1a5ca832afd2",
      "950e1194d7d149b0bdb08e8c2a03d4cd",
      "f24a418c6b534dffa94b8c4dda06bb5b"
     ]
    },
    "execution": {
     "iopub.execute_input": "2024-05-30T19:23:16.916125Z",
     "iopub.status.busy": "2024-05-30T19:23:16.915626Z",
     "iopub.status.idle": "2024-05-30T19:23:17.172792Z",
     "shell.execute_reply": "2024-05-30T19:23:17.171923Z",
     "shell.execute_reply.started": "2024-05-30T19:23:16.916101Z"
    },
    "executionInfo": {
     "elapsed": 2217,
     "status": "ok",
     "timestamp": 1711482748964,
     "user": {
      "displayName": "Bruce Wayne",
      "userId": "03236562819884458513"
     },
     "user_tz": -180
    },
    "id": "bk9JWlt4Pejz",
    "outputId": "11cc79ac-ec2c-458a-90f0-c00cdcd3dbbb"
   },
   "outputs": [
    {
     "data": {
      "application/vnd.jupyter.widget-view+json": {
       "model_id": "01fc9259eee64e458811b0b02f7defb1",
       "version_major": 2,
       "version_minor": 0
      },
      "text/plain": [
       "Generating train split: 0 examples [00:00, ? examples/s]"
      ]
     },
     "metadata": {},
     "output_type": "display_data"
    },
    {
     "name": "stderr",
     "output_type": "stream",
     "text": [
      "/opt/conda/lib/python3.10/site-packages/datasets/download/streaming_download_manager.py:778: FutureWarning: The 'verbose' keyword in pd.read_csv is deprecated and will be removed in a future version.\n",
      "  return pd.read_csv(xopen(filepath_or_buffer, \"rb\", download_config=download_config), **kwargs)\n"
     ]
    },
    {
     "data": {
      "text/plain": [
       "Dataset({\n",
       "    features: ['instruction', 'input', 'label'],\n",
       "    num_rows: 1000\n",
       "})"
      ]
     },
     "execution_count": 31,
     "metadata": {},
     "output_type": "execute_result"
    }
   ],
   "source": [
    "dataset = load_dataset(\"csv\", data_files = dataset_name, split = \"train\").shuffle().select(range(1000))\n",
    "dataset"
   ]
  },
  {
   "cell_type": "code",
   "execution_count": 32,
   "metadata": {
    "colab": {
     "base_uri": "https://localhost:8080/"
    },
    "execution": {
     "iopub.execute_input": "2024-05-30T19:23:17.174477Z",
     "iopub.status.busy": "2024-05-30T19:23:17.174190Z",
     "iopub.status.idle": "2024-05-30T19:23:17.180211Z",
     "shell.execute_reply": "2024-05-30T19:23:17.179302Z",
     "shell.execute_reply.started": "2024-05-30T19:23:17.174451Z"
    },
    "executionInfo": {
     "elapsed": 58,
     "status": "ok",
     "timestamp": 1711482748965,
     "user": {
      "displayName": "Bruce Wayne",
      "userId": "03236562819884458513"
     },
     "user_tz": -180
    },
    "id": "R_lxEuX6PlkX",
    "outputId": "4835de10-141c-4bbb-c9cb-cd1b23cc6a97"
   },
   "outputs": [
    {
     "data": {
      "text/plain": [
       "Dataset({\n",
       "    features: ['instruction', 'input', 'label'],\n",
       "    num_rows: 1000\n",
       "})"
      ]
     },
     "execution_count": 32,
     "metadata": {},
     "output_type": "execute_result"
    }
   ],
   "source": [
    "dataset"
   ]
  },
  {
   "cell_type": "code",
   "execution_count": 33,
   "metadata": {
    "execution": {
     "iopub.execute_input": "2024-05-30T19:23:17.249418Z",
     "iopub.status.busy": "2024-05-30T19:23:17.249139Z",
     "iopub.status.idle": "2024-05-30T19:23:17.267118Z",
     "shell.execute_reply": "2024-05-30T19:23:17.266353Z",
     "shell.execute_reply.started": "2024-05-30T19:23:17.249394Z"
    },
    "executionInfo": {
     "elapsed": 51,
     "status": "ok",
     "timestamp": 1711482748965,
     "user": {
      "displayName": "Bruce Wayne",
      "userId": "03236562819884458513"
     },
     "user_tz": -180
    },
    "id": "bOIIET5nPlnI"
   },
   "outputs": [],
   "source": [
    "dataset = dataset.train_test_split(test_size=500/1000)"
   ]
  },
  {
   "cell_type": "code",
   "execution_count": 34,
   "metadata": {
    "colab": {
     "base_uri": "https://localhost:8080/"
    },
    "execution": {
     "iopub.execute_input": "2024-05-30T19:23:17.463213Z",
     "iopub.status.busy": "2024-05-30T19:23:17.462938Z",
     "iopub.status.idle": "2024-05-30T19:23:17.468919Z",
     "shell.execute_reply": "2024-05-30T19:23:17.467961Z",
     "shell.execute_reply.started": "2024-05-30T19:23:17.463189Z"
    },
    "executionInfo": {
     "elapsed": 50,
     "status": "ok",
     "timestamp": 1711482748965,
     "user": {
      "displayName": "Bruce Wayne",
      "userId": "03236562819884458513"
     },
     "user_tz": -180
    },
    "id": "CMDXvjPiPlqL",
    "outputId": "1df9c7cc-7063-4952-cb84-c6d96ad09fd1"
   },
   "outputs": [
    {
     "data": {
      "text/plain": [
       "DatasetDict({\n",
       "    train: Dataset({\n",
       "        features: ['instruction', 'input', 'label'],\n",
       "        num_rows: 500\n",
       "    })\n",
       "    test: Dataset({\n",
       "        features: ['instruction', 'input', 'label'],\n",
       "        num_rows: 500\n",
       "    })\n",
       "})"
      ]
     },
     "execution_count": 34,
     "metadata": {},
     "output_type": "execute_result"
    }
   ],
   "source": [
    "dataset"
   ]
  },
  {
   "cell_type": "code",
   "execution_count": 35,
   "metadata": {
    "colab": {
     "base_uri": "https://localhost:8080/"
    },
    "execution": {
     "iopub.execute_input": "2024-05-30T19:23:17.784894Z",
     "iopub.status.busy": "2024-05-30T19:23:17.784603Z",
     "iopub.status.idle": "2024-05-30T19:23:17.789346Z",
     "shell.execute_reply": "2024-05-30T19:23:17.788400Z",
     "shell.execute_reply.started": "2024-05-30T19:23:17.784872Z"
    },
    "executionInfo": {
     "elapsed": 45,
     "status": "ok",
     "timestamp": 1711482748965,
     "user": {
      "displayName": "Bruce Wayne",
      "userId": "03236562819884458513"
     },
     "user_tz": -180
    },
    "id": "gw98phNbPls-",
    "outputId": "cabe25da-d7a2-456f-9d15-5ae8b4e99275"
   },
   "outputs": [
    {
     "name": "stdout",
     "output_type": "stream",
     "text": [
      "Number of prompts: 2\n",
      "Column names are: {'train': ['instruction', 'input', 'label'], 'test': ['instruction', 'input', 'label']}\n"
     ]
    }
   ],
   "source": [
    "print(f'Number of prompts: {len(dataset)}')\n",
    "print(f'Column names are: {dataset.column_names}')"
   ]
  },
  {
   "cell_type": "code",
   "execution_count": 36,
   "metadata": {
    "colab": {
     "base_uri": "https://localhost:8080/"
    },
    "execution": {
     "iopub.execute_input": "2024-05-30T19:23:18.028850Z",
     "iopub.status.busy": "2024-05-30T19:23:18.028528Z",
     "iopub.status.idle": "2024-05-30T19:23:18.038963Z",
     "shell.execute_reply": "2024-05-30T19:23:18.038034Z",
     "shell.execute_reply.started": "2024-05-30T19:23:18.028826Z"
    },
    "executionInfo": {
     "elapsed": 41,
     "status": "ok",
     "timestamp": 1711482748965,
     "user": {
      "displayName": "Bruce Wayne",
      "userId": "03236562819884458513"
     },
     "user_tz": -180
    },
    "id": "qmnW5vL3Prog",
    "outputId": "adc0798f-3b5c-46d0-e813-2cdb7073f55b"
   },
   "outputs": [
    {
     "data": {
      "text/plain": [
       "{'instruction': 'Metni negatif veya pozitif olarak sınıflandır.',\n",
       " 'input': 'username aminnnn allah razı olsun efendim hayırlı huzurlu sabahlar dilerim rabbim sizi korusun muhafaza buyursun inşallah kudüs kudüsbizimdir',\n",
       " 'label': 'pozitif'}"
      ]
     },
     "execution_count": 36,
     "metadata": {},
     "output_type": "execute_result"
    }
   ],
   "source": [
    "dataset[\"train\"][randrange(len(dataset))]"
   ]
  },
  {
   "cell_type": "code",
   "execution_count": 37,
   "metadata": {
    "colab": {
     "base_uri": "https://localhost:8080/"
    },
    "execution": {
     "iopub.execute_input": "2024-05-30T19:23:18.230650Z",
     "iopub.status.busy": "2024-05-30T19:23:18.230387Z",
     "iopub.status.idle": "2024-05-30T19:23:18.236304Z",
     "shell.execute_reply": "2024-05-30T19:23:18.235454Z",
     "shell.execute_reply.started": "2024-05-30T19:23:18.230629Z"
    },
    "executionInfo": {
     "elapsed": 36,
     "status": "ok",
     "timestamp": 1711482748965,
     "user": {
      "displayName": "Bruce Wayne",
      "userId": "03236562819884458513"
     },
     "user_tz": -180
    },
    "id": "1enHoi7HPrrl",
    "outputId": "dd3b8e96-d4da-4126-fa2c-48643d598a15"
   },
   "outputs": [
    {
     "data": {
      "text/plain": [
       "{'instruction': 'Metni negatif veya pozitif olarak sınıflandır.',\n",
       " 'input': 'user user bende öyle düşünüyorum kaynak aktarır bütçe ayırırlar afgan abd kambur olmuştu tek kurşun sıkmadan kaçtılar biden bugun onu söyledi afganlar savaşmak yerine kaçmayı tercih etti dedi yıl ciksaydik yine aynı olacaktı dedi haklı',\n",
       " 'label': 'pozitif'}"
      ]
     },
     "execution_count": 37,
     "metadata": {},
     "output_type": "execute_result"
    }
   ],
   "source": [
    "dataset[\"train\"][5]"
   ]
  },
  {
   "cell_type": "code",
   "execution_count": 38,
   "metadata": {
    "colab": {
     "base_uri": "https://localhost:8080/"
    },
    "execution": {
     "iopub.execute_input": "2024-05-30T19:23:18.522206Z",
     "iopub.status.busy": "2024-05-30T19:23:18.521930Z",
     "iopub.status.idle": "2024-05-30T19:23:18.527496Z",
     "shell.execute_reply": "2024-05-30T19:23:18.526699Z",
     "shell.execute_reply.started": "2024-05-30T19:23:18.522182Z"
    },
    "executionInfo": {
     "elapsed": 33,
     "status": "ok",
     "timestamp": 1711482748966,
     "user": {
      "displayName": "Bruce Wayne",
      "userId": "03236562819884458513"
     },
     "user_tz": -180
    },
    "id": "ym8pXdG5PruX",
    "outputId": "32838c73-e7dc-4b6d-90d8-47d1a6eeb9e3"
   },
   "outputs": [
    {
     "data": {
      "text/plain": [
       "Dataset({\n",
       "    features: ['instruction', 'input', 'label'],\n",
       "    num_rows: 500\n",
       "})"
      ]
     },
     "execution_count": 38,
     "metadata": {},
     "output_type": "execute_result"
    }
   ],
   "source": [
    "train = dataset[\"train\"]\n",
    "train"
   ]
  },
  {
   "cell_type": "code",
   "execution_count": 39,
   "metadata": {
    "colab": {
     "base_uri": "https://localhost:8080/"
    },
    "execution": {
     "iopub.execute_input": "2024-05-30T19:23:18.699888Z",
     "iopub.status.busy": "2024-05-30T19:23:18.699606Z",
     "iopub.status.idle": "2024-05-30T19:23:18.705847Z",
     "shell.execute_reply": "2024-05-30T19:23:18.704899Z",
     "shell.execute_reply.started": "2024-05-30T19:23:18.699865Z"
    },
    "executionInfo": {
     "elapsed": 26,
     "status": "ok",
     "timestamp": 1711482748966,
     "user": {
      "displayName": "Bruce Wayne",
      "userId": "03236562819884458513"
     },
     "user_tz": -180
    },
    "id": "jIuot6B2Plv8",
    "outputId": "d7041161-1196-4ecc-f244-cb80a30d914c"
   },
   "outputs": [
    {
     "data": {
      "text/plain": [
       "Dataset({\n",
       "    features: ['instruction', 'input', 'label'],\n",
       "    num_rows: 500\n",
       "})"
      ]
     },
     "execution_count": 39,
     "metadata": {},
     "output_type": "execute_result"
    }
   ],
   "source": [
    "test = dataset[\"test\"]\n",
    "test"
   ]
  },
  {
   "cell_type": "markdown",
   "metadata": {
    "id": "pYOQxesVP09I"
   },
   "source": [
    "### Creating Prompt Template"
   ]
  },
  {
   "cell_type": "code",
   "execution_count": 40,
   "metadata": {
    "execution": {
     "iopub.execute_input": "2024-05-30T19:23:19.630009Z",
     "iopub.status.busy": "2024-05-30T19:23:19.629407Z",
     "iopub.status.idle": "2024-05-30T19:23:19.636805Z",
     "shell.execute_reply": "2024-05-30T19:23:19.635775Z",
     "shell.execute_reply.started": "2024-05-30T19:23:19.629979Z"
    },
    "executionInfo": {
     "elapsed": 22,
     "status": "ok",
     "timestamp": 1711482748966,
     "user": {
      "displayName": "Bruce Wayne",
      "userId": "03236562819884458513"
     },
     "user_tz": -180
    },
    "id": "37sc_mb5Pxx5"
   },
   "outputs": [],
   "source": [
    "def create_prompt_formats(sample):\n",
    "    \"\"\"\n",
    "    Creates a formatted prompt template for a prompt in the instruction dataset\n",
    "\n",
    "    :param sample: Prompt or sample from the instruction dataset\n",
    "    \"\"\"\n",
    "\n",
    "    # Initialize static strings for the prompt template\n",
    "    INTRO_BLURB = \"[INST] Aşağıda bir görevi açıklayan bir talimat bulunmaktadır. Talimatı uygun şekilde tamamlayan bir yanıt yazın.\"\n",
    "    INSTRUCTION_KEY = \"Talimat:\"\n",
    "    INPUT_KEY = \"Metin:\"\n",
    "    RESPONSE_KEY = \"Yanıt:\"\n",
    "    END_KEY = \"[/INST]\"\n",
    "\n",
    "    # Combine a prompt with the static strings\n",
    "    blurb = f\"{INTRO_BLURB}\"\n",
    "    instruction = f\"{INSTRUCTION_KEY}\\n{sample['instruction']}\"\n",
    "    input_context = f\"{INPUT_KEY}\\n{sample['input']}\" if sample[\"input\"] else None\n",
    "    response = f\"{RESPONSE_KEY}{sample['label']}\"\n",
    "    end = f\"{END_KEY}\"\n",
    "\n",
    "    # Create a list of prompt template elements\n",
    "    parts = [part for part in [blurb, instruction, input_context, response, end] if part]\n",
    "\n",
    "    # Join prompt template elements into a single string to create the prompt template\n",
    "    formatted_prompt = \"\\n\\n\".join(parts)\n",
    "\n",
    "    # Store the formatted prompt template in a new key \"text\"\n",
    "    sample[\"text\"] = formatted_prompt\n",
    "\n",
    "    return sample"
   ]
  },
  {
   "cell_type": "code",
   "execution_count": 41,
   "metadata": {
    "execution": {
     "iopub.execute_input": "2024-05-30T19:23:19.876042Z",
     "iopub.status.busy": "2024-05-30T19:23:19.875357Z",
     "iopub.status.idle": "2024-05-30T19:23:19.881821Z",
     "shell.execute_reply": "2024-05-30T19:23:19.881045Z",
     "shell.execute_reply.started": "2024-05-30T19:23:19.876017Z"
    },
    "executionInfo": {
     "elapsed": 22,
     "status": "ok",
     "timestamp": 1711482748966,
     "user": {
      "displayName": "Bruce Wayne",
      "userId": "03236562819884458513"
     },
     "user_tz": -180
    },
    "id": "o6JRyEjRI9ye"
   },
   "outputs": [],
   "source": [
    "def create_prompt_test_formats(sample):\n",
    "    \"\"\"\n",
    "    Creates a formatted prompt template for a prompt in the instruction dataset\n",
    "\n",
    "    :param sample: Prompt or sample from the instruction dataset\n",
    "    \"\"\"\n",
    "\n",
    "    # Initialize static strings for the prompt template\n",
    "    INTRO_BLURB = \"[INST] Aşağıda bir görevi açıklayan bir talimat bulunmaktadır. Talimatı uygun şekilde tamamlayan bir yanıt yazın.\"\n",
    "    INSTRUCTION_KEY = \"Talimat:\"\n",
    "    INPUT_KEY = \"Metin:\"\n",
    "    RESPONSE_KEY = \"Yanıt:\"\n",
    "\n",
    "    # Combine a prompt with the static strings\n",
    "    blurb = f\"{INTRO_BLURB}\"\n",
    "    instruction = f\"{INSTRUCTION_KEY}\\n{sample['instruction']}\"\n",
    "    input_context = f\"{INPUT_KEY}\\n{sample['input']}\" if sample[\"input\"] else None\n",
    "    response = f\"{RESPONSE_KEY}\"\n",
    "\n",
    "    # Create a list of prompt template elements\n",
    "    parts = [part for part in [blurb, instruction, input_context, response] if part]\n",
    "\n",
    "    # Join prompt template elements into a single string to create the prompt template\n",
    "    formatted_prompt = \"\\n\\n\".join(parts)\n",
    "\n",
    "    # Store the formatted prompt template in a new key \"text\"\n",
    "    sample[\"text\"] = formatted_prompt\n",
    "\n",
    "    return sample"
   ]
  },
  {
   "cell_type": "code",
   "execution_count": 42,
   "metadata": {
    "colab": {
     "base_uri": "https://localhost:8080/"
    },
    "execution": {
     "iopub.execute_input": "2024-05-30T19:23:20.064572Z",
     "iopub.status.busy": "2024-05-30T19:23:20.064087Z",
     "iopub.status.idle": "2024-05-30T19:23:20.070389Z",
     "shell.execute_reply": "2024-05-30T19:23:20.069434Z",
     "shell.execute_reply.started": "2024-05-30T19:23:20.064535Z"
    },
    "executionInfo": {
     "elapsed": 21,
     "status": "ok",
     "timestamp": 1711482748966,
     "user": {
      "displayName": "Bruce Wayne",
      "userId": "03236562819884458513"
     },
     "user_tz": -180
    },
    "id": "NHCEnL_rPx0d",
    "outputId": "9e91a0ca-f66e-491d-9c31-e753b7d20f72"
   },
   "outputs": [
    {
     "data": {
      "text/plain": [
       "{'instruction': 'Metni negatif veya pozitif olarak sınıflandır.',\n",
       " 'input': 'username aminnnn allah razı olsun efendim hayırlı huzurlu sabahlar dilerim rabbim sizi korusun muhafaza buyursun inşallah kudüs kudüsbizimdir',\n",
       " 'label': 'pozitif',\n",
       " 'text': '[INST] Aşağıda bir görevi açıklayan bir talimat bulunmaktadır. Talimatı uygun şekilde tamamlayan bir yanıt yazın.\\n\\nTalimat:\\nMetni negatif veya pozitif olarak sınıflandır.\\n\\nMetin:\\nusername aminnnn allah razı olsun efendim hayırlı huzurlu sabahlar dilerim rabbim sizi korusun muhafaza buyursun inşallah kudüs kudüsbizimdir\\n\\nYanıt:pozitif\\n\\n[/INST]'}"
      ]
     },
     "execution_count": 42,
     "metadata": {},
     "output_type": "execute_result"
    }
   ],
   "source": [
    "create_prompt_formats(train[randrange(len(dataset))])"
   ]
  },
  {
   "cell_type": "code",
   "execution_count": 43,
   "metadata": {
    "colab": {
     "base_uri": "https://localhost:8080/"
    },
    "execution": {
     "iopub.execute_input": "2024-05-30T19:23:20.442396Z",
     "iopub.status.busy": "2024-05-30T19:23:20.442038Z",
     "iopub.status.idle": "2024-05-30T19:23:20.449179Z",
     "shell.execute_reply": "2024-05-30T19:23:20.448250Z",
     "shell.execute_reply.started": "2024-05-30T19:23:20.442356Z"
    },
    "executionInfo": {
     "elapsed": 17,
     "status": "ok",
     "timestamp": 1711482748967,
     "user": {
      "displayName": "Bruce Wayne",
      "userId": "03236562819884458513"
     },
     "user_tz": -180
    },
    "id": "MzNM-BdAPx3C",
    "outputId": "9bf2bc2f-caab-4ee5-9913-c1ec7546dd80"
   },
   "outputs": [
    {
     "data": {
      "text/plain": [
       "{'instruction': 'Metni negatif veya pozitif olarak sınıflandır.',\n",
       " 'input': 'keşke aynı kalabalık ay önce yunan abd ordusu ege ’ tam ortasında bulunan izmir açıklarındaki iskiri skiros adası ’ ortak tatbikat gerçekleştirip bunun adınada “ düşman ordusunun işgal ettiği adayı kurtarmak olduğu ” dediğinde olsaydı',\n",
       " 'label': 'pozitif',\n",
       " 'text': '[INST] Aşağıda bir görevi açıklayan bir talimat bulunmaktadır. Talimatı uygun şekilde tamamlayan bir yanıt yazın.\\n\\nTalimat:\\nMetni negatif veya pozitif olarak sınıflandır.\\n\\nMetin:\\nkeşke aynı kalabalık ay önce yunan abd ordusu ege ’ tam ortasında bulunan izmir açıklarındaki iskiri skiros adası ’ ortak tatbikat gerçekleştirip bunun adınada “ düşman ordusunun işgal ettiği adayı kurtarmak olduğu ” dediğinde olsaydı\\n\\nYanıt:'}"
      ]
     },
     "execution_count": 43,
     "metadata": {},
     "output_type": "execute_result"
    }
   ],
   "source": [
    "create_prompt_test_formats(test[randrange(len(dataset))])"
   ]
  },
  {
   "cell_type": "markdown",
   "metadata": {
    "id": "xfCbr2uQP91t"
   },
   "source": [
    "### Getting Maximum Sequence Length of the Pre-trained Model"
   ]
  },
  {
   "cell_type": "code",
   "execution_count": 44,
   "metadata": {
    "execution": {
     "iopub.execute_input": "2024-05-30T19:23:21.110010Z",
     "iopub.status.busy": "2024-05-30T19:23:21.109705Z",
     "iopub.status.idle": "2024-05-30T19:23:21.116156Z",
     "shell.execute_reply": "2024-05-30T19:23:21.115105Z",
     "shell.execute_reply.started": "2024-05-30T19:23:21.109985Z"
    },
    "executionInfo": {
     "elapsed": 12,
     "status": "ok",
     "timestamp": 1711482748967,
     "user": {
      "displayName": "Bruce Wayne",
      "userId": "03236562819884458513"
     },
     "user_tz": -180
    },
    "id": "GDBVdHW4JVBE"
   },
   "outputs": [],
   "source": [
    "def get_max_length(model):\n",
    "    \"\"\"\n",
    "    Extracts maximum token length from the model configuration\n",
    "\n",
    "    :param model: Hugging Face model\n",
    "    \"\"\"\n",
    "\n",
    "    # Pull model configuration\n",
    "    conf = model.config\n",
    "    # Initialize a \"max_length\" variable to store maximum sequence length as null\n",
    "    max_length = None\n",
    "    # Find maximum sequence length in the model configuration and save it in \"max_length\" if found\n",
    "    for length_setting in [\"n_positions\", \"max_position_embeddings\", \"seq_length\"]:\n",
    "        max_length = getattr(model.config, length_setting, None)\n",
    "        if max_length:\n",
    "            print(f\"Found max lenth: {max_length}\")\n",
    "            break\n",
    "    # Set \"max_length\" to 1024 (default value) if maximum sequence length is not found in the model configuration\n",
    "    if not max_length:\n",
    "        max_length = 1024\n",
    "        print(f\"Using default max length: {max_length}\")\n",
    "    return max_length"
   ]
  },
  {
   "cell_type": "markdown",
   "metadata": {
    "id": "Yef1IHJRTGf1"
   },
   "source": [
    "### Preprocessing Dataset"
   ]
  },
  {
   "cell_type": "code",
   "execution_count": 45,
   "metadata": {
    "execution": {
     "iopub.execute_input": "2024-05-30T19:23:21.998247Z",
     "iopub.status.busy": "2024-05-30T19:23:21.997436Z",
     "iopub.status.idle": "2024-05-30T19:23:22.003483Z",
     "shell.execute_reply": "2024-05-30T19:23:22.002570Z",
     "shell.execute_reply.started": "2024-05-30T19:23:21.998214Z"
    },
    "executionInfo": {
     "elapsed": 12,
     "status": "ok",
     "timestamp": 1711482748967,
     "user": {
      "displayName": "Bruce Wayne",
      "userId": "03236562819884458513"
     },
     "user_tz": -180
    },
    "id": "tMcCsZa2TB7n"
   },
   "outputs": [],
   "source": [
    "def preprocess_dataset(seed, dataset: str):\n",
    "    \"\"\"\n",
    "    Tokenizes dataset for fine-tuning\n",
    "\n",
    "    :param tokenizer (AutoTokenizer): Model tokenizer\n",
    "    :param max_length (int): Maximum number of tokens to emit from the tokenizer\n",
    "    :param seed: Random seed for reproducibility\n",
    "    :param dataset (str): Instruction dataset\n",
    "    \"\"\"\n",
    "\n",
    "    # Add prompt to each sample\n",
    "    print(\"Preprocessing dataset...\")\n",
    "    dataset = dataset.map(create_prompt_formats)\n",
    "\n",
    "    # Apply preprocessing to each batch of the dataset & and remove \"instruction\", \"input\", \"output\", and \"text\" fields\n",
    "\n",
    "    dataset = dataset.remove_columns([\"instruction\", \"input\", \"label\"])\n",
    "\n",
    "    # Shuffle dataset\n",
    "    dataset = dataset.shuffle(seed = seed)\n",
    "\n",
    "    return dataset"
   ]
  },
  {
   "cell_type": "code",
   "execution_count": 46,
   "metadata": {
    "execution": {
     "iopub.execute_input": "2024-05-30T19:23:22.399387Z",
     "iopub.status.busy": "2024-05-30T19:23:22.398655Z",
     "iopub.status.idle": "2024-05-30T19:23:22.404173Z",
     "shell.execute_reply": "2024-05-30T19:23:22.403281Z",
     "shell.execute_reply.started": "2024-05-30T19:23:22.399357Z"
    },
    "executionInfo": {
     "elapsed": 12,
     "status": "ok",
     "timestamp": 1711482748967,
     "user": {
      "displayName": "Bruce Wayne",
      "userId": "03236562819884458513"
     },
     "user_tz": -180
    },
    "id": "GZ-UKrIbTB_R"
   },
   "outputs": [],
   "source": [
    "def preprocess_test_dataset(dataset: str):\n",
    "    \"\"\"\n",
    "    Tokenizes dataset for fine-tuning\n",
    "\n",
    "    :param tokenizer (AutoTokenizer): Model tokenizer\n",
    "    :param max_length (int): Maximum number of tokens to emit from the tokenizer\n",
    "    :param seed: Random seed for reproducibility\n",
    "    :param dataset (str): Instruction dataset\n",
    "    \"\"\"\n",
    "\n",
    "    # Add prompt to each sample\n",
    "    print(\"Preprocessing dataset...\")\n",
    "    dataset = dataset.map(create_prompt_test_formats)\n",
    "    \n",
    "    dataset = dataset.remove_columns([\"instruction\", \"input\", \"label\"])\n",
    "\n",
    "    return dataset"
   ]
  },
  {
   "cell_type": "code",
   "execution_count": 47,
   "metadata": {
    "colab": {
     "base_uri": "https://localhost:8080/",
     "height": 84,
     "referenced_widgets": [
      "937e9b059c7c428aa4baf96933856a8d",
      "7549cced7cc94d64bf61f3f0c5b36da1",
      "d4180e91111d41138582babfb40528cb",
      "63099d478b5b42f298b9c9cd0b67b003",
      "a8473ae6be48454ba0b6d5070a5a79d8",
      "a7b9078445654be9905878df1dbc0028",
      "257b88c1db924571b51a112be7d0363f",
      "22fe43180d3340578a1e2be40a0d5833",
      "522cb2700fef4ce7bd6d80bfafc2b7be",
      "ba9b05b7824944e584886d7e32749852",
      "56242ab057d9453ca0565ac7ae5481b9"
     ]
    },
    "execution": {
     "iopub.execute_input": "2024-05-30T19:23:22.764579Z",
     "iopub.status.busy": "2024-05-30T19:23:22.764078Z",
     "iopub.status.idle": "2024-05-30T19:23:22.866885Z",
     "shell.execute_reply": "2024-05-30T19:23:22.866170Z",
     "shell.execute_reply.started": "2024-05-30T19:23:22.764542Z"
    },
    "executionInfo": {
     "elapsed": 15,
     "status": "ok",
     "timestamp": 1711482750230,
     "user": {
      "displayName": "Bruce Wayne",
      "userId": "03236562819884458513"
     },
     "user_tz": -180
    },
    "id": "0njK3JTHP-n3",
    "outputId": "c27d286e-e503-471f-a1d4-8961782e22ba"
   },
   "outputs": [
    {
     "name": "stdout",
     "output_type": "stream",
     "text": [
      "Found max lenth: 32768\n",
      "Preprocessing dataset...\n"
     ]
    },
    {
     "data": {
      "application/vnd.jupyter.widget-view+json": {
       "model_id": "dc5e5a8a07c345abbbf17eab6312a487",
       "version_major": 2,
       "version_minor": 0
      },
      "text/plain": [
       "Map:   0%|          | 0/500 [00:00<?, ? examples/s]"
      ]
     },
     "metadata": {},
     "output_type": "display_data"
    }
   ],
   "source": [
    "# Random seed\n",
    "seed = 33\n",
    "\n",
    "max_length = get_max_length(model)\n",
    "preprocessed_train = preprocess_dataset(seed, train)"
   ]
  },
  {
   "cell_type": "code",
   "execution_count": 48,
   "metadata": {
    "colab": {
     "base_uri": "https://localhost:8080/"
    },
    "execution": {
     "iopub.execute_input": "2024-05-30T19:23:23.272279Z",
     "iopub.status.busy": "2024-05-30T19:23:23.272010Z",
     "iopub.status.idle": "2024-05-30T19:23:23.277848Z",
     "shell.execute_reply": "2024-05-30T19:23:23.276997Z",
     "shell.execute_reply.started": "2024-05-30T19:23:23.272255Z"
    },
    "executionInfo": {
     "elapsed": 12,
     "status": "ok",
     "timestamp": 1711482750230,
     "user": {
      "displayName": "Bruce Wayne",
      "userId": "03236562819884458513"
     },
     "user_tz": -180
    },
    "id": "CssgBq4ZIE8H",
    "outputId": "4ffecbf1-858b-43b8-f9c1-b7498b2658ed"
   },
   "outputs": [
    {
     "data": {
      "text/plain": [
       "32768"
      ]
     },
     "execution_count": 48,
     "metadata": {},
     "output_type": "execute_result"
    }
   ],
   "source": [
    "max_length"
   ]
  },
  {
   "cell_type": "code",
   "execution_count": 49,
   "metadata": {
    "colab": {
     "base_uri": "https://localhost:8080/"
    },
    "execution": {
     "iopub.execute_input": "2024-05-30T19:23:23.889691Z",
     "iopub.status.busy": "2024-05-30T19:23:23.889314Z",
     "iopub.status.idle": "2024-05-30T19:23:23.894543Z",
     "shell.execute_reply": "2024-05-30T19:23:23.893598Z",
     "shell.execute_reply.started": "2024-05-30T19:23:23.889662Z"
    },
    "executionInfo": {
     "elapsed": 8,
     "status": "ok",
     "timestamp": 1711482750230,
     "user": {
      "displayName": "Bruce Wayne",
      "userId": "03236562819884458513"
     },
     "user_tz": -180
    },
    "id": "tthSnSaBP-ql",
    "outputId": "65d7e10b-6709-4ad6-8cc5-dd8ea4c854da"
   },
   "outputs": [
    {
     "name": "stdout",
     "output_type": "stream",
     "text": [
      "Dataset({\n",
      "    features: ['text'],\n",
      "    num_rows: 500\n",
      "})\n"
     ]
    }
   ],
   "source": [
    "print(preprocessed_train)"
   ]
  },
  {
   "cell_type": "code",
   "execution_count": 50,
   "metadata": {
    "colab": {
     "base_uri": "https://localhost:8080/"
    },
    "execution": {
     "iopub.execute_input": "2024-05-30T19:23:24.451606Z",
     "iopub.status.busy": "2024-05-30T19:23:24.450680Z",
     "iopub.status.idle": "2024-05-30T19:23:24.456253Z",
     "shell.execute_reply": "2024-05-30T19:23:24.455369Z",
     "shell.execute_reply.started": "2024-05-30T19:23:24.451544Z"
    },
    "executionInfo": {
     "elapsed": 3,
     "status": "ok",
     "timestamp": 1711482750862,
     "user": {
      "displayName": "Bruce Wayne",
      "userId": "03236562819884458513"
     },
     "user_tz": -180
    },
    "id": "uc_3ig1FTs3J",
    "outputId": "9841d0ff-5ce2-4528-b2d3-a2d4e98e39f4"
   },
   "outputs": [
    {
     "name": "stdout",
     "output_type": "stream",
     "text": [
      "{'text': '[INST] Aşağıda bir görevi açıklayan bir talimat bulunmaktadır. Talimatı uygun şekilde tamamlayan bir yanıt yazın.\\n\\nTalimat:\\nMetni negatif veya pozitif olarak sınıflandır.\\n\\nMetin:\\nfilistin kazanırsa dünya değişecek bizler zaferle dünyanın bozuk düzenini değiştireceğiz bizlere güç umut ver allah ’ ım filistinkazanıyor\\n\\nYanıt:pozitif\\n\\n[/INST]'}\n"
     ]
    }
   ],
   "source": [
    "print(preprocessed_train[0])"
   ]
  },
  {
   "cell_type": "markdown",
   "metadata": {
    "id": "l37gaiIBTxc6"
   },
   "source": [
    "### Creating PEFT Configuration"
   ]
  },
  {
   "cell_type": "code",
   "execution_count": 51,
   "metadata": {
    "execution": {
     "iopub.execute_input": "2024-05-30T19:23:25.576462Z",
     "iopub.status.busy": "2024-05-30T19:23:25.575686Z",
     "iopub.status.idle": "2024-05-30T19:23:25.582276Z",
     "shell.execute_reply": "2024-05-30T19:23:25.581331Z",
     "shell.execute_reply.started": "2024-05-30T19:23:25.576430Z"
    },
    "executionInfo": {
     "elapsed": 3,
     "status": "ok",
     "timestamp": 1711482750863,
     "user": {
      "displayName": "Bruce Wayne",
      "userId": "03236562819884458513"
     },
     "user_tz": -180
    },
    "id": "iAdORhF6TuZX"
   },
   "outputs": [],
   "source": [
    "def create_peft_config(r, lora_alpha, target_modules, lora_dropout, bias, task_type):\n",
    "    \"\"\"\n",
    "    Creates Parameter-Efficient Fine-Tuning configuration for the model\n",
    "\n",
    "    :param r: LoRA attention dimension\n",
    "    :param lora_alpha: Alpha parameter for LoRA scaling\n",
    "    :param modules: Names of the modules to apply LoRA to\n",
    "    :param lora_dropout: Dropout Probability for LoRA layers\n",
    "    :param bias: Specifies if the bias parameters should be trained\n",
    "    \"\"\"\n",
    "    config = LoraConfig(\n",
    "        r = r,\n",
    "        lora_alpha = lora_alpha,\n",
    "        target_modules = target_modules,\n",
    "        lora_dropout = lora_dropout,\n",
    "        bias = bias,\n",
    "        task_type = task_type,\n",
    "    )\n",
    "\n",
    "    return config"
   ]
  },
  {
   "cell_type": "markdown",
   "metadata": {
    "id": "OhvEfcoqT06d"
   },
   "source": [
    "### Finding Modules for LoRA Application"
   ]
  },
  {
   "cell_type": "code",
   "execution_count": 52,
   "metadata": {
    "execution": {
     "iopub.execute_input": "2024-05-30T19:23:26.341516Z",
     "iopub.status.busy": "2024-05-30T19:23:26.341179Z",
     "iopub.status.idle": "2024-05-30T19:23:26.347770Z",
     "shell.execute_reply": "2024-05-30T19:23:26.346694Z",
     "shell.execute_reply.started": "2024-05-30T19:23:26.341489Z"
    },
    "executionInfo": {
     "elapsed": 5,
     "status": "ok",
     "timestamp": 1711482751546,
     "user": {
      "displayName": "Bruce Wayne",
      "userId": "03236562819884458513"
     },
     "user_tz": -180
    },
    "id": "zZ1HCzeyTuc1"
   },
   "outputs": [],
   "source": [
    "def find_all_linear_names(model):\n",
    "    \"\"\"\n",
    "    Find modules to apply LoRA to.\n",
    "\n",
    "    :param model: PEFT model\n",
    "    \"\"\"\n",
    "\n",
    "    cls = bnb.nn.Linear4bit\n",
    "    lora_module_names = set()\n",
    "    for name, module in model.named_modules():\n",
    "        if isinstance(module, cls):\n",
    "            names = name.split('.')\n",
    "            lora_module_names.add(names[0] if len(names) == 1 else names[-1])\n",
    "\n",
    "    if 'lm_head' in lora_module_names:\n",
    "        lora_module_names.remove('lm_head')\n",
    "    print(f\"LoRA module names: {list(lora_module_names)}\")\n",
    "    return list(lora_module_names)"
   ]
  },
  {
   "cell_type": "code",
   "execution_count": 53,
   "metadata": {
    "colab": {
     "base_uri": "https://localhost:8080/"
    },
    "execution": {
     "iopub.execute_input": "2024-05-30T19:23:26.791224Z",
     "iopub.status.busy": "2024-05-30T19:23:26.790885Z",
     "iopub.status.idle": "2024-05-30T19:23:26.799133Z",
     "shell.execute_reply": "2024-05-30T19:23:26.798172Z",
     "shell.execute_reply.started": "2024-05-30T19:23:26.791195Z"
    },
    "executionInfo": {
     "elapsed": 5,
     "status": "ok",
     "timestamp": 1711482752001,
     "user": {
      "displayName": "Bruce Wayne",
      "userId": "03236562819884458513"
     },
     "user_tz": -180
    },
    "id": "Dn-DZqe8N5QO",
    "outputId": "7a9cae66-d00b-45ee-cc0c-5bcb41ec0b3d"
   },
   "outputs": [
    {
     "name": "stdout",
     "output_type": "stream",
     "text": [
      "LoRA module names: ['down_proj', 'k_proj', 'v_proj', 'q_proj', 'gate_proj', 'o_proj', 'up_proj']\n"
     ]
    },
    {
     "data": {
      "text/plain": [
       "['down_proj', 'k_proj', 'v_proj', 'q_proj', 'gate_proj', 'o_proj', 'up_proj']"
      ]
     },
     "execution_count": 53,
     "metadata": {},
     "output_type": "execute_result"
    }
   ],
   "source": [
    "find_all_linear_names(model)"
   ]
  },
  {
   "cell_type": "markdown",
   "metadata": {
    "id": "ZMjkqgHCLQ5o"
   },
   "source": [
    "### Calculating Trainable Parameters\n"
   ]
  },
  {
   "cell_type": "code",
   "execution_count": 54,
   "metadata": {
    "execution": {
     "iopub.execute_input": "2024-05-30T19:23:27.979321Z",
     "iopub.status.busy": "2024-05-30T19:23:27.978662Z",
     "iopub.status.idle": "2024-05-30T19:23:27.985478Z",
     "shell.execute_reply": "2024-05-30T19:23:27.984485Z",
     "shell.execute_reply.started": "2024-05-30T19:23:27.979290Z"
    },
    "executionInfo": {
     "elapsed": 3,
     "status": "ok",
     "timestamp": 1711482752441,
     "user": {
      "displayName": "Bruce Wayne",
      "userId": "03236562819884458513"
     },
     "user_tz": -180
    },
    "id": "ZYbJ8Z2uLR62"
   },
   "outputs": [],
   "source": [
    "def print_trainable_parameters(model, use_4bit = False):\n",
    "    \"\"\"\n",
    "    Prints the number of trainable parameters in the model.\n",
    "\n",
    "    :param model: PEFT model\n",
    "    \"\"\"\n",
    "\n",
    "    trainable_params = 0\n",
    "    all_param = 0\n",
    "\n",
    "    for _, param in model.named_parameters():\n",
    "        num_params = param.numel()\n",
    "        if num_params == 0 and hasattr(param, \"ds_numel\"):\n",
    "            num_params = param.ds_numel\n",
    "        all_param += num_params\n",
    "        if param.requires_grad:\n",
    "            trainable_params += num_params\n",
    "\n",
    "    if use_4bit:\n",
    "        trainable_params /= 2\n",
    "\n",
    "    print(\n",
    "        f\"All Parameters: {all_param:,d} || Trainable Parameters: {trainable_params:,d} || Trainable Parameters %: {100 * trainable_params / all_param}\"\n",
    "    )"
   ]
  },
  {
   "cell_type": "markdown",
   "metadata": {
    "id": "hYf6WWMxT5vf"
   },
   "source": [
    "### Fine-tuning the Pre-trained Model\n"
   ]
  },
  {
   "cell_type": "code",
   "execution_count": 55,
   "metadata": {
    "execution": {
     "iopub.execute_input": "2024-05-30T19:23:28.568121Z",
     "iopub.status.busy": "2024-05-30T19:23:28.567809Z",
     "iopub.status.idle": "2024-05-30T19:23:28.577891Z",
     "shell.execute_reply": "2024-05-30T19:23:28.576884Z",
     "shell.execute_reply.started": "2024-05-30T19:23:28.568094Z"
    },
    "executionInfo": {
     "elapsed": 633,
     "status": "ok",
     "timestamp": 1711482790777,
     "user": {
      "displayName": "Bruce Wayne",
      "userId": "03236562819884458513"
     },
     "user_tz": -180
    },
    "id": "nUcrorLYUjGt"
   },
   "outputs": [],
   "source": [
    "args = TrainingArguments(\n",
    "    output_dir=\"./results\",                 # directory to save and repository id\n",
    "    per_device_train_batch_size=1,          # batch size per device during training\n",
    "    gradient_accumulation_steps=4,          # number of steps before performing a backward/update pass\n",
    "    gradient_checkpointing=True,            # use gradient checkpointing to save memory\n",
    "    learning_rate=5e-4,                     # learning rate, based on QLoRA paper\n",
    "    optim=\"paged_adamw_32bit\",              # use paged adamw optimizer\n",
    "    logging_steps=10,                       # log every 10 steps\n",
    "    max_steps = 50,                         # Number of training steps (overrides num_train_epochs)\n",
    "    warmup_steps = 2,                       # Linear warmup steps from 0 to learning_rate\n",
    "    fp16=True,\n",
    "    bf16=False,\n",
    "    #fp16 = False,                           # Enable fp16/bf16 training (set bf16 to True with an A100) # When you set True there'll be an error\n",
    "    max_grad_norm=0.3,                      # max gradient norm based on QLoRA paper\n",
    "    warmup_ratio=0.03,                      # warmup ratio based on QLoRA paper\n",
    "    group_by_length=True,\n",
    "    lr_scheduler_type=\"cosine\",               # use cosine learning rate scheduler\n",
    ")"
   ]
  },
  {
   "cell_type": "code",
   "execution_count": 56,
   "metadata": {
    "execution": {
     "iopub.execute_input": "2024-05-30T19:23:29.203656Z",
     "iopub.status.busy": "2024-05-30T19:23:29.203279Z",
     "iopub.status.idle": "2024-05-30T19:23:29.208765Z",
     "shell.execute_reply": "2024-05-30T19:23:29.207832Z",
     "shell.execute_reply.started": "2024-05-30T19:23:29.203626Z"
    },
    "executionInfo": {
     "elapsed": 3,
     "status": "ok",
     "timestamp": 1711482790777,
     "user": {
      "displayName": "Bruce Wayne",
      "userId": "03236562819884458513"
     },
     "user_tz": -180
    },
    "id": "LvgjWenvJHFy"
   },
   "outputs": [],
   "source": [
    "################################################################################\n",
    "# QLoRA parameters\n",
    "################################################################################\n",
    "\n",
    "# LoRA attention dimension\n",
    "lora_r = 16\n",
    "\n",
    "# Alpha parameter for LoRA scaling\n",
    "lora_alpha = 128\n",
    "\n",
    "# Dropout probability for LoRA layers\n",
    "lora_dropout = 0.1\n",
    "\n",
    "# Bias\n",
    "bias = \"none\"\n",
    "\n",
    "# Task type\n",
    "task_type = \"CAUSAL_LM\""
   ]
  },
  {
   "cell_type": "code",
   "execution_count": 57,
   "metadata": {
    "execution": {
     "iopub.execute_input": "2024-05-30T19:23:31.180773Z",
     "iopub.status.busy": "2024-05-30T19:23:31.180075Z",
     "iopub.status.idle": "2024-05-30T19:23:31.189783Z",
     "shell.execute_reply": "2024-05-30T19:23:31.188850Z",
     "shell.execute_reply.started": "2024-05-30T19:23:31.180737Z"
    },
    "executionInfo": {
     "elapsed": 4,
     "status": "ok",
     "timestamp": 1711482790778,
     "user": {
      "displayName": "Bruce Wayne",
      "userId": "03236562819884458513"
     },
     "user_tz": -180
    },
    "id": "y3okTO1dTs5x"
   },
   "outputs": [],
   "source": [
    "def fine_tune(model,\n",
    "          tokenizer,\n",
    "          dataset,\n",
    "          lora_r,\n",
    "          lora_alpha,\n",
    "          lora_dropout,\n",
    "          bias,\n",
    "          task_type,\n",
    "          args):\n",
    "    \"\"\"\n",
    "    Prepares and fine-tune the pre-trained model.\n",
    "\n",
    "    :param model: Pre-trained Hugging Face model\n",
    "    :param tokenizer: Model tokenizer\n",
    "    :param dataset: Preprocessed training dataset\n",
    "    \"\"\"\n",
    "\n",
    "    # Get LoRA module names\n",
    "    target_modules = find_all_linear_names(model)\n",
    "\n",
    "    # Create PEFT configuration for these modules and wrap the model to PEFT\n",
    "    peft_config = create_peft_config(lora_r, lora_alpha, target_modules, lora_dropout, bias, task_type)\n",
    "\n",
    "    # Print information about the percentage of trainable parameters\n",
    "    print_trainable_parameters(model)\n",
    "\n",
    "    trainer = SFTTrainer(\n",
    "        model=model,\n",
    "        args=args,\n",
    "        train_dataset=dataset,\n",
    "        dataset_text_field=\"text\",\n",
    "        peft_config=peft_config,\n",
    "        tokenizer=tokenizer,\n",
    "        max_seq_length=max_length,\n",
    "        packing=True,\n",
    "        dataset_kwargs={\n",
    "            \"add_special_tokens\": False,\n",
    "            \"append_concat_token\": False,\n",
    "        }\n",
    "    )\n",
    "\n",
    "    do_train = True\n",
    "\n",
    "    # Launch training and log metrics\n",
    "    print(\"Training...\")\n",
    "\n",
    "    if do_train:\n",
    "        train_result = trainer.train()\n",
    "        metrics = train_result.metrics\n",
    "        trainer.log_metrics(\"train\", metrics)\n",
    "        trainer.save_metrics(\"train\", metrics)\n",
    "        trainer.save_state()\n",
    "        print(metrics)\n",
    "\n",
    "    # Save model\n",
    "    print(\"Saving last checkpoint of the model...\")\n",
    "    os.makedirs(output_dir, exist_ok = True)\n",
    "    trainer.model.save_pretrained(output_dir)\n",
    "\n",
    "    # Free memory for merging weights\n",
    "    del model\n",
    "    del trainer\n",
    "    torch.cuda.empty_cache()"
   ]
  },
  {
   "cell_type": "code",
   "execution_count": 66,
   "metadata": {
    "colab": {
     "base_uri": "https://localhost:8080/",
     "height": 492,
     "referenced_widgets": [
      "838d6d87d1b84c1083cb0c474032537f",
      "ae05be92c94b4603b6b2ab478159468d",
      "1bbf756ce8bb42799fc895bae2a5fe3c",
      "23a8328b9fa5442e8535b84c43b8a6be",
      "6251525f68e849acbee823189e195212",
      "d0d6049d3467462888c4097ac23eb6f5",
      "f5c4999d94d44c39974daa1e7e8ce0d7",
      "01c4dbec06b343d18ca7166ea537629c",
      "5f976652ec7541959ff50549ad846efc",
      "b7bcd2b42b2e474789934f36ee718310",
      "36d2fbd95cab409193acd43ca9034946"
     ]
    },
    "execution": {
     "iopub.execute_input": "2024-05-23T15:12:16.749009Z",
     "iopub.status.busy": "2024-05-23T15:12:16.748633Z",
     "iopub.status.idle": "2024-05-23T15:13:02.307183Z",
     "shell.execute_reply": "2024-05-23T15:13:02.305251Z",
     "shell.execute_reply.started": "2024-05-23T15:12:16.748981Z"
    },
    "executionInfo": {
     "elapsed": 3155,
     "status": "error",
     "timestamp": 1711482793930,
     "user": {
      "displayName": "Bruce Wayne",
      "userId": "03236562819884458513"
     },
     "user_tz": -180
    },
    "id": "H_mbLzwATs9q",
    "outputId": "affe196f-602d-4611-df98-a01d45479bfc"
   },
   "outputs": [
    {
     "name": "stdout",
     "output_type": "stream",
     "text": [
      "LoRA module names: ['q_proj', 'o_proj', 'gate_proj', 'k_proj', 'up_proj', 'v_proj', 'down_proj']\n",
      "All Parameters: 3,852,947,456 || Trainable Parameters: 363,286,528 || Trainable Parameters %: 9.428795283316731\n"
     ]
    },
    {
     "data": {
      "application/vnd.jupyter.widget-view+json": {
       "model_id": "c11085607afe4dd28a347d61f0b323e9",
       "version_major": 2,
       "version_minor": 0
      },
      "text/plain": [
       "Generating train split: 0 examples [00:00, ? examples/s]"
      ]
     },
     "metadata": {},
     "output_type": "display_data"
    },
    {
     "name": "stderr",
     "output_type": "stream",
     "text": [
      "/opt/conda/lib/python3.10/site-packages/trl/trainer/sft_trainer.py:310: UserWarning: You passed `packing=True` to the SFTTrainer, and you are training your model with `max_steps` strategy. The dataset will be iterated until the `max_steps` are reached.\n",
      "  warnings.warn(\n"
     ]
    },
    {
     "name": "stdout",
     "output_type": "stream",
     "text": [
      "Training...\n"
     ]
    },
    {
     "name": "stderr",
     "output_type": "stream",
     "text": [
      "\u001b[34m\u001b[1mwandb\u001b[0m: Logging into wandb.ai. (Learn how to deploy a W&B server locally: https://wandb.me/wandb-server)\n",
      "\u001b[34m\u001b[1mwandb\u001b[0m: You can find your API key in your browser here: https://wandb.ai/authorize\n",
      "\u001b[34m\u001b[1mwandb\u001b[0m: Paste an API key from your profile and hit enter, or press ctrl+c to quit:"
     ]
    },
    {
     "name": "stdin",
     "output_type": "stream",
     "text": [
      "  ········································\n"
     ]
    },
    {
     "name": "stderr",
     "output_type": "stream",
     "text": [
      "\u001b[34m\u001b[1mwandb\u001b[0m: Appending key for api.wandb.ai to your netrc file: /root/.netrc\n"
     ]
    },
    {
     "data": {
      "text/html": [
       "wandb version 0.17.0 is available!  To upgrade, please run:\n",
       " $ pip install wandb --upgrade"
      ],
      "text/plain": [
       "<IPython.core.display.HTML object>"
      ]
     },
     "metadata": {},
     "output_type": "display_data"
    },
    {
     "data": {
      "text/html": [
       "Tracking run with wandb version 0.16.6"
      ],
      "text/plain": [
       "<IPython.core.display.HTML object>"
      ]
     },
     "metadata": {},
     "output_type": "display_data"
    },
    {
     "data": {
      "text/html": [
       "Run data is saved locally in <code>/kaggle/working/wandb/run-20240523_151242-k4rdy04e</code>"
      ],
      "text/plain": [
       "<IPython.core.display.HTML object>"
      ]
     },
     "metadata": {},
     "output_type": "display_data"
    },
    {
     "data": {
      "text/html": [
       "Syncing run <strong><a href='https://wandb.ai/erdemormann/huggingface/runs/k4rdy04e' target=\"_blank\">classic-resonance-60</a></strong> to <a href='https://wandb.ai/erdemormann/huggingface' target=\"_blank\">Weights & Biases</a> (<a href='https://wandb.me/run' target=\"_blank\">docs</a>)<br/>"
      ],
      "text/plain": [
       "<IPython.core.display.HTML object>"
      ]
     },
     "metadata": {},
     "output_type": "display_data"
    },
    {
     "data": {
      "text/html": [
       " View project at <a href='https://wandb.ai/erdemormann/huggingface' target=\"_blank\">https://wandb.ai/erdemormann/huggingface</a>"
      ],
      "text/plain": [
       "<IPython.core.display.HTML object>"
      ]
     },
     "metadata": {},
     "output_type": "display_data"
    },
    {
     "data": {
      "text/html": [
       " View run at <a href='https://wandb.ai/erdemormann/huggingface/runs/k4rdy04e' target=\"_blank\">https://wandb.ai/erdemormann/huggingface/runs/k4rdy04e</a>"
      ],
      "text/plain": [
       "<IPython.core.display.HTML object>"
      ]
     },
     "metadata": {},
     "output_type": "display_data"
    },
    {
     "name": "stderr",
     "output_type": "stream",
     "text": [
      "You're using a LlamaTokenizerFast tokenizer. Please note that with a fast tokenizer, using the `__call__` method is faster than using a method to encode the text followed by a call to the `pad` method to get a padded encoding.\n",
      "`use_cache=True` is incompatible with gradient checkpointing. Setting `use_cache=False`...\n"
     ]
    },
    {
     "ename": "OutOfMemoryError",
     "evalue": "CUDA out of memory. Tried to allocate 4.00 GiB. GPU 0 has a total capacty of 14.75 GiB of which 3.77 GiB is free. Process 2599 has 10.97 GiB memory in use. Of the allocated memory 10.81 GiB is allocated by PyTorch, and 53.93 MiB is reserved by PyTorch but unallocated. If reserved but unallocated memory is large try setting max_split_size_mb to avoid fragmentation.  See documentation for Memory Management and PYTORCH_CUDA_ALLOC_CONF",
     "output_type": "error",
     "traceback": [
      "\u001b[0;31m---------------------------------------------------------------------------\u001b[0m",
      "\u001b[0;31mOutOfMemoryError\u001b[0m                          Traceback (most recent call last)",
      "Cell \u001b[0;32mIn[66], line 1\u001b[0m\n\u001b[0;32m----> 1\u001b[0m \u001b[43mfine_tune\u001b[49m\u001b[43m(\u001b[49m\u001b[43mmodel\u001b[49m\u001b[43m,\u001b[49m\n\u001b[1;32m      2\u001b[0m \u001b[43m      \u001b[49m\u001b[43mtokenizer\u001b[49m\u001b[43m,\u001b[49m\n\u001b[1;32m      3\u001b[0m \u001b[43m      \u001b[49m\u001b[43mpreprocessed_train\u001b[49m\u001b[43m,\u001b[49m\n\u001b[1;32m      4\u001b[0m \u001b[43m      \u001b[49m\u001b[43mlora_r\u001b[49m\u001b[43m,\u001b[49m\n\u001b[1;32m      5\u001b[0m \u001b[43m      \u001b[49m\u001b[43mlora_alpha\u001b[49m\u001b[43m,\u001b[49m\n\u001b[1;32m      6\u001b[0m \u001b[43m      \u001b[49m\u001b[43mlora_dropout\u001b[49m\u001b[43m,\u001b[49m\n\u001b[1;32m      7\u001b[0m \u001b[43m      \u001b[49m\u001b[43mbias\u001b[49m\u001b[43m,\u001b[49m\n\u001b[1;32m      8\u001b[0m \u001b[43m      \u001b[49m\u001b[43mtask_type\u001b[49m\u001b[43m,\u001b[49m\n\u001b[1;32m      9\u001b[0m \u001b[43m      \u001b[49m\u001b[43margs\u001b[49m\u001b[43m)\u001b[49m\n",
      "Cell \u001b[0;32mIn[65], line 48\u001b[0m, in \u001b[0;36mfine_tune\u001b[0;34m(model, tokenizer, dataset, lora_r, lora_alpha, lora_dropout, bias, task_type, args)\u001b[0m\n\u001b[1;32m     45\u001b[0m \u001b[38;5;28mprint\u001b[39m(\u001b[38;5;124m\"\u001b[39m\u001b[38;5;124mTraining...\u001b[39m\u001b[38;5;124m\"\u001b[39m)\n\u001b[1;32m     47\u001b[0m \u001b[38;5;28;01mif\u001b[39;00m do_train:\n\u001b[0;32m---> 48\u001b[0m     train_result \u001b[38;5;241m=\u001b[39m \u001b[43mtrainer\u001b[49m\u001b[38;5;241;43m.\u001b[39;49m\u001b[43mtrain\u001b[49m\u001b[43m(\u001b[49m\u001b[43m)\u001b[49m\n\u001b[1;32m     49\u001b[0m     metrics \u001b[38;5;241m=\u001b[39m train_result\u001b[38;5;241m.\u001b[39mmetrics\n\u001b[1;32m     50\u001b[0m     trainer\u001b[38;5;241m.\u001b[39mlog_metrics(\u001b[38;5;124m\"\u001b[39m\u001b[38;5;124mtrain\u001b[39m\u001b[38;5;124m\"\u001b[39m, metrics)\n",
      "File \u001b[0;32m/opt/conda/lib/python3.10/site-packages/trl/trainer/sft_trainer.py:323\u001b[0m, in \u001b[0;36mSFTTrainer.train\u001b[0;34m(self, *args, **kwargs)\u001b[0m\n\u001b[1;32m    320\u001b[0m \u001b[38;5;28;01mif\u001b[39;00m \u001b[38;5;28mself\u001b[39m\u001b[38;5;241m.\u001b[39mneftune_noise_alpha \u001b[38;5;129;01mis\u001b[39;00m \u001b[38;5;129;01mnot\u001b[39;00m \u001b[38;5;28;01mNone\u001b[39;00m \u001b[38;5;129;01mand\u001b[39;00m \u001b[38;5;129;01mnot\u001b[39;00m \u001b[38;5;28mself\u001b[39m\u001b[38;5;241m.\u001b[39m_trainer_supports_neftune:\n\u001b[1;32m    321\u001b[0m     \u001b[38;5;28mself\u001b[39m\u001b[38;5;241m.\u001b[39mmodel \u001b[38;5;241m=\u001b[39m \u001b[38;5;28mself\u001b[39m\u001b[38;5;241m.\u001b[39m_trl_activate_neftune(\u001b[38;5;28mself\u001b[39m\u001b[38;5;241m.\u001b[39mmodel)\n\u001b[0;32m--> 323\u001b[0m output \u001b[38;5;241m=\u001b[39m \u001b[38;5;28;43msuper\u001b[39;49m\u001b[43m(\u001b[49m\u001b[43m)\u001b[49m\u001b[38;5;241;43m.\u001b[39;49m\u001b[43mtrain\u001b[49m\u001b[43m(\u001b[49m\u001b[38;5;241;43m*\u001b[39;49m\u001b[43margs\u001b[49m\u001b[43m,\u001b[49m\u001b[43m \u001b[49m\u001b[38;5;241;43m*\u001b[39;49m\u001b[38;5;241;43m*\u001b[39;49m\u001b[43mkwargs\u001b[49m\u001b[43m)\u001b[49m\n\u001b[1;32m    325\u001b[0m \u001b[38;5;66;03m# After training we make sure to retrieve back the original forward pass method\u001b[39;00m\n\u001b[1;32m    326\u001b[0m \u001b[38;5;66;03m# for the embedding layer by removing the forward post hook.\u001b[39;00m\n\u001b[1;32m    327\u001b[0m \u001b[38;5;28;01mif\u001b[39;00m \u001b[38;5;28mself\u001b[39m\u001b[38;5;241m.\u001b[39mneftune_noise_alpha \u001b[38;5;129;01mis\u001b[39;00m \u001b[38;5;129;01mnot\u001b[39;00m \u001b[38;5;28;01mNone\u001b[39;00m \u001b[38;5;129;01mand\u001b[39;00m \u001b[38;5;129;01mnot\u001b[39;00m \u001b[38;5;28mself\u001b[39m\u001b[38;5;241m.\u001b[39m_trainer_supports_neftune:\n",
      "File \u001b[0;32m/opt/conda/lib/python3.10/site-packages/transformers/trainer.py:1537\u001b[0m, in \u001b[0;36mTrainer.train\u001b[0;34m(self, resume_from_checkpoint, trial, ignore_keys_for_eval, **kwargs)\u001b[0m\n\u001b[1;32m   1535\u001b[0m         hf_hub_utils\u001b[38;5;241m.\u001b[39menable_progress_bars()\n\u001b[1;32m   1536\u001b[0m \u001b[38;5;28;01melse\u001b[39;00m:\n\u001b[0;32m-> 1537\u001b[0m     \u001b[38;5;28;01mreturn\u001b[39;00m \u001b[43minner_training_loop\u001b[49m\u001b[43m(\u001b[49m\n\u001b[1;32m   1538\u001b[0m \u001b[43m        \u001b[49m\u001b[43margs\u001b[49m\u001b[38;5;241;43m=\u001b[39;49m\u001b[43margs\u001b[49m\u001b[43m,\u001b[49m\n\u001b[1;32m   1539\u001b[0m \u001b[43m        \u001b[49m\u001b[43mresume_from_checkpoint\u001b[49m\u001b[38;5;241;43m=\u001b[39;49m\u001b[43mresume_from_checkpoint\u001b[49m\u001b[43m,\u001b[49m\n\u001b[1;32m   1540\u001b[0m \u001b[43m        \u001b[49m\u001b[43mtrial\u001b[49m\u001b[38;5;241;43m=\u001b[39;49m\u001b[43mtrial\u001b[49m\u001b[43m,\u001b[49m\n\u001b[1;32m   1541\u001b[0m \u001b[43m        \u001b[49m\u001b[43mignore_keys_for_eval\u001b[49m\u001b[38;5;241;43m=\u001b[39;49m\u001b[43mignore_keys_for_eval\u001b[49m\u001b[43m,\u001b[49m\n\u001b[1;32m   1542\u001b[0m \u001b[43m    \u001b[49m\u001b[43m)\u001b[49m\n",
      "File \u001b[0;32m/opt/conda/lib/python3.10/site-packages/transformers/trainer.py:1854\u001b[0m, in \u001b[0;36mTrainer._inner_training_loop\u001b[0;34m(self, batch_size, args, resume_from_checkpoint, trial, ignore_keys_for_eval)\u001b[0m\n\u001b[1;32m   1851\u001b[0m     \u001b[38;5;28mself\u001b[39m\u001b[38;5;241m.\u001b[39mcontrol \u001b[38;5;241m=\u001b[39m \u001b[38;5;28mself\u001b[39m\u001b[38;5;241m.\u001b[39mcallback_handler\u001b[38;5;241m.\u001b[39mon_step_begin(args, \u001b[38;5;28mself\u001b[39m\u001b[38;5;241m.\u001b[39mstate, \u001b[38;5;28mself\u001b[39m\u001b[38;5;241m.\u001b[39mcontrol)\n\u001b[1;32m   1853\u001b[0m \u001b[38;5;28;01mwith\u001b[39;00m \u001b[38;5;28mself\u001b[39m\u001b[38;5;241m.\u001b[39maccelerator\u001b[38;5;241m.\u001b[39maccumulate(model):\n\u001b[0;32m-> 1854\u001b[0m     tr_loss_step \u001b[38;5;241m=\u001b[39m \u001b[38;5;28;43mself\u001b[39;49m\u001b[38;5;241;43m.\u001b[39;49m\u001b[43mtraining_step\u001b[49m\u001b[43m(\u001b[49m\u001b[43mmodel\u001b[49m\u001b[43m,\u001b[49m\u001b[43m \u001b[49m\u001b[43minputs\u001b[49m\u001b[43m)\u001b[49m\n\u001b[1;32m   1856\u001b[0m \u001b[38;5;28;01mif\u001b[39;00m (\n\u001b[1;32m   1857\u001b[0m     args\u001b[38;5;241m.\u001b[39mlogging_nan_inf_filter\n\u001b[1;32m   1858\u001b[0m     \u001b[38;5;129;01mand\u001b[39;00m \u001b[38;5;129;01mnot\u001b[39;00m is_torch_tpu_available()\n\u001b[1;32m   1859\u001b[0m     \u001b[38;5;129;01mand\u001b[39;00m (torch\u001b[38;5;241m.\u001b[39misnan(tr_loss_step) \u001b[38;5;129;01mor\u001b[39;00m torch\u001b[38;5;241m.\u001b[39misinf(tr_loss_step))\n\u001b[1;32m   1860\u001b[0m ):\n\u001b[1;32m   1861\u001b[0m     \u001b[38;5;66;03m# if loss is nan or inf simply add the average of previous logged losses\u001b[39;00m\n\u001b[1;32m   1862\u001b[0m     tr_loss \u001b[38;5;241m+\u001b[39m\u001b[38;5;241m=\u001b[39m tr_loss \u001b[38;5;241m/\u001b[39m (\u001b[38;5;241m1\u001b[39m \u001b[38;5;241m+\u001b[39m \u001b[38;5;28mself\u001b[39m\u001b[38;5;241m.\u001b[39mstate\u001b[38;5;241m.\u001b[39mglobal_step \u001b[38;5;241m-\u001b[39m \u001b[38;5;28mself\u001b[39m\u001b[38;5;241m.\u001b[39m_globalstep_last_logged)\n",
      "File \u001b[0;32m/opt/conda/lib/python3.10/site-packages/transformers/trainer.py:2735\u001b[0m, in \u001b[0;36mTrainer.training_step\u001b[0;34m(self, model, inputs)\u001b[0m\n\u001b[1;32m   2732\u001b[0m     \u001b[38;5;28;01mreturn\u001b[39;00m loss_mb\u001b[38;5;241m.\u001b[39mreduce_mean()\u001b[38;5;241m.\u001b[39mdetach()\u001b[38;5;241m.\u001b[39mto(\u001b[38;5;28mself\u001b[39m\u001b[38;5;241m.\u001b[39margs\u001b[38;5;241m.\u001b[39mdevice)\n\u001b[1;32m   2734\u001b[0m \u001b[38;5;28;01mwith\u001b[39;00m \u001b[38;5;28mself\u001b[39m\u001b[38;5;241m.\u001b[39mcompute_loss_context_manager():\n\u001b[0;32m-> 2735\u001b[0m     loss \u001b[38;5;241m=\u001b[39m \u001b[38;5;28;43mself\u001b[39;49m\u001b[38;5;241;43m.\u001b[39;49m\u001b[43mcompute_loss\u001b[49m\u001b[43m(\u001b[49m\u001b[43mmodel\u001b[49m\u001b[43m,\u001b[49m\u001b[43m \u001b[49m\u001b[43minputs\u001b[49m\u001b[43m)\u001b[49m\n\u001b[1;32m   2737\u001b[0m \u001b[38;5;28;01mif\u001b[39;00m \u001b[38;5;28mself\u001b[39m\u001b[38;5;241m.\u001b[39margs\u001b[38;5;241m.\u001b[39mn_gpu \u001b[38;5;241m>\u001b[39m \u001b[38;5;241m1\u001b[39m:\n\u001b[1;32m   2738\u001b[0m     loss \u001b[38;5;241m=\u001b[39m loss\u001b[38;5;241m.\u001b[39mmean()  \u001b[38;5;66;03m# mean() to average on multi-gpu parallel training\u001b[39;00m\n",
      "File \u001b[0;32m/opt/conda/lib/python3.10/site-packages/transformers/trainer.py:2758\u001b[0m, in \u001b[0;36mTrainer.compute_loss\u001b[0;34m(self, model, inputs, return_outputs)\u001b[0m\n\u001b[1;32m   2756\u001b[0m \u001b[38;5;28;01melse\u001b[39;00m:\n\u001b[1;32m   2757\u001b[0m     labels \u001b[38;5;241m=\u001b[39m \u001b[38;5;28;01mNone\u001b[39;00m\n\u001b[0;32m-> 2758\u001b[0m outputs \u001b[38;5;241m=\u001b[39m \u001b[43mmodel\u001b[49m\u001b[43m(\u001b[49m\u001b[38;5;241;43m*\u001b[39;49m\u001b[38;5;241;43m*\u001b[39;49m\u001b[43minputs\u001b[49m\u001b[43m)\u001b[49m\n\u001b[1;32m   2759\u001b[0m \u001b[38;5;66;03m# Save past state if it exists\u001b[39;00m\n\u001b[1;32m   2760\u001b[0m \u001b[38;5;66;03m# TODO: this needs to be fixed and made cleaner later.\u001b[39;00m\n\u001b[1;32m   2761\u001b[0m \u001b[38;5;28;01mif\u001b[39;00m \u001b[38;5;28mself\u001b[39m\u001b[38;5;241m.\u001b[39margs\u001b[38;5;241m.\u001b[39mpast_index \u001b[38;5;241m>\u001b[39m\u001b[38;5;241m=\u001b[39m \u001b[38;5;241m0\u001b[39m:\n",
      "File \u001b[0;32m/opt/conda/lib/python3.10/site-packages/torch/nn/modules/module.py:1518\u001b[0m, in \u001b[0;36mModule._wrapped_call_impl\u001b[0;34m(self, *args, **kwargs)\u001b[0m\n\u001b[1;32m   1516\u001b[0m     \u001b[38;5;28;01mreturn\u001b[39;00m \u001b[38;5;28mself\u001b[39m\u001b[38;5;241m.\u001b[39m_compiled_call_impl(\u001b[38;5;241m*\u001b[39margs, \u001b[38;5;241m*\u001b[39m\u001b[38;5;241m*\u001b[39mkwargs)  \u001b[38;5;66;03m# type: ignore[misc]\u001b[39;00m\n\u001b[1;32m   1517\u001b[0m \u001b[38;5;28;01melse\u001b[39;00m:\n\u001b[0;32m-> 1518\u001b[0m     \u001b[38;5;28;01mreturn\u001b[39;00m \u001b[38;5;28;43mself\u001b[39;49m\u001b[38;5;241;43m.\u001b[39;49m\u001b[43m_call_impl\u001b[49m\u001b[43m(\u001b[49m\u001b[38;5;241;43m*\u001b[39;49m\u001b[43margs\u001b[49m\u001b[43m,\u001b[49m\u001b[43m \u001b[49m\u001b[38;5;241;43m*\u001b[39;49m\u001b[38;5;241;43m*\u001b[39;49m\u001b[43mkwargs\u001b[49m\u001b[43m)\u001b[49m\n",
      "File \u001b[0;32m/opt/conda/lib/python3.10/site-packages/torch/nn/modules/module.py:1527\u001b[0m, in \u001b[0;36mModule._call_impl\u001b[0;34m(self, *args, **kwargs)\u001b[0m\n\u001b[1;32m   1522\u001b[0m \u001b[38;5;66;03m# If we don't have any hooks, we want to skip the rest of the logic in\u001b[39;00m\n\u001b[1;32m   1523\u001b[0m \u001b[38;5;66;03m# this function, and just call forward.\u001b[39;00m\n\u001b[1;32m   1524\u001b[0m \u001b[38;5;28;01mif\u001b[39;00m \u001b[38;5;129;01mnot\u001b[39;00m (\u001b[38;5;28mself\u001b[39m\u001b[38;5;241m.\u001b[39m_backward_hooks \u001b[38;5;129;01mor\u001b[39;00m \u001b[38;5;28mself\u001b[39m\u001b[38;5;241m.\u001b[39m_backward_pre_hooks \u001b[38;5;129;01mor\u001b[39;00m \u001b[38;5;28mself\u001b[39m\u001b[38;5;241m.\u001b[39m_forward_hooks \u001b[38;5;129;01mor\u001b[39;00m \u001b[38;5;28mself\u001b[39m\u001b[38;5;241m.\u001b[39m_forward_pre_hooks\n\u001b[1;32m   1525\u001b[0m         \u001b[38;5;129;01mor\u001b[39;00m _global_backward_pre_hooks \u001b[38;5;129;01mor\u001b[39;00m _global_backward_hooks\n\u001b[1;32m   1526\u001b[0m         \u001b[38;5;129;01mor\u001b[39;00m _global_forward_hooks \u001b[38;5;129;01mor\u001b[39;00m _global_forward_pre_hooks):\n\u001b[0;32m-> 1527\u001b[0m     \u001b[38;5;28;01mreturn\u001b[39;00m \u001b[43mforward_call\u001b[49m\u001b[43m(\u001b[49m\u001b[38;5;241;43m*\u001b[39;49m\u001b[43margs\u001b[49m\u001b[43m,\u001b[49m\u001b[43m \u001b[49m\u001b[38;5;241;43m*\u001b[39;49m\u001b[38;5;241;43m*\u001b[39;49m\u001b[43mkwargs\u001b[49m\u001b[43m)\u001b[49m\n\u001b[1;32m   1529\u001b[0m \u001b[38;5;28;01mtry\u001b[39;00m:\n\u001b[1;32m   1530\u001b[0m     result \u001b[38;5;241m=\u001b[39m \u001b[38;5;28;01mNone\u001b[39;00m\n",
      "File \u001b[0;32m/opt/conda/lib/python3.10/site-packages/accelerate/utils/operations.py:687\u001b[0m, in \u001b[0;36mconvert_outputs_to_fp32.<locals>.forward\u001b[0;34m(*args, **kwargs)\u001b[0m\n\u001b[1;32m    686\u001b[0m \u001b[38;5;28;01mdef\u001b[39;00m \u001b[38;5;21mforward\u001b[39m(\u001b[38;5;241m*\u001b[39margs, \u001b[38;5;241m*\u001b[39m\u001b[38;5;241m*\u001b[39mkwargs):\n\u001b[0;32m--> 687\u001b[0m     \u001b[38;5;28;01mreturn\u001b[39;00m \u001b[43mmodel_forward\u001b[49m\u001b[43m(\u001b[49m\u001b[38;5;241;43m*\u001b[39;49m\u001b[43margs\u001b[49m\u001b[43m,\u001b[49m\u001b[43m \u001b[49m\u001b[38;5;241;43m*\u001b[39;49m\u001b[38;5;241;43m*\u001b[39;49m\u001b[43mkwargs\u001b[49m\u001b[43m)\u001b[49m\n",
      "File \u001b[0;32m/opt/conda/lib/python3.10/site-packages/accelerate/utils/operations.py:675\u001b[0m, in \u001b[0;36mConvertOutputsToFp32.__call__\u001b[0;34m(self, *args, **kwargs)\u001b[0m\n\u001b[1;32m    674\u001b[0m \u001b[38;5;28;01mdef\u001b[39;00m \u001b[38;5;21m__call__\u001b[39m(\u001b[38;5;28mself\u001b[39m, \u001b[38;5;241m*\u001b[39margs, \u001b[38;5;241m*\u001b[39m\u001b[38;5;241m*\u001b[39mkwargs):\n\u001b[0;32m--> 675\u001b[0m     \u001b[38;5;28;01mreturn\u001b[39;00m convert_to_fp32(\u001b[38;5;28;43mself\u001b[39;49m\u001b[38;5;241;43m.\u001b[39;49m\u001b[43mmodel_forward\u001b[49m\u001b[43m(\u001b[49m\u001b[38;5;241;43m*\u001b[39;49m\u001b[43margs\u001b[49m\u001b[43m,\u001b[49m\u001b[43m \u001b[49m\u001b[38;5;241;43m*\u001b[39;49m\u001b[38;5;241;43m*\u001b[39;49m\u001b[43mkwargs\u001b[49m\u001b[43m)\u001b[49m)\n",
      "File \u001b[0;32m/opt/conda/lib/python3.10/site-packages/torch/amp/autocast_mode.py:16\u001b[0m, in \u001b[0;36mautocast_decorator.<locals>.decorate_autocast\u001b[0;34m(*args, **kwargs)\u001b[0m\n\u001b[1;32m     13\u001b[0m \u001b[38;5;129m@functools\u001b[39m\u001b[38;5;241m.\u001b[39mwraps(func)\n\u001b[1;32m     14\u001b[0m \u001b[38;5;28;01mdef\u001b[39;00m \u001b[38;5;21mdecorate_autocast\u001b[39m(\u001b[38;5;241m*\u001b[39margs, \u001b[38;5;241m*\u001b[39m\u001b[38;5;241m*\u001b[39mkwargs):\n\u001b[1;32m     15\u001b[0m     \u001b[38;5;28;01mwith\u001b[39;00m autocast_instance:\n\u001b[0;32m---> 16\u001b[0m         \u001b[38;5;28;01mreturn\u001b[39;00m \u001b[43mfunc\u001b[49m\u001b[43m(\u001b[49m\u001b[38;5;241;43m*\u001b[39;49m\u001b[43margs\u001b[49m\u001b[43m,\u001b[49m\u001b[43m \u001b[49m\u001b[38;5;241;43m*\u001b[39;49m\u001b[38;5;241;43m*\u001b[39;49m\u001b[43mkwargs\u001b[49m\u001b[43m)\u001b[49m\n",
      "File \u001b[0;32m/opt/conda/lib/python3.10/site-packages/peft/peft_model.py:1083\u001b[0m, in \u001b[0;36mPeftModelForCausalLM.forward\u001b[0;34m(self, input_ids, attention_mask, inputs_embeds, labels, output_attentions, output_hidden_states, return_dict, task_ids, **kwargs)\u001b[0m\n\u001b[1;32m   1081\u001b[0m     \u001b[38;5;28;01mif\u001b[39;00m peft_config\u001b[38;5;241m.\u001b[39mpeft_type \u001b[38;5;241m==\u001b[39m PeftType\u001b[38;5;241m.\u001b[39mPOLY:\n\u001b[1;32m   1082\u001b[0m         kwargs[\u001b[38;5;124m\"\u001b[39m\u001b[38;5;124mtask_ids\u001b[39m\u001b[38;5;124m\"\u001b[39m] \u001b[38;5;241m=\u001b[39m task_ids\n\u001b[0;32m-> 1083\u001b[0m     \u001b[38;5;28;01mreturn\u001b[39;00m \u001b[38;5;28;43mself\u001b[39;49m\u001b[38;5;241;43m.\u001b[39;49m\u001b[43mbase_model\u001b[49m\u001b[43m(\u001b[49m\n\u001b[1;32m   1084\u001b[0m \u001b[43m        \u001b[49m\u001b[43minput_ids\u001b[49m\u001b[38;5;241;43m=\u001b[39;49m\u001b[43minput_ids\u001b[49m\u001b[43m,\u001b[49m\n\u001b[1;32m   1085\u001b[0m \u001b[43m        \u001b[49m\u001b[43mattention_mask\u001b[49m\u001b[38;5;241;43m=\u001b[39;49m\u001b[43mattention_mask\u001b[49m\u001b[43m,\u001b[49m\n\u001b[1;32m   1086\u001b[0m \u001b[43m        \u001b[49m\u001b[43minputs_embeds\u001b[49m\u001b[38;5;241;43m=\u001b[39;49m\u001b[43minputs_embeds\u001b[49m\u001b[43m,\u001b[49m\n\u001b[1;32m   1087\u001b[0m \u001b[43m        \u001b[49m\u001b[43mlabels\u001b[49m\u001b[38;5;241;43m=\u001b[39;49m\u001b[43mlabels\u001b[49m\u001b[43m,\u001b[49m\n\u001b[1;32m   1088\u001b[0m \u001b[43m        \u001b[49m\u001b[43moutput_attentions\u001b[49m\u001b[38;5;241;43m=\u001b[39;49m\u001b[43moutput_attentions\u001b[49m\u001b[43m,\u001b[49m\n\u001b[1;32m   1089\u001b[0m \u001b[43m        \u001b[49m\u001b[43moutput_hidden_states\u001b[49m\u001b[38;5;241;43m=\u001b[39;49m\u001b[43moutput_hidden_states\u001b[49m\u001b[43m,\u001b[49m\n\u001b[1;32m   1090\u001b[0m \u001b[43m        \u001b[49m\u001b[43mreturn_dict\u001b[49m\u001b[38;5;241;43m=\u001b[39;49m\u001b[43mreturn_dict\u001b[49m\u001b[43m,\u001b[49m\n\u001b[1;32m   1091\u001b[0m \u001b[43m        \u001b[49m\u001b[38;5;241;43m*\u001b[39;49m\u001b[38;5;241;43m*\u001b[39;49m\u001b[43mkwargs\u001b[49m\u001b[43m,\u001b[49m\n\u001b[1;32m   1092\u001b[0m \u001b[43m    \u001b[49m\u001b[43m)\u001b[49m\n\u001b[1;32m   1094\u001b[0m batch_size \u001b[38;5;241m=\u001b[39m _get_batch_size(input_ids, inputs_embeds)\n\u001b[1;32m   1095\u001b[0m \u001b[38;5;28;01mif\u001b[39;00m attention_mask \u001b[38;5;129;01mis\u001b[39;00m \u001b[38;5;129;01mnot\u001b[39;00m \u001b[38;5;28;01mNone\u001b[39;00m:\n\u001b[1;32m   1096\u001b[0m     \u001b[38;5;66;03m# concat prompt attention mask\u001b[39;00m\n",
      "File \u001b[0;32m/opt/conda/lib/python3.10/site-packages/torch/nn/modules/module.py:1518\u001b[0m, in \u001b[0;36mModule._wrapped_call_impl\u001b[0;34m(self, *args, **kwargs)\u001b[0m\n\u001b[1;32m   1516\u001b[0m     \u001b[38;5;28;01mreturn\u001b[39;00m \u001b[38;5;28mself\u001b[39m\u001b[38;5;241m.\u001b[39m_compiled_call_impl(\u001b[38;5;241m*\u001b[39margs, \u001b[38;5;241m*\u001b[39m\u001b[38;5;241m*\u001b[39mkwargs)  \u001b[38;5;66;03m# type: ignore[misc]\u001b[39;00m\n\u001b[1;32m   1517\u001b[0m \u001b[38;5;28;01melse\u001b[39;00m:\n\u001b[0;32m-> 1518\u001b[0m     \u001b[38;5;28;01mreturn\u001b[39;00m \u001b[38;5;28;43mself\u001b[39;49m\u001b[38;5;241;43m.\u001b[39;49m\u001b[43m_call_impl\u001b[49m\u001b[43m(\u001b[49m\u001b[38;5;241;43m*\u001b[39;49m\u001b[43margs\u001b[49m\u001b[43m,\u001b[49m\u001b[43m \u001b[49m\u001b[38;5;241;43m*\u001b[39;49m\u001b[38;5;241;43m*\u001b[39;49m\u001b[43mkwargs\u001b[49m\u001b[43m)\u001b[49m\n",
      "File \u001b[0;32m/opt/conda/lib/python3.10/site-packages/torch/nn/modules/module.py:1527\u001b[0m, in \u001b[0;36mModule._call_impl\u001b[0;34m(self, *args, **kwargs)\u001b[0m\n\u001b[1;32m   1522\u001b[0m \u001b[38;5;66;03m# If we don't have any hooks, we want to skip the rest of the logic in\u001b[39;00m\n\u001b[1;32m   1523\u001b[0m \u001b[38;5;66;03m# this function, and just call forward.\u001b[39;00m\n\u001b[1;32m   1524\u001b[0m \u001b[38;5;28;01mif\u001b[39;00m \u001b[38;5;129;01mnot\u001b[39;00m (\u001b[38;5;28mself\u001b[39m\u001b[38;5;241m.\u001b[39m_backward_hooks \u001b[38;5;129;01mor\u001b[39;00m \u001b[38;5;28mself\u001b[39m\u001b[38;5;241m.\u001b[39m_backward_pre_hooks \u001b[38;5;129;01mor\u001b[39;00m \u001b[38;5;28mself\u001b[39m\u001b[38;5;241m.\u001b[39m_forward_hooks \u001b[38;5;129;01mor\u001b[39;00m \u001b[38;5;28mself\u001b[39m\u001b[38;5;241m.\u001b[39m_forward_pre_hooks\n\u001b[1;32m   1525\u001b[0m         \u001b[38;5;129;01mor\u001b[39;00m _global_backward_pre_hooks \u001b[38;5;129;01mor\u001b[39;00m _global_backward_hooks\n\u001b[1;32m   1526\u001b[0m         \u001b[38;5;129;01mor\u001b[39;00m _global_forward_hooks \u001b[38;5;129;01mor\u001b[39;00m _global_forward_pre_hooks):\n\u001b[0;32m-> 1527\u001b[0m     \u001b[38;5;28;01mreturn\u001b[39;00m \u001b[43mforward_call\u001b[49m\u001b[43m(\u001b[49m\u001b[38;5;241;43m*\u001b[39;49m\u001b[43margs\u001b[49m\u001b[43m,\u001b[49m\u001b[43m \u001b[49m\u001b[38;5;241;43m*\u001b[39;49m\u001b[38;5;241;43m*\u001b[39;49m\u001b[43mkwargs\u001b[49m\u001b[43m)\u001b[49m\n\u001b[1;32m   1529\u001b[0m \u001b[38;5;28;01mtry\u001b[39;00m:\n\u001b[1;32m   1530\u001b[0m     result \u001b[38;5;241m=\u001b[39m \u001b[38;5;28;01mNone\u001b[39;00m\n",
      "File \u001b[0;32m/opt/conda/lib/python3.10/site-packages/peft/tuners/tuners_utils.py:161\u001b[0m, in \u001b[0;36mBaseTuner.forward\u001b[0;34m(self, *args, **kwargs)\u001b[0m\n\u001b[1;32m    160\u001b[0m \u001b[38;5;28;01mdef\u001b[39;00m \u001b[38;5;21mforward\u001b[39m(\u001b[38;5;28mself\u001b[39m, \u001b[38;5;241m*\u001b[39margs: Any, \u001b[38;5;241m*\u001b[39m\u001b[38;5;241m*\u001b[39mkwargs: Any):\n\u001b[0;32m--> 161\u001b[0m     \u001b[38;5;28;01mreturn\u001b[39;00m \u001b[38;5;28;43mself\u001b[39;49m\u001b[38;5;241;43m.\u001b[39;49m\u001b[43mmodel\u001b[49m\u001b[38;5;241;43m.\u001b[39;49m\u001b[43mforward\u001b[49m\u001b[43m(\u001b[49m\u001b[38;5;241;43m*\u001b[39;49m\u001b[43margs\u001b[49m\u001b[43m,\u001b[49m\u001b[43m \u001b[49m\u001b[38;5;241;43m*\u001b[39;49m\u001b[38;5;241;43m*\u001b[39;49m\u001b[43mkwargs\u001b[49m\u001b[43m)\u001b[49m\n",
      "File \u001b[0;32m/opt/conda/lib/python3.10/site-packages/accelerate/hooks.py:165\u001b[0m, in \u001b[0;36madd_hook_to_module.<locals>.new_forward\u001b[0;34m(module, *args, **kwargs)\u001b[0m\n\u001b[1;32m    163\u001b[0m         output \u001b[38;5;241m=\u001b[39m module\u001b[38;5;241m.\u001b[39m_old_forward(\u001b[38;5;241m*\u001b[39margs, \u001b[38;5;241m*\u001b[39m\u001b[38;5;241m*\u001b[39mkwargs)\n\u001b[1;32m    164\u001b[0m \u001b[38;5;28;01melse\u001b[39;00m:\n\u001b[0;32m--> 165\u001b[0m     output \u001b[38;5;241m=\u001b[39m \u001b[43mmodule\u001b[49m\u001b[38;5;241;43m.\u001b[39;49m\u001b[43m_old_forward\u001b[49m\u001b[43m(\u001b[49m\u001b[38;5;241;43m*\u001b[39;49m\u001b[43margs\u001b[49m\u001b[43m,\u001b[49m\u001b[43m \u001b[49m\u001b[38;5;241;43m*\u001b[39;49m\u001b[38;5;241;43m*\u001b[39;49m\u001b[43mkwargs\u001b[49m\u001b[43m)\u001b[49m\n\u001b[1;32m    166\u001b[0m \u001b[38;5;28;01mreturn\u001b[39;00m module\u001b[38;5;241m.\u001b[39m_hf_hook\u001b[38;5;241m.\u001b[39mpost_forward(module, output)\n",
      "File \u001b[0;32m/opt/conda/lib/python3.10/site-packages/transformers/models/mistral/modeling_mistral.py:1053\u001b[0m, in \u001b[0;36mMistralForCausalLM.forward\u001b[0;34m(self, input_ids, attention_mask, position_ids, past_key_values, inputs_embeds, labels, use_cache, output_attentions, output_hidden_states, return_dict)\u001b[0m\n\u001b[1;32m   1050\u001b[0m return_dict \u001b[38;5;241m=\u001b[39m return_dict \u001b[38;5;28;01mif\u001b[39;00m return_dict \u001b[38;5;129;01mis\u001b[39;00m \u001b[38;5;129;01mnot\u001b[39;00m \u001b[38;5;28;01mNone\u001b[39;00m \u001b[38;5;28;01melse\u001b[39;00m \u001b[38;5;28mself\u001b[39m\u001b[38;5;241m.\u001b[39mconfig\u001b[38;5;241m.\u001b[39muse_return_dict\n\u001b[1;32m   1052\u001b[0m \u001b[38;5;66;03m# decoder outputs consists of (dec_features, layer_state, dec_hidden, dec_attn)\u001b[39;00m\n\u001b[0;32m-> 1053\u001b[0m outputs \u001b[38;5;241m=\u001b[39m \u001b[38;5;28;43mself\u001b[39;49m\u001b[38;5;241;43m.\u001b[39;49m\u001b[43mmodel\u001b[49m\u001b[43m(\u001b[49m\n\u001b[1;32m   1054\u001b[0m \u001b[43m    \u001b[49m\u001b[43minput_ids\u001b[49m\u001b[38;5;241;43m=\u001b[39;49m\u001b[43minput_ids\u001b[49m\u001b[43m,\u001b[49m\n\u001b[1;32m   1055\u001b[0m \u001b[43m    \u001b[49m\u001b[43mattention_mask\u001b[49m\u001b[38;5;241;43m=\u001b[39;49m\u001b[43mattention_mask\u001b[49m\u001b[43m,\u001b[49m\n\u001b[1;32m   1056\u001b[0m \u001b[43m    \u001b[49m\u001b[43mposition_ids\u001b[49m\u001b[38;5;241;43m=\u001b[39;49m\u001b[43mposition_ids\u001b[49m\u001b[43m,\u001b[49m\n\u001b[1;32m   1057\u001b[0m \u001b[43m    \u001b[49m\u001b[43mpast_key_values\u001b[49m\u001b[38;5;241;43m=\u001b[39;49m\u001b[43mpast_key_values\u001b[49m\u001b[43m,\u001b[49m\n\u001b[1;32m   1058\u001b[0m \u001b[43m    \u001b[49m\u001b[43minputs_embeds\u001b[49m\u001b[38;5;241;43m=\u001b[39;49m\u001b[43minputs_embeds\u001b[49m\u001b[43m,\u001b[49m\n\u001b[1;32m   1059\u001b[0m \u001b[43m    \u001b[49m\u001b[43muse_cache\u001b[49m\u001b[38;5;241;43m=\u001b[39;49m\u001b[43muse_cache\u001b[49m\u001b[43m,\u001b[49m\n\u001b[1;32m   1060\u001b[0m \u001b[43m    \u001b[49m\u001b[43moutput_attentions\u001b[49m\u001b[38;5;241;43m=\u001b[39;49m\u001b[43moutput_attentions\u001b[49m\u001b[43m,\u001b[49m\n\u001b[1;32m   1061\u001b[0m \u001b[43m    \u001b[49m\u001b[43moutput_hidden_states\u001b[49m\u001b[38;5;241;43m=\u001b[39;49m\u001b[43moutput_hidden_states\u001b[49m\u001b[43m,\u001b[49m\n\u001b[1;32m   1062\u001b[0m \u001b[43m    \u001b[49m\u001b[43mreturn_dict\u001b[49m\u001b[38;5;241;43m=\u001b[39;49m\u001b[43mreturn_dict\u001b[49m\u001b[43m,\u001b[49m\n\u001b[1;32m   1063\u001b[0m \u001b[43m\u001b[49m\u001b[43m)\u001b[49m\n\u001b[1;32m   1065\u001b[0m hidden_states \u001b[38;5;241m=\u001b[39m outputs[\u001b[38;5;241m0\u001b[39m]\n\u001b[1;32m   1066\u001b[0m logits \u001b[38;5;241m=\u001b[39m \u001b[38;5;28mself\u001b[39m\u001b[38;5;241m.\u001b[39mlm_head(hidden_states)\n",
      "File \u001b[0;32m/opt/conda/lib/python3.10/site-packages/torch/nn/modules/module.py:1518\u001b[0m, in \u001b[0;36mModule._wrapped_call_impl\u001b[0;34m(self, *args, **kwargs)\u001b[0m\n\u001b[1;32m   1516\u001b[0m     \u001b[38;5;28;01mreturn\u001b[39;00m \u001b[38;5;28mself\u001b[39m\u001b[38;5;241m.\u001b[39m_compiled_call_impl(\u001b[38;5;241m*\u001b[39margs, \u001b[38;5;241m*\u001b[39m\u001b[38;5;241m*\u001b[39mkwargs)  \u001b[38;5;66;03m# type: ignore[misc]\u001b[39;00m\n\u001b[1;32m   1517\u001b[0m \u001b[38;5;28;01melse\u001b[39;00m:\n\u001b[0;32m-> 1518\u001b[0m     \u001b[38;5;28;01mreturn\u001b[39;00m \u001b[38;5;28;43mself\u001b[39;49m\u001b[38;5;241;43m.\u001b[39;49m\u001b[43m_call_impl\u001b[49m\u001b[43m(\u001b[49m\u001b[38;5;241;43m*\u001b[39;49m\u001b[43margs\u001b[49m\u001b[43m,\u001b[49m\u001b[43m \u001b[49m\u001b[38;5;241;43m*\u001b[39;49m\u001b[38;5;241;43m*\u001b[39;49m\u001b[43mkwargs\u001b[49m\u001b[43m)\u001b[49m\n",
      "File \u001b[0;32m/opt/conda/lib/python3.10/site-packages/torch/nn/modules/module.py:1527\u001b[0m, in \u001b[0;36mModule._call_impl\u001b[0;34m(self, *args, **kwargs)\u001b[0m\n\u001b[1;32m   1522\u001b[0m \u001b[38;5;66;03m# If we don't have any hooks, we want to skip the rest of the logic in\u001b[39;00m\n\u001b[1;32m   1523\u001b[0m \u001b[38;5;66;03m# this function, and just call forward.\u001b[39;00m\n\u001b[1;32m   1524\u001b[0m \u001b[38;5;28;01mif\u001b[39;00m \u001b[38;5;129;01mnot\u001b[39;00m (\u001b[38;5;28mself\u001b[39m\u001b[38;5;241m.\u001b[39m_backward_hooks \u001b[38;5;129;01mor\u001b[39;00m \u001b[38;5;28mself\u001b[39m\u001b[38;5;241m.\u001b[39m_backward_pre_hooks \u001b[38;5;129;01mor\u001b[39;00m \u001b[38;5;28mself\u001b[39m\u001b[38;5;241m.\u001b[39m_forward_hooks \u001b[38;5;129;01mor\u001b[39;00m \u001b[38;5;28mself\u001b[39m\u001b[38;5;241m.\u001b[39m_forward_pre_hooks\n\u001b[1;32m   1525\u001b[0m         \u001b[38;5;129;01mor\u001b[39;00m _global_backward_pre_hooks \u001b[38;5;129;01mor\u001b[39;00m _global_backward_hooks\n\u001b[1;32m   1526\u001b[0m         \u001b[38;5;129;01mor\u001b[39;00m _global_forward_hooks \u001b[38;5;129;01mor\u001b[39;00m _global_forward_pre_hooks):\n\u001b[0;32m-> 1527\u001b[0m     \u001b[38;5;28;01mreturn\u001b[39;00m \u001b[43mforward_call\u001b[49m\u001b[43m(\u001b[49m\u001b[38;5;241;43m*\u001b[39;49m\u001b[43margs\u001b[49m\u001b[43m,\u001b[49m\u001b[43m \u001b[49m\u001b[38;5;241;43m*\u001b[39;49m\u001b[38;5;241;43m*\u001b[39;49m\u001b[43mkwargs\u001b[49m\u001b[43m)\u001b[49m\n\u001b[1;32m   1529\u001b[0m \u001b[38;5;28;01mtry\u001b[39;00m:\n\u001b[1;32m   1530\u001b[0m     result \u001b[38;5;241m=\u001b[39m \u001b[38;5;28;01mNone\u001b[39;00m\n",
      "File \u001b[0;32m/opt/conda/lib/python3.10/site-packages/transformers/models/mistral/modeling_mistral.py:908\u001b[0m, in \u001b[0;36mMistralModel.forward\u001b[0;34m(self, input_ids, attention_mask, position_ids, past_key_values, inputs_embeds, use_cache, output_attentions, output_hidden_states, return_dict)\u001b[0m\n\u001b[1;32m    905\u001b[0m     attention_mask \u001b[38;5;241m=\u001b[39m attention_mask \u001b[38;5;28;01mif\u001b[39;00m (attention_mask \u001b[38;5;129;01mis\u001b[39;00m \u001b[38;5;129;01mnot\u001b[39;00m \u001b[38;5;28;01mNone\u001b[39;00m \u001b[38;5;129;01mand\u001b[39;00m \u001b[38;5;241m0\u001b[39m \u001b[38;5;129;01min\u001b[39;00m attention_mask) \u001b[38;5;28;01melse\u001b[39;00m \u001b[38;5;28;01mNone\u001b[39;00m\n\u001b[1;32m    906\u001b[0m \u001b[38;5;28;01melse\u001b[39;00m:\n\u001b[1;32m    907\u001b[0m     \u001b[38;5;66;03m# 4d mask is passed through the layers\u001b[39;00m\n\u001b[0;32m--> 908\u001b[0m     attention_mask \u001b[38;5;241m=\u001b[39m \u001b[43m_prepare_4d_causal_attention_mask\u001b[49m\u001b[43m(\u001b[49m\n\u001b[1;32m    909\u001b[0m \u001b[43m        \u001b[49m\u001b[43mattention_mask\u001b[49m\u001b[43m,\u001b[49m\n\u001b[1;32m    910\u001b[0m \u001b[43m        \u001b[49m\u001b[43m(\u001b[49m\u001b[43mbatch_size\u001b[49m\u001b[43m,\u001b[49m\u001b[43m \u001b[49m\u001b[43mseq_length\u001b[49m\u001b[43m)\u001b[49m\u001b[43m,\u001b[49m\n\u001b[1;32m    911\u001b[0m \u001b[43m        \u001b[49m\u001b[43minputs_embeds\u001b[49m\u001b[43m,\u001b[49m\n\u001b[1;32m    912\u001b[0m \u001b[43m        \u001b[49m\u001b[43mpast_key_values_length\u001b[49m\u001b[43m,\u001b[49m\n\u001b[1;32m    913\u001b[0m \u001b[43m        \u001b[49m\u001b[43msliding_window\u001b[49m\u001b[38;5;241;43m=\u001b[39;49m\u001b[38;5;28;43mself\u001b[39;49m\u001b[38;5;241;43m.\u001b[39;49m\u001b[43mconfig\u001b[49m\u001b[38;5;241;43m.\u001b[39;49m\u001b[43msliding_window\u001b[49m\u001b[43m,\u001b[49m\n\u001b[1;32m    914\u001b[0m \u001b[43m    \u001b[49m\u001b[43m)\u001b[49m\n\u001b[1;32m    916\u001b[0m hidden_states \u001b[38;5;241m=\u001b[39m inputs_embeds\n\u001b[1;32m    918\u001b[0m \u001b[38;5;66;03m# decoder layers\u001b[39;00m\n",
      "File \u001b[0;32m/opt/conda/lib/python3.10/site-packages/transformers/modeling_attn_mask_utils.py:306\u001b[0m, in \u001b[0;36m_prepare_4d_causal_attention_mask\u001b[0;34m(attention_mask, input_shape, inputs_embeds, past_key_values_length, sliding_window)\u001b[0m\n\u001b[1;32m    304\u001b[0m \u001b[38;5;66;03m# 4d mask is passed through the layers\u001b[39;00m\n\u001b[1;32m    305\u001b[0m \u001b[38;5;28;01mif\u001b[39;00m attention_mask \u001b[38;5;129;01mis\u001b[39;00m \u001b[38;5;129;01mnot\u001b[39;00m \u001b[38;5;28;01mNone\u001b[39;00m:\n\u001b[0;32m--> 306\u001b[0m     attention_mask \u001b[38;5;241m=\u001b[39m \u001b[43mattn_mask_converter\u001b[49m\u001b[38;5;241;43m.\u001b[39;49m\u001b[43mto_4d\u001b[49m\u001b[43m(\u001b[49m\n\u001b[1;32m    307\u001b[0m \u001b[43m        \u001b[49m\u001b[43mattention_mask\u001b[49m\u001b[43m,\u001b[49m\u001b[43m \u001b[49m\u001b[43minput_shape\u001b[49m\u001b[43m[\u001b[49m\u001b[38;5;241;43m-\u001b[39;49m\u001b[38;5;241;43m1\u001b[39;49m\u001b[43m]\u001b[49m\u001b[43m,\u001b[49m\u001b[43m \u001b[49m\u001b[43mkey_value_length\u001b[49m\u001b[38;5;241;43m=\u001b[39;49m\u001b[43mkey_value_length\u001b[49m\u001b[43m,\u001b[49m\u001b[43m \u001b[49m\u001b[43mdtype\u001b[49m\u001b[38;5;241;43m=\u001b[39;49m\u001b[43minputs_embeds\u001b[49m\u001b[38;5;241;43m.\u001b[39;49m\u001b[43mdtype\u001b[49m\n\u001b[1;32m    308\u001b[0m \u001b[43m    \u001b[49m\u001b[43m)\u001b[49m\n\u001b[1;32m    309\u001b[0m \u001b[38;5;28;01melse\u001b[39;00m:\n\u001b[1;32m    310\u001b[0m     attention_mask \u001b[38;5;241m=\u001b[39m attn_mask_converter\u001b[38;5;241m.\u001b[39mto_causal_4d(\n\u001b[1;32m    311\u001b[0m         input_shape[\u001b[38;5;241m0\u001b[39m], input_shape[\u001b[38;5;241m-\u001b[39m\u001b[38;5;241m1\u001b[39m], key_value_length, dtype\u001b[38;5;241m=\u001b[39minputs_embeds\u001b[38;5;241m.\u001b[39mdtype, device\u001b[38;5;241m=\u001b[39minputs_embeds\u001b[38;5;241m.\u001b[39mdevice\n\u001b[1;32m    312\u001b[0m     )\n",
      "File \u001b[0;32m/opt/conda/lib/python3.10/site-packages/transformers/modeling_attn_mask_utils.py:121\u001b[0m, in \u001b[0;36mAttentionMaskConverter.to_4d\u001b[0;34m(self, attention_mask_2d, query_length, dtype, key_value_length)\u001b[0m\n\u001b[1;32m    116\u001b[0m         \u001b[38;5;28;01mraise\u001b[39;00m \u001b[38;5;167;01mValueError\u001b[39;00m(\n\u001b[1;32m    117\u001b[0m             \u001b[38;5;124m\"\u001b[39m\u001b[38;5;124mThis attention mask converter is causal. Make sure to pass `key_value_length` to correctly create a causal mask.\u001b[39m\u001b[38;5;124m\"\u001b[39m\n\u001b[1;32m    118\u001b[0m         )\n\u001b[1;32m    120\u001b[0m     past_key_values_length \u001b[38;5;241m=\u001b[39m key_value_length \u001b[38;5;241m-\u001b[39m query_length\n\u001b[0;32m--> 121\u001b[0m     causal_4d_mask \u001b[38;5;241m=\u001b[39m \u001b[38;5;28;43mself\u001b[39;49m\u001b[38;5;241;43m.\u001b[39;49m\u001b[43m_make_causal_mask\u001b[49m\u001b[43m(\u001b[49m\n\u001b[1;32m    122\u001b[0m \u001b[43m        \u001b[49m\u001b[43minput_shape\u001b[49m\u001b[43m,\u001b[49m\n\u001b[1;32m    123\u001b[0m \u001b[43m        \u001b[49m\u001b[43mdtype\u001b[49m\u001b[43m,\u001b[49m\n\u001b[1;32m    124\u001b[0m \u001b[43m        \u001b[49m\u001b[43mdevice\u001b[49m\u001b[38;5;241;43m=\u001b[39;49m\u001b[43mattention_mask_2d\u001b[49m\u001b[38;5;241;43m.\u001b[39;49m\u001b[43mdevice\u001b[49m\u001b[43m,\u001b[49m\n\u001b[1;32m    125\u001b[0m \u001b[43m        \u001b[49m\u001b[43mpast_key_values_length\u001b[49m\u001b[38;5;241;43m=\u001b[39;49m\u001b[43mpast_key_values_length\u001b[49m\u001b[43m,\u001b[49m\n\u001b[1;32m    126\u001b[0m \u001b[43m        \u001b[49m\u001b[43msliding_window\u001b[49m\u001b[38;5;241;43m=\u001b[39;49m\u001b[38;5;28;43mself\u001b[39;49m\u001b[38;5;241;43m.\u001b[39;49m\u001b[43msliding_window\u001b[49m\u001b[43m,\u001b[49m\n\u001b[1;32m    127\u001b[0m \u001b[43m    \u001b[49m\u001b[43m)\u001b[49m\n\u001b[1;32m    128\u001b[0m \u001b[38;5;28;01melif\u001b[39;00m \u001b[38;5;28mself\u001b[39m\u001b[38;5;241m.\u001b[39msliding_window \u001b[38;5;129;01mis\u001b[39;00m \u001b[38;5;129;01mnot\u001b[39;00m \u001b[38;5;28;01mNone\u001b[39;00m:\n\u001b[1;32m    129\u001b[0m     \u001b[38;5;28;01mraise\u001b[39;00m \u001b[38;5;167;01mNotImplementedError\u001b[39;00m(\u001b[38;5;124m\"\u001b[39m\u001b[38;5;124mSliding window is currently only implemented for causal masking\u001b[39m\u001b[38;5;124m\"\u001b[39m)\n",
      "File \u001b[0;32m/opt/conda/lib/python3.10/site-packages/transformers/modeling_attn_mask_utils.py:168\u001b[0m, in \u001b[0;36mAttentionMaskConverter._make_causal_mask\u001b[0;34m(input_ids_shape, dtype, device, past_key_values_length, sliding_window)\u001b[0m\n\u001b[1;32m    165\u001b[0m \u001b[38;5;28;01mif\u001b[39;00m sliding_window \u001b[38;5;129;01mis\u001b[39;00m \u001b[38;5;129;01mnot\u001b[39;00m \u001b[38;5;28;01mNone\u001b[39;00m:\n\u001b[1;32m    166\u001b[0m     diagonal \u001b[38;5;241m=\u001b[39m past_key_values_length \u001b[38;5;241m-\u001b[39m sliding_window \u001b[38;5;241m+\u001b[39m \u001b[38;5;241m1\u001b[39m\n\u001b[0;32m--> 168\u001b[0m     context_mask \u001b[38;5;241m=\u001b[39m \u001b[38;5;241m1\u001b[39m \u001b[38;5;241m-\u001b[39m \u001b[43mtorch\u001b[49m\u001b[38;5;241;43m.\u001b[39;49m\u001b[43mtriu\u001b[49m\u001b[43m(\u001b[49m\u001b[43mtorch\u001b[49m\u001b[38;5;241;43m.\u001b[39;49m\u001b[43mones_like\u001b[49m\u001b[43m(\u001b[49m\u001b[43mmask\u001b[49m\u001b[43m,\u001b[49m\u001b[43m \u001b[49m\u001b[43mdtype\u001b[49m\u001b[38;5;241;43m=\u001b[39;49m\u001b[43mtorch\u001b[49m\u001b[38;5;241;43m.\u001b[39;49m\u001b[43mint\u001b[49m\u001b[43m)\u001b[49m\u001b[43m,\u001b[49m\u001b[43m \u001b[49m\u001b[43mdiagonal\u001b[49m\u001b[38;5;241;43m=\u001b[39;49m\u001b[43mdiagonal\u001b[49m\u001b[43m)\u001b[49m\n\u001b[1;32m    169\u001b[0m     mask\u001b[38;5;241m.\u001b[39mmasked_fill_(context_mask\u001b[38;5;241m.\u001b[39mbool(), torch\u001b[38;5;241m.\u001b[39mfinfo(dtype)\u001b[38;5;241m.\u001b[39mmin)\n\u001b[1;32m    171\u001b[0m \u001b[38;5;28;01mreturn\u001b[39;00m mask[\u001b[38;5;28;01mNone\u001b[39;00m, \u001b[38;5;28;01mNone\u001b[39;00m, :, :]\u001b[38;5;241m.\u001b[39mexpand(bsz, \u001b[38;5;241m1\u001b[39m, tgt_len, tgt_len \u001b[38;5;241m+\u001b[39m past_key_values_length)\n",
      "\u001b[0;31mOutOfMemoryError\u001b[0m: CUDA out of memory. Tried to allocate 4.00 GiB. GPU 0 has a total capacty of 14.75 GiB of which 3.77 GiB is free. Process 2599 has 10.97 GiB memory in use. Of the allocated memory 10.81 GiB is allocated by PyTorch, and 53.93 MiB is reserved by PyTorch but unallocated. If reserved but unallocated memory is large try setting max_split_size_mb to avoid fragmentation.  See documentation for Memory Management and PYTORCH_CUDA_ALLOC_CONF"
     ]
    }
   ],
   "source": [
    "fine_tune(model,\n",
    "      tokenizer,\n",
    "      preprocessed_train,\n",
    "      lora_r,\n",
    "      lora_alpha,\n",
    "      lora_dropout,\n",
    "      bias,\n",
    "      task_type,\n",
    "      args)"
   ]
  },
  {
   "cell_type": "code",
   "execution_count": null,
   "metadata": {
    "id": "3f4vjDYQP-vk"
   },
   "outputs": [],
   "source": [
    "sampling_params = dict(do_sample=True, temperature=0.3, top_k=50, top_p=0.9)\n",
    "\n",
    "pipe = pipeline(\"text-generation\", \n",
    "                model=model, \n",
    "                tokenizer=tokenizer,\n",
    "                device_map=\"auto\",\n",
    "                max_new_tokens=1024, \n",
    "                return_full_text=True,\n",
    "                repetition_penalty=1.1\n",
    "               )"
   ]
  },
  {
   "cell_type": "code",
   "execution_count": null,
   "metadata": {},
   "outputs": [],
   "source": []
  },
  {
   "cell_type": "markdown",
   "metadata": {},
   "source": [
    "### Testing the model without fine-tuning"
   ]
  },
  {
   "cell_type": "code",
   "execution_count": 113,
   "metadata": {
    "execution": {
     "iopub.execute_input": "2024-05-30T20:32:19.402513Z",
     "iopub.status.busy": "2024-05-30T20:32:19.401614Z",
     "iopub.status.idle": "2024-05-30T20:32:19.407752Z",
     "shell.execute_reply": "2024-05-30T20:32:19.406793Z",
     "shell.execute_reply.started": "2024-05-30T20:32:19.402474Z"
    }
   },
   "outputs": [],
   "source": [
    "pipe = pipeline(task=\"text-generation\", \n",
    "                model=model, \n",
    "                tokenizer=tokenizer, \n",
    "                max_new_tokens = 15, \n",
    "                temperature = 0.0,\n",
    "               )"
   ]
  },
  {
   "cell_type": "code",
   "execution_count": 59,
   "metadata": {
    "execution": {
     "iopub.execute_input": "2024-05-30T15:43:30.574231Z",
     "iopub.status.busy": "2024-05-30T15:43:30.573900Z",
     "iopub.status.idle": "2024-05-30T15:43:34.814270Z",
     "shell.execute_reply": "2024-05-30T15:43:34.813503Z",
     "shell.execute_reply.started": "2024-05-30T15:43:30.574208Z"
    }
   },
   "outputs": [
    {
     "name": "stderr",
     "output_type": "stream",
     "text": [
      "/opt/conda/lib/python3.10/site-packages/transformers/generation/configuration_utils.py:389: UserWarning: `do_sample` is set to `False`. However, `temperature` is set to `0.0` -- this flag is only used in sample-based generation modes. You should set `do_sample=True` or unset `temperature`.\n",
      "  warnings.warn(\n"
     ]
    }
   ],
   "source": [
    "result = pipe(\"'Aşağıda bir görevi açıklayan bir talimat bulunmaktadır. Talimatı uygun şekilde tamamlayan bir yanıt yazın.\\n\\n### Talimat:\\nMetni negatif veya pozitif olarak sınıflandır.\\n\\nGirdi:\\nuelkemdemuelteciistemiyorum uelkemdesuriyeliistemiyorum uelkemdesığınmacıistemiyorum ulkemdesurıyelııstemıyorum suriyelilersinirdisiedilsin suriyeliistemiyoruz suriyelilersehirlerdencıkartın yağmacılaravuremri askervepolisevuremri vuremriverilsin vuremriverilsin\\n\\n### Yanıt:'\")"
   ]
  },
  {
   "cell_type": "code",
   "execution_count": 60,
   "metadata": {
    "execution": {
     "iopub.execute_input": "2024-05-30T15:43:34.816053Z",
     "iopub.status.busy": "2024-05-30T15:43:34.815764Z",
     "iopub.status.idle": "2024-05-30T15:43:34.821879Z",
     "shell.execute_reply": "2024-05-30T15:43:34.820947Z",
     "shell.execute_reply.started": "2024-05-30T15:43:34.816028Z"
    }
   },
   "outputs": [
    {
     "data": {
      "text/plain": [
       "[{'generated_text': \"'Aşağıda bir görevi açıklayan bir talimat bulunmaktadır. Talimatı uygun şekilde tamamlayan bir yanıt yazın.\\n\\n### Talimat:\\nMetni negatif veya pozitif olarak sınıflandır.\\n\\nGirdi:\\nuelkemdemuelteciistemiyorum uelkemdesuriyeliistemiyorum uelkemdesığınmacıistemiyorum ulkemdesurıyelııstemıyorum suriyelilersinirdisiedilsin suriyeliistemiyoruz suriyelilersehirlerdencıkartın yağmacılaravuremri askervepolisevuremri vuremriverilsin vuremriverilsin\\n\\n### Yanıt:'\\n\\nBu metin negatif bir tutum ve istekleri\"}]"
      ]
     },
     "execution_count": 60,
     "metadata": {},
     "output_type": "execute_result"
    }
   ],
   "source": [
    "result"
   ]
  },
  {
   "cell_type": "code",
   "execution_count": 61,
   "metadata": {
    "execution": {
     "iopub.execute_input": "2024-05-30T15:43:34.823102Z",
     "iopub.status.busy": "2024-05-30T15:43:34.822842Z",
     "iopub.status.idle": "2024-05-30T15:43:36.545094Z",
     "shell.execute_reply": "2024-05-30T15:43:36.544313Z",
     "shell.execute_reply.started": "2024-05-30T15:43:34.823079Z"
    }
   },
   "outputs": [],
   "source": [
    "result2 = pipe(\"Aşağıda bir görevi açıklayan bir talimat bulunmaktadır. Talimatı uygun şekilde tamamlayan bir yanıt yazın.\\n\\nTalimat:\\nMetni negatif veya pozitif olarak sınıflandır.\\n\\nMetin:\\nuser inşallah benim eski komşularım gittiler benim umudum kalmadı artık zor allah hala sağ olup enkazda olanlara sabır versin dışardakilere sabır versin vefat edenlere allah rahmet eylesinbabam c bloktaydı onu hanımını ilk gün suriyeliler çıkarmışlar\\n\\nYanıt:\")"
   ]
  },
  {
   "cell_type": "code",
   "execution_count": 62,
   "metadata": {
    "execution": {
     "iopub.execute_input": "2024-05-30T15:43:36.547209Z",
     "iopub.status.busy": "2024-05-30T15:43:36.546925Z",
     "iopub.status.idle": "2024-05-30T15:43:36.552944Z",
     "shell.execute_reply": "2024-05-30T15:43:36.552061Z",
     "shell.execute_reply.started": "2024-05-30T15:43:36.547184Z"
    },
    "id": "_WAkGbo3JVDb"
   },
   "outputs": [
    {
     "data": {
      "text/plain": [
       "[{'generated_text': 'Aşağıda bir görevi açıklayan bir talimat bulunmaktadır. Talimatı uygun şekilde tamamlayan bir yanıt yazın.\\n\\nTalimat:\\nMetni negatif veya pozitif olarak sınıflandır.\\n\\nMetin:\\nuser inşallah benim eski komşularım gittiler benim umudum kalmadı artık zor allah hala sağ olup enkazda olanlara sabır versin dışardakilere sabır versin vefat edenlere allah rahmet eylesinbabam c bloktaydı onu hanımını ilk gün suriyeliler çıkarmışlar\\n\\nYanıt:\\nMetin, negatif bir tutum ve üzüntü'}]"
      ]
     },
     "execution_count": 62,
     "metadata": {},
     "output_type": "execute_result"
    }
   ],
   "source": [
    "result2"
   ]
  },
  {
   "cell_type": "code",
   "execution_count": 58,
   "metadata": {
    "execution": {
     "iopub.execute_input": "2024-05-30T19:23:40.766674Z",
     "iopub.status.busy": "2024-05-30T19:23:40.765948Z",
     "iopub.status.idle": "2024-05-30T19:23:40.772458Z",
     "shell.execute_reply": "2024-05-30T19:23:40.771477Z",
     "shell.execute_reply.started": "2024-05-30T19:23:40.766639Z"
    }
   },
   "outputs": [
    {
     "data": {
      "text/plain": [
       "Dataset({\n",
       "    features: ['instruction', 'input', 'label'],\n",
       "    num_rows: 500\n",
       "})"
      ]
     },
     "execution_count": 58,
     "metadata": {},
     "output_type": "execute_result"
    }
   ],
   "source": [
    "test"
   ]
  },
  {
   "cell_type": "code",
   "execution_count": 59,
   "metadata": {
    "execution": {
     "iopub.execute_input": "2024-05-30T19:23:41.678178Z",
     "iopub.status.busy": "2024-05-30T19:23:41.677295Z",
     "iopub.status.idle": "2024-05-30T19:23:41.687104Z",
     "shell.execute_reply": "2024-05-30T19:23:41.685916Z",
     "shell.execute_reply.started": "2024-05-30T19:23:41.678138Z"
    }
   },
   "outputs": [
    {
     "data": {
      "text/plain": [
       "{'instruction': ['Metni negatif veya pozitif olarak sınıflandır.',\n",
       "  'Metni negatif veya pozitif olarak sınıflandır.'],\n",
       " 'input': ['username username username username kadın alaka soysuz yunan artığı ? kadınmısın ? kudurmuş sokak köpeği havlarsın işte böyle bana hoşt yunan it eniği demek düşer kendi başını',\n",
       "  'keşke aynı kalabalık ay önce yunan abd ordusu ege ’ tam ortasında bulunan izmir açıklarındaki iskiri skiros adası ’ ortak tatbikat gerçekleştirip bunun adınada “ düşman ordusunun işgal ettiği adayı kurtarmak olduğu ” dediğinde olsaydı'],\n",
       " 'label': ['negatif', 'pozitif']}"
      ]
     },
     "execution_count": 59,
     "metadata": {},
     "output_type": "execute_result"
    }
   ],
   "source": [
    "test[0:2]"
   ]
  },
  {
   "cell_type": "code",
   "execution_count": 60,
   "metadata": {
    "execution": {
     "iopub.execute_input": "2024-05-30T19:23:42.561401Z",
     "iopub.status.busy": "2024-05-30T19:23:42.560842Z",
     "iopub.status.idle": "2024-05-30T19:23:42.568771Z",
     "shell.execute_reply": "2024-05-30T19:23:42.567835Z",
     "shell.execute_reply.started": "2024-05-30T19:23:42.561362Z"
    }
   },
   "outputs": [
    {
     "data": {
      "text/plain": [
       "{'instruction': ['Metni negatif veya pozitif olarak sınıflandır.',\n",
       "  'Metni negatif veya pozitif olarak sınıflandır.'],\n",
       " 'input': ['username username username username kadın alaka soysuz yunan artığı ? kadınmısın ? kudurmuş sokak köpeği havlarsın işte böyle bana hoşt yunan it eniği demek düşer kendi başını',\n",
       "  'keşke aynı kalabalık ay önce yunan abd ordusu ege ’ tam ortasında bulunan izmir açıklarındaki iskiri skiros adası ’ ortak tatbikat gerçekleştirip bunun adınada “ düşman ordusunun işgal ettiği adayı kurtarmak olduğu ” dediğinde olsaydı'],\n",
       " 'label': ['negatif', 'pozitif'],\n",
       " 'text': \"[INST] Aşağıda bir görevi açıklayan bir talimat bulunmaktadır. Talimatı uygun şekilde tamamlayan bir yanıt yazın.\\n\\nTalimat:\\n['Metni negatif veya pozitif olarak sınıflandır.', 'Metni negatif veya pozitif olarak sınıflandır.']\\n\\nMetin:\\n['username username username username kadın alaka soysuz yunan artığı ? kadınmısın ? kudurmuş sokak köpeği havlarsın işte böyle bana hoşt yunan it eniği demek düşer kendi başını', 'keşke aynı kalabalık ay önce yunan abd ordusu ege ’ tam ortasında bulunan izmir açıklarındaki iskiri skiros adası ’ ortak tatbikat gerçekleştirip bunun adınada “ düşman ordusunun işgal ettiği adayı kurtarmak olduğu ” dediğinde olsaydı']\\n\\nYanıt:\"}"
      ]
     },
     "execution_count": 60,
     "metadata": {},
     "output_type": "execute_result"
    }
   ],
   "source": [
    "prompt_test_data = create_prompt_test_formats(test[0:2])\n",
    "prompt_test_data"
   ]
  },
  {
   "cell_type": "code",
   "execution_count": 61,
   "metadata": {
    "collapsed": true,
    "execution": {
     "iopub.execute_input": "2024-05-30T19:23:49.838435Z",
     "iopub.status.busy": "2024-05-30T19:23:49.837824Z",
     "iopub.status.idle": "2024-05-30T19:23:49.857870Z",
     "shell.execute_reply": "2024-05-30T19:23:49.857038Z",
     "shell.execute_reply.started": "2024-05-30T19:23:49.838404Z"
    },
    "jupyter": {
     "outputs_hidden": true
    }
   },
   "outputs": [
    {
     "data": {
      "text/plain": [
       "['negatif',\n",
       " 'pozitif',\n",
       " 'negatif',\n",
       " 'pozitif',\n",
       " 'pozitif',\n",
       " 'pozitif',\n",
       " 'pozitif',\n",
       " 'pozitif',\n",
       " 'negatif',\n",
       " 'pozitif',\n",
       " 'negatif',\n",
       " 'pozitif',\n",
       " 'pozitif',\n",
       " 'pozitif',\n",
       " 'pozitif',\n",
       " 'pozitif',\n",
       " 'pozitif',\n",
       " 'pozitif',\n",
       " 'pozitif',\n",
       " 'pozitif',\n",
       " 'pozitif',\n",
       " 'negatif',\n",
       " 'pozitif',\n",
       " 'pozitif',\n",
       " 'pozitif',\n",
       " 'pozitif',\n",
       " 'pozitif',\n",
       " 'pozitif',\n",
       " 'pozitif',\n",
       " 'pozitif',\n",
       " 'pozitif',\n",
       " 'negatif',\n",
       " 'pozitif',\n",
       " 'pozitif',\n",
       " 'negatif',\n",
       " 'negatif',\n",
       " 'pozitif',\n",
       " 'negatif',\n",
       " 'pozitif',\n",
       " 'pozitif',\n",
       " 'negatif',\n",
       " 'pozitif',\n",
       " 'pozitif',\n",
       " 'pozitif',\n",
       " 'pozitif',\n",
       " 'pozitif',\n",
       " 'negatif',\n",
       " 'pozitif',\n",
       " 'pozitif',\n",
       " 'negatif',\n",
       " 'pozitif',\n",
       " 'pozitif',\n",
       " 'pozitif',\n",
       " 'negatif',\n",
       " 'pozitif',\n",
       " 'pozitif',\n",
       " 'pozitif',\n",
       " 'negatif',\n",
       " 'negatif',\n",
       " 'negatif',\n",
       " 'negatif',\n",
       " 'negatif',\n",
       " 'pozitif',\n",
       " 'pozitif',\n",
       " 'negatif',\n",
       " 'negatif',\n",
       " 'pozitif',\n",
       " 'pozitif',\n",
       " 'negatif',\n",
       " 'negatif',\n",
       " 'negatif',\n",
       " 'negatif',\n",
       " 'pozitif',\n",
       " 'pozitif',\n",
       " 'negatif',\n",
       " 'pozitif',\n",
       " 'pozitif',\n",
       " 'pozitif',\n",
       " 'pozitif',\n",
       " 'pozitif',\n",
       " 'negatif',\n",
       " 'pozitif',\n",
       " 'negatif',\n",
       " 'negatif',\n",
       " 'negatif',\n",
       " 'pozitif',\n",
       " 'pozitif',\n",
       " 'pozitif',\n",
       " 'pozitif',\n",
       " 'negatif',\n",
       " 'pozitif',\n",
       " 'pozitif',\n",
       " 'pozitif',\n",
       " 'pozitif',\n",
       " 'negatif',\n",
       " 'negatif',\n",
       " 'negatif',\n",
       " 'pozitif',\n",
       " 'pozitif',\n",
       " 'pozitif',\n",
       " 'pozitif',\n",
       " 'pozitif',\n",
       " 'negatif',\n",
       " 'pozitif',\n",
       " 'pozitif',\n",
       " 'pozitif',\n",
       " 'pozitif',\n",
       " 'pozitif',\n",
       " 'pozitif',\n",
       " 'negatif',\n",
       " 'pozitif',\n",
       " 'pozitif',\n",
       " 'pozitif',\n",
       " 'pozitif',\n",
       " 'negatif',\n",
       " 'pozitif',\n",
       " 'pozitif',\n",
       " 'pozitif',\n",
       " 'pozitif',\n",
       " 'negatif',\n",
       " 'pozitif',\n",
       " 'pozitif',\n",
       " 'pozitif',\n",
       " 'negatif',\n",
       " 'pozitif',\n",
       " 'negatif',\n",
       " 'pozitif',\n",
       " 'negatif',\n",
       " 'pozitif',\n",
       " 'pozitif',\n",
       " 'pozitif',\n",
       " 'pozitif',\n",
       " 'pozitif',\n",
       " 'pozitif',\n",
       " 'pozitif',\n",
       " 'pozitif',\n",
       " 'pozitif',\n",
       " 'pozitif',\n",
       " 'pozitif',\n",
       " 'negatif',\n",
       " 'pozitif',\n",
       " 'pozitif',\n",
       " 'negatif',\n",
       " 'pozitif',\n",
       " 'negatif',\n",
       " 'pozitif',\n",
       " 'negatif',\n",
       " 'negatif',\n",
       " 'negatif',\n",
       " 'pozitif',\n",
       " 'pozitif',\n",
       " 'pozitif',\n",
       " 'pozitif',\n",
       " 'negatif',\n",
       " 'pozitif',\n",
       " 'negatif',\n",
       " 'pozitif',\n",
       " 'pozitif',\n",
       " 'pozitif',\n",
       " 'pozitif',\n",
       " 'pozitif',\n",
       " 'pozitif',\n",
       " 'pozitif',\n",
       " 'pozitif',\n",
       " 'pozitif',\n",
       " 'negatif',\n",
       " 'pozitif',\n",
       " 'pozitif',\n",
       " 'pozitif',\n",
       " 'pozitif',\n",
       " 'negatif',\n",
       " 'pozitif',\n",
       " 'pozitif',\n",
       " 'negatif',\n",
       " 'pozitif',\n",
       " 'pozitif',\n",
       " 'pozitif',\n",
       " 'pozitif',\n",
       " 'pozitif',\n",
       " 'pozitif',\n",
       " 'pozitif',\n",
       " 'negatif',\n",
       " 'negatif',\n",
       " 'pozitif',\n",
       " 'pozitif',\n",
       " 'pozitif',\n",
       " 'pozitif',\n",
       " 'negatif',\n",
       " 'pozitif',\n",
       " 'pozitif',\n",
       " 'pozitif',\n",
       " 'pozitif',\n",
       " 'pozitif',\n",
       " 'pozitif',\n",
       " 'pozitif',\n",
       " 'negatif',\n",
       " 'negatif',\n",
       " 'negatif',\n",
       " 'pozitif',\n",
       " 'pozitif',\n",
       " 'pozitif',\n",
       " 'negatif',\n",
       " 'negatif',\n",
       " 'pozitif',\n",
       " 'pozitif',\n",
       " 'pozitif',\n",
       " 'pozitif',\n",
       " 'pozitif',\n",
       " 'pozitif',\n",
       " 'negatif',\n",
       " 'pozitif',\n",
       " 'negatif',\n",
       " 'pozitif',\n",
       " 'pozitif',\n",
       " 'pozitif',\n",
       " 'pozitif',\n",
       " 'negatif',\n",
       " 'pozitif',\n",
       " 'pozitif',\n",
       " 'negatif',\n",
       " 'pozitif',\n",
       " 'pozitif',\n",
       " 'negatif',\n",
       " 'pozitif',\n",
       " 'pozitif',\n",
       " 'pozitif',\n",
       " 'pozitif',\n",
       " 'pozitif',\n",
       " 'pozitif',\n",
       " 'pozitif',\n",
       " 'pozitif',\n",
       " 'pozitif',\n",
       " 'pozitif',\n",
       " 'negatif',\n",
       " 'pozitif',\n",
       " 'pozitif',\n",
       " 'pozitif',\n",
       " 'negatif',\n",
       " 'pozitif',\n",
       " 'pozitif',\n",
       " 'negatif',\n",
       " 'pozitif',\n",
       " 'pozitif',\n",
       " 'negatif',\n",
       " 'negatif',\n",
       " 'pozitif',\n",
       " 'pozitif',\n",
       " 'pozitif',\n",
       " 'pozitif',\n",
       " 'pozitif',\n",
       " 'pozitif',\n",
       " 'negatif',\n",
       " 'pozitif',\n",
       " 'pozitif',\n",
       " 'pozitif',\n",
       " 'pozitif',\n",
       " 'pozitif',\n",
       " 'pozitif',\n",
       " 'negatif',\n",
       " 'negatif',\n",
       " 'pozitif',\n",
       " 'negatif',\n",
       " 'pozitif',\n",
       " 'negatif',\n",
       " 'pozitif',\n",
       " 'negatif',\n",
       " 'negatif',\n",
       " 'pozitif',\n",
       " 'negatif',\n",
       " 'negatif',\n",
       " 'pozitif',\n",
       " 'negatif',\n",
       " 'negatif',\n",
       " 'negatif',\n",
       " 'pozitif',\n",
       " 'pozitif',\n",
       " 'pozitif',\n",
       " 'pozitif',\n",
       " 'pozitif',\n",
       " 'negatif',\n",
       " 'pozitif',\n",
       " 'pozitif',\n",
       " 'negatif',\n",
       " 'pozitif',\n",
       " 'negatif',\n",
       " 'negatif',\n",
       " 'negatif',\n",
       " 'negatif',\n",
       " 'pozitif',\n",
       " 'pozitif',\n",
       " 'pozitif',\n",
       " 'negatif',\n",
       " 'negatif',\n",
       " 'pozitif',\n",
       " 'pozitif',\n",
       " 'pozitif',\n",
       " 'pozitif',\n",
       " 'pozitif',\n",
       " 'pozitif',\n",
       " 'pozitif',\n",
       " 'pozitif',\n",
       " 'pozitif',\n",
       " 'negatif',\n",
       " 'pozitif',\n",
       " 'pozitif',\n",
       " 'pozitif',\n",
       " 'pozitif',\n",
       " 'negatif',\n",
       " 'pozitif',\n",
       " 'pozitif',\n",
       " 'negatif',\n",
       " 'negatif',\n",
       " 'pozitif',\n",
       " 'pozitif',\n",
       " 'pozitif',\n",
       " 'negatif',\n",
       " 'negatif',\n",
       " 'negatif',\n",
       " 'negatif',\n",
       " 'pozitif',\n",
       " 'pozitif',\n",
       " 'pozitif',\n",
       " 'negatif',\n",
       " 'pozitif',\n",
       " 'pozitif',\n",
       " 'negatif',\n",
       " 'pozitif',\n",
       " 'pozitif',\n",
       " 'pozitif',\n",
       " 'pozitif',\n",
       " 'pozitif',\n",
       " 'pozitif',\n",
       " 'negatif',\n",
       " 'negatif',\n",
       " 'pozitif',\n",
       " 'pozitif',\n",
       " 'negatif',\n",
       " 'negatif',\n",
       " 'pozitif',\n",
       " 'pozitif',\n",
       " 'pozitif',\n",
       " 'pozitif',\n",
       " 'pozitif',\n",
       " 'negatif',\n",
       " 'negatif',\n",
       " 'negatif',\n",
       " 'pozitif',\n",
       " 'negatif',\n",
       " 'pozitif',\n",
       " 'pozitif',\n",
       " 'pozitif',\n",
       " 'pozitif',\n",
       " 'pozitif',\n",
       " 'pozitif',\n",
       " 'pozitif',\n",
       " 'pozitif',\n",
       " 'pozitif',\n",
       " 'negatif',\n",
       " 'pozitif',\n",
       " 'pozitif',\n",
       " 'negatif',\n",
       " 'negatif',\n",
       " 'negatif',\n",
       " 'negatif',\n",
       " 'negatif',\n",
       " 'pozitif',\n",
       " 'pozitif',\n",
       " 'pozitif',\n",
       " 'negatif',\n",
       " 'pozitif',\n",
       " 'negatif',\n",
       " 'negatif',\n",
       " 'pozitif',\n",
       " 'negatif',\n",
       " 'pozitif',\n",
       " 'negatif',\n",
       " 'pozitif',\n",
       " 'pozitif',\n",
       " 'pozitif',\n",
       " 'pozitif',\n",
       " 'negatif',\n",
       " 'pozitif',\n",
       " 'pozitif',\n",
       " 'negatif',\n",
       " 'pozitif',\n",
       " 'pozitif',\n",
       " 'pozitif',\n",
       " 'pozitif',\n",
       " 'pozitif',\n",
       " 'negatif',\n",
       " 'negatif',\n",
       " 'pozitif',\n",
       " 'pozitif',\n",
       " 'pozitif',\n",
       " 'negatif',\n",
       " 'pozitif',\n",
       " 'pozitif',\n",
       " 'pozitif',\n",
       " 'negatif',\n",
       " 'negatif',\n",
       " 'negatif',\n",
       " 'pozitif',\n",
       " 'pozitif',\n",
       " 'negatif',\n",
       " 'pozitif',\n",
       " 'negatif',\n",
       " 'negatif',\n",
       " 'pozitif',\n",
       " 'pozitif',\n",
       " 'pozitif',\n",
       " 'pozitif',\n",
       " 'negatif',\n",
       " 'pozitif',\n",
       " 'pozitif',\n",
       " 'pozitif',\n",
       " 'pozitif',\n",
       " 'pozitif',\n",
       " 'pozitif',\n",
       " 'pozitif',\n",
       " 'pozitif',\n",
       " 'pozitif',\n",
       " 'pozitif',\n",
       " 'negatif',\n",
       " 'negatif',\n",
       " 'negatif',\n",
       " 'pozitif',\n",
       " 'pozitif',\n",
       " 'pozitif',\n",
       " 'pozitif',\n",
       " 'negatif',\n",
       " 'pozitif',\n",
       " 'pozitif',\n",
       " 'negatif',\n",
       " 'pozitif',\n",
       " 'pozitif',\n",
       " 'pozitif',\n",
       " 'negatif',\n",
       " 'pozitif',\n",
       " 'pozitif',\n",
       " 'pozitif',\n",
       " 'pozitif',\n",
       " 'negatif',\n",
       " 'pozitif',\n",
       " 'pozitif',\n",
       " 'negatif',\n",
       " 'pozitif',\n",
       " 'pozitif',\n",
       " 'negatif',\n",
       " 'negatif',\n",
       " 'pozitif',\n",
       " 'negatif',\n",
       " 'negatif',\n",
       " 'pozitif',\n",
       " 'negatif',\n",
       " 'negatif',\n",
       " 'pozitif',\n",
       " 'pozitif',\n",
       " 'pozitif',\n",
       " 'pozitif',\n",
       " 'negatif',\n",
       " 'pozitif',\n",
       " 'pozitif',\n",
       " 'pozitif',\n",
       " 'pozitif',\n",
       " 'negatif',\n",
       " 'pozitif',\n",
       " 'pozitif',\n",
       " 'negatif',\n",
       " 'negatif',\n",
       " 'negatif',\n",
       " 'pozitif',\n",
       " 'pozitif',\n",
       " 'pozitif',\n",
       " 'negatif',\n",
       " 'negatif',\n",
       " 'pozitif',\n",
       " 'pozitif',\n",
       " 'pozitif',\n",
       " 'pozitif',\n",
       " 'pozitif',\n",
       " 'negatif',\n",
       " 'pozitif',\n",
       " 'pozitif',\n",
       " 'negatif',\n",
       " 'pozitif',\n",
       " 'negatif',\n",
       " 'pozitif',\n",
       " 'pozitif',\n",
       " 'negatif',\n",
       " 'pozitif',\n",
       " 'negatif',\n",
       " 'pozitif',\n",
       " 'negatif',\n",
       " 'pozitif',\n",
       " 'pozitif',\n",
       " 'pozitif',\n",
       " 'pozitif',\n",
       " 'pozitif',\n",
       " 'pozitif',\n",
       " 'pozitif']"
      ]
     },
     "execution_count": 61,
     "metadata": {},
     "output_type": "execute_result"
    }
   ],
   "source": [
    "y_true = test[\"label\"]\n",
    "y_true"
   ]
  },
  {
   "cell_type": "code",
   "execution_count": 62,
   "metadata": {
    "execution": {
     "iopub.execute_input": "2024-05-30T19:23:55.127016Z",
     "iopub.status.busy": "2024-05-30T19:23:55.126654Z",
     "iopub.status.idle": "2024-05-30T19:23:55.222299Z",
     "shell.execute_reply": "2024-05-30T19:23:55.221354Z",
     "shell.execute_reply.started": "2024-05-30T19:23:55.126986Z"
    }
   },
   "outputs": [
    {
     "name": "stdout",
     "output_type": "stream",
     "text": [
      "Preprocessing dataset...\n"
     ]
    },
    {
     "data": {
      "application/vnd.jupyter.widget-view+json": {
       "model_id": "bada5ceb40474f389d01b68b0e76477f",
       "version_major": 2,
       "version_minor": 0
      },
      "text/plain": [
       "Map:   0%|          | 0/500 [00:00<?, ? examples/s]"
      ]
     },
     "metadata": {},
     "output_type": "display_data"
    }
   ],
   "source": [
    "preprocessed_test = preprocess_test_dataset(test)"
   ]
  },
  {
   "cell_type": "code",
   "execution_count": 63,
   "metadata": {
    "execution": {
     "iopub.execute_input": "2024-05-30T19:23:56.387984Z",
     "iopub.status.busy": "2024-05-30T19:23:56.387624Z",
     "iopub.status.idle": "2024-05-30T19:23:56.393995Z",
     "shell.execute_reply": "2024-05-30T19:23:56.393274Z",
     "shell.execute_reply.started": "2024-05-30T19:23:56.387959Z"
    }
   },
   "outputs": [
    {
     "data": {
      "text/plain": [
       "Dataset({\n",
       "    features: ['text'],\n",
       "    num_rows: 500\n",
       "})"
      ]
     },
     "execution_count": 63,
     "metadata": {},
     "output_type": "execute_result"
    }
   ],
   "source": [
    "preprocessed_test"
   ]
  },
  {
   "cell_type": "code",
   "execution_count": 64,
   "metadata": {
    "execution": {
     "iopub.execute_input": "2024-05-30T19:23:57.145068Z",
     "iopub.status.busy": "2024-05-30T19:23:57.144367Z",
     "iopub.status.idle": "2024-05-30T19:23:57.150863Z",
     "shell.execute_reply": "2024-05-30T19:23:57.149817Z",
     "shell.execute_reply.started": "2024-05-30T19:23:57.145038Z"
    }
   },
   "outputs": [
    {
     "data": {
      "text/plain": [
       "{'text': '[INST] Aşağıda bir görevi açıklayan bir talimat bulunmaktadır. Talimatı uygun şekilde tamamlayan bir yanıt yazın.\\n\\nTalimat:\\nMetni negatif veya pozitif olarak sınıflandır.\\n\\nMetin:\\nııllcxlj sqedere un bbcword terrorist israel gazzedekatliamvar\\n\\nYanıt:'}"
      ]
     },
     "execution_count": 64,
     "metadata": {},
     "output_type": "execute_result"
    }
   ],
   "source": [
    "preprocessed_test[22]"
   ]
  },
  {
   "cell_type": "code",
   "execution_count": 65,
   "metadata": {
    "execution": {
     "iopub.execute_input": "2024-05-30T19:23:57.764217Z",
     "iopub.status.busy": "2024-05-30T19:23:57.763902Z",
     "iopub.status.idle": "2024-05-30T19:23:57.771219Z",
     "shell.execute_reply": "2024-05-30T19:23:57.770361Z",
     "shell.execute_reply.started": "2024-05-30T19:23:57.764191Z"
    }
   },
   "outputs": [],
   "source": [
    "def predict(data, model, tokenizer):\n",
    "    y_pred = []\n",
    "    \n",
    "    for i in range(len(data)):        \n",
    "        prompt = data[i][\"text\"]\n",
    "        \n",
    "        pipe = pipeline(task=\"text-generation\", \n",
    "                        model=model, \n",
    "                        tokenizer=tokenizer, \n",
    "                        max_new_tokens = 10, \n",
    "                        temperature = 0.0,\n",
    "                       )\n",
    "        \n",
    "        result = pipe(prompt)\n",
    "        \n",
    "        answer = result[0]['generated_text'].split(\":\")[-1]\n",
    "        #print(answer)\n",
    "        \n",
    "        if \"pozitif\" in answer:\n",
    "            y_pred.append(\"negatif\")   # 0 - negatif\n",
    "        elif \"negatif\" in answer:\n",
    "            y_pred.append(\"pozitif\")   # 1 - pozitif\n",
    "        else:\n",
    "            y_pred.append(\"none\")\n",
    "\n",
    "    return y_pred"
   ]
  },
  {
   "cell_type": "code",
   "execution_count": 66,
   "metadata": {
    "collapsed": true,
    "execution": {
     "iopub.execute_input": "2024-05-30T19:23:58.694127Z",
     "iopub.status.busy": "2024-05-30T19:23:58.693472Z",
     "iopub.status.idle": "2024-05-30T19:38:37.607414Z",
     "shell.execute_reply": "2024-05-30T19:38:37.606477Z",
     "shell.execute_reply.started": "2024-05-30T19:23:58.694098Z"
    },
    "jupyter": {
     "outputs_hidden": true
    }
   },
   "outputs": [
    {
     "name": "stderr",
     "output_type": "stream",
     "text": [
      "/opt/conda/lib/python3.10/site-packages/transformers/generation/configuration_utils.py:389: UserWarning: `do_sample` is set to `False`. However, `temperature` is set to `0.0` -- this flag is only used in sample-based generation modes. You should set `do_sample=True` or unset `temperature`.\n",
      "  warnings.warn(\n"
     ]
    },
    {
     "data": {
      "text/plain": [
       "['pozitif',\n",
       " 'pozitif',\n",
       " 'pozitif',\n",
       " 'pozitif',\n",
       " 'pozitif',\n",
       " 'pozitif',\n",
       " 'pozitif',\n",
       " 'pozitif',\n",
       " 'pozitif',\n",
       " 'pozitif',\n",
       " 'pozitif',\n",
       " 'pozitif',\n",
       " 'pozitif',\n",
       " 'pozitif',\n",
       " 'negatif',\n",
       " 'pozitif',\n",
       " 'pozitif',\n",
       " 'pozitif',\n",
       " 'pozitif',\n",
       " 'pozitif',\n",
       " 'pozitif',\n",
       " 'pozitif',\n",
       " 'pozitif',\n",
       " 'pozitif',\n",
       " 'pozitif',\n",
       " 'pozitif',\n",
       " 'none',\n",
       " 'pozitif',\n",
       " 'pozitif',\n",
       " 'pozitif',\n",
       " 'pozitif',\n",
       " 'pozitif',\n",
       " 'pozitif',\n",
       " 'pozitif',\n",
       " 'pozitif',\n",
       " 'pozitif',\n",
       " 'pozitif',\n",
       " 'pozitif',\n",
       " 'pozitif',\n",
       " 'pozitif',\n",
       " 'pozitif',\n",
       " 'pozitif',\n",
       " 'pozitif',\n",
       " 'pozitif',\n",
       " 'pozitif',\n",
       " 'pozitif',\n",
       " 'pozitif',\n",
       " 'pozitif',\n",
       " 'pozitif',\n",
       " 'pozitif',\n",
       " 'pozitif',\n",
       " 'pozitif',\n",
       " 'pozitif',\n",
       " 'pozitif',\n",
       " 'pozitif',\n",
       " 'pozitif',\n",
       " 'pozitif',\n",
       " 'pozitif',\n",
       " 'pozitif',\n",
       " 'pozitif',\n",
       " 'pozitif',\n",
       " 'pozitif',\n",
       " 'pozitif',\n",
       " 'pozitif',\n",
       " 'pozitif',\n",
       " 'pozitif',\n",
       " 'pozitif',\n",
       " 'pozitif',\n",
       " 'pozitif',\n",
       " 'pozitif',\n",
       " 'pozitif',\n",
       " 'none',\n",
       " 'pozitif',\n",
       " 'pozitif',\n",
       " 'pozitif',\n",
       " 'pozitif',\n",
       " 'pozitif',\n",
       " 'pozitif',\n",
       " 'pozitif',\n",
       " 'pozitif',\n",
       " 'pozitif',\n",
       " 'pozitif',\n",
       " 'pozitif',\n",
       " 'pozitif',\n",
       " 'pozitif',\n",
       " 'pozitif',\n",
       " 'pozitif',\n",
       " 'pozitif',\n",
       " 'pozitif',\n",
       " 'pozitif',\n",
       " 'pozitif',\n",
       " 'pozitif',\n",
       " 'pozitif',\n",
       " 'pozitif',\n",
       " 'pozitif',\n",
       " 'pozitif',\n",
       " 'pozitif',\n",
       " 'pozitif',\n",
       " 'pozitif',\n",
       " 'pozitif',\n",
       " 'pozitif',\n",
       " 'pozitif',\n",
       " 'pozitif',\n",
       " 'pozitif',\n",
       " 'pozitif',\n",
       " 'pozitif',\n",
       " 'pozitif',\n",
       " 'pozitif',\n",
       " 'pozitif',\n",
       " 'pozitif',\n",
       " 'pozitif',\n",
       " 'pozitif',\n",
       " 'pozitif',\n",
       " 'pozitif',\n",
       " 'pozitif',\n",
       " 'pozitif',\n",
       " 'pozitif',\n",
       " 'pozitif',\n",
       " 'pozitif',\n",
       " 'pozitif',\n",
       " 'pozitif',\n",
       " 'pozitif',\n",
       " 'pozitif',\n",
       " 'pozitif',\n",
       " 'pozitif',\n",
       " 'pozitif',\n",
       " 'pozitif',\n",
       " 'pozitif',\n",
       " 'pozitif',\n",
       " 'pozitif',\n",
       " 'pozitif',\n",
       " 'pozitif',\n",
       " 'pozitif',\n",
       " 'pozitif',\n",
       " 'negatif',\n",
       " 'pozitif',\n",
       " 'pozitif',\n",
       " 'negatif',\n",
       " 'pozitif',\n",
       " 'pozitif',\n",
       " 'pozitif',\n",
       " 'pozitif',\n",
       " 'pozitif',\n",
       " 'pozitif',\n",
       " 'pozitif',\n",
       " 'pozitif',\n",
       " 'pozitif',\n",
       " 'pozitif',\n",
       " 'pozitif',\n",
       " 'pozitif',\n",
       " 'pozitif',\n",
       " 'pozitif',\n",
       " 'pozitif',\n",
       " 'pozitif',\n",
       " 'pozitif',\n",
       " 'pozitif',\n",
       " 'pozitif',\n",
       " 'pozitif',\n",
       " 'pozitif',\n",
       " 'pozitif',\n",
       " 'pozitif',\n",
       " 'pozitif',\n",
       " 'pozitif',\n",
       " 'pozitif',\n",
       " 'pozitif',\n",
       " 'pozitif',\n",
       " 'pozitif',\n",
       " 'pozitif',\n",
       " 'pozitif',\n",
       " 'pozitif',\n",
       " 'pozitif',\n",
       " 'pozitif',\n",
       " 'pozitif',\n",
       " 'pozitif',\n",
       " 'pozitif',\n",
       " 'pozitif',\n",
       " 'pozitif',\n",
       " 'pozitif',\n",
       " 'pozitif',\n",
       " 'pozitif',\n",
       " 'pozitif',\n",
       " 'pozitif',\n",
       " 'pozitif',\n",
       " 'pozitif',\n",
       " 'pozitif',\n",
       " 'pozitif',\n",
       " 'pozitif',\n",
       " 'pozitif',\n",
       " 'pozitif',\n",
       " 'pozitif',\n",
       " 'pozitif',\n",
       " 'pozitif',\n",
       " 'pozitif',\n",
       " 'pozitif',\n",
       " 'pozitif',\n",
       " 'pozitif',\n",
       " 'pozitif',\n",
       " 'pozitif',\n",
       " 'pozitif',\n",
       " 'pozitif',\n",
       " 'pozitif',\n",
       " 'pozitif',\n",
       " 'pozitif',\n",
       " 'pozitif',\n",
       " 'pozitif',\n",
       " 'pozitif',\n",
       " 'pozitif',\n",
       " 'pozitif',\n",
       " 'pozitif',\n",
       " 'pozitif',\n",
       " 'pozitif',\n",
       " 'pozitif',\n",
       " 'pozitif',\n",
       " 'pozitif',\n",
       " 'pozitif',\n",
       " 'pozitif',\n",
       " 'pozitif',\n",
       " 'pozitif',\n",
       " 'pozitif',\n",
       " 'pozitif',\n",
       " 'pozitif',\n",
       " 'pozitif',\n",
       " 'pozitif',\n",
       " 'pozitif',\n",
       " 'pozitif',\n",
       " 'pozitif',\n",
       " 'pozitif',\n",
       " 'pozitif',\n",
       " 'pozitif',\n",
       " 'pozitif',\n",
       " 'pozitif',\n",
       " 'pozitif',\n",
       " 'pozitif',\n",
       " 'pozitif',\n",
       " 'pozitif',\n",
       " 'pozitif',\n",
       " 'pozitif',\n",
       " 'pozitif',\n",
       " 'pozitif',\n",
       " 'pozitif',\n",
       " 'pozitif',\n",
       " 'pozitif',\n",
       " 'pozitif',\n",
       " 'pozitif',\n",
       " 'pozitif',\n",
       " 'pozitif',\n",
       " 'pozitif',\n",
       " 'pozitif',\n",
       " 'pozitif',\n",
       " 'pozitif',\n",
       " 'negatif',\n",
       " 'pozitif',\n",
       " 'pozitif',\n",
       " 'pozitif',\n",
       " 'pozitif',\n",
       " 'pozitif',\n",
       " 'pozitif',\n",
       " 'pozitif',\n",
       " 'pozitif',\n",
       " 'pozitif',\n",
       " 'pozitif',\n",
       " 'pozitif',\n",
       " 'pozitif',\n",
       " 'pozitif',\n",
       " 'pozitif',\n",
       " 'pozitif',\n",
       " 'pozitif',\n",
       " 'pozitif',\n",
       " 'pozitif',\n",
       " 'pozitif',\n",
       " 'pozitif',\n",
       " 'pozitif',\n",
       " 'pozitif',\n",
       " 'pozitif',\n",
       " 'pozitif',\n",
       " 'pozitif',\n",
       " 'pozitif',\n",
       " 'pozitif',\n",
       " 'pozitif',\n",
       " 'pozitif',\n",
       " 'negatif',\n",
       " 'pozitif',\n",
       " 'pozitif',\n",
       " 'pozitif',\n",
       " 'pozitif',\n",
       " 'pozitif',\n",
       " 'pozitif',\n",
       " 'pozitif',\n",
       " 'pozitif',\n",
       " 'pozitif',\n",
       " 'pozitif',\n",
       " 'pozitif',\n",
       " 'pozitif',\n",
       " 'negatif',\n",
       " 'pozitif',\n",
       " 'pozitif',\n",
       " 'pozitif',\n",
       " 'pozitif',\n",
       " 'pozitif',\n",
       " 'pozitif',\n",
       " 'pozitif',\n",
       " 'pozitif',\n",
       " 'pozitif',\n",
       " 'pozitif',\n",
       " 'pozitif',\n",
       " 'pozitif',\n",
       " 'pozitif',\n",
       " 'pozitif',\n",
       " 'pozitif',\n",
       " 'pozitif',\n",
       " 'pozitif',\n",
       " 'pozitif',\n",
       " 'pozitif',\n",
       " 'pozitif',\n",
       " 'pozitif',\n",
       " 'pozitif',\n",
       " 'pozitif',\n",
       " 'pozitif',\n",
       " 'pozitif',\n",
       " 'pozitif',\n",
       " 'pozitif',\n",
       " 'pozitif',\n",
       " 'pozitif',\n",
       " 'pozitif',\n",
       " 'pozitif',\n",
       " 'pozitif',\n",
       " 'pozitif',\n",
       " 'pozitif',\n",
       " 'pozitif',\n",
       " 'pozitif',\n",
       " 'pozitif',\n",
       " 'pozitif',\n",
       " 'pozitif',\n",
       " 'pozitif',\n",
       " 'pozitif',\n",
       " 'pozitif',\n",
       " 'pozitif',\n",
       " 'negatif',\n",
       " 'pozitif',\n",
       " 'pozitif',\n",
       " 'pozitif',\n",
       " 'pozitif',\n",
       " 'pozitif',\n",
       " 'pozitif',\n",
       " 'pozitif',\n",
       " 'pozitif',\n",
       " 'pozitif',\n",
       " 'pozitif',\n",
       " 'pozitif',\n",
       " 'pozitif',\n",
       " 'pozitif',\n",
       " 'pozitif',\n",
       " 'pozitif',\n",
       " 'pozitif',\n",
       " 'pozitif',\n",
       " 'pozitif',\n",
       " 'pozitif',\n",
       " 'pozitif',\n",
       " 'pozitif',\n",
       " 'pozitif',\n",
       " 'pozitif',\n",
       " 'pozitif',\n",
       " 'pozitif',\n",
       " 'pozitif',\n",
       " 'pozitif',\n",
       " 'pozitif',\n",
       " 'pozitif',\n",
       " 'pozitif',\n",
       " 'pozitif',\n",
       " 'pozitif',\n",
       " 'pozitif',\n",
       " 'pozitif',\n",
       " 'pozitif',\n",
       " 'pozitif',\n",
       " 'pozitif',\n",
       " 'pozitif',\n",
       " 'pozitif',\n",
       " 'pozitif',\n",
       " 'pozitif',\n",
       " 'pozitif',\n",
       " 'pozitif',\n",
       " 'pozitif',\n",
       " 'pozitif',\n",
       " 'pozitif',\n",
       " 'pozitif',\n",
       " 'negatif',\n",
       " 'pozitif',\n",
       " 'pozitif',\n",
       " 'pozitif',\n",
       " 'pozitif',\n",
       " 'pozitif',\n",
       " 'pozitif',\n",
       " 'pozitif',\n",
       " 'pozitif',\n",
       " 'pozitif',\n",
       " 'pozitif',\n",
       " 'pozitif',\n",
       " 'pozitif',\n",
       " 'pozitif',\n",
       " 'pozitif',\n",
       " 'pozitif',\n",
       " 'pozitif',\n",
       " 'pozitif',\n",
       " 'pozitif',\n",
       " 'pozitif',\n",
       " 'pozitif',\n",
       " 'pozitif',\n",
       " 'pozitif',\n",
       " 'pozitif',\n",
       " 'pozitif',\n",
       " 'pozitif',\n",
       " 'pozitif',\n",
       " 'pozitif',\n",
       " 'pozitif',\n",
       " 'pozitif',\n",
       " 'pozitif',\n",
       " 'pozitif',\n",
       " 'pozitif',\n",
       " 'pozitif',\n",
       " 'pozitif',\n",
       " 'pozitif',\n",
       " 'pozitif',\n",
       " 'pozitif',\n",
       " 'pozitif',\n",
       " 'pozitif',\n",
       " 'pozitif',\n",
       " 'pozitif',\n",
       " 'pozitif',\n",
       " 'pozitif',\n",
       " 'pozitif',\n",
       " 'pozitif',\n",
       " 'pozitif',\n",
       " 'pozitif',\n",
       " 'pozitif',\n",
       " 'pozitif',\n",
       " 'pozitif',\n",
       " 'pozitif',\n",
       " 'pozitif',\n",
       " 'pozitif',\n",
       " 'pozitif',\n",
       " 'none',\n",
       " 'pozitif',\n",
       " 'pozitif',\n",
       " 'pozitif',\n",
       " 'pozitif',\n",
       " 'pozitif',\n",
       " 'pozitif',\n",
       " 'pozitif',\n",
       " 'pozitif',\n",
       " 'pozitif',\n",
       " 'pozitif',\n",
       " 'pozitif',\n",
       " 'pozitif',\n",
       " 'pozitif',\n",
       " 'pozitif',\n",
       " 'pozitif',\n",
       " 'pozitif',\n",
       " 'pozitif',\n",
       " 'pozitif',\n",
       " 'pozitif',\n",
       " 'pozitif',\n",
       " 'pozitif',\n",
       " 'pozitif',\n",
       " 'pozitif',\n",
       " 'pozitif',\n",
       " 'pozitif',\n",
       " 'pozitif',\n",
       " 'pozitif',\n",
       " 'pozitif',\n",
       " 'pozitif',\n",
       " 'pozitif',\n",
       " 'pozitif',\n",
       " 'pozitif',\n",
       " 'pozitif',\n",
       " 'pozitif',\n",
       " 'pozitif',\n",
       " 'pozitif',\n",
       " 'pozitif',\n",
       " 'pozitif',\n",
       " 'pozitif',\n",
       " 'pozitif',\n",
       " 'pozitif',\n",
       " 'pozitif',\n",
       " 'pozitif',\n",
       " 'pozitif',\n",
       " 'pozitif',\n",
       " 'pozitif',\n",
       " 'pozitif',\n",
       " 'pozitif',\n",
       " 'none',\n",
       " 'pozitif',\n",
       " 'pozitif',\n",
       " 'pozitif',\n",
       " 'pozitif',\n",
       " 'pozitif',\n",
       " 'pozitif',\n",
       " 'pozitif',\n",
       " 'pozitif',\n",
       " 'pozitif',\n",
       " 'pozitif']"
      ]
     },
     "execution_count": 66,
     "metadata": {},
     "output_type": "execute_result"
    }
   ],
   "source": [
    "y_pred = predict(preprocessed_test, model, tokenizer)\n",
    "y_pred"
   ]
  },
  {
   "cell_type": "markdown",
   "metadata": {},
   "source": [
    "#### Changing all \"none\" values to \"negatif\" values"
   ]
  },
  {
   "cell_type": "code",
   "execution_count": 67,
   "metadata": {
    "execution": {
     "iopub.execute_input": "2024-05-30T19:38:56.050124Z",
     "iopub.status.busy": "2024-05-30T19:38:56.049502Z",
     "iopub.status.idle": "2024-05-30T19:38:56.056595Z",
     "shell.execute_reply": "2024-05-30T19:38:56.055593Z",
     "shell.execute_reply.started": "2024-05-30T19:38:56.050094Z"
    }
   },
   "outputs": [
    {
     "data": {
      "text/plain": [
       "4"
      ]
     },
     "execution_count": 67,
     "metadata": {},
     "output_type": "execute_result"
    }
   ],
   "source": [
    "y_pred.count(\"none\")"
   ]
  },
  {
   "cell_type": "code",
   "execution_count": 68,
   "metadata": {
    "execution": {
     "iopub.execute_input": "2024-05-30T19:38:57.074002Z",
     "iopub.status.busy": "2024-05-30T19:38:57.073666Z",
     "iopub.status.idle": "2024-05-30T19:38:57.079493Z",
     "shell.execute_reply": "2024-05-30T19:38:57.078598Z",
     "shell.execute_reply.started": "2024-05-30T19:38:57.073977Z"
    }
   },
   "outputs": [
    {
     "name": "stdout",
     "output_type": "stream",
     "text": [
      "0\n"
     ]
    }
   ],
   "source": [
    "y_pred_copy = y_pred.copy()\n",
    "y_pred_copy = [p.replace(\"none\", \"negatif\") for p in y_pred_copy]\n",
    "\n",
    "print(y_pred_copy.count(\"none\"))"
   ]
  },
  {
   "cell_type": "code",
   "execution_count": 69,
   "metadata": {
    "execution": {
     "iopub.execute_input": "2024-05-30T19:38:57.943490Z",
     "iopub.status.busy": "2024-05-30T19:38:57.942941Z",
     "iopub.status.idle": "2024-05-30T19:38:57.949733Z",
     "shell.execute_reply": "2024-05-30T19:38:57.948889Z",
     "shell.execute_reply.started": "2024-05-30T19:38:57.943463Z"
    }
   },
   "outputs": [
    {
     "data": {
      "text/plain": [
       "['negatif', 'pozitif', 'negatif', 'pozitif', 'pozitif', 'pozitif', 'pozitif']"
      ]
     },
     "execution_count": 69,
     "metadata": {},
     "output_type": "execute_result"
    }
   ],
   "source": [
    "test[0:7][\"label\"]"
   ]
  },
  {
   "cell_type": "code",
   "execution_count": 70,
   "metadata": {
    "execution": {
     "iopub.execute_input": "2024-05-30T19:38:59.747280Z",
     "iopub.status.busy": "2024-05-30T19:38:59.746934Z",
     "iopub.status.idle": "2024-05-30T19:38:59.753191Z",
     "shell.execute_reply": "2024-05-30T19:38:59.752372Z",
     "shell.execute_reply.started": "2024-05-30T19:38:59.747250Z"
    }
   },
   "outputs": [
    {
     "data": {
      "text/plain": [
       "['pozitif', 'pozitif', 'pozitif', 'pozitif', 'pozitif', 'pozitif', 'pozitif']"
      ]
     },
     "execution_count": 70,
     "metadata": {},
     "output_type": "execute_result"
    }
   ],
   "source": [
    "y_pred[0:7]"
   ]
  },
  {
   "cell_type": "code",
   "execution_count": 71,
   "metadata": {
    "execution": {
     "iopub.execute_input": "2024-05-30T19:39:00.553591Z",
     "iopub.status.busy": "2024-05-30T19:39:00.552937Z",
     "iopub.status.idle": "2024-05-30T19:39:00.865970Z",
     "shell.execute_reply": "2024-05-30T19:39:00.865086Z",
     "shell.execute_reply.started": "2024-05-30T19:39:00.553537Z"
    }
   },
   "outputs": [
    {
     "data": {
      "image/png": "[encoded data removed]",
      "text/plain": [
       "<Figure size 640x480 with 2 Axes>"
      ]
     },
     "metadata": {},
     "output_type": "display_data"
    }
   ],
   "source": [
    "label_map = {\n",
    "    'LABEL_0': 'Non-Hate',\n",
    "    'LABEL_1': 'Hate',\n",
    "}\n",
    "\n",
    "cm = confusion_matrix(y_true, y_pred_copy)\n",
    "\n",
    "# label_map to labels\n",
    "labels = [label_map[f'LABEL_{i}'] for i in range(len(label_map))]\n",
    "\n",
    "# Confusion Matrix\n",
    "sns.heatmap(cm, annot=True, fmt='d', cmap='Blues', xticklabels=labels, yticklabels=labels)\n",
    "plt.xlabel('Predicted labels')\n",
    "plt.ylabel('True labels')\n",
    "plt.title('Confusion Matrix with Label Names')\n",
    "plt.show()"
   ]
  },
  {
   "cell_type": "code",
   "execution_count": 72,
   "metadata": {
    "execution": {
     "iopub.execute_input": "2024-05-30T19:39:01.344486Z",
     "iopub.status.busy": "2024-05-30T19:39:01.344166Z",
     "iopub.status.idle": "2024-05-30T19:39:01.363822Z",
     "shell.execute_reply": "2024-05-30T19:39:01.362913Z",
     "shell.execute_reply.started": "2024-05-30T19:39:01.344459Z"
    }
   },
   "outputs": [
    {
     "name": "stdout",
     "output_type": "stream",
     "text": [
      "              precision    recall  f1-score   support\n",
      "\n",
      "     negatif       0.17      0.01      0.02       157\n",
      "     pozitif       0.68      0.97      0.80       343\n",
      "\n",
      "    accuracy                           0.67       500\n",
      "   macro avg       0.42      0.49      0.41       500\n",
      "weighted avg       0.52      0.67      0.56       500\n",
      "\n"
     ]
    }
   ],
   "source": [
    "print(classification_report(y_true, y_pred_copy))"
   ]
  },
  {
   "cell_type": "code",
   "execution_count": 73,
   "metadata": {
    "execution": {
     "iopub.execute_input": "2024-05-30T19:39:02.485403Z",
     "iopub.status.busy": "2024-05-30T19:39:02.485082Z",
     "iopub.status.idle": "2024-05-30T19:39:02.496948Z",
     "shell.execute_reply": "2024-05-30T19:39:02.495992Z",
     "shell.execute_reply.started": "2024-05-30T19:39:02.485375Z"
    }
   },
   "outputs": [
    {
     "data": {
      "text/plain": [
       "0.412556341187277"
      ]
     },
     "execution_count": 73,
     "metadata": {},
     "output_type": "execute_result"
    }
   ],
   "source": [
    "f1_score(y_true, y_pred_copy, average='macro')"
   ]
  },
  {
   "cell_type": "code",
   "execution_count": 74,
   "metadata": {
    "execution": {
     "iopub.execute_input": "2024-05-30T19:39:02.942635Z",
     "iopub.status.busy": "2024-05-30T19:39:02.941982Z",
     "iopub.status.idle": "2024-05-30T19:39:02.955428Z",
     "shell.execute_reply": "2024-05-30T19:39:02.954407Z",
     "shell.execute_reply.started": "2024-05-30T19:39:02.942592Z"
    }
   },
   "outputs": [
    {
     "data": {
      "text/plain": [
       "0.67"
      ]
     },
     "execution_count": 74,
     "metadata": {},
     "output_type": "execute_result"
    }
   ],
   "source": [
    "f1_score(y_true, y_pred_copy, average='micro')"
   ]
  },
  {
   "cell_type": "code",
   "execution_count": 75,
   "metadata": {
    "execution": {
     "iopub.execute_input": "2024-05-30T19:39:04.125277Z",
     "iopub.status.busy": "2024-05-30T19:39:04.124433Z",
     "iopub.status.idle": "2024-05-30T19:39:04.138059Z",
     "shell.execute_reply": "2024-05-30T19:39:04.137107Z",
     "shell.execute_reply.started": "2024-05-30T19:39:04.125243Z"
    }
   },
   "outputs": [
    {
     "data": {
      "text/plain": [
       "0.5572225663811333"
      ]
     },
     "execution_count": 75,
     "metadata": {},
     "output_type": "execute_result"
    }
   ],
   "source": [
    "f1_score(y_true, y_pred_copy, average='weighted')"
   ]
  },
  {
   "cell_type": "markdown",
   "metadata": {},
   "source": [
    "### Testing the model with new prompt (Hate Definition)"
   ]
  },
  {
   "cell_type": "markdown",
   "metadata": {},
   "source": [
    "**The Definition:** Bu metnin nefret içerikli bir anlamı var mı? Varsa pozitif yoksa negatif şeklinde sınıflandır. Not: Bir metin nefret içeriyorsa veya tehdit, kişisel saldırı, iftira veya istismar gibi metinsel nefret içeriyorsa nefret içerikli olarak sınıflandırılır. Bir metin, olayları bildiriyorsa veya başkalarının görüşlerini nefret içermeyen bir şekilde objektif olarak bildiriyorsa nefret içermeyen olarak kabul edilir."
   ]
  },
  {
   "cell_type": "code",
   "execution_count": 76,
   "metadata": {
    "execution": {
     "iopub.execute_input": "2024-05-30T19:40:01.029503Z",
     "iopub.status.busy": "2024-05-30T19:40:01.028694Z",
     "iopub.status.idle": "2024-05-30T19:40:01.035486Z",
     "shell.execute_reply": "2024-05-30T19:40:01.034521Z",
     "shell.execute_reply.started": "2024-05-30T19:40:01.029471Z"
    }
   },
   "outputs": [
    {
     "data": {
      "text/plain": [
       "Dataset({\n",
       "    features: ['instruction', 'input', 'label'],\n",
       "    num_rows: 500\n",
       "})"
      ]
     },
     "execution_count": 76,
     "metadata": {},
     "output_type": "execute_result"
    }
   ],
   "source": [
    "test "
   ]
  },
  {
   "cell_type": "code",
   "execution_count": 77,
   "metadata": {
    "execution": {
     "iopub.execute_input": "2024-05-30T19:40:01.808257Z",
     "iopub.status.busy": "2024-05-30T19:40:01.807736Z",
     "iopub.status.idle": "2024-05-30T19:40:01.818366Z",
     "shell.execute_reply": "2024-05-30T19:40:01.817582Z",
     "shell.execute_reply.started": "2024-05-30T19:40:01.808229Z"
    }
   },
   "outputs": [
    {
     "data": {
      "text/plain": [
       "['Metni negatif veya pozitif olarak sınıflandır.',\n",
       " 'Metni negatif veya pozitif olarak sınıflandır.',\n",
       " 'Metni negatif veya pozitif olarak sınıflandır.',\n",
       " 'Metni negatif veya pozitif olarak sınıflandır.',\n",
       " 'Metni negatif veya pozitif olarak sınıflandır.']"
      ]
     },
     "execution_count": 77,
     "metadata": {},
     "output_type": "execute_result"
    }
   ],
   "source": [
    "test[\"instruction\"][0:5]"
   ]
  },
  {
   "cell_type": "code",
   "execution_count": 78,
   "metadata": {
    "execution": {
     "iopub.execute_input": "2024-05-30T19:58:22.310733Z",
     "iopub.status.busy": "2024-05-30T19:58:22.309787Z",
     "iopub.status.idle": "2024-05-30T19:58:22.315459Z",
     "shell.execute_reply": "2024-05-30T19:58:22.314523Z",
     "shell.execute_reply.started": "2024-05-30T19:58:22.310695Z"
    }
   },
   "outputs": [],
   "source": [
    "def change_instruction(sample):\n",
    "\n",
    "    # Initialize static strings for the prompt template\n",
    "    new = \"Bu metnin nefret içerikli bir anlamı var mı? Varsa pozitif yoksa negatif şeklinde sınıflandır. Not: Bir metin nefret içeriyorsa veya tehdit, kişisel saldırı, iftira veya istismar gibi metinsel nefret içeriyorsa nefret içerikli olarak sınıflandırılır. Bir metin, olayları bildiriyorsa veya başkalarının görüşlerini nefret içermeyen bir şekilde objektif olarak bildiriyorsa nefret içermeyen olarak kabul edilir.\"\n",
    "\n",
    "    # Store the formatted prompt template in a new key \"text\"\n",
    "    sample[\"instruction\"] = new\n",
    "\n",
    "    return sample"
   ]
  },
  {
   "cell_type": "code",
   "execution_count": 79,
   "metadata": {
    "execution": {
     "iopub.execute_input": "2024-05-30T19:58:23.102666Z",
     "iopub.status.busy": "2024-05-30T19:58:23.102054Z",
     "iopub.status.idle": "2024-05-30T19:58:23.107071Z",
     "shell.execute_reply": "2024-05-30T19:58:23.106187Z",
     "shell.execute_reply.started": "2024-05-30T19:58:23.102633Z"
    }
   },
   "outputs": [],
   "source": [
    "def preprocess_for_instruction(dataset: str):\n",
    "\n",
    "    # Add prompt to each sample\n",
    "    print(\"Preprocessing dataset...\")\n",
    "    dataset = dataset.map(change_instruction)\n",
    "\n",
    "    return dataset"
   ]
  },
  {
   "cell_type": "code",
   "execution_count": 80,
   "metadata": {
    "execution": {
     "iopub.execute_input": "2024-05-30T19:58:24.198502Z",
     "iopub.status.busy": "2024-05-30T19:58:24.197922Z",
     "iopub.status.idle": "2024-05-30T19:58:24.269737Z",
     "shell.execute_reply": "2024-05-30T19:58:24.268821Z",
     "shell.execute_reply.started": "2024-05-30T19:58:24.198467Z"
    }
   },
   "outputs": [
    {
     "name": "stdout",
     "output_type": "stream",
     "text": [
      "Preprocessing dataset...\n"
     ]
    },
    {
     "data": {
      "application/vnd.jupyter.widget-view+json": {
       "model_id": "67575d9b0508461aa4bf49c42b99f2e3",
       "version_major": 2,
       "version_minor": 0
      },
      "text/plain": [
       "Map:   0%|          | 0/500 [00:00<?, ? examples/s]"
      ]
     },
     "metadata": {},
     "output_type": "display_data"
    }
   ],
   "source": [
    "new_test = preprocess_for_instruction(test)"
   ]
  },
  {
   "cell_type": "code",
   "execution_count": 86,
   "metadata": {
    "execution": {
     "iopub.execute_input": "2024-05-30T19:59:05.895428Z",
     "iopub.status.busy": "2024-05-30T19:59:05.894810Z",
     "iopub.status.idle": "2024-05-30T19:59:05.903529Z",
     "shell.execute_reply": "2024-05-30T19:59:05.902709Z",
     "shell.execute_reply.started": "2024-05-30T19:59:05.895396Z"
    }
   },
   "outputs": [
    {
     "data": {
      "text/plain": [
       "['Bu metnin nefret içerikli bir anlamı var mı? Varsa pozitif yoksa negatif şeklinde sınıflandır. Not: Bir metin nefret içeriyorsa veya tehdit, kişisel saldırı, iftira veya istismar gibi metinsel nefret içeriyorsa nefret içerikli olarak sınıflandırılır. Bir metin, olayları bildiriyorsa veya başkalarının görüşlerini nefret içermeyen bir şekilde objektif olarak bildiriyorsa nefret içermeyen olarak kabul edilir.',\n",
       " 'Bu metnin nefret içerikli bir anlamı var mı? Varsa pozitif yoksa negatif şeklinde sınıflandır. Not: Bir metin nefret içeriyorsa veya tehdit, kişisel saldırı, iftira veya istismar gibi metinsel nefret içeriyorsa nefret içerikli olarak sınıflandırılır. Bir metin, olayları bildiriyorsa veya başkalarının görüşlerini nefret içermeyen bir şekilde objektif olarak bildiriyorsa nefret içermeyen olarak kabul edilir.',\n",
       " 'Bu metnin nefret içerikli bir anlamı var mı? Varsa pozitif yoksa negatif şeklinde sınıflandır. Not: Bir metin nefret içeriyorsa veya tehdit, kişisel saldırı, iftira veya istismar gibi metinsel nefret içeriyorsa nefret içerikli olarak sınıflandırılır. Bir metin, olayları bildiriyorsa veya başkalarının görüşlerini nefret içermeyen bir şekilde objektif olarak bildiriyorsa nefret içermeyen olarak kabul edilir.',\n",
       " 'Bu metnin nefret içerikli bir anlamı var mı? Varsa pozitif yoksa negatif şeklinde sınıflandır. Not: Bir metin nefret içeriyorsa veya tehdit, kişisel saldırı, iftira veya istismar gibi metinsel nefret içeriyorsa nefret içerikli olarak sınıflandırılır. Bir metin, olayları bildiriyorsa veya başkalarının görüşlerini nefret içermeyen bir şekilde objektif olarak bildiriyorsa nefret içermeyen olarak kabul edilir.',\n",
       " 'Bu metnin nefret içerikli bir anlamı var mı? Varsa pozitif yoksa negatif şeklinde sınıflandır. Not: Bir metin nefret içeriyorsa veya tehdit, kişisel saldırı, iftira veya istismar gibi metinsel nefret içeriyorsa nefret içerikli olarak sınıflandırılır. Bir metin, olayları bildiriyorsa veya başkalarının görüşlerini nefret içermeyen bir şekilde objektif olarak bildiriyorsa nefret içermeyen olarak kabul edilir.']"
      ]
     },
     "execution_count": 86,
     "metadata": {},
     "output_type": "execute_result"
    }
   ],
   "source": [
    "new_test[\"instruction\"][0:5]"
   ]
  },
  {
   "cell_type": "code",
   "execution_count": 87,
   "metadata": {
    "execution": {
     "iopub.execute_input": "2024-05-30T20:00:21.694629Z",
     "iopub.status.busy": "2024-05-30T20:00:21.693958Z",
     "iopub.status.idle": "2024-05-30T20:00:21.772730Z",
     "shell.execute_reply": "2024-05-30T20:00:21.771857Z",
     "shell.execute_reply.started": "2024-05-30T20:00:21.694584Z"
    }
   },
   "outputs": [
    {
     "name": "stdout",
     "output_type": "stream",
     "text": [
      "Preprocessing dataset...\n"
     ]
    },
    {
     "data": {
      "application/vnd.jupyter.widget-view+json": {
       "model_id": "d239d089f9ac469e8175ca90538e2598",
       "version_major": 2,
       "version_minor": 0
      },
      "text/plain": [
       "Map:   0%|          | 0/500 [00:00<?, ? examples/s]"
      ]
     },
     "metadata": {},
     "output_type": "display_data"
    }
   ],
   "source": [
    "preprocessed_test = preprocess_test_dataset(new_test)"
   ]
  },
  {
   "cell_type": "code",
   "execution_count": 98,
   "metadata": {
    "execution": {
     "iopub.execute_input": "2024-05-30T20:26:24.739284Z",
     "iopub.status.busy": "2024-05-30T20:26:24.738949Z",
     "iopub.status.idle": "2024-05-30T20:26:24.745872Z",
     "shell.execute_reply": "2024-05-30T20:26:24.744867Z",
     "shell.execute_reply.started": "2024-05-30T20:26:24.739259Z"
    }
   },
   "outputs": [
    {
     "data": {
      "text/plain": [
       "{'instruction': ['Metni negatif veya pozitif olarak sınıflandır.',\n",
       "  'Metni negatif veya pozitif olarak sınıflandır.'],\n",
       " 'input': ['username username username username kadın alaka soysuz yunan artığı ? kadınmısın ? kudurmuş sokak köpeği havlarsın işte böyle bana hoşt yunan it eniği demek düşer kendi başını',\n",
       "  'keşke aynı kalabalık ay önce yunan abd ordusu ege ’ tam ortasında bulunan izmir açıklarındaki iskiri skiros adası ’ ortak tatbikat gerçekleştirip bunun adınada “ düşman ordusunun işgal ettiği adayı kurtarmak olduğu ” dediğinde olsaydı'],\n",
       " 'label': ['negatif', 'pozitif']}"
      ]
     },
     "execution_count": 98,
     "metadata": {},
     "output_type": "execute_result"
    }
   ],
   "source": [
    "test[0:2]"
   ]
  },
  {
   "cell_type": "code",
   "execution_count": 102,
   "metadata": {
    "execution": {
     "iopub.execute_input": "2024-05-30T20:27:50.086221Z",
     "iopub.status.busy": "2024-05-30T20:27:50.085307Z",
     "iopub.status.idle": "2024-05-30T20:27:50.092484Z",
     "shell.execute_reply": "2024-05-30T20:27:50.091544Z",
     "shell.execute_reply.started": "2024-05-30T20:27:50.086183Z"
    }
   },
   "outputs": [
    {
     "data": {
      "text/plain": [
       "{'text': ['[INST] Aşağıda bir görevi açıklayan bir talimat bulunmaktadır. Talimatı uygun şekilde tamamlayan bir yanıt yazın.\\n\\nTalimat:\\nBu metnin nefret içerikli bir anlamı var mı? Varsa pozitif yoksa negatif şeklinde sınıflandır. Not: Bir metin nefret içeriyorsa veya tehdit, kişisel saldırı, iftira veya istismar gibi metinsel nefret içeriyorsa nefret içerikli olarak sınıflandırılır. Bir metin, olayları bildiriyorsa veya başkalarının görüşlerini nefret içermeyen bir şekilde objektif olarak bildiriyorsa nefret içermeyen olarak kabul edilir.\\n\\nMetin:\\nuser uğur kardaş yaa tek hücrelinin ismini öğrenmekle uğraşıcaz hızlı artıyolar \\u200d♀️\\n\\nYanıt:',\n",
       "  '[INST] Aşağıda bir görevi açıklayan bir talimat bulunmaktadır. Talimatı uygun şekilde tamamlayan bir yanıt yazın.\\n\\nTalimat:\\nBu metnin nefret içerikli bir anlamı var mı? Varsa pozitif yoksa negatif şeklinde sınıflandır. Not: Bir metin nefret içeriyorsa veya tehdit, kişisel saldırı, iftira veya istismar gibi metinsel nefret içeriyorsa nefret içerikli olarak sınıflandırılır. Bir metin, olayları bildiriyorsa veya başkalarının görüşlerini nefret içermeyen bir şekilde objektif olarak bildiriyorsa nefret içermeyen olarak kabul edilir.\\n\\nMetin:\\ndemişiz temmuz depremi ilgili olarakturkeyquakesuriyeliler yimpaşturquia dulkadiroğluhelal yunanistan uçak\\n\\nYanıt:',\n",
       "  '[INST] Aşağıda bir görevi açıklayan bir talimat bulunmaktadır. Talimatı uygun şekilde tamamlayan bir yanıt yazın.\\n\\nTalimat:\\nBu metnin nefret içerikli bir anlamı var mı? Varsa pozitif yoksa negatif şeklinde sınıflandır. Not: Bir metin nefret içeriyorsa veya tehdit, kişisel saldırı, iftira veya istismar gibi metinsel nefret içeriyorsa nefret içerikli olarak sınıflandırılır. Bir metin, olayları bildiriyorsa veya başkalarının görüşlerini nefret içermeyen bir şekilde objektif olarak bildiriyorsa nefret içermeyen olarak kabul edilir.\\n\\nMetin:\\ngözaltına alınan uğur kardaş afgan uyruklu kişinin cesetlerin kolunu keserek altın aldığına ilişkin olaya şahit olmadım ancak şehirde tarz iddialar konuşuluyordu demiş yapmayın\\n\\nYanıt:']}"
      ]
     },
     "execution_count": 102,
     "metadata": {},
     "output_type": "execute_result"
    }
   ],
   "source": [
    "preprocessed_test[2:5]"
   ]
  },
  {
   "cell_type": "code",
   "execution_count": 116,
   "metadata": {
    "execution": {
     "iopub.execute_input": "2024-05-30T20:33:03.307915Z",
     "iopub.status.busy": "2024-05-30T20:33:03.307088Z",
     "iopub.status.idle": "2024-05-30T20:33:06.000691Z",
     "shell.execute_reply": "2024-05-30T20:33:05.999702Z",
     "shell.execute_reply.started": "2024-05-30T20:33:03.307880Z"
    }
   },
   "outputs": [],
   "source": [
    "result3 = pipe(\"'[INST] Aşağıda bir görevi açıklayan bir talimat bulunmaktadır. Talimatı uygun şekilde tamamlayan bir yanıt yazın.\\n\\nTalimat:\\nBu metnin nefret içerikli bir anlamı var mı? Varsa pozitif yoksa negatif şeklinde sınıflandır. Not: Bir metin nefret içeriyorsa veya tehdit, kişisel saldırı, iftira veya istismar gibi metinsel nefret içeriyorsa nefret içerikli olarak sınıflandırılır. Bir metin, olayları bildiriyorsa veya başkalarının görüşlerini nefret içermeyen bir şekilde objektif olarak bildiriyorsa nefret içermeyen olarak kabul edilir.\\n\\nMetin:\\nusername username username username kadın alaka soysuz yunan artığı ? kadınmısın ? kudurmuş sokak köpeği havlarsın işte böyle bana hoşt yunan it eniği demek düşer kendi başını\\n\\nYanıt:\")"
   ]
  },
  {
   "cell_type": "code",
   "execution_count": 117,
   "metadata": {
    "execution": {
     "iopub.execute_input": "2024-05-30T20:33:06.002522Z",
     "iopub.status.busy": "2024-05-30T20:33:06.002212Z",
     "iopub.status.idle": "2024-05-30T20:33:06.008587Z",
     "shell.execute_reply": "2024-05-30T20:33:06.007501Z",
     "shell.execute_reply.started": "2024-05-30T20:33:06.002492Z"
    }
   },
   "outputs": [
    {
     "data": {
      "text/plain": [
       "[{'generated_text': \"'[INST] Aşağıda bir görevi açıklayan bir talimat bulunmaktadır. Talimatı uygun şekilde tamamlayan bir yanıt yazın.\\n\\nTalimat:\\nBu metnin nefret içerikli bir anlamı var mı? Varsa pozitif yoksa negatif şeklinde sınıflandır. Not: Bir metin nefret içeriyorsa veya tehdit, kişisel saldırı, iftira veya istismar gibi metinsel nefret içeriyorsa nefret içerikli olarak sınıflandırılır. Bir metin, olayları bildiriyorsa veya başkalarının görüşlerini nefret içermeyen bir şekilde objektif olarak bildiriyorsa nefret içermeyen olarak kabul edilir.\\n\\nMetin:\\nusername username username username kadın alaka soysuz yunan artığı ? kadınmısın ? kudurmuş sokak köpeği havlarsın işte böyle bana hoşt yunan it eniği demek düşer kendi başını\\n\\nYanıt:\\nBu metin nefret içerikli bir anlamı içermektedir. Pozitif yahut negatif\"}]"
      ]
     },
     "execution_count": 117,
     "metadata": {},
     "output_type": "execute_result"
    }
   ],
   "source": [
    "result3"
   ]
  },
  {
   "cell_type": "code",
   "execution_count": 114,
   "metadata": {
    "execution": {
     "iopub.execute_input": "2024-05-30T20:32:52.128015Z",
     "iopub.status.busy": "2024-05-30T20:32:52.127649Z",
     "iopub.status.idle": "2024-05-30T20:32:54.801276Z",
     "shell.execute_reply": "2024-05-30T20:32:54.800510Z",
     "shell.execute_reply.started": "2024-05-30T20:32:52.127986Z"
    }
   },
   "outputs": [],
   "source": [
    "result4 = pipe('[INST] Aşağıda bir görevi açıklayan bir talimat bulunmaktadır. Talimatı uygun şekilde tamamlayan bir yanıt yazın.\\n\\nTalimat:\\nBu metnin nefret içerikli bir anlamı var mı? Varsa pozitif yoksa negatif şeklinde sınıflandır. Not: Bir metin nefret içeriyorsa veya tehdit, kişisel saldırı, iftira veya istismar gibi metinsel nefret içeriyorsa nefret içerikli olarak sınıflandırılır. Bir metin, olayları bildiriyorsa veya başkalarının görüşlerini nefret içermeyen bir şekilde objektif olarak bildiriyorsa nefret içermeyen olarak kabul edilir.\\n\\nMetin:\\nkeşke aynı kalabalık ay önce yunan abd ordusu ege ’ tam ortasında bulunan izmir açıklarındaki iskiri skiros adası ’ ortak tatbikat gerçekleştirip bunun adınada “ düşman ordusunun işgal ettiği adayı kurtarmak olduğu ” dediğinde olsaydı\\n\\nYanıt:')"
   ]
  },
  {
   "cell_type": "code",
   "execution_count": 115,
   "metadata": {
    "execution": {
     "iopub.execute_input": "2024-05-30T20:32:54.802975Z",
     "iopub.status.busy": "2024-05-30T20:32:54.802688Z",
     "iopub.status.idle": "2024-05-30T20:32:54.808620Z",
     "shell.execute_reply": "2024-05-30T20:32:54.807617Z",
     "shell.execute_reply.started": "2024-05-30T20:32:54.802951Z"
    }
   },
   "outputs": [
    {
     "data": {
      "text/plain": [
       "[{'generated_text': '[INST] Aşağıda bir görevi açıklayan bir talimat bulunmaktadır. Talimatı uygun şekilde tamamlayan bir yanıt yazın.\\n\\nTalimat:\\nBu metnin nefret içerikli bir anlamı var mı? Varsa pozitif yoksa negatif şeklinde sınıflandır. Not: Bir metin nefret içeriyorsa veya tehdit, kişisel saldırı, iftira veya istismar gibi metinsel nefret içeriyorsa nefret içerikli olarak sınıflandırılır. Bir metin, olayları bildiriyorsa veya başkalarının görüşlerini nefret içermeyen bir şekilde objektif olarak bildiriyorsa nefret içermeyen olarak kabul edilir.\\n\\nMetin:\\nkeşke aynı kalabalık ay önce yunan abd ordusu ege ’ tam ortasında bulunan izmir açıklarındaki iskiri skiros adası ’ ortak tatbikat gerçekleştirip bunun adınada “ düşman ordusunun işgal ettiği adayı kurtarmak olduğu ” dediğinde olsaydı\\n\\nYanıt:\\nBu metin nefret içerikli bir anlamı içermemektedir. Metin, bir'}]"
      ]
     },
     "execution_count": 115,
     "metadata": {},
     "output_type": "execute_result"
    }
   ],
   "source": [
    "result4"
   ]
  },
  {
   "cell_type": "code",
   "execution_count": 118,
   "metadata": {
    "execution": {
     "iopub.execute_input": "2024-05-30T20:33:36.595300Z",
     "iopub.status.busy": "2024-05-30T20:33:36.594437Z",
     "iopub.status.idle": "2024-05-30T20:33:39.325639Z",
     "shell.execute_reply": "2024-05-30T20:33:39.324812Z",
     "shell.execute_reply.started": "2024-05-30T20:33:36.595265Z"
    }
   },
   "outputs": [],
   "source": [
    "result5 = pipe(\"'[INST] Aşağıda bir görevi açıklayan bir talimat bulunmaktadır. Talimatı uygun şekilde tamamlayan bir yanıt yazın.\\n\\nTalimat:\\nBu metnin nefret içerikli bir anlamı var mı? Varsa pozitif yoksa negatif şeklinde sınıflandır. Not: Bir metin nefret içeriyorsa veya tehdit, kişisel saldırı, iftira veya istismar gibi metinsel nefret içeriyorsa nefret içerikli olarak sınıflandırılır. Bir metin, olayları bildiriyorsa veya başkalarının görüşlerini nefret içermeyen bir şekilde objektif olarak bildiriyorsa nefret içermeyen olarak kabul edilir.\\n\\nMetin:\\ngözaltına alınan uğur kardaş afgan uyruklu kişinin cesetlerin kolunu keserek altın aldığına ilişkin olaya şahit olmadım ancak şehirde tarz iddialar konuşuluyordu demiş yapmayın\\n\\nYanıt:'\")"
   ]
  },
  {
   "cell_type": "code",
   "execution_count": 119,
   "metadata": {
    "execution": {
     "iopub.execute_input": "2024-05-30T20:33:39.327312Z",
     "iopub.status.busy": "2024-05-30T20:33:39.327032Z",
     "iopub.status.idle": "2024-05-30T20:33:39.333800Z",
     "shell.execute_reply": "2024-05-30T20:33:39.332785Z",
     "shell.execute_reply.started": "2024-05-30T20:33:39.327286Z"
    }
   },
   "outputs": [
    {
     "data": {
      "text/plain": [
       "[{'generated_text': \"'[INST] Aşağıda bir görevi açıklayan bir talimat bulunmaktadır. Talimatı uygun şekilde tamamlayan bir yanıt yazın.\\n\\nTalimat:\\nBu metnin nefret içerikli bir anlamı var mı? Varsa pozitif yoksa negatif şeklinde sınıflandır. Not: Bir metin nefret içeriyorsa veya tehdit, kişisel saldırı, iftira veya istismar gibi metinsel nefret içeriyorsa nefret içerikli olarak sınıflandırılır. Bir metin, olayları bildiriyorsa veya başkalarının görüşlerini nefret içermeyen bir şekilde objektif olarak bildiriyorsa nefret içermeyen olarak kabul edilir.\\n\\nMetin:\\ngözaltına alınan uğur kardaş afgan uyruklu kişinin cesetlerin kolunu keserek altın aldığına ilişkin olaya şahit olmadım ancak şehirde tarz iddialar konuşuluyordu demiş yapmayın\\n\\nYanıt:'':\\nBu metin nefret içerikli bir anlamı içermemektedir. Metin,\"}]"
      ]
     },
     "execution_count": 119,
     "metadata": {},
     "output_type": "execute_result"
    }
   ],
   "source": [
    "result5"
   ]
  },
  {
   "cell_type": "code",
   "execution_count": 120,
   "metadata": {
    "execution": {
     "iopub.execute_input": "2024-05-30T20:34:19.834125Z",
     "iopub.status.busy": "2024-05-30T20:34:19.833487Z",
     "iopub.status.idle": "2024-05-30T20:34:19.841119Z",
     "shell.execute_reply": "2024-05-30T20:34:19.840100Z",
     "shell.execute_reply.started": "2024-05-30T20:34:19.834092Z"
    }
   },
   "outputs": [],
   "source": [
    "def new_predict(data, model, tokenizer):\n",
    "    y_pred = []\n",
    "    \n",
    "    for i in range(len(data)):        \n",
    "        prompt = data[i][\"text\"]\n",
    "        \n",
    "        pipe = pipeline(task=\"text-generation\", \n",
    "                        model=model, \n",
    "                        tokenizer=tokenizer, \n",
    "                        max_new_tokens = 15, \n",
    "                        temperature = 0.0,\n",
    "                       )\n",
    "        \n",
    "        result = pipe(prompt)\n",
    "        \n",
    "        answer = result[0]['generated_text'].split(\":\")[-1]\n",
    "        #print(answer)\n",
    "        \n",
    "        if \"içermemektedir\" in answer:\n",
    "            y_pred.append(\"negatif\")   # 0 - negatif\n",
    "        elif \"içermektedir\" in answer:\n",
    "            y_pred.append(\"pozitif\")   # 1 - pozitif\n",
    "        else:\n",
    "            y_pred.append(\"none\")\n",
    "\n",
    "    return y_pred"
   ]
  },
  {
   "cell_type": "code",
   "execution_count": 121,
   "metadata": {
    "collapsed": true,
    "execution": {
     "iopub.execute_input": "2024-05-30T20:34:20.528801Z",
     "iopub.status.busy": "2024-05-30T20:34:20.528444Z",
     "iopub.status.idle": "2024-05-30T20:55:21.719723Z",
     "shell.execute_reply": "2024-05-30T20:55:21.718796Z",
     "shell.execute_reply.started": "2024-05-30T20:34:20.528774Z"
    },
    "jupyter": {
     "outputs_hidden": true
    }
   },
   "outputs": [
    {
     "data": {
      "text/plain": [
       "['pozitif',\n",
       " 'negatif',\n",
       " 'negatif',\n",
       " 'negatif',\n",
       " 'negatif',\n",
       " 'pozitif',\n",
       " 'none',\n",
       " 'negatif',\n",
       " 'pozitif',\n",
       " 'pozitif',\n",
       " 'negatif',\n",
       " 'negatif',\n",
       " 'negatif',\n",
       " 'negatif',\n",
       " 'pozitif',\n",
       " 'negatif',\n",
       " 'pozitif',\n",
       " 'pozitif',\n",
       " 'pozitif',\n",
       " 'pozitif',\n",
       " 'pozitif',\n",
       " 'pozitif',\n",
       " 'negatif',\n",
       " 'pozitif',\n",
       " 'pozitif',\n",
       " 'negatif',\n",
       " 'pozitif',\n",
       " 'negatif',\n",
       " 'none',\n",
       " 'negatif',\n",
       " 'negatif',\n",
       " 'pozitif',\n",
       " 'negatif',\n",
       " 'negatif',\n",
       " 'negatif',\n",
       " 'pozitif',\n",
       " 'negatif',\n",
       " 'pozitif',\n",
       " 'pozitif',\n",
       " 'pozitif',\n",
       " 'negatif',\n",
       " 'pozitif',\n",
       " 'negatif',\n",
       " 'negatif',\n",
       " 'pozitif',\n",
       " 'negatif',\n",
       " 'pozitif',\n",
       " 'negatif',\n",
       " 'pozitif',\n",
       " 'negatif',\n",
       " 'pozitif',\n",
       " 'pozitif',\n",
       " 'negatif',\n",
       " 'pozitif',\n",
       " 'negatif',\n",
       " 'negatif',\n",
       " 'negatif',\n",
       " 'pozitif',\n",
       " 'negatif',\n",
       " 'pozitif',\n",
       " 'pozitif',\n",
       " 'pozitif',\n",
       " 'pozitif',\n",
       " 'pozitif',\n",
       " 'pozitif',\n",
       " 'pozitif',\n",
       " 'pozitif',\n",
       " 'pozitif',\n",
       " 'pozitif',\n",
       " 'pozitif',\n",
       " 'pozitif',\n",
       " 'pozitif',\n",
       " 'none',\n",
       " 'pozitif',\n",
       " 'pozitif',\n",
       " 'pozitif',\n",
       " 'negatif',\n",
       " 'negatif',\n",
       " 'negatif',\n",
       " 'negatif',\n",
       " 'pozitif',\n",
       " 'negatif',\n",
       " 'pozitif',\n",
       " 'pozitif',\n",
       " 'pozitif',\n",
       " 'negatif',\n",
       " 'pozitif',\n",
       " 'negatif',\n",
       " 'pozitif',\n",
       " 'pozitif',\n",
       " 'negatif',\n",
       " 'pozitif',\n",
       " 'negatif',\n",
       " 'negatif',\n",
       " 'pozitif',\n",
       " 'negatif',\n",
       " 'pozitif',\n",
       " 'pozitif',\n",
       " 'negatif',\n",
       " 'none',\n",
       " 'pozitif',\n",
       " 'pozitif',\n",
       " 'pozitif',\n",
       " 'none',\n",
       " 'negatif',\n",
       " 'pozitif',\n",
       " 'negatif',\n",
       " 'pozitif',\n",
       " 'negatif',\n",
       " 'pozitif',\n",
       " 'negatif',\n",
       " 'pozitif',\n",
       " 'pozitif',\n",
       " 'pozitif',\n",
       " 'pozitif',\n",
       " 'negatif',\n",
       " 'negatif',\n",
       " 'pozitif',\n",
       " 'pozitif',\n",
       " 'pozitif',\n",
       " 'negatif',\n",
       " 'negatif',\n",
       " 'pozitif',\n",
       " 'pozitif',\n",
       " 'pozitif',\n",
       " 'pozitif',\n",
       " 'negatif',\n",
       " 'pozitif',\n",
       " 'negatif',\n",
       " 'negatif',\n",
       " 'negatif',\n",
       " 'pozitif',\n",
       " 'pozitif',\n",
       " 'pozitif',\n",
       " 'negatif',\n",
       " 'negatif',\n",
       " 'pozitif',\n",
       " 'negatif',\n",
       " 'negatif',\n",
       " 'negatif',\n",
       " 'pozitif',\n",
       " 'pozitif',\n",
       " 'pozitif',\n",
       " 'negatif',\n",
       " 'negatif',\n",
       " 'pozitif',\n",
       " 'negatif',\n",
       " 'negatif',\n",
       " 'pozitif',\n",
       " 'negatif',\n",
       " 'pozitif',\n",
       " 'pozitif',\n",
       " 'pozitif',\n",
       " 'pozitif',\n",
       " 'pozitif',\n",
       " 'pozitif',\n",
       " 'negatif',\n",
       " 'negatif',\n",
       " 'negatif',\n",
       " 'pozitif',\n",
       " 'pozitif',\n",
       " 'pozitif',\n",
       " 'pozitif',\n",
       " 'negatif',\n",
       " 'negatif',\n",
       " 'pozitif',\n",
       " 'pozitif',\n",
       " 'negatif',\n",
       " 'negatif',\n",
       " 'pozitif',\n",
       " 'pozitif',\n",
       " 'pozitif',\n",
       " 'pozitif',\n",
       " 'pozitif',\n",
       " 'pozitif',\n",
       " 'none',\n",
       " 'pozitif',\n",
       " 'pozitif',\n",
       " 'pozitif',\n",
       " 'negatif',\n",
       " 'negatif',\n",
       " 'pozitif',\n",
       " 'pozitif',\n",
       " 'pozitif',\n",
       " 'negatif',\n",
       " 'negatif',\n",
       " 'negatif',\n",
       " 'pozitif',\n",
       " 'pozitif',\n",
       " 'negatif',\n",
       " 'none',\n",
       " 'pozitif',\n",
       " 'negatif',\n",
       " 'pozitif',\n",
       " 'pozitif',\n",
       " 'pozitif',\n",
       " 'negatif',\n",
       " 'pozitif',\n",
       " 'negatif',\n",
       " 'pozitif',\n",
       " 'pozitif',\n",
       " 'pozitif',\n",
       " 'negatif',\n",
       " 'pozitif',\n",
       " 'negatif',\n",
       " 'negatif',\n",
       " 'negatif',\n",
       " 'negatif',\n",
       " 'negatif',\n",
       " 'negatif',\n",
       " 'pozitif',\n",
       " 'pozitif',\n",
       " 'negatif',\n",
       " 'negatif',\n",
       " 'pozitif',\n",
       " 'negatif',\n",
       " 'negatif',\n",
       " 'pozitif',\n",
       " 'pozitif',\n",
       " 'pozitif',\n",
       " 'negatif',\n",
       " 'pozitif',\n",
       " 'pozitif',\n",
       " 'negatif',\n",
       " 'negatif',\n",
       " 'negatif',\n",
       " 'negatif',\n",
       " 'negatif',\n",
       " 'negatif',\n",
       " 'negatif',\n",
       " 'pozitif',\n",
       " 'negatif',\n",
       " 'negatif',\n",
       " 'pozitif',\n",
       " 'pozitif',\n",
       " 'negatif',\n",
       " 'pozitif',\n",
       " 'negatif',\n",
       " 'pozitif',\n",
       " 'pozitif',\n",
       " 'pozitif',\n",
       " 'negatif',\n",
       " 'pozitif',\n",
       " 'pozitif',\n",
       " 'pozitif',\n",
       " 'pozitif',\n",
       " 'negatif',\n",
       " 'negatif',\n",
       " 'negatif',\n",
       " 'negatif',\n",
       " 'negatif',\n",
       " 'pozitif',\n",
       " 'negatif',\n",
       " 'pozitif',\n",
       " 'pozitif',\n",
       " 'negatif',\n",
       " 'pozitif',\n",
       " 'pozitif',\n",
       " 'pozitif',\n",
       " 'pozitif',\n",
       " 'pozitif',\n",
       " 'pozitif',\n",
       " 'negatif',\n",
       " 'pozitif',\n",
       " 'negatif',\n",
       " 'negatif',\n",
       " 'pozitif',\n",
       " 'pozitif',\n",
       " 'pozitif',\n",
       " 'negatif',\n",
       " 'pozitif',\n",
       " 'pozitif',\n",
       " 'pozitif',\n",
       " 'pozitif',\n",
       " 'pozitif',\n",
       " 'negatif',\n",
       " 'pozitif',\n",
       " 'negatif',\n",
       " 'negatif',\n",
       " 'negatif',\n",
       " 'negatif',\n",
       " 'negatif',\n",
       " 'pozitif',\n",
       " 'pozitif',\n",
       " 'pozitif',\n",
       " 'pozitif',\n",
       " 'pozitif',\n",
       " 'none',\n",
       " 'negatif',\n",
       " 'pozitif',\n",
       " 'negatif',\n",
       " 'pozitif',\n",
       " 'pozitif',\n",
       " 'pozitif',\n",
       " 'pozitif',\n",
       " 'negatif',\n",
       " 'negatif',\n",
       " 'pozitif',\n",
       " 'none',\n",
       " 'pozitif',\n",
       " 'negatif',\n",
       " 'negatif',\n",
       " 'pozitif',\n",
       " 'pozitif',\n",
       " 'pozitif',\n",
       " 'pozitif',\n",
       " 'none',\n",
       " 'pozitif',\n",
       " 'negatif',\n",
       " 'pozitif',\n",
       " 'negatif',\n",
       " 'pozitif',\n",
       " 'negatif',\n",
       " 'pozitif',\n",
       " 'pozitif',\n",
       " 'pozitif',\n",
       " 'pozitif',\n",
       " 'pozitif',\n",
       " 'pozitif',\n",
       " 'negatif',\n",
       " 'negatif',\n",
       " 'pozitif',\n",
       " 'pozitif',\n",
       " 'negatif',\n",
       " 'negatif',\n",
       " 'pozitif',\n",
       " 'pozitif',\n",
       " 'none',\n",
       " 'pozitif',\n",
       " 'pozitif',\n",
       " 'pozitif',\n",
       " 'pozitif',\n",
       " 'pozitif',\n",
       " 'negatif',\n",
       " 'negatif',\n",
       " 'negatif',\n",
       " 'pozitif',\n",
       " 'negatif',\n",
       " 'pozitif',\n",
       " 'pozitif',\n",
       " 'pozitif',\n",
       " 'pozitif',\n",
       " 'pozitif',\n",
       " 'pozitif',\n",
       " 'pozitif',\n",
       " 'none',\n",
       " 'pozitif',\n",
       " 'negatif',\n",
       " 'negatif',\n",
       " 'negatif',\n",
       " 'pozitif',\n",
       " 'negatif',\n",
       " 'pozitif',\n",
       " 'negatif',\n",
       " 'negatif',\n",
       " 'pozitif',\n",
       " 'pozitif',\n",
       " 'pozitif',\n",
       " 'negatif',\n",
       " 'negatif',\n",
       " 'pozitif',\n",
       " 'pozitif',\n",
       " 'negatif',\n",
       " 'pozitif',\n",
       " 'negatif',\n",
       " 'pozitif',\n",
       " 'negatif',\n",
       " 'negatif',\n",
       " 'pozitif',\n",
       " 'negatif',\n",
       " 'pozitif',\n",
       " 'pozitif',\n",
       " 'pozitif',\n",
       " 'pozitif',\n",
       " 'negatif',\n",
       " 'negatif',\n",
       " 'pozitif',\n",
       " 'pozitif',\n",
       " 'negatif',\n",
       " 'pozitif',\n",
       " 'pozitif',\n",
       " 'negatif',\n",
       " 'pozitif',\n",
       " 'negatif',\n",
       " 'pozitif',\n",
       " 'pozitif',\n",
       " 'negatif',\n",
       " 'negatif',\n",
       " 'negatif',\n",
       " 'pozitif',\n",
       " 'pozitif',\n",
       " 'negatif',\n",
       " 'pozitif',\n",
       " 'pozitif',\n",
       " 'pozitif',\n",
       " 'negatif',\n",
       " 'pozitif',\n",
       " 'negatif',\n",
       " 'pozitif',\n",
       " 'pozitif',\n",
       " 'negatif',\n",
       " 'pozitif',\n",
       " 'pozitif',\n",
       " 'pozitif',\n",
       " 'pozitif',\n",
       " 'pozitif',\n",
       " 'pozitif',\n",
       " 'negatif',\n",
       " 'pozitif',\n",
       " 'negatif',\n",
       " 'pozitif',\n",
       " 'pozitif',\n",
       " 'negatif',\n",
       " 'pozitif',\n",
       " 'negatif',\n",
       " 'pozitif',\n",
       " 'negatif',\n",
       " 'pozitif',\n",
       " 'pozitif',\n",
       " 'negatif',\n",
       " 'pozitif',\n",
       " 'pozitif',\n",
       " 'none',\n",
       " 'pozitif',\n",
       " 'pozitif',\n",
       " 'pozitif',\n",
       " 'negatif',\n",
       " 'pozitif',\n",
       " 'negatif',\n",
       " 'pozitif',\n",
       " 'pozitif',\n",
       " 'negatif',\n",
       " 'pozitif',\n",
       " 'negatif',\n",
       " 'pozitif',\n",
       " 'pozitif',\n",
       " 'pozitif',\n",
       " 'pozitif',\n",
       " 'pozitif',\n",
       " 'negatif',\n",
       " 'pozitif',\n",
       " 'negatif',\n",
       " 'negatif',\n",
       " 'pozitif',\n",
       " 'negatif',\n",
       " 'pozitif',\n",
       " 'pozitif',\n",
       " 'pozitif',\n",
       " 'pozitif',\n",
       " 'pozitif',\n",
       " 'pozitif',\n",
       " 'pozitif',\n",
       " 'negatif',\n",
       " 'pozitif',\n",
       " 'pozitif',\n",
       " 'pozitif',\n",
       " 'negatif',\n",
       " 'negatif',\n",
       " 'pozitif',\n",
       " 'none',\n",
       " 'negatif',\n",
       " 'negatif',\n",
       " 'pozitif',\n",
       " 'negatif',\n",
       " 'negatif',\n",
       " 'pozitif',\n",
       " 'negatif',\n",
       " 'pozitif',\n",
       " 'negatif',\n",
       " 'pozitif',\n",
       " 'negatif',\n",
       " 'negatif',\n",
       " 'pozitif',\n",
       " 'pozitif',\n",
       " 'pozitif',\n",
       " 'negatif',\n",
       " 'pozitif',\n",
       " 'pozitif',\n",
       " 'negatif',\n",
       " 'negatif',\n",
       " 'negatif',\n",
       " 'negatif',\n",
       " 'negatif',\n",
       " 'pozitif',\n",
       " 'pozitif',\n",
       " 'pozitif',\n",
       " 'pozitif',\n",
       " 'negatif',\n",
       " 'pozitif',\n",
       " 'negatif',\n",
       " 'negatif',\n",
       " 'negatif',\n",
       " 'negatif',\n",
       " 'pozitif',\n",
       " 'pozitif',\n",
       " 'negatif',\n",
       " 'negatif',\n",
       " 'negatif',\n",
       " 'negatif',\n",
       " 'pozitif']"
      ]
     },
     "execution_count": 121,
     "metadata": {},
     "output_type": "execute_result"
    }
   ],
   "source": [
    "y_pred = new_predict(preprocessed_test, model, tokenizer)\n",
    "y_pred"
   ]
  },
  {
   "cell_type": "code",
   "execution_count": 122,
   "metadata": {
    "execution": {
     "iopub.execute_input": "2024-05-30T20:56:12.993718Z",
     "iopub.status.busy": "2024-05-30T20:56:12.993349Z",
     "iopub.status.idle": "2024-05-30T20:56:12.999502Z",
     "shell.execute_reply": "2024-05-30T20:56:12.998600Z",
     "shell.execute_reply.started": "2024-05-30T20:56:12.993688Z"
    }
   },
   "outputs": [
    {
     "data": {
      "text/plain": [
       "14"
      ]
     },
     "execution_count": 122,
     "metadata": {},
     "output_type": "execute_result"
    }
   ],
   "source": [
    "y_pred.count(\"none\")"
   ]
  },
  {
   "cell_type": "code",
   "execution_count": 123,
   "metadata": {
    "execution": {
     "iopub.execute_input": "2024-05-30T20:56:46.564165Z",
     "iopub.status.busy": "2024-05-30T20:56:46.563808Z",
     "iopub.status.idle": "2024-05-30T20:56:46.569762Z",
     "shell.execute_reply": "2024-05-30T20:56:46.568791Z",
     "shell.execute_reply.started": "2024-05-30T20:56:46.564133Z"
    }
   },
   "outputs": [
    {
     "name": "stdout",
     "output_type": "stream",
     "text": [
      "0\n"
     ]
    }
   ],
   "source": [
    "y_pred_copy = y_pred.copy()\n",
    "y_pred_copy = [p.replace(\"none\", \"negatif\") for p in y_pred_copy]\n",
    "\n",
    "print(y_pred_copy.count(\"none\"))"
   ]
  },
  {
   "cell_type": "code",
   "execution_count": 125,
   "metadata": {
    "execution": {
     "iopub.execute_input": "2024-05-30T20:57:16.542083Z",
     "iopub.status.busy": "2024-05-30T20:57:16.541698Z",
     "iopub.status.idle": "2024-05-30T20:57:16.833687Z",
     "shell.execute_reply": "2024-05-30T20:57:16.832686Z",
     "shell.execute_reply.started": "2024-05-30T20:57:16.542047Z"
    }
   },
   "outputs": [
    {
     "data": {
      "image/png": "[encoded data removed]",
      "text/plain": [
       "<Figure size 640x480 with 2 Axes>"
      ]
     },
     "metadata": {},
     "output_type": "display_data"
    }
   ],
   "source": [
    "label_map = {\n",
    "    'LABEL_0': 'Non-Hate',\n",
    "    'LABEL_1': 'Hate',\n",
    "}\n",
    "\n",
    "cm = confusion_matrix(y_true, y_pred_copy)\n",
    "\n",
    "# label_map to labels\n",
    "labels = [label_map[f'LABEL_{i}'] for i in range(len(label_map))]\n",
    "\n",
    "# Confusion Matrix\n",
    "sns.heatmap(cm, annot=True, fmt='d', cmap='Blues', xticklabels=labels, yticklabels=labels)\n",
    "plt.xlabel('Predicted labels')\n",
    "plt.ylabel('True labels')\n",
    "plt.title('Confusion Matrix with Label Names')\n",
    "plt.show()"
   ]
  },
  {
   "cell_type": "code",
   "execution_count": 126,
   "metadata": {
    "execution": {
     "iopub.execute_input": "2024-05-30T20:57:39.639362Z",
     "iopub.status.busy": "2024-05-30T20:57:39.638541Z",
     "iopub.status.idle": "2024-05-30T20:57:39.659197Z",
     "shell.execute_reply": "2024-05-30T20:57:39.658300Z",
     "shell.execute_reply.started": "2024-05-30T20:57:39.639331Z"
    }
   },
   "outputs": [
    {
     "name": "stdout",
     "output_type": "stream",
     "text": [
      "              precision    recall  f1-score   support\n",
      "\n",
      "     negatif       0.18      0.25      0.21       157\n",
      "     pozitif       0.58      0.48      0.53       343\n",
      "\n",
      "    accuracy                           0.41       500\n",
      "   macro avg       0.38      0.36      0.37       500\n",
      "weighted avg       0.46      0.41      0.43       500\n",
      "\n"
     ]
    }
   ],
   "source": [
    "print(classification_report(y_true, y_pred_copy))"
   ]
  },
  {
   "cell_type": "code",
   "execution_count": 127,
   "metadata": {
    "execution": {
     "iopub.execute_input": "2024-05-30T20:58:04.237611Z",
     "iopub.status.busy": "2024-05-30T20:58:04.236909Z",
     "iopub.status.idle": "2024-05-30T20:58:04.250261Z",
     "shell.execute_reply": "2024-05-30T20:58:04.249306Z",
     "shell.execute_reply.started": "2024-05-30T20:58:04.237578Z"
    }
   },
   "outputs": [
    {
     "data": {
      "text/plain": [
       "0.36785634962669356"
      ]
     },
     "execution_count": 127,
     "metadata": {},
     "output_type": "execute_result"
    }
   ],
   "source": [
    "f1_score(y_true, y_pred_copy, average='macro')"
   ]
  },
  {
   "cell_type": "code",
   "execution_count": 128,
   "metadata": {
    "execution": {
     "iopub.execute_input": "2024-05-30T20:58:16.931026Z",
     "iopub.status.busy": "2024-05-30T20:58:16.930661Z",
     "iopub.status.idle": "2024-05-30T20:58:16.943887Z",
     "shell.execute_reply": "2024-05-30T20:58:16.942879Z",
     "shell.execute_reply.started": "2024-05-30T20:58:16.930998Z"
    }
   },
   "outputs": [
    {
     "data": {
      "text/plain": [
       "0.408"
      ]
     },
     "execution_count": 128,
     "metadata": {},
     "output_type": "execute_result"
    }
   ],
   "source": [
    "f1_score(y_true, y_pred_copy, average='micro')"
   ]
  },
  {
   "cell_type": "code",
   "execution_count": 129,
   "metadata": {
    "execution": {
     "iopub.execute_input": "2024-05-30T20:58:29.158346Z",
     "iopub.status.busy": "2024-05-30T20:58:29.157999Z",
     "iopub.status.idle": "2024-05-30T20:58:29.170597Z",
     "shell.execute_reply": "2024-05-30T20:58:29.169715Z",
     "shell.execute_reply.started": "2024-05-30T20:58:29.158318Z"
    }
   },
   "outputs": [
    {
     "data": {
      "text/plain": [
       "0.4271160239872888"
      ]
     },
     "execution_count": 129,
     "metadata": {},
     "output_type": "execute_result"
    }
   ],
   "source": [
    "f1_score(y_true, y_pred_copy, average='weighted')"
   ]
  },
  {
   "cell_type": "code",
   "execution_count": null,
   "metadata": {},
   "outputs": [],
   "source": []
  },
  {
   "cell_type": "code",
   "execution_count": null,
   "metadata": {
    "id": "juRUMhL_Mtp-"
   },
   "outputs": [],
   "source": []
  },
  {
   "cell_type": "code",
   "execution_count": null,
   "metadata": {
    "id": "TcE9qibtOV27"
   },
   "outputs": [],
   "source": []
  }
 ],
 "metadata": {
  "accelerator": "GPU",
  "colab": {
   "authorship_tag": "ABX9TyN7j2qbhdu9gBUFd4oUlpXJ",
   "gpuType": "T4",
   "provenance": []
  },
  "kaggle": {
   "accelerator": "nvidiaTeslaT4",
   "dataSources": [
    {
     "datasetId": 4476371,
     "sourceId": 7674015,
     "sourceType": "datasetVersion"
    }
   ],
   "dockerImageVersionId": 30699,
   "isGpuEnabled": true,
   "isInternetEnabled": true,
   "language": "python",
   "sourceType": "notebook"
  },
  "kernelspec": {
   "display_name": "Python 3 (ipykernel)",
   "language": "python",
   "name": "python3"
  },
  "language_info": {
   "codemirror_mode": {
    "name": "ipython",
    "version": 3
   },
   "file_extension": ".py",
   "mimetype": "text/x-python",
   "name": "python",
   "nbconvert_exporter": "python",
   "pygments_lexer": "ipython3",
   "version": "3.10.6"
  },
  "widgets": {
   "application/vnd.jupyter.widget-state+json": {
    "012cd7546a724d1e9aa82ce805327719": {
     "model_module": "@jupyter-widgets/controls",
     "model_module_version": "1.5.0",
     "model_name": "DescriptionStyleModel",
     "state": {
      "_model_module": "@jupyter-widgets/controls",
      "_model_module_version": "1.5.0",
      "_model_name": "DescriptionStyleModel",
      "_view_count": null,
      "_view_module": "@jupyter-widgets/base",
      "_view_module_version": "1.2.0",
      "_view_name": "StyleView",
      "description_width": ""
     }
    },
    "01c4dbec06b343d18ca7166ea537629c": {
     "model_module": "@jupyter-widgets/base",
     "model_module_version": "1.2.0",
     "model_name": "LayoutModel",
     "state": {
      "_model_module": "@jupyter-widgets/base",
      "_model_module_version": "1.2.0",
      "_model_name": "LayoutModel",
      "_view_count": null,
      "_view_module": "@jupyter-widgets/base",
      "_view_module_version": "1.2.0",
      "_view_name": "LayoutView",
      "align_content": null,
      "align_items": null,
      "align_self": null,
      "border": null,
      "bottom": null,
      "display": null,
      "flex": null,
      "flex_flow": null,
      "grid_area": null,
      "grid_auto_columns": null,
      "grid_auto_flow": null,
      "grid_auto_rows": null,
      "grid_column": null,
      "grid_gap": null,
      "grid_row": null,
      "grid_template_areas": null,
      "grid_template_columns": null,
      "grid_template_rows": null,
      "height": null,
      "justify_content": null,
      "justify_items": null,
      "left": null,
      "margin": null,
      "max_height": null,
      "max_width": null,
      "min_height": null,
      "min_width": null,
      "object_fit": null,
      "object_position": null,
      "order": null,
      "overflow": null,
      "overflow_x": null,
      "overflow_y": null,
      "padding": null,
      "right": null,
      "top": null,
      "visibility": null,
      "width": "20px"
     }
    },
    "06fe02dca6d64a688207e8ae8d87e532": {
     "model_module": "@jupyter-widgets/controls",
     "model_module_version": "1.5.0",
     "model_name": "HBoxModel",
     "state": {
      "_dom_classes": [],
      "_model_module": "@jupyter-widgets/controls",
      "_model_module_version": "1.5.0",
      "_model_name": "HBoxModel",
      "_view_count": null,
      "_view_module": "@jupyter-widgets/controls",
      "_view_module_version": "1.5.0",
      "_view_name": "HBoxView",
      "box_style": "",
      "children": [
       "IPY_MODEL_f2c94128196f46488cafbf518e26de19",
       "IPY_MODEL_77d50d641ce249c9ab2d7a26c32a8b54",
       "IPY_MODEL_2ce18f7631c34b3db2a14e0f3ef197b9"
      ],
      "layout": "IPY_MODEL_7ea6308fb0444ee7b1fb753f1a51db07"
     }
    },
    "071637dc0df1470495ad9ffbdd7be316": {
     "model_module": "@jupyter-widgets/controls",
     "model_module_version": "1.5.0",
     "model_name": "ProgressStyleModel",
     "state": {
      "_model_module": "@jupyter-widgets/controls",
      "_model_module_version": "1.5.0",
      "_model_name": "ProgressStyleModel",
      "_view_count": null,
      "_view_module": "@jupyter-widgets/base",
      "_view_module_version": "1.2.0",
      "_view_name": "StyleView",
      "bar_color": null,
      "description_width": ""
     }
    },
    "08a9112251244ff39ac1b7dbbc0a776a": {
     "model_module": "@jupyter-widgets/controls",
     "model_module_version": "1.5.0",
     "model_name": "DescriptionStyleModel",
     "state": {
      "_model_module": "@jupyter-widgets/controls",
      "_model_module_version": "1.5.0",
      "_model_name": "DescriptionStyleModel",
      "_view_count": null,
      "_view_module": "@jupyter-widgets/base",
      "_view_module_version": "1.2.0",
      "_view_name": "StyleView",
      "description_width": ""
     }
    },
    "096817325dfe4969963ce9a48ffe1a63": {
     "model_module": "@jupyter-widgets/base",
     "model_module_version": "1.2.0",
     "model_name": "LayoutModel",
     "state": {
      "_model_module": "@jupyter-widgets/base",
      "_model_module_version": "1.2.0",
      "_model_name": "LayoutModel",
      "_view_count": null,
      "_view_module": "@jupyter-widgets/base",
      "_view_module_version": "1.2.0",
      "_view_name": "LayoutView",
      "align_content": null,
      "align_items": null,
      "align_self": null,
      "border": null,
      "bottom": null,
      "display": null,
      "flex": null,
      "flex_flow": null,
      "grid_area": null,
      "grid_auto_columns": null,
      "grid_auto_flow": null,
      "grid_auto_rows": null,
      "grid_column": null,
      "grid_gap": null,
      "grid_row": null,
      "grid_template_areas": null,
      "grid_template_columns": null,
      "grid_template_rows": null,
      "height": null,
      "justify_content": null,
      "justify_items": null,
      "left": null,
      "margin": null,
      "max_height": null,
      "max_width": null,
      "min_height": null,
      "min_width": null,
      "object_fit": null,
      "object_position": null,
      "order": null,
      "overflow": null,
      "overflow_x": null,
      "overflow_y": null,
      "padding": null,
      "right": null,
      "top": null,
      "visibility": null,
      "width": null
     }
    },
    "0db63aca86b849abbde55c6c52bfdf8a": {
     "model_module": "@jupyter-widgets/controls",
     "model_module_version": "1.5.0",
     "model_name": "HTMLModel",
     "state": {
      "_dom_classes": [],
      "_model_module": "@jupyter-widgets/controls",
      "_model_module_version": "1.5.0",
      "_model_name": "HTMLModel",
      "_view_count": null,
      "_view_module": "@jupyter-widgets/controls",
      "_view_module_version": "1.5.0",
      "_view_name": "HTMLView",
      "description": "",
      "description_tooltip": null,
      "layout": "IPY_MODEL_18ca3691c733474682df38598f2ad70f",
      "placeholder": "​",
      "style": "IPY_MODEL_a4eb042e0b3a49e0910b94ce5fcc11a6",
      "value": "Generating train split: "
     }
    },
    "0e102c457d5a4d7eaca0c99acb8eb17d": {
     "model_module": "@jupyter-widgets/controls",
     "model_module_version": "1.5.0",
     "model_name": "DescriptionStyleModel",
     "state": {
      "_model_module": "@jupyter-widgets/controls",
      "_model_module_version": "1.5.0",
      "_model_name": "DescriptionStyleModel",
      "_view_count": null,
      "_view_module": "@jupyter-widgets/base",
      "_view_module_version": "1.2.0",
      "_view_name": "StyleView",
      "description_width": ""
     }
    },
    "104dc0111b4a4f2cabe0568b4e85ab28": {
     "model_module": "@jupyter-widgets/controls",
     "model_module_version": "1.5.0",
     "model_name": "HTMLModel",
     "state": {
      "_dom_classes": [],
      "_model_module": "@jupyter-widgets/controls",
      "_model_module_version": "1.5.0",
      "_model_name": "HTMLModel",
      "_view_count": null,
      "_view_module": "@jupyter-widgets/controls",
      "_view_module_version": "1.5.0",
      "_view_name": "HTMLView",
      "description": "",
      "description_tooltip": null,
      "layout": "IPY_MODEL_90eea7e3555f4d029a86b9058fd5bc5a",
      "placeholder": "​",
      "style": "IPY_MODEL_8038497ddf6f427da0ee23d467e58659",
      "value": " 3/3 [02:11&lt;00:00, 42.20s/it]"
     }
    },
    "105af6f0b19d4f9b8f03cb1520782de0": {
     "model_module": "@jupyter-widgets/controls",
     "model_module_version": "1.5.0",
     "model_name": "FloatProgressModel",
     "state": {
      "_dom_classes": [],
      "_model_module": "@jupyter-widgets/controls",
      "_model_module_version": "1.5.0",
      "_model_name": "FloatProgressModel",
      "_view_count": null,
      "_view_module": "@jupyter-widgets/controls",
      "_view_module_version": "1.5.0",
      "_view_name": "ProgressView",
      "bar_style": "success",
      "description": "",
      "description_tooltip": null,
      "layout": "IPY_MODEL_118960f0de3149e4b92a1a577484db4b",
      "max": 4842720040,
      "min": 0,
      "orientation": "horizontal",
      "style": "IPY_MODEL_60de3ec2ac8444d785e3b37e7359f41b",
      "value": 4842720040
     }
    },
    "118960f0de3149e4b92a1a577484db4b": {
     "model_module": "@jupyter-widgets/base",
     "model_module_version": "1.2.0",
     "model_name": "LayoutModel",
     "state": {
      "_model_module": "@jupyter-widgets/base",
      "_model_module_version": "1.2.0",
      "_model_name": "LayoutModel",
      "_view_count": null,
      "_view_module": "@jupyter-widgets/base",
      "_view_module_version": "1.2.0",
      "_view_name": "LayoutView",
      "align_content": null,
      "align_items": null,
      "align_self": null,
      "border": null,
      "bottom": null,
      "display": null,
      "flex": null,
      "flex_flow": null,
      "grid_area": null,
      "grid_auto_columns": null,
      "grid_auto_flow": null,
      "grid_auto_rows": null,
      "grid_column": null,
      "grid_gap": null,
      "grid_row": null,
      "grid_template_areas": null,
      "grid_template_columns": null,
      "grid_template_rows": null,
      "height": null,
      "justify_content": null,
      "justify_items": null,
      "left": null,
      "margin": null,
      "max_height": null,
      "max_width": null,
      "min_height": null,
      "min_width": null,
      "object_fit": null,
      "object_position": null,
      "order": null,
      "overflow": null,
      "overflow_x": null,
      "overflow_y": null,
      "padding": null,
      "right": null,
      "top": null,
      "visibility": null,
      "width": null
     }
    },
    "143f552b5ae34621af80cf329ebfac58": {
     "model_module": "@jupyter-widgets/controls",
     "model_module_version": "1.5.0",
     "model_name": "HTMLModel",
     "state": {
      "_dom_classes": [],
      "_model_module": "@jupyter-widgets/controls",
      "_model_module_version": "1.5.0",
      "_model_name": "HTMLModel",
      "_view_count": null,
      "_view_module": "@jupyter-widgets/controls",
      "_view_module_version": "1.5.0",
      "_view_name": "HTMLView",
      "description": "",
      "description_tooltip": null,
      "layout": "IPY_MODEL_154978c429974325af6a0169bcb82abc",
      "placeholder": "​",
      "style": "IPY_MODEL_58230bdb88bd425a99d0321a3b75f19c",
      "value": "special_tokens_map.json: 100%"
     }
    },
    "154978c429974325af6a0169bcb82abc": {
     "model_module": "@jupyter-widgets/base",
     "model_module_version": "1.2.0",
     "model_name": "LayoutModel",
     "state": {
      "_model_module": "@jupyter-widgets/base",
      "_model_module_version": "1.2.0",
      "_model_name": "LayoutModel",
      "_view_count": null,
      "_view_module": "@jupyter-widgets/base",
      "_view_module_version": "1.2.0",
      "_view_name": "LayoutView",
      "align_content": null,
      "align_items": null,
      "align_self": null,
      "border": null,
      "bottom": null,
      "display": null,
      "flex": null,
      "flex_flow": null,
      "grid_area": null,
      "grid_auto_columns": null,
      "grid_auto_flow": null,
      "grid_auto_rows": null,
      "grid_column": null,
      "grid_gap": null,
      "grid_row": null,
      "grid_template_areas": null,
      "grid_template_columns": null,
      "grid_template_rows": null,
      "height": null,
      "justify_content": null,
      "justify_items": null,
      "left": null,
      "margin": null,
      "max_height": null,
      "max_width": null,
      "min_height": null,
      "min_width": null,
      "object_fit": null,
      "object_position": null,
      "order": null,
      "overflow": null,
      "overflow_x": null,
      "overflow_y": null,
      "padding": null,
      "right": null,
      "top": null,
      "visibility": null,
      "width": null
     }
    },
    "15c9b94cd671475daf29d586551fa84d": {
     "model_module": "@jupyter-widgets/controls",
     "model_module_version": "1.5.0",
     "model_name": "HTMLModel",
     "state": {
      "_dom_classes": [],
      "_model_module": "@jupyter-widgets/controls",
      "_model_module_version": "1.5.0",
      "_model_name": "HTMLModel",
      "_view_count": null,
      "_view_module": "@jupyter-widgets/controls",
      "_view_module_version": "1.5.0",
      "_view_name": "HTMLView",
      "description": "",
      "description_tooltip": null,
      "layout": "IPY_MODEL_98a32537482b4143bdeb0fb541e5a207",
      "placeholder": "​",
      "style": "IPY_MODEL_bdc5eb2954be4bfa8f6b9406e5c8dbb6",
      "value": " 4.92G/4.92G [00:54&lt;00:00, 285MB/s]"
     }
    },
    "18ca3691c733474682df38598f2ad70f": {
     "model_module": "@jupyter-widgets/base",
     "model_module_version": "1.2.0",
     "model_name": "LayoutModel",
     "state": {
      "_model_module": "@jupyter-widgets/base",
      "_model_module_version": "1.2.0",
      "_model_name": "LayoutModel",
      "_view_count": null,
      "_view_module": "@jupyter-widgets/base",
      "_view_module_version": "1.2.0",
      "_view_name": "LayoutView",
      "align_content": null,
      "align_items": null,
      "align_self": null,
      "border": null,
      "bottom": null,
      "display": null,
      "flex": null,
      "flex_flow": null,
      "grid_area": null,
      "grid_auto_columns": null,
      "grid_auto_flow": null,
      "grid_auto_rows": null,
      "grid_column": null,
      "grid_gap": null,
      "grid_row": null,
      "grid_template_areas": null,
      "grid_template_columns": null,
      "grid_template_rows": null,
      "height": null,
      "justify_content": null,
      "justify_items": null,
      "left": null,
      "margin": null,
      "max_height": null,
      "max_width": null,
      "min_height": null,
      "min_width": null,
      "object_fit": null,
      "object_position": null,
      "order": null,
      "overflow": null,
      "overflow_x": null,
      "overflow_y": null,
      "padding": null,
      "right": null,
      "top": null,
      "visibility": null,
      "width": null
     }
    },
    "1a8818f7621a41d8b80dd75a56757d81": {
     "model_module": "@jupyter-widgets/controls",
     "model_module_version": "1.5.0",
     "model_name": "DescriptionStyleModel",
     "state": {
      "_model_module": "@jupyter-widgets/controls",
      "_model_module_version": "1.5.0",
      "_model_name": "DescriptionStyleModel",
      "_view_count": null,
      "_view_module": "@jupyter-widgets/base",
      "_view_module_version": "1.2.0",
      "_view_name": "StyleView",
      "description_width": ""
     }
    },
    "1bbf756ce8bb42799fc895bae2a5fe3c": {
     "model_module": "@jupyter-widgets/controls",
     "model_module_version": "1.5.0",
     "model_name": "FloatProgressModel",
     "state": {
      "_dom_classes": [],
      "_model_module": "@jupyter-widgets/controls",
      "_model_module_version": "1.5.0",
      "_model_name": "FloatProgressModel",
      "_view_count": null,
      "_view_module": "@jupyter-widgets/controls",
      "_view_module_version": "1.5.0",
      "_view_name": "ProgressView",
      "bar_style": "success",
      "description": "",
      "description_tooltip": null,
      "layout": "IPY_MODEL_01c4dbec06b343d18ca7166ea537629c",
      "max": 1,
      "min": 0,
      "orientation": "horizontal",
      "style": "IPY_MODEL_5f976652ec7541959ff50549ad846efc",
      "value": 1
     }
    },
    "1c5cedfa94834b67bf691a9a5de9328e": {
     "model_module": "@jupyter-widgets/controls",
     "model_module_version": "1.5.0",
     "model_name": "FloatProgressModel",
     "state": {
      "_dom_classes": [],
      "_model_module": "@jupyter-widgets/controls",
      "_model_module_version": "1.5.0",
      "_model_name": "FloatProgressModel",
      "_view_count": null,
      "_view_module": "@jupyter-widgets/controls",
      "_view_module_version": "1.5.0",
      "_view_name": "ProgressView",
      "bar_style": "success",
      "description": "",
      "description_tooltip": null,
      "layout": "IPY_MODEL_6f3c83f7484a49cda988e8c732230de2",
      "max": 551,
      "min": 0,
      "orientation": "horizontal",
      "style": "IPY_MODEL_4f19e0f801fd4aeea8a56c67ccacbb1a",
      "value": 551
     }
    },
    "1ca6e36449ee4326b4fd727cfce63022": {
     "model_module": "@jupyter-widgets/controls",
     "model_module_version": "1.5.0",
     "model_name": "DescriptionStyleModel",
     "state": {
      "_model_module": "@jupyter-widgets/controls",
      "_model_module_version": "1.5.0",
      "_model_name": "DescriptionStyleModel",
      "_view_count": null,
      "_view_module": "@jupyter-widgets/base",
      "_view_module_version": "1.2.0",
      "_view_name": "StyleView",
      "description_width": ""
     }
    },
    "1cea28f01347470ea196c60f3420e34f": {
     "model_module": "@jupyter-widgets/controls",
     "model_module_version": "1.5.0",
     "model_name": "HBoxModel",
     "state": {
      "_dom_classes": [],
      "_model_module": "@jupyter-widgets/controls",
      "_model_module_version": "1.5.0",
      "_model_name": "HBoxModel",
      "_view_count": null,
      "_view_module": "@jupyter-widgets/controls",
      "_view_module_version": "1.5.0",
      "_view_name": "HBoxView",
      "box_style": "",
      "children": [
       "IPY_MODEL_acc8f20895514e02988238062aa358f5",
       "IPY_MODEL_4565521b702043d98ff2b8b245602336",
       "IPY_MODEL_88024b99ebfd4df286fcb24ce19dc70f"
      ],
      "layout": "IPY_MODEL_27f7e7de99474d9783b47c9033ed0ff7"
     }
    },
    "1f160d6b2ec249b0ada5009d4ee9ae86": {
     "model_module": "@jupyter-widgets/base",
     "model_module_version": "1.2.0",
     "model_name": "LayoutModel",
     "state": {
      "_model_module": "@jupyter-widgets/base",
      "_model_module_version": "1.2.0",
      "_model_name": "LayoutModel",
      "_view_count": null,
      "_view_module": "@jupyter-widgets/base",
      "_view_module_version": "1.2.0",
      "_view_name": "LayoutView",
      "align_content": null,
      "align_items": null,
      "align_self": null,
      "border": null,
      "bottom": null,
      "display": null,
      "flex": null,
      "flex_flow": null,
      "grid_area": null,
      "grid_auto_columns": null,
      "grid_auto_flow": null,
      "grid_auto_rows": null,
      "grid_column": null,
      "grid_gap": null,
      "grid_row": null,
      "grid_template_areas": null,
      "grid_template_columns": null,
      "grid_template_rows": null,
      "height": null,
      "justify_content": null,
      "justify_items": null,
      "left": null,
      "margin": null,
      "max_height": null,
      "max_width": null,
      "min_height": null,
      "min_width": null,
      "object_fit": null,
      "object_position": null,
      "order": null,
      "overflow": null,
      "overflow_x": null,
      "overflow_y": null,
      "padding": null,
      "right": null,
      "top": null,
      "visibility": null,
      "width": null
     }
    },
    "1fdd28868bca49bf8157ae5aad95783b": {
     "model_module": "@jupyter-widgets/controls",
     "model_module_version": "1.5.0",
     "model_name": "ProgressStyleModel",
     "state": {
      "_model_module": "@jupyter-widgets/controls",
      "_model_module_version": "1.5.0",
      "_model_name": "ProgressStyleModel",
      "_view_count": null,
      "_view_module": "@jupyter-widgets/base",
      "_view_module_version": "1.2.0",
      "_view_name": "StyleView",
      "bar_color": null,
      "description_width": ""
     }
    },
    "213b2756c32b4ca891fcd6cb831f493b": {
     "model_module": "@jupyter-widgets/base",
     "model_module_version": "1.2.0",
     "model_name": "LayoutModel",
     "state": {
      "_model_module": "@jupyter-widgets/base",
      "_model_module_version": "1.2.0",
      "_model_name": "LayoutModel",
      "_view_count": null,
      "_view_module": "@jupyter-widgets/base",
      "_view_module_version": "1.2.0",
      "_view_name": "LayoutView",
      "align_content": null,
      "align_items": null,
      "align_self": null,
      "border": null,
      "bottom": null,
      "display": null,
      "flex": null,
      "flex_flow": null,
      "grid_area": null,
      "grid_auto_columns": null,
      "grid_auto_flow": null,
      "grid_auto_rows": null,
      "grid_column": null,
      "grid_gap": null,
      "grid_row": null,
      "grid_template_areas": null,
      "grid_template_columns": null,
      "grid_template_rows": null,
      "height": null,
      "justify_content": null,
      "justify_items": null,
      "left": null,
      "margin": null,
      "max_height": null,
      "max_width": null,
      "min_height": null,
      "min_width": null,
      "object_fit": null,
      "object_position": null,
      "order": null,
      "overflow": null,
      "overflow_x": null,
      "overflow_y": null,
      "padding": null,
      "right": null,
      "top": null,
      "visibility": null,
      "width": null
     }
    },
    "22fe43180d3340578a1e2be40a0d5833": {
     "model_module": "@jupyter-widgets/base",
     "model_module_version": "1.2.0",
     "model_name": "LayoutModel",
     "state": {
      "_model_module": "@jupyter-widgets/base",
      "_model_module_version": "1.2.0",
      "_model_name": "LayoutModel",
      "_view_count": null,
      "_view_module": "@jupyter-widgets/base",
      "_view_module_version": "1.2.0",
      "_view_name": "LayoutView",
      "align_content": null,
      "align_items": null,
      "align_self": null,
      "border": null,
      "bottom": null,
      "display": null,
      "flex": null,
      "flex_flow": null,
      "grid_area": null,
      "grid_auto_columns": null,
      "grid_auto_flow": null,
      "grid_auto_rows": null,
      "grid_column": null,
      "grid_gap": null,
      "grid_row": null,
      "grid_template_areas": null,
      "grid_template_columns": null,
      "grid_template_rows": null,
      "height": null,
      "justify_content": null,
      "justify_items": null,
      "left": null,
      "margin": null,
      "max_height": null,
      "max_width": null,
      "min_height": null,
      "min_width": null,
      "object_fit": null,
      "object_position": null,
      "order": null,
      "overflow": null,
      "overflow_x": null,
      "overflow_y": null,
      "padding": null,
      "right": null,
      "top": null,
      "visibility": null,
      "width": null
     }
    },
    "23a8328b9fa5442e8535b84c43b8a6be": {
     "model_module": "@jupyter-widgets/controls",
     "model_module_version": "1.5.0",
     "model_name": "HTMLModel",
     "state": {
      "_dom_classes": [],
      "_model_module": "@jupyter-widgets/controls",
      "_model_module_version": "1.5.0",
      "_model_name": "HTMLModel",
      "_view_count": null,
      "_view_module": "@jupyter-widgets/controls",
      "_view_module_version": "1.5.0",
      "_view_name": "HTMLView",
      "description": "",
      "description_tooltip": null,
      "layout": "IPY_MODEL_b7bcd2b42b2e474789934f36ee718310",
      "placeholder": "​",
      "style": "IPY_MODEL_36d2fbd95cab409193acd43ca9034946",
      "value": " 1/0 [00:00&lt;00:00,  3.40 examples/s]"
     }
    },
    "257b88c1db924571b51a112be7d0363f": {
     "model_module": "@jupyter-widgets/controls",
     "model_module_version": "1.5.0",
     "model_name": "DescriptionStyleModel",
     "state": {
      "_model_module": "@jupyter-widgets/controls",
      "_model_module_version": "1.5.0",
      "_model_name": "DescriptionStyleModel",
      "_view_count": null,
      "_view_module": "@jupyter-widgets/base",
      "_view_module_version": "1.2.0",
      "_view_name": "StyleView",
      "description_width": ""
     }
    },
    "27f7e7de99474d9783b47c9033ed0ff7": {
     "model_module": "@jupyter-widgets/base",
     "model_module_version": "1.2.0",
     "model_name": "LayoutModel",
     "state": {
      "_model_module": "@jupyter-widgets/base",
      "_model_module_version": "1.2.0",
      "_model_name": "LayoutModel",
      "_view_count": null,
      "_view_module": "@jupyter-widgets/base",
      "_view_module_version": "1.2.0",
      "_view_name": "LayoutView",
      "align_content": null,
      "align_items": null,
      "align_self": null,
      "border": null,
      "bottom": null,
      "display": null,
      "flex": null,
      "flex_flow": null,
      "grid_area": null,
      "grid_auto_columns": null,
      "grid_auto_flow": null,
      "grid_auto_rows": null,
      "grid_column": null,
      "grid_gap": null,
      "grid_row": null,
      "grid_template_areas": null,
      "grid_template_columns": null,
      "grid_template_rows": null,
      "height": null,
      "justify_content": null,
      "justify_items": null,
      "left": null,
      "margin": null,
      "max_height": null,
      "max_width": null,
      "min_height": null,
      "min_width": null,
      "object_fit": null,
      "object_position": null,
      "order": null,
      "overflow": null,
      "overflow_x": null,
      "overflow_y": null,
      "padding": null,
      "right": null,
      "top": null,
      "visibility": null,
      "width": null
     }
    },
    "289a165ae49445a39465ab20e6d9440e": {
     "model_module": "@jupyter-widgets/base",
     "model_module_version": "1.2.0",
     "model_name": "LayoutModel",
     "state": {
      "_model_module": "@jupyter-widgets/base",
      "_model_module_version": "1.2.0",
      "_model_name": "LayoutModel",
      "_view_count": null,
      "_view_module": "@jupyter-widgets/base",
      "_view_module_version": "1.2.0",
      "_view_name": "LayoutView",
      "align_content": null,
      "align_items": null,
      "align_self": null,
      "border": null,
      "bottom": null,
      "display": null,
      "flex": null,
      "flex_flow": null,
      "grid_area": null,
      "grid_auto_columns": null,
      "grid_auto_flow": null,
      "grid_auto_rows": null,
      "grid_column": null,
      "grid_gap": null,
      "grid_row": null,
      "grid_template_areas": null,
      "grid_template_columns": null,
      "grid_template_rows": null,
      "height": null,
      "justify_content": null,
      "justify_items": null,
      "left": null,
      "margin": null,
      "max_height": null,
      "max_width": null,
      "min_height": null,
      "min_width": null,
      "object_fit": null,
      "object_position": null,
      "order": null,
      "overflow": null,
      "overflow_x": null,
      "overflow_y": null,
      "padding": null,
      "right": null,
      "top": null,
      "visibility": null,
      "width": null
     }
    },
    "2c9c0da3aaed4850963d3eaf031d7438": {
     "model_module": "@jupyter-widgets/base",
     "model_module_version": "1.2.0",
     "model_name": "LayoutModel",
     "state": {
      "_model_module": "@jupyter-widgets/base",
      "_model_module_version": "1.2.0",
      "_model_name": "LayoutModel",
      "_view_count": null,
      "_view_module": "@jupyter-widgets/base",
      "_view_module_version": "1.2.0",
      "_view_name": "LayoutView",
      "align_content": null,
      "align_items": null,
      "align_self": null,
      "border": null,
      "bottom": null,
      "display": null,
      "flex": null,
      "flex_flow": null,
      "grid_area": null,
      "grid_auto_columns": null,
      "grid_auto_flow": null,
      "grid_auto_rows": null,
      "grid_column": null,
      "grid_gap": null,
      "grid_row": null,
      "grid_template_areas": null,
      "grid_template_columns": null,
      "grid_template_rows": null,
      "height": null,
      "justify_content": null,
      "justify_items": null,
      "left": null,
      "margin": null,
      "max_height": null,
      "max_width": null,
      "min_height": null,
      "min_width": null,
      "object_fit": null,
      "object_position": null,
      "order": null,
      "overflow": null,
      "overflow_x": null,
      "overflow_y": null,
      "padding": null,
      "right": null,
      "top": null,
      "visibility": null,
      "width": null
     }
    },
    "2ce18f7631c34b3db2a14e0f3ef197b9": {
     "model_module": "@jupyter-widgets/controls",
     "model_module_version": "1.5.0",
     "model_name": "HTMLModel",
     "state": {
      "_dom_classes": [],
      "_model_module": "@jupyter-widgets/controls",
      "_model_module_version": "1.5.0",
      "_model_name": "HTMLModel",
      "_view_count": null,
      "_view_module": "@jupyter-widgets/controls",
      "_view_module_version": "1.5.0",
      "_view_name": "HTMLView",
      "description": "",
      "description_tooltip": null,
      "layout": "IPY_MODEL_213b2756c32b4ca891fcd6cb831f493b",
      "placeholder": "​",
      "style": "IPY_MODEL_7c287346488d4a1d8a75483309b1e2ac",
      "value": " 712k/712k [00:00&lt;00:00, 23.5MB/s]"
     }
    },
    "34089ad2d2fe411ba43d8f795524e989": {
     "model_module": "@jupyter-widgets/base",
     "model_module_version": "1.2.0",
     "model_name": "LayoutModel",
     "state": {
      "_model_module": "@jupyter-widgets/base",
      "_model_module_version": "1.2.0",
      "_model_name": "LayoutModel",
      "_view_count": null,
      "_view_module": "@jupyter-widgets/base",
      "_view_module_version": "1.2.0",
      "_view_name": "LayoutView",
      "align_content": null,
      "align_items": null,
      "align_self": null,
      "border": null,
      "bottom": null,
      "display": null,
      "flex": null,
      "flex_flow": null,
      "grid_area": null,
      "grid_auto_columns": null,
      "grid_auto_flow": null,
      "grid_auto_rows": null,
      "grid_column": null,
      "grid_gap": null,
      "grid_row": null,
      "grid_template_areas": null,
      "grid_template_columns": null,
      "grid_template_rows": null,
      "height": null,
      "justify_content": null,
      "justify_items": null,
      "left": null,
      "margin": null,
      "max_height": null,
      "max_width": null,
      "min_height": null,
      "min_width": null,
      "object_fit": null,
      "object_position": null,
      "order": null,
      "overflow": null,
      "overflow_x": null,
      "overflow_y": null,
      "padding": null,
      "right": null,
      "top": null,
      "visibility": null,
      "width": null
     }
    },
    "363324ede95b4a618283c6f41f838ce9": {
     "model_module": "@jupyter-widgets/base",
     "model_module_version": "1.2.0",
     "model_name": "LayoutModel",
     "state": {
      "_model_module": "@jupyter-widgets/base",
      "_model_module_version": "1.2.0",
      "_model_name": "LayoutModel",
      "_view_count": null,
      "_view_module": "@jupyter-widgets/base",
      "_view_module_version": "1.2.0",
      "_view_name": "LayoutView",
      "align_content": null,
      "align_items": null,
      "align_self": null,
      "border": null,
      "bottom": null,
      "display": null,
      "flex": null,
      "flex_flow": null,
      "grid_area": null,
      "grid_auto_columns": null,
      "grid_auto_flow": null,
      "grid_auto_rows": null,
      "grid_column": null,
      "grid_gap": null,
      "grid_row": null,
      "grid_template_areas": null,
      "grid_template_columns": null,
      "grid_template_rows": null,
      "height": null,
      "justify_content": null,
      "justify_items": null,
      "left": null,
      "margin": null,
      "max_height": null,
      "max_width": null,
      "min_height": null,
      "min_width": null,
      "object_fit": null,
      "object_position": null,
      "order": null,
      "overflow": null,
      "overflow_x": null,
      "overflow_y": null,
      "padding": null,
      "right": null,
      "top": null,
      "visibility": null,
      "width": null
     }
    },
    "36d2fbd95cab409193acd43ca9034946": {
     "model_module": "@jupyter-widgets/controls",
     "model_module_version": "1.5.0",
     "model_name": "DescriptionStyleModel",
     "state": {
      "_model_module": "@jupyter-widgets/controls",
      "_model_module_version": "1.5.0",
      "_model_name": "DescriptionStyleModel",
      "_view_count": null,
      "_view_module": "@jupyter-widgets/base",
      "_view_module_version": "1.2.0",
      "_view_name": "StyleView",
      "description_width": ""
     }
    },
    "3909d10497e348c9a17427044d3850ad": {
     "model_module": "@jupyter-widgets/controls",
     "model_module_version": "1.5.0",
     "model_name": "HBoxModel",
     "state": {
      "_dom_classes": [],
      "_model_module": "@jupyter-widgets/controls",
      "_model_module_version": "1.5.0",
      "_model_name": "HBoxModel",
      "_view_count": null,
      "_view_module": "@jupyter-widgets/controls",
      "_view_module_version": "1.5.0",
      "_view_name": "HBoxView",
      "box_style": "",
      "children": [
       "IPY_MODEL_f86fcf6327f44f808864797c44b6b9d7",
       "IPY_MODEL_5134ffa319ff4c3bb29ce281ce4ccbdd",
       "IPY_MODEL_b1b2f243018c4f7a94ba05c0dca09e17"
      ],
      "layout": "IPY_MODEL_50784f0f1075432591efa954197997ec"
     }
    },
    "3ae2306421db437f8b12353c2ccd3a28": {
     "model_module": "@jupyter-widgets/controls",
     "model_module_version": "1.5.0",
     "model_name": "DescriptionStyleModel",
     "state": {
      "_model_module": "@jupyter-widgets/controls",
      "_model_module_version": "1.5.0",
      "_model_name": "DescriptionStyleModel",
      "_view_count": null,
      "_view_module": "@jupyter-widgets/base",
      "_view_module_version": "1.2.0",
      "_view_name": "StyleView",
      "description_width": ""
     }
    },
    "3b6821f54bb443809c2eeb625cd557ab": {
     "model_module": "@jupyter-widgets/controls",
     "model_module_version": "1.5.0",
     "model_name": "FloatProgressModel",
     "state": {
      "_dom_classes": [],
      "_model_module": "@jupyter-widgets/controls",
      "_model_module_version": "1.5.0",
      "_model_name": "FloatProgressModel",
      "_view_count": null,
      "_view_module": "@jupyter-widgets/controls",
      "_view_module_version": "1.5.0",
      "_view_name": "ProgressView",
      "bar_style": "success",
      "description": "",
      "description_tooltip": null,
      "layout": "IPY_MODEL_86258b09868b4533afbfa67ac577a69d",
      "max": 1420,
      "min": 0,
      "orientation": "horizontal",
      "style": "IPY_MODEL_1fdd28868bca49bf8157ae5aad95783b",
      "value": 1420
     }
    },
    "3c6b6b078d274f8f8b18be5e8bc0dd45": {
     "model_module": "@jupyter-widgets/controls",
     "model_module_version": "1.5.0",
     "model_name": "ProgressStyleModel",
     "state": {
      "_model_module": "@jupyter-widgets/controls",
      "_model_module_version": "1.5.0",
      "_model_name": "ProgressStyleModel",
      "_view_count": null,
      "_view_module": "@jupyter-widgets/base",
      "_view_module_version": "1.2.0",
      "_view_name": "StyleView",
      "bar_color": null,
      "description_width": ""
     }
    },
    "3cb4e4b87c0b4cf98aeb424079ee611b": {
     "model_module": "@jupyter-widgets/controls",
     "model_module_version": "1.5.0",
     "model_name": "HTMLModel",
     "state": {
      "_dom_classes": [],
      "_model_module": "@jupyter-widgets/controls",
      "_model_module_version": "1.5.0",
      "_model_name": "HTMLModel",
      "_view_count": null,
      "_view_module": "@jupyter-widgets/controls",
      "_view_module_version": "1.5.0",
      "_view_name": "HTMLView",
      "description": "",
      "description_tooltip": null,
      "layout": "IPY_MODEL_c9ecdd08450346bda79602a1e46436cd",
      "placeholder": "​",
      "style": "IPY_MODEL_c1efc223fff24e44a67ddbcb3e956811",
      "value": " 551/551 [00:00&lt;00:00, 34.8kB/s]"
     }
    },
    "3f0aa99d0ede4e1d8852c67be1755780": {
     "model_module": "@jupyter-widgets/base",
     "model_module_version": "1.2.0",
     "model_name": "LayoutModel",
     "state": {
      "_model_module": "@jupyter-widgets/base",
      "_model_module_version": "1.2.0",
      "_model_name": "LayoutModel",
      "_view_count": null,
      "_view_module": "@jupyter-widgets/base",
      "_view_module_version": "1.2.0",
      "_view_name": "LayoutView",
      "align_content": null,
      "align_items": null,
      "align_self": null,
      "border": null,
      "bottom": null,
      "display": null,
      "flex": null,
      "flex_flow": null,
      "grid_area": null,
      "grid_auto_columns": null,
      "grid_auto_flow": null,
      "grid_auto_rows": null,
      "grid_column": null,
      "grid_gap": null,
      "grid_row": null,
      "grid_template_areas": null,
      "grid_template_columns": null,
      "grid_template_rows": null,
      "height": null,
      "justify_content": null,
      "justify_items": null,
      "left": null,
      "margin": null,
      "max_height": null,
      "max_width": null,
      "min_height": null,
      "min_width": null,
      "object_fit": null,
      "object_position": null,
      "order": null,
      "overflow": null,
      "overflow_x": null,
      "overflow_y": null,
      "padding": null,
      "right": null,
      "top": null,
      "visibility": null,
      "width": null
     }
    },
    "434ec2e6fe0a4068a6f06d2e0ea27cdb": {
     "model_module": "@jupyter-widgets/controls",
     "model_module_version": "1.5.0",
     "model_name": "HBoxModel",
     "state": {
      "_dom_classes": [],
      "_model_module": "@jupyter-widgets/controls",
      "_model_module_version": "1.5.0",
      "_model_name": "HBoxModel",
      "_view_count": null,
      "_view_module": "@jupyter-widgets/controls",
      "_view_module_version": "1.5.0",
      "_view_name": "HBoxView",
      "box_style": "",
      "children": [
       "IPY_MODEL_0db63aca86b849abbde55c6c52bfdf8a",
       "IPY_MODEL_e18977b4f79f4b46999b34a6583dc906",
       "IPY_MODEL_55ccb5dbc1274eb9aa5601291f4fde31"
      ],
      "layout": "IPY_MODEL_cb2bd29cb0c341809a568607e648c491"
     }
    },
    "437503b148f1473da74efc0e4e900bc1": {
     "model_module": "@jupyter-widgets/base",
     "model_module_version": "1.2.0",
     "model_name": "LayoutModel",
     "state": {
      "_model_module": "@jupyter-widgets/base",
      "_model_module_version": "1.2.0",
      "_model_name": "LayoutModel",
      "_view_count": null,
      "_view_module": "@jupyter-widgets/base",
      "_view_module_version": "1.2.0",
      "_view_name": "LayoutView",
      "align_content": null,
      "align_items": null,
      "align_self": null,
      "border": null,
      "bottom": null,
      "display": null,
      "flex": null,
      "flex_flow": null,
      "grid_area": null,
      "grid_auto_columns": null,
      "grid_auto_flow": null,
      "grid_auto_rows": null,
      "grid_column": null,
      "grid_gap": null,
      "grid_row": null,
      "grid_template_areas": null,
      "grid_template_columns": null,
      "grid_template_rows": null,
      "height": null,
      "justify_content": null,
      "justify_items": null,
      "left": null,
      "margin": null,
      "max_height": null,
      "max_width": null,
      "min_height": null,
      "min_width": null,
      "object_fit": null,
      "object_position": null,
      "order": null,
      "overflow": null,
      "overflow_x": null,
      "overflow_y": null,
      "padding": null,
      "right": null,
      "top": null,
      "visibility": null,
      "width": null
     }
    },
    "44d54aeb4d3f44efbaef344cd9aa3f79": {
     "model_module": "@jupyter-widgets/base",
     "model_module_version": "1.2.0",
     "model_name": "LayoutModel",
     "state": {
      "_model_module": "@jupyter-widgets/base",
      "_model_module_version": "1.2.0",
      "_model_name": "LayoutModel",
      "_view_count": null,
      "_view_module": "@jupyter-widgets/base",
      "_view_module_version": "1.2.0",
      "_view_name": "LayoutView",
      "align_content": null,
      "align_items": null,
      "align_self": null,
      "border": null,
      "bottom": null,
      "display": null,
      "flex": null,
      "flex_flow": null,
      "grid_area": null,
      "grid_auto_columns": null,
      "grid_auto_flow": null,
      "grid_auto_rows": null,
      "grid_column": null,
      "grid_gap": null,
      "grid_row": null,
      "grid_template_areas": null,
      "grid_template_columns": null,
      "grid_template_rows": null,
      "height": null,
      "justify_content": null,
      "justify_items": null,
      "left": null,
      "margin": null,
      "max_height": null,
      "max_width": null,
      "min_height": null,
      "min_width": null,
      "object_fit": null,
      "object_position": null,
      "order": null,
      "overflow": null,
      "overflow_x": null,
      "overflow_y": null,
      "padding": null,
      "right": null,
      "top": null,
      "visibility": null,
      "width": null
     }
    },
    "4565521b702043d98ff2b8b245602336": {
     "model_module": "@jupyter-widgets/controls",
     "model_module_version": "1.5.0",
     "model_name": "FloatProgressModel",
     "state": {
      "_dom_classes": [],
      "_model_module": "@jupyter-widgets/controls",
      "_model_module_version": "1.5.0",
      "_model_name": "FloatProgressModel",
      "_view_count": null,
      "_view_module": "@jupyter-widgets/controls",
      "_view_module_version": "1.5.0",
      "_view_name": "ProgressView",
      "bar_style": "success",
      "description": "",
      "description_tooltip": null,
      "layout": "IPY_MODEL_945893f2ca634310a483ed927b6d7ca0",
      "max": 111,
      "min": 0,
      "orientation": "horizontal",
      "style": "IPY_MODEL_3c6b6b078d274f8f8b18be5e8bc0dd45",
      "value": 111
     }
    },
    "4f19e0f801fd4aeea8a56c67ccacbb1a": {
     "model_module": "@jupyter-widgets/controls",
     "model_module_version": "1.5.0",
     "model_name": "ProgressStyleModel",
     "state": {
      "_model_module": "@jupyter-widgets/controls",
      "_model_module_version": "1.5.0",
      "_model_name": "ProgressStyleModel",
      "_view_count": null,
      "_view_module": "@jupyter-widgets/base",
      "_view_module_version": "1.2.0",
      "_view_name": "StyleView",
      "bar_color": null,
      "description_width": ""
     }
    },
    "4ff00db54bdd491a9a3bb619c0682ec2": {
     "model_module": "@jupyter-widgets/controls",
     "model_module_version": "1.5.0",
     "model_name": "HBoxModel",
     "state": {
      "_dom_classes": [],
      "_model_module": "@jupyter-widgets/controls",
      "_model_module_version": "1.5.0",
      "_model_name": "HBoxModel",
      "_view_count": null,
      "_view_module": "@jupyter-widgets/controls",
      "_view_module_version": "1.5.0",
      "_view_name": "HBoxView",
      "box_style": "",
      "children": [
       "IPY_MODEL_143f552b5ae34621af80cf329ebfac58",
       "IPY_MODEL_1c5cedfa94834b67bf691a9a5de9328e",
       "IPY_MODEL_3cb4e4b87c0b4cf98aeb424079ee611b"
      ],
      "layout": "IPY_MODEL_569f6cf512654c9392f56e314c327a6e"
     }
    },
    "5041e9d8e78e433fa8f5727a7e71ca57": {
     "model_module": "@jupyter-widgets/base",
     "model_module_version": "1.2.0",
     "model_name": "LayoutModel",
     "state": {
      "_model_module": "@jupyter-widgets/base",
      "_model_module_version": "1.2.0",
      "_model_name": "LayoutModel",
      "_view_count": null,
      "_view_module": "@jupyter-widgets/base",
      "_view_module_version": "1.2.0",
      "_view_name": "LayoutView",
      "align_content": null,
      "align_items": null,
      "align_self": null,
      "border": null,
      "bottom": null,
      "display": null,
      "flex": null,
      "flex_flow": null,
      "grid_area": null,
      "grid_auto_columns": null,
      "grid_auto_flow": null,
      "grid_auto_rows": null,
      "grid_column": null,
      "grid_gap": null,
      "grid_row": null,
      "grid_template_areas": null,
      "grid_template_columns": null,
      "grid_template_rows": null,
      "height": null,
      "justify_content": null,
      "justify_items": null,
      "left": null,
      "margin": null,
      "max_height": null,
      "max_width": null,
      "min_height": null,
      "min_width": null,
      "object_fit": null,
      "object_position": null,
      "order": null,
      "overflow": null,
      "overflow_x": null,
      "overflow_y": null,
      "padding": null,
      "right": null,
      "top": null,
      "visibility": null,
      "width": null
     }
    },
    "50784f0f1075432591efa954197997ec": {
     "model_module": "@jupyter-widgets/base",
     "model_module_version": "1.2.0",
     "model_name": "LayoutModel",
     "state": {
      "_model_module": "@jupyter-widgets/base",
      "_model_module_version": "1.2.0",
      "_model_name": "LayoutModel",
      "_view_count": null,
      "_view_module": "@jupyter-widgets/base",
      "_view_module_version": "1.2.0",
      "_view_name": "LayoutView",
      "align_content": null,
      "align_items": null,
      "align_self": null,
      "border": null,
      "bottom": null,
      "display": null,
      "flex": null,
      "flex_flow": null,
      "grid_area": null,
      "grid_auto_columns": null,
      "grid_auto_flow": null,
      "grid_auto_rows": null,
      "grid_column": null,
      "grid_gap": null,
      "grid_row": null,
      "grid_template_areas": null,
      "grid_template_columns": null,
      "grid_template_rows": null,
      "height": null,
      "justify_content": null,
      "justify_items": null,
      "left": null,
      "margin": null,
      "max_height": null,
      "max_width": null,
      "min_height": null,
      "min_width": null,
      "object_fit": null,
      "object_position": null,
      "order": null,
      "overflow": null,
      "overflow_x": null,
      "overflow_y": null,
      "padding": null,
      "right": null,
      "top": null,
      "visibility": null,
      "width": null
     }
    },
    "5134ffa319ff4c3bb29ce281ce4ccbdd": {
     "model_module": "@jupyter-widgets/controls",
     "model_module_version": "1.5.0",
     "model_name": "FloatProgressModel",
     "state": {
      "_dom_classes": [],
      "_model_module": "@jupyter-widgets/controls",
      "_model_module_version": "1.5.0",
      "_model_name": "FloatProgressModel",
      "_view_count": null,
      "_view_module": "@jupyter-widgets/controls",
      "_view_module_version": "1.5.0",
      "_view_name": "ProgressView",
      "bar_style": "success",
      "description": "",
      "description_tooltip": null,
      "layout": "IPY_MODEL_2c9c0da3aaed4850963d3eaf031d7438",
      "max": 23950,
      "min": 0,
      "orientation": "horizontal",
      "style": "IPY_MODEL_f0fd3dff79d44681b94b7660b7699f21",
      "value": 23950
     }
    },
    "522cb2700fef4ce7bd6d80bfafc2b7be": {
     "model_module": "@jupyter-widgets/controls",
     "model_module_version": "1.5.0",
     "model_name": "ProgressStyleModel",
     "state": {
      "_model_module": "@jupyter-widgets/controls",
      "_model_module_version": "1.5.0",
      "_model_name": "ProgressStyleModel",
      "_view_count": null,
      "_view_module": "@jupyter-widgets/base",
      "_view_module_version": "1.2.0",
      "_view_name": "StyleView",
      "bar_color": null,
      "description_width": ""
     }
    },
    "53c1ecdeeb864ecd8e1d484f3acbf5e8": {
     "model_module": "@jupyter-widgets/controls",
     "model_module_version": "1.5.0",
     "model_name": "ProgressStyleModel",
     "state": {
      "_model_module": "@jupyter-widgets/controls",
      "_model_module_version": "1.5.0",
      "_model_name": "ProgressStyleModel",
      "_view_count": null,
      "_view_module": "@jupyter-widgets/base",
      "_view_module_version": "1.2.0",
      "_view_name": "StyleView",
      "bar_color": null,
      "description_width": ""
     }
    },
    "55216296dec740a986cc2027d293c8ed": {
     "model_module": "@jupyter-widgets/controls",
     "model_module_version": "1.5.0",
     "model_name": "DescriptionStyleModel",
     "state": {
      "_model_module": "@jupyter-widgets/controls",
      "_model_module_version": "1.5.0",
      "_model_name": "DescriptionStyleModel",
      "_view_count": null,
      "_view_module": "@jupyter-widgets/base",
      "_view_module_version": "1.2.0",
      "_view_name": "StyleView",
      "description_width": ""
     }
    },
    "5577fba1eb1d45fbb25f907c66fed9a5": {
     "model_module": "@jupyter-widgets/base",
     "model_module_version": "1.2.0",
     "model_name": "LayoutModel",
     "state": {
      "_model_module": "@jupyter-widgets/base",
      "_model_module_version": "1.2.0",
      "_model_name": "LayoutModel",
      "_view_count": null,
      "_view_module": "@jupyter-widgets/base",
      "_view_module_version": "1.2.0",
      "_view_name": "LayoutView",
      "align_content": null,
      "align_items": null,
      "align_self": null,
      "border": null,
      "bottom": null,
      "display": null,
      "flex": null,
      "flex_flow": null,
      "grid_area": null,
      "grid_auto_columns": null,
      "grid_auto_flow": null,
      "grid_auto_rows": null,
      "grid_column": null,
      "grid_gap": null,
      "grid_row": null,
      "grid_template_areas": null,
      "grid_template_columns": null,
      "grid_template_rows": null,
      "height": null,
      "justify_content": null,
      "justify_items": null,
      "left": null,
      "margin": null,
      "max_height": null,
      "max_width": null,
      "min_height": null,
      "min_width": null,
      "object_fit": null,
      "object_position": null,
      "order": null,
      "overflow": null,
      "overflow_x": null,
      "overflow_y": null,
      "padding": null,
      "right": null,
      "top": null,
      "visibility": null,
      "width": null
     }
    },
    "55ccb5dbc1274eb9aa5601291f4fde31": {
     "model_module": "@jupyter-widgets/controls",
     "model_module_version": "1.5.0",
     "model_name": "HTMLModel",
     "state": {
      "_dom_classes": [],
      "_model_module": "@jupyter-widgets/controls",
      "_model_module_version": "1.5.0",
      "_model_name": "HTMLModel",
      "_view_count": null,
      "_view_module": "@jupyter-widgets/controls",
      "_view_module_version": "1.5.0",
      "_view_name": "HTMLView",
      "description": "",
      "description_tooltip": null,
      "layout": "IPY_MODEL_950e1194d7d149b0bdb08e8c2a03d4cd",
      "placeholder": "​",
      "style": "IPY_MODEL_f24a418c6b534dffa94b8c4dda06bb5b",
      "value": " 8430/0 [00:00&lt;00:00, 83905.19 examples/s]"
     }
    },
    "56242ab057d9453ca0565ac7ae5481b9": {
     "model_module": "@jupyter-widgets/controls",
     "model_module_version": "1.5.0",
     "model_name": "DescriptionStyleModel",
     "state": {
      "_model_module": "@jupyter-widgets/controls",
      "_model_module_version": "1.5.0",
      "_model_name": "DescriptionStyleModel",
      "_view_count": null,
      "_view_module": "@jupyter-widgets/base",
      "_view_module_version": "1.2.0",
      "_view_name": "StyleView",
      "description_width": ""
     }
    },
    "566c609cf4f2457aa07fac5093d3d0ea": {
     "model_module": "@jupyter-widgets/controls",
     "model_module_version": "1.5.0",
     "model_name": "HTMLModel",
     "state": {
      "_dom_classes": [],
      "_model_module": "@jupyter-widgets/controls",
      "_model_module_version": "1.5.0",
      "_model_name": "HTMLModel",
      "_view_count": null,
      "_view_module": "@jupyter-widgets/controls",
      "_view_module_version": "1.5.0",
      "_view_name": "HTMLView",
      "description": "",
      "description_tooltip": null,
      "layout": "IPY_MODEL_5041e9d8e78e433fa8f5727a7e71ca57",
      "placeholder": "​",
      "style": "IPY_MODEL_1ca6e36449ee4326b4fd727cfce63022",
      "value": "Loading checkpoint shards: 100%"
     }
    },
    "569f6cf512654c9392f56e314c327a6e": {
     "model_module": "@jupyter-widgets/base",
     "model_module_version": "1.2.0",
     "model_name": "LayoutModel",
     "state": {
      "_model_module": "@jupyter-widgets/base",
      "_model_module_version": "1.2.0",
      "_model_name": "LayoutModel",
      "_view_count": null,
      "_view_module": "@jupyter-widgets/base",
      "_view_module_version": "1.2.0",
      "_view_name": "LayoutView",
      "align_content": null,
      "align_items": null,
      "align_self": null,
      "border": null,
      "bottom": null,
      "display": null,
      "flex": null,
      "flex_flow": null,
      "grid_area": null,
      "grid_auto_columns": null,
      "grid_auto_flow": null,
      "grid_auto_rows": null,
      "grid_column": null,
      "grid_gap": null,
      "grid_row": null,
      "grid_template_areas": null,
      "grid_template_columns": null,
      "grid_template_rows": null,
      "height": null,
      "justify_content": null,
      "justify_items": null,
      "left": null,
      "margin": null,
      "max_height": null,
      "max_width": null,
      "min_height": null,
      "min_width": null,
      "object_fit": null,
      "object_position": null,
      "order": null,
      "overflow": null,
      "overflow_x": null,
      "overflow_y": null,
      "padding": null,
      "right": null,
      "top": null,
      "visibility": null,
      "width": null
     }
    },
    "581ed5170a734dc889b75e53bb4e400b": {
     "model_module": "@jupyter-widgets/controls",
     "model_module_version": "1.5.0",
     "model_name": "DescriptionStyleModel",
     "state": {
      "_model_module": "@jupyter-widgets/controls",
      "_model_module_version": "1.5.0",
      "_model_name": "DescriptionStyleModel",
      "_view_count": null,
      "_view_module": "@jupyter-widgets/base",
      "_view_module_version": "1.2.0",
      "_view_name": "StyleView",
      "description_width": ""
     }
    },
    "58230bdb88bd425a99d0321a3b75f19c": {
     "model_module": "@jupyter-widgets/controls",
     "model_module_version": "1.5.0",
     "model_name": "DescriptionStyleModel",
     "state": {
      "_model_module": "@jupyter-widgets/controls",
      "_model_module_version": "1.5.0",
      "_model_name": "DescriptionStyleModel",
      "_view_count": null,
      "_view_module": "@jupyter-widgets/base",
      "_view_module_version": "1.2.0",
      "_view_name": "StyleView",
      "description_width": ""
     }
    },
    "59c6c0f235af482aaff77ac75ea15e78": {
     "model_module": "@jupyter-widgets/base",
     "model_module_version": "1.2.0",
     "model_name": "LayoutModel",
     "state": {
      "_model_module": "@jupyter-widgets/base",
      "_model_module_version": "1.2.0",
      "_model_name": "LayoutModel",
      "_view_count": null,
      "_view_module": "@jupyter-widgets/base",
      "_view_module_version": "1.2.0",
      "_view_name": "LayoutView",
      "align_content": null,
      "align_items": null,
      "align_self": null,
      "border": null,
      "bottom": null,
      "display": null,
      "flex": null,
      "flex_flow": null,
      "grid_area": null,
      "grid_auto_columns": null,
      "grid_auto_flow": null,
      "grid_auto_rows": null,
      "grid_column": null,
      "grid_gap": null,
      "grid_row": null,
      "grid_template_areas": null,
      "grid_template_columns": null,
      "grid_template_rows": null,
      "height": null,
      "justify_content": null,
      "justify_items": null,
      "left": null,
      "margin": null,
      "max_height": null,
      "max_width": null,
      "min_height": null,
      "min_width": null,
      "object_fit": null,
      "object_position": null,
      "order": null,
      "overflow": null,
      "overflow_x": null,
      "overflow_y": null,
      "padding": null,
      "right": null,
      "top": null,
      "visibility": null,
      "width": null
     }
    },
    "5bf72b41c7014ee99e9360047097f7b4": {
     "model_module": "@jupyter-widgets/controls",
     "model_module_version": "1.5.0",
     "model_name": "FloatProgressModel",
     "state": {
      "_dom_classes": [],
      "_model_module": "@jupyter-widgets/controls",
      "_model_module_version": "1.5.0",
      "_model_name": "FloatProgressModel",
      "_view_count": null,
      "_view_module": "@jupyter-widgets/controls",
      "_view_module_version": "1.5.0",
      "_view_name": "ProgressView",
      "bar_style": "success",
      "description": "",
      "description_tooltip": null,
      "layout": "IPY_MODEL_86d6c26012534320b35849f1b5456483",
      "max": 3,
      "min": 0,
      "orientation": "horizontal",
      "style": "IPY_MODEL_c25cfbbb004e4d9fbdf1ac7dd66d03d7",
      "value": 3
     }
    },
    "5de3e45bbdb74e809f08c91343900b83": {
     "model_module": "@jupyter-widgets/controls",
     "model_module_version": "1.5.0",
     "model_name": "HTMLModel",
     "state": {
      "_dom_classes": [],
      "_model_module": "@jupyter-widgets/controls",
      "_model_module_version": "1.5.0",
      "_model_name": "HTMLModel",
      "_view_count": null,
      "_view_module": "@jupyter-widgets/controls",
      "_view_module_version": "1.5.0",
      "_view_name": "HTMLView",
      "description": "",
      "description_tooltip": null,
      "layout": "IPY_MODEL_fcc2a298b2c4449f84526981742ef0c0",
      "placeholder": "​",
      "style": "IPY_MODEL_e628c7df8b7848369b5c6e900f425e24",
      "value": "Downloading shards: 100%"
     }
    },
    "5f976652ec7541959ff50549ad846efc": {
     "model_module": "@jupyter-widgets/controls",
     "model_module_version": "1.5.0",
     "model_name": "ProgressStyleModel",
     "state": {
      "_model_module": "@jupyter-widgets/controls",
      "_model_module_version": "1.5.0",
      "_model_name": "ProgressStyleModel",
      "_view_count": null,
      "_view_module": "@jupyter-widgets/base",
      "_view_module_version": "1.2.0",
      "_view_name": "StyleView",
      "bar_color": null,
      "description_width": ""
     }
    },
    "6004d4a247bb4ce387bd7119ecc844d8": {
     "model_module": "@jupyter-widgets/controls",
     "model_module_version": "1.5.0",
     "model_name": "HTMLModel",
     "state": {
      "_dom_classes": [],
      "_model_module": "@jupyter-widgets/controls",
      "_model_module_version": "1.5.0",
      "_model_name": "HTMLModel",
      "_view_count": null,
      "_view_module": "@jupyter-widgets/controls",
      "_view_module_version": "1.5.0",
      "_view_name": "HTMLView",
      "description": "",
      "description_tooltip": null,
      "layout": "IPY_MODEL_289a165ae49445a39465ab20e6d9440e",
      "placeholder": "​",
      "style": "IPY_MODEL_ee256b2bd7b94affb0c406e0d2afdda3",
      "value": " 3/3 [01:08&lt;00:00, 22.75s/it]"
     }
    },
    "60de3ec2ac8444d785e3b37e7359f41b": {
     "model_module": "@jupyter-widgets/controls",
     "model_module_version": "1.5.0",
     "model_name": "ProgressStyleModel",
     "state": {
      "_model_module": "@jupyter-widgets/controls",
      "_model_module_version": "1.5.0",
      "_model_name": "ProgressStyleModel",
      "_view_count": null,
      "_view_module": "@jupyter-widgets/base",
      "_view_module_version": "1.2.0",
      "_view_name": "StyleView",
      "bar_color": null,
      "description_width": ""
     }
    },
    "6251525f68e849acbee823189e195212": {
     "model_module": "@jupyter-widgets/base",
     "model_module_version": "1.2.0",
     "model_name": "LayoutModel",
     "state": {
      "_model_module": "@jupyter-widgets/base",
      "_model_module_version": "1.2.0",
      "_model_name": "LayoutModel",
      "_view_count": null,
      "_view_module": "@jupyter-widgets/base",
      "_view_module_version": "1.2.0",
      "_view_name": "LayoutView",
      "align_content": null,
      "align_items": null,
      "align_self": null,
      "border": null,
      "bottom": null,
      "display": null,
      "flex": null,
      "flex_flow": null,
      "grid_area": null,
      "grid_auto_columns": null,
      "grid_auto_flow": null,
      "grid_auto_rows": null,
      "grid_column": null,
      "grid_gap": null,
      "grid_row": null,
      "grid_template_areas": null,
      "grid_template_columns": null,
      "grid_template_rows": null,
      "height": null,
      "justify_content": null,
      "justify_items": null,
      "left": null,
      "margin": null,
      "max_height": null,
      "max_width": null,
      "min_height": null,
      "min_width": null,
      "object_fit": null,
      "object_position": null,
      "order": null,
      "overflow": null,
      "overflow_x": null,
      "overflow_y": null,
      "padding": null,
      "right": null,
      "top": null,
      "visibility": null,
      "width": null
     }
    },
    "62d86dee12d346df88d26343eba4d6d1": {
     "model_module": "@jupyter-widgets/controls",
     "model_module_version": "1.5.0",
     "model_name": "DescriptionStyleModel",
     "state": {
      "_model_module": "@jupyter-widgets/controls",
      "_model_module_version": "1.5.0",
      "_model_name": "DescriptionStyleModel",
      "_view_count": null,
      "_view_module": "@jupyter-widgets/base",
      "_view_module_version": "1.2.0",
      "_view_name": "StyleView",
      "description_width": ""
     }
    },
    "63099d478b5b42f298b9c9cd0b67b003": {
     "model_module": "@jupyter-widgets/controls",
     "model_module_version": "1.5.0",
     "model_name": "HTMLModel",
     "state": {
      "_dom_classes": [],
      "_model_module": "@jupyter-widgets/controls",
      "_model_module_version": "1.5.0",
      "_model_name": "HTMLModel",
      "_view_count": null,
      "_view_module": "@jupyter-widgets/controls",
      "_view_module_version": "1.5.0",
      "_view_name": "HTMLView",
      "description": "",
      "description_tooltip": null,
      "layout": "IPY_MODEL_ba9b05b7824944e584886d7e32749852",
      "placeholder": "​",
      "style": "IPY_MODEL_56242ab057d9453ca0565ac7ae5481b9",
      "value": " 450/450 [00:00&lt;00:00, 5088.29 examples/s]"
     }
    },
    "6865ab8770c54fcdb063eeccc0d2bd54": {
     "model_module": "@jupyter-widgets/controls",
     "model_module_version": "1.5.0",
     "model_name": "ProgressStyleModel",
     "state": {
      "_model_module": "@jupyter-widgets/controls",
      "_model_module_version": "1.5.0",
      "_model_name": "ProgressStyleModel",
      "_view_count": null,
      "_view_module": "@jupyter-widgets/base",
      "_view_module_version": "1.2.0",
      "_view_name": "StyleView",
      "bar_color": null,
      "description_width": ""
     }
    },
    "6a8345ec90e4494faea9595236c1b194": {
     "model_module": "@jupyter-widgets/base",
     "model_module_version": "1.2.0",
     "model_name": "LayoutModel",
     "state": {
      "_model_module": "@jupyter-widgets/base",
      "_model_module_version": "1.2.0",
      "_model_name": "LayoutModel",
      "_view_count": null,
      "_view_module": "@jupyter-widgets/base",
      "_view_module_version": "1.2.0",
      "_view_name": "LayoutView",
      "align_content": null,
      "align_items": null,
      "align_self": null,
      "border": null,
      "bottom": null,
      "display": null,
      "flex": null,
      "flex_flow": null,
      "grid_area": null,
      "grid_auto_columns": null,
      "grid_auto_flow": null,
      "grid_auto_rows": null,
      "grid_column": null,
      "grid_gap": null,
      "grid_row": null,
      "grid_template_areas": null,
      "grid_template_columns": null,
      "grid_template_rows": null,
      "height": null,
      "justify_content": null,
      "justify_items": null,
      "left": null,
      "margin": null,
      "max_height": null,
      "max_width": null,
      "min_height": null,
      "min_width": null,
      "object_fit": null,
      "object_position": null,
      "order": null,
      "overflow": null,
      "overflow_x": null,
      "overflow_y": null,
      "padding": null,
      "right": null,
      "top": null,
      "visibility": null,
      "width": null
     }
    },
    "6f3c83f7484a49cda988e8c732230de2": {
     "model_module": "@jupyter-widgets/base",
     "model_module_version": "1.2.0",
     "model_name": "LayoutModel",
     "state": {
      "_model_module": "@jupyter-widgets/base",
      "_model_module_version": "1.2.0",
      "_model_name": "LayoutModel",
      "_view_count": null,
      "_view_module": "@jupyter-widgets/base",
      "_view_module_version": "1.2.0",
      "_view_name": "LayoutView",
      "align_content": null,
      "align_items": null,
      "align_self": null,
      "border": null,
      "bottom": null,
      "display": null,
      "flex": null,
      "flex_flow": null,
      "grid_area": null,
      "grid_auto_columns": null,
      "grid_auto_flow": null,
      "grid_auto_rows": null,
      "grid_column": null,
      "grid_gap": null,
      "grid_row": null,
      "grid_template_areas": null,
      "grid_template_columns": null,
      "grid_template_rows": null,
      "height": null,
      "justify_content": null,
      "justify_items": null,
      "left": null,
      "margin": null,
      "max_height": null,
      "max_width": null,
      "min_height": null,
      "min_width": null,
      "object_fit": null,
      "object_position": null,
      "order": null,
      "overflow": null,
      "overflow_x": null,
      "overflow_y": null,
      "padding": null,
      "right": null,
      "top": null,
      "visibility": null,
      "width": null
     }
    },
    "7549cced7cc94d64bf61f3f0c5b36da1": {
     "model_module": "@jupyter-widgets/controls",
     "model_module_version": "1.5.0",
     "model_name": "HTMLModel",
     "state": {
      "_dom_classes": [],
      "_model_module": "@jupyter-widgets/controls",
      "_model_module_version": "1.5.0",
      "_model_name": "HTMLModel",
      "_view_count": null,
      "_view_module": "@jupyter-widgets/controls",
      "_view_module_version": "1.5.0",
      "_view_name": "HTMLView",
      "description": "",
      "description_tooltip": null,
      "layout": "IPY_MODEL_a7b9078445654be9905878df1dbc0028",
      "placeholder": "​",
      "style": "IPY_MODEL_257b88c1db924571b51a112be7d0363f",
      "value": "Map: 100%"
     }
    },
    "75803716e71746d59ef5b148741eaf6a": {
     "model_module": "@jupyter-widgets/base",
     "model_module_version": "1.2.0",
     "model_name": "LayoutModel",
     "state": {
      "_model_module": "@jupyter-widgets/base",
      "_model_module_version": "1.2.0",
      "_model_name": "LayoutModel",
      "_view_count": null,
      "_view_module": "@jupyter-widgets/base",
      "_view_module_version": "1.2.0",
      "_view_name": "LayoutView",
      "align_content": null,
      "align_items": null,
      "align_self": null,
      "border": null,
      "bottom": null,
      "display": null,
      "flex": null,
      "flex_flow": null,
      "grid_area": null,
      "grid_auto_columns": null,
      "grid_auto_flow": null,
      "grid_auto_rows": null,
      "grid_column": null,
      "grid_gap": null,
      "grid_row": null,
      "grid_template_areas": null,
      "grid_template_columns": null,
      "grid_template_rows": null,
      "height": null,
      "justify_content": null,
      "justify_items": null,
      "left": null,
      "margin": null,
      "max_height": null,
      "max_width": null,
      "min_height": null,
      "min_width": null,
      "object_fit": null,
      "object_position": null,
      "order": null,
      "overflow": null,
      "overflow_x": null,
      "overflow_y": null,
      "padding": null,
      "right": null,
      "top": null,
      "visibility": null,
      "width": null
     }
    },
    "77d50d641ce249c9ab2d7a26c32a8b54": {
     "model_module": "@jupyter-widgets/controls",
     "model_module_version": "1.5.0",
     "model_name": "FloatProgressModel",
     "state": {
      "_dom_classes": [],
      "_model_module": "@jupyter-widgets/controls",
      "_model_module_version": "1.5.0",
      "_model_name": "FloatProgressModel",
      "_view_count": null,
      "_view_module": "@jupyter-widgets/controls",
      "_view_module_version": "1.5.0",
      "_view_name": "ProgressView",
      "bar_style": "success",
      "description": "",
      "description_tooltip": null,
      "layout": "IPY_MODEL_7efce6c0d1f24cc1bdfa34a95ab16c4c",
      "max": 712489,
      "min": 0,
      "orientation": "horizontal",
      "style": "IPY_MODEL_6865ab8770c54fcdb063eeccc0d2bd54",
      "value": 712489
     }
    },
    "781448299cf34cd881fe1cfce30176e5": {
     "model_module": "@jupyter-widgets/base",
     "model_module_version": "1.2.0",
     "model_name": "LayoutModel",
     "state": {
      "_model_module": "@jupyter-widgets/base",
      "_model_module_version": "1.2.0",
      "_model_name": "LayoutModel",
      "_view_count": null,
      "_view_module": "@jupyter-widgets/base",
      "_view_module_version": "1.2.0",
      "_view_name": "LayoutView",
      "align_content": null,
      "align_items": null,
      "align_self": null,
      "border": null,
      "bottom": null,
      "display": null,
      "flex": null,
      "flex_flow": null,
      "grid_area": null,
      "grid_auto_columns": null,
      "grid_auto_flow": null,
      "grid_auto_rows": null,
      "grid_column": null,
      "grid_gap": null,
      "grid_row": null,
      "grid_template_areas": null,
      "grid_template_columns": null,
      "grid_template_rows": null,
      "height": null,
      "justify_content": null,
      "justify_items": null,
      "left": null,
      "margin": null,
      "max_height": null,
      "max_width": null,
      "min_height": null,
      "min_width": null,
      "object_fit": null,
      "object_position": null,
      "order": null,
      "overflow": null,
      "overflow_x": null,
      "overflow_y": null,
      "padding": null,
      "right": null,
      "top": null,
      "visibility": null,
      "width": null
     }
    },
    "7c287346488d4a1d8a75483309b1e2ac": {
     "model_module": "@jupyter-widgets/controls",
     "model_module_version": "1.5.0",
     "model_name": "DescriptionStyleModel",
     "state": {
      "_model_module": "@jupyter-widgets/controls",
      "_model_module_version": "1.5.0",
      "_model_name": "DescriptionStyleModel",
      "_view_count": null,
      "_view_module": "@jupyter-widgets/base",
      "_view_module_version": "1.2.0",
      "_view_name": "StyleView",
      "description_width": ""
     }
    },
    "7d19ecd3c5b74f0fa2e4499d951ea19c": {
     "model_module": "@jupyter-widgets/controls",
     "model_module_version": "1.5.0",
     "model_name": "FloatProgressModel",
     "state": {
      "_dom_classes": [],
      "_model_module": "@jupyter-widgets/controls",
      "_model_module_version": "1.5.0",
      "_model_name": "FloatProgressModel",
      "_view_count": null,
      "_view_module": "@jupyter-widgets/controls",
      "_view_module_version": "1.5.0",
      "_view_name": "ProgressView",
      "bar_style": "success",
      "description": "",
      "description_tooltip": null,
      "layout": "IPY_MODEL_be9c0733e512449a93b63635cee4da5f",
      "max": 4926581616,
      "min": 0,
      "orientation": "horizontal",
      "style": "IPY_MODEL_f9b3de0c2832459aaf551fc9a5779000",
      "value": 4926581616
     }
    },
    "7ea6308fb0444ee7b1fb753f1a51db07": {
     "model_module": "@jupyter-widgets/base",
     "model_module_version": "1.2.0",
     "model_name": "LayoutModel",
     "state": {
      "_model_module": "@jupyter-widgets/base",
      "_model_module_version": "1.2.0",
      "_model_name": "LayoutModel",
      "_view_count": null,
      "_view_module": "@jupyter-widgets/base",
      "_view_module_version": "1.2.0",
      "_view_name": "LayoutView",
      "align_content": null,
      "align_items": null,
      "align_self": null,
      "border": null,
      "bottom": null,
      "display": null,
      "flex": null,
      "flex_flow": null,
      "grid_area": null,
      "grid_auto_columns": null,
      "grid_auto_flow": null,
      "grid_auto_rows": null,
      "grid_column": null,
      "grid_gap": null,
      "grid_row": null,
      "grid_template_areas": null,
      "grid_template_columns": null,
      "grid_template_rows": null,
      "height": null,
      "justify_content": null,
      "justify_items": null,
      "left": null,
      "margin": null,
      "max_height": null,
      "max_width": null,
      "min_height": null,
      "min_width": null,
      "object_fit": null,
      "object_position": null,
      "order": null,
      "overflow": null,
      "overflow_x": null,
      "overflow_y": null,
      "padding": null,
      "right": null,
      "top": null,
      "visibility": null,
      "width": null
     }
    },
    "7efce6c0d1f24cc1bdfa34a95ab16c4c": {
     "model_module": "@jupyter-widgets/base",
     "model_module_version": "1.2.0",
     "model_name": "LayoutModel",
     "state": {
      "_model_module": "@jupyter-widgets/base",
      "_model_module_version": "1.2.0",
      "_model_name": "LayoutModel",
      "_view_count": null,
      "_view_module": "@jupyter-widgets/base",
      "_view_module_version": "1.2.0",
      "_view_name": "LayoutView",
      "align_content": null,
      "align_items": null,
      "align_self": null,
      "border": null,
      "bottom": null,
      "display": null,
      "flex": null,
      "flex_flow": null,
      "grid_area": null,
      "grid_auto_columns": null,
      "grid_auto_flow": null,
      "grid_auto_rows": null,
      "grid_column": null,
      "grid_gap": null,
      "grid_row": null,
      "grid_template_areas": null,
      "grid_template_columns": null,
      "grid_template_rows": null,
      "height": null,
      "justify_content": null,
      "justify_items": null,
      "left": null,
      "margin": null,
      "max_height": null,
      "max_width": null,
      "min_height": null,
      "min_width": null,
      "object_fit": null,
      "object_position": null,
      "order": null,
      "overflow": null,
      "overflow_x": null,
      "overflow_y": null,
      "padding": null,
      "right": null,
      "top": null,
      "visibility": null,
      "width": null
     }
    },
    "8038497ddf6f427da0ee23d467e58659": {
     "model_module": "@jupyter-widgets/controls",
     "model_module_version": "1.5.0",
     "model_name": "DescriptionStyleModel",
     "state": {
      "_model_module": "@jupyter-widgets/controls",
      "_model_module_version": "1.5.0",
      "_model_name": "DescriptionStyleModel",
      "_view_count": null,
      "_view_module": "@jupyter-widgets/base",
      "_view_module_version": "1.2.0",
      "_view_name": "StyleView",
      "description_width": ""
     }
    },
    "81c931fe094d405c93d2f5aacf97474f": {
     "model_module": "@jupyter-widgets/base",
     "model_module_version": "1.2.0",
     "model_name": "LayoutModel",
     "state": {
      "_model_module": "@jupyter-widgets/base",
      "_model_module_version": "1.2.0",
      "_model_name": "LayoutModel",
      "_view_count": null,
      "_view_module": "@jupyter-widgets/base",
      "_view_module_version": "1.2.0",
      "_view_name": "LayoutView",
      "align_content": null,
      "align_items": null,
      "align_self": null,
      "border": null,
      "bottom": null,
      "display": null,
      "flex": null,
      "flex_flow": null,
      "grid_area": null,
      "grid_auto_columns": null,
      "grid_auto_flow": null,
      "grid_auto_rows": null,
      "grid_column": null,
      "grid_gap": null,
      "grid_row": null,
      "grid_template_areas": null,
      "grid_template_columns": null,
      "grid_template_rows": null,
      "height": null,
      "justify_content": null,
      "justify_items": null,
      "left": null,
      "margin": null,
      "max_height": null,
      "max_width": null,
      "min_height": null,
      "min_width": null,
      "object_fit": null,
      "object_position": null,
      "order": null,
      "overflow": null,
      "overflow_x": null,
      "overflow_y": null,
      "padding": null,
      "right": null,
      "top": null,
      "visibility": null,
      "width": null
     }
    },
    "838d6d87d1b84c1083cb0c474032537f": {
     "model_module": "@jupyter-widgets/controls",
     "model_module_version": "1.5.0",
     "model_name": "HBoxModel",
     "state": {
      "_dom_classes": [],
      "_model_module": "@jupyter-widgets/controls",
      "_model_module_version": "1.5.0",
      "_model_name": "HBoxModel",
      "_view_count": null,
      "_view_module": "@jupyter-widgets/controls",
      "_view_module_version": "1.5.0",
      "_view_name": "HBoxView",
      "box_style": "",
      "children": [
       "IPY_MODEL_ae05be92c94b4603b6b2ab478159468d",
       "IPY_MODEL_1bbf756ce8bb42799fc895bae2a5fe3c",
       "IPY_MODEL_23a8328b9fa5442e8535b84c43b8a6be"
      ],
      "layout": "IPY_MODEL_6251525f68e849acbee823189e195212"
     }
    },
    "83b5ec09e4bf4b4e9d42f524b31994ec": {
     "model_module": "@jupyter-widgets/controls",
     "model_module_version": "1.5.0",
     "model_name": "DescriptionStyleModel",
     "state": {
      "_model_module": "@jupyter-widgets/controls",
      "_model_module_version": "1.5.0",
      "_model_name": "DescriptionStyleModel",
      "_view_count": null,
      "_view_module": "@jupyter-widgets/base",
      "_view_module_version": "1.2.0",
      "_view_name": "StyleView",
      "description_width": ""
     }
    },
    "8578147e065f4ed58ee76b96663517f9": {
     "model_module": "@jupyter-widgets/controls",
     "model_module_version": "1.5.0",
     "model_name": "HTMLModel",
     "state": {
      "_dom_classes": [],
      "_model_module": "@jupyter-widgets/controls",
      "_model_module_version": "1.5.0",
      "_model_name": "HTMLModel",
      "_view_count": null,
      "_view_module": "@jupyter-widgets/controls",
      "_view_module_version": "1.5.0",
      "_view_name": "HTMLView",
      "description": "",
      "description_tooltip": null,
      "layout": "IPY_MODEL_59c6c0f235af482aaff77ac75ea15e78",
      "placeholder": "​",
      "style": "IPY_MODEL_3ae2306421db437f8b12353c2ccd3a28",
      "value": " 4.93G/4.93G [00:42&lt;00:00, 255MB/s]"
     }
    },
    "858a11559c7644959eef71b7976fa7a3": {
     "model_module": "@jupyter-widgets/base",
     "model_module_version": "1.2.0",
     "model_name": "LayoutModel",
     "state": {
      "_model_module": "@jupyter-widgets/base",
      "_model_module_version": "1.2.0",
      "_model_name": "LayoutModel",
      "_view_count": null,
      "_view_module": "@jupyter-widgets/base",
      "_view_module_version": "1.2.0",
      "_view_name": "LayoutView",
      "align_content": null,
      "align_items": null,
      "align_self": null,
      "border": null,
      "bottom": null,
      "display": null,
      "flex": null,
      "flex_flow": null,
      "grid_area": null,
      "grid_auto_columns": null,
      "grid_auto_flow": null,
      "grid_auto_rows": null,
      "grid_column": null,
      "grid_gap": null,
      "grid_row": null,
      "grid_template_areas": null,
      "grid_template_columns": null,
      "grid_template_rows": null,
      "height": null,
      "justify_content": null,
      "justify_items": null,
      "left": null,
      "margin": null,
      "max_height": null,
      "max_width": null,
      "min_height": null,
      "min_width": null,
      "object_fit": null,
      "object_position": null,
      "order": null,
      "overflow": null,
      "overflow_x": null,
      "overflow_y": null,
      "padding": null,
      "right": null,
      "top": null,
      "visibility": null,
      "width": "20px"
     }
    },
    "85e34517c51149a19ac9b897af43b3e9": {
     "model_module": "@jupyter-widgets/controls",
     "model_module_version": "1.5.0",
     "model_name": "DescriptionStyleModel",
     "state": {
      "_model_module": "@jupyter-widgets/controls",
      "_model_module_version": "1.5.0",
      "_model_name": "DescriptionStyleModel",
      "_view_count": null,
      "_view_module": "@jupyter-widgets/base",
      "_view_module_version": "1.2.0",
      "_view_name": "StyleView",
      "description_width": ""
     }
    },
    "86258b09868b4533afbfa67ac577a69d": {
     "model_module": "@jupyter-widgets/base",
     "model_module_version": "1.2.0",
     "model_name": "LayoutModel",
     "state": {
      "_model_module": "@jupyter-widgets/base",
      "_model_module_version": "1.2.0",
      "_model_name": "LayoutModel",
      "_view_count": null,
      "_view_module": "@jupyter-widgets/base",
      "_view_module_version": "1.2.0",
      "_view_name": "LayoutView",
      "align_content": null,
      "align_items": null,
      "align_self": null,
      "border": null,
      "bottom": null,
      "display": null,
      "flex": null,
      "flex_flow": null,
      "grid_area": null,
      "grid_auto_columns": null,
      "grid_auto_flow": null,
      "grid_auto_rows": null,
      "grid_column": null,
      "grid_gap": null,
      "grid_row": null,
      "grid_template_areas": null,
      "grid_template_columns": null,
      "grid_template_rows": null,
      "height": null,
      "justify_content": null,
      "justify_items": null,
      "left": null,
      "margin": null,
      "max_height": null,
      "max_width": null,
      "min_height": null,
      "min_width": null,
      "object_fit": null,
      "object_position": null,
      "order": null,
      "overflow": null,
      "overflow_x": null,
      "overflow_y": null,
      "padding": null,
      "right": null,
      "top": null,
      "visibility": null,
      "width": null
     }
    },
    "86d6c26012534320b35849f1b5456483": {
     "model_module": "@jupyter-widgets/base",
     "model_module_version": "1.2.0",
     "model_name": "LayoutModel",
     "state": {
      "_model_module": "@jupyter-widgets/base",
      "_model_module_version": "1.2.0",
      "_model_name": "LayoutModel",
      "_view_count": null,
      "_view_module": "@jupyter-widgets/base",
      "_view_module_version": "1.2.0",
      "_view_name": "LayoutView",
      "align_content": null,
      "align_items": null,
      "align_self": null,
      "border": null,
      "bottom": null,
      "display": null,
      "flex": null,
      "flex_flow": null,
      "grid_area": null,
      "grid_auto_columns": null,
      "grid_auto_flow": null,
      "grid_auto_rows": null,
      "grid_column": null,
      "grid_gap": null,
      "grid_row": null,
      "grid_template_areas": null,
      "grid_template_columns": null,
      "grid_template_rows": null,
      "height": null,
      "justify_content": null,
      "justify_items": null,
      "left": null,
      "margin": null,
      "max_height": null,
      "max_width": null,
      "min_height": null,
      "min_width": null,
      "object_fit": null,
      "object_position": null,
      "order": null,
      "overflow": null,
      "overflow_x": null,
      "overflow_y": null,
      "padding": null,
      "right": null,
      "top": null,
      "visibility": null,
      "width": null
     }
    },
    "87515115ba9746b3ad4ccc081ad06b47": {
     "model_module": "@jupyter-widgets/controls",
     "model_module_version": "1.5.0",
     "model_name": "DescriptionStyleModel",
     "state": {
      "_model_module": "@jupyter-widgets/controls",
      "_model_module_version": "1.5.0",
      "_model_name": "DescriptionStyleModel",
      "_view_count": null,
      "_view_module": "@jupyter-widgets/base",
      "_view_module_version": "1.2.0",
      "_view_name": "StyleView",
      "description_width": ""
     }
    },
    "87a089836f6f49159878e55333ffedee": {
     "model_module": "@jupyter-widgets/base",
     "model_module_version": "1.2.0",
     "model_name": "LayoutModel",
     "state": {
      "_model_module": "@jupyter-widgets/base",
      "_model_module_version": "1.2.0",
      "_model_name": "LayoutModel",
      "_view_count": null,
      "_view_module": "@jupyter-widgets/base",
      "_view_module_version": "1.2.0",
      "_view_name": "LayoutView",
      "align_content": null,
      "align_items": null,
      "align_self": null,
      "border": null,
      "bottom": null,
      "display": null,
      "flex": null,
      "flex_flow": null,
      "grid_area": null,
      "grid_auto_columns": null,
      "grid_auto_flow": null,
      "grid_auto_rows": null,
      "grid_column": null,
      "grid_gap": null,
      "grid_row": null,
      "grid_template_areas": null,
      "grid_template_columns": null,
      "grid_template_rows": null,
      "height": null,
      "justify_content": null,
      "justify_items": null,
      "left": null,
      "margin": null,
      "max_height": null,
      "max_width": null,
      "min_height": null,
      "min_width": null,
      "object_fit": null,
      "object_position": null,
      "order": null,
      "overflow": null,
      "overflow_x": null,
      "overflow_y": null,
      "padding": null,
      "right": null,
      "top": null,
      "visibility": null,
      "width": null
     }
    },
    "88024b99ebfd4df286fcb24ce19dc70f": {
     "model_module": "@jupyter-widgets/controls",
     "model_module_version": "1.5.0",
     "model_name": "HTMLModel",
     "state": {
      "_dom_classes": [],
      "_model_module": "@jupyter-widgets/controls",
      "_model_module_version": "1.5.0",
      "_model_name": "HTMLModel",
      "_view_count": null,
      "_view_module": "@jupyter-widgets/controls",
      "_view_module_version": "1.5.0",
      "_view_name": "HTMLView",
      "description": "",
      "description_tooltip": null,
      "layout": "IPY_MODEL_de8bf8f509334ec08eeebca4ebe68514",
      "placeholder": "​",
      "style": "IPY_MODEL_83b5ec09e4bf4b4e9d42f524b31994ec",
      "value": " 111/111 [00:00&lt;00:00, 8.54kB/s]"
     }
    },
    "8be9d98be84646eca2273f2274ba6557": {
     "model_module": "@jupyter-widgets/controls",
     "model_module_version": "1.5.0",
     "model_name": "FloatProgressModel",
     "state": {
      "_dom_classes": [],
      "_model_module": "@jupyter-widgets/controls",
      "_model_module_version": "1.5.0",
      "_model_name": "FloatProgressModel",
      "_view_count": null,
      "_view_module": "@jupyter-widgets/controls",
      "_view_module_version": "1.5.0",
      "_view_name": "ProgressView",
      "bar_style": "success",
      "description": "",
      "description_tooltip": null,
      "layout": "IPY_MODEL_34089ad2d2fe411ba43d8f795524e989",
      "max": 3,
      "min": 0,
      "orientation": "horizontal",
      "style": "IPY_MODEL_53c1ecdeeb864ecd8e1d484f3acbf5e8",
      "value": 3
     }
    },
    "8c555e3eb6084d56882cfa2bbef220d0": {
     "model_module": "@jupyter-widgets/controls",
     "model_module_version": "1.5.0",
     "model_name": "HTMLModel",
     "state": {
      "_dom_classes": [],
      "_model_module": "@jupyter-widgets/controls",
      "_model_module_version": "1.5.0",
      "_model_name": "HTMLModel",
      "_view_count": null,
      "_view_module": "@jupyter-widgets/controls",
      "_view_module_version": "1.5.0",
      "_view_name": "HTMLView",
      "description": "",
      "description_tooltip": null,
      "layout": "IPY_MODEL_f05d54ec27804680aba2d15b0e7d4b4e",
      "placeholder": "​",
      "style": "IPY_MODEL_e4e7294b031d48b689018def2c6e9385",
      "value": "config.json: 100%"
     }
    },
    "8d5068d7e96f458c9c5a41c1fa137db6": {
     "model_module": "@jupyter-widgets/controls",
     "model_module_version": "1.5.0",
     "model_name": "DescriptionStyleModel",
     "state": {
      "_model_module": "@jupyter-widgets/controls",
      "_model_module_version": "1.5.0",
      "_model_name": "DescriptionStyleModel",
      "_view_count": null,
      "_view_module": "@jupyter-widgets/base",
      "_view_module_version": "1.2.0",
      "_view_name": "StyleView",
      "description_width": ""
     }
    },
    "8e6dca186dfa46f4b757110c220e3cff": {
     "model_module": "@jupyter-widgets/base",
     "model_module_version": "1.2.0",
     "model_name": "LayoutModel",
     "state": {
      "_model_module": "@jupyter-widgets/base",
      "_model_module_version": "1.2.0",
      "_model_name": "LayoutModel",
      "_view_count": null,
      "_view_module": "@jupyter-widgets/base",
      "_view_module_version": "1.2.0",
      "_view_name": "LayoutView",
      "align_content": null,
      "align_items": null,
      "align_self": null,
      "border": null,
      "bottom": null,
      "display": null,
      "flex": null,
      "flex_flow": null,
      "grid_area": null,
      "grid_auto_columns": null,
      "grid_auto_flow": null,
      "grid_auto_rows": null,
      "grid_column": null,
      "grid_gap": null,
      "grid_row": null,
      "grid_template_areas": null,
      "grid_template_columns": null,
      "grid_template_rows": null,
      "height": null,
      "justify_content": null,
      "justify_items": null,
      "left": null,
      "margin": null,
      "max_height": null,
      "max_width": null,
      "min_height": null,
      "min_width": null,
      "object_fit": null,
      "object_position": null,
      "order": null,
      "overflow": null,
      "overflow_x": null,
      "overflow_y": null,
      "padding": null,
      "right": null,
      "top": null,
      "visibility": null,
      "width": null
     }
    },
    "90eea7e3555f4d029a86b9058fd5bc5a": {
     "model_module": "@jupyter-widgets/base",
     "model_module_version": "1.2.0",
     "model_name": "LayoutModel",
     "state": {
      "_model_module": "@jupyter-widgets/base",
      "_model_module_version": "1.2.0",
      "_model_name": "LayoutModel",
      "_view_count": null,
      "_view_module": "@jupyter-widgets/base",
      "_view_module_version": "1.2.0",
      "_view_name": "LayoutView",
      "align_content": null,
      "align_items": null,
      "align_self": null,
      "border": null,
      "bottom": null,
      "display": null,
      "flex": null,
      "flex_flow": null,
      "grid_area": null,
      "grid_auto_columns": null,
      "grid_auto_flow": null,
      "grid_auto_rows": null,
      "grid_column": null,
      "grid_gap": null,
      "grid_row": null,
      "grid_template_areas": null,
      "grid_template_columns": null,
      "grid_template_rows": null,
      "height": null,
      "justify_content": null,
      "justify_items": null,
      "left": null,
      "margin": null,
      "max_height": null,
      "max_width": null,
      "min_height": null,
      "min_width": null,
      "object_fit": null,
      "object_position": null,
      "order": null,
      "overflow": null,
      "overflow_x": null,
      "overflow_y": null,
      "padding": null,
      "right": null,
      "top": null,
      "visibility": null,
      "width": null
     }
    },
    "937e9b059c7c428aa4baf96933856a8d": {
     "model_module": "@jupyter-widgets/controls",
     "model_module_version": "1.5.0",
     "model_name": "HBoxModel",
     "state": {
      "_dom_classes": [],
      "_model_module": "@jupyter-widgets/controls",
      "_model_module_version": "1.5.0",
      "_model_name": "HBoxModel",
      "_view_count": null,
      "_view_module": "@jupyter-widgets/controls",
      "_view_module_version": "1.5.0",
      "_view_name": "HBoxView",
      "box_style": "",
      "children": [
       "IPY_MODEL_7549cced7cc94d64bf61f3f0c5b36da1",
       "IPY_MODEL_d4180e91111d41138582babfb40528cb",
       "IPY_MODEL_63099d478b5b42f298b9c9cd0b67b003"
      ],
      "layout": "IPY_MODEL_a8473ae6be48454ba0b6d5070a5a79d8"
     }
    },
    "945893f2ca634310a483ed927b6d7ca0": {
     "model_module": "@jupyter-widgets/base",
     "model_module_version": "1.2.0",
     "model_name": "LayoutModel",
     "state": {
      "_model_module": "@jupyter-widgets/base",
      "_model_module_version": "1.2.0",
      "_model_name": "LayoutModel",
      "_view_count": null,
      "_view_module": "@jupyter-widgets/base",
      "_view_module_version": "1.2.0",
      "_view_name": "LayoutView",
      "align_content": null,
      "align_items": null,
      "align_self": null,
      "border": null,
      "bottom": null,
      "display": null,
      "flex": null,
      "flex_flow": null,
      "grid_area": null,
      "grid_auto_columns": null,
      "grid_auto_flow": null,
      "grid_auto_rows": null,
      "grid_column": null,
      "grid_gap": null,
      "grid_row": null,
      "grid_template_areas": null,
      "grid_template_columns": null,
      "grid_template_rows": null,
      "height": null,
      "justify_content": null,
      "justify_items": null,
      "left": null,
      "margin": null,
      "max_height": null,
      "max_width": null,
      "min_height": null,
      "min_width": null,
      "object_fit": null,
      "object_position": null,
      "order": null,
      "overflow": null,
      "overflow_x": null,
      "overflow_y": null,
      "padding": null,
      "right": null,
      "top": null,
      "visibility": null,
      "width": null
     }
    },
    "950e1194d7d149b0bdb08e8c2a03d4cd": {
     "model_module": "@jupyter-widgets/base",
     "model_module_version": "1.2.0",
     "model_name": "LayoutModel",
     "state": {
      "_model_module": "@jupyter-widgets/base",
      "_model_module_version": "1.2.0",
      "_model_name": "LayoutModel",
      "_view_count": null,
      "_view_module": "@jupyter-widgets/base",
      "_view_module_version": "1.2.0",
      "_view_name": "LayoutView",
      "align_content": null,
      "align_items": null,
      "align_self": null,
      "border": null,
      "bottom": null,
      "display": null,
      "flex": null,
      "flex_flow": null,
      "grid_area": null,
      "grid_auto_columns": null,
      "grid_auto_flow": null,
      "grid_auto_rows": null,
      "grid_column": null,
      "grid_gap": null,
      "grid_row": null,
      "grid_template_areas": null,
      "grid_template_columns": null,
      "grid_template_rows": null,
      "height": null,
      "justify_content": null,
      "justify_items": null,
      "left": null,
      "margin": null,
      "max_height": null,
      "max_width": null,
      "min_height": null,
      "min_width": null,
      "object_fit": null,
      "object_position": null,
      "order": null,
      "overflow": null,
      "overflow_x": null,
      "overflow_y": null,
      "padding": null,
      "right": null,
      "top": null,
      "visibility": null,
      "width": null
     }
    },
    "978ea2b307b649c885910780d06193a3": {
     "model_module": "@jupyter-widgets/controls",
     "model_module_version": "1.5.0",
     "model_name": "DescriptionStyleModel",
     "state": {
      "_model_module": "@jupyter-widgets/controls",
      "_model_module_version": "1.5.0",
      "_model_name": "DescriptionStyleModel",
      "_view_count": null,
      "_view_module": "@jupyter-widgets/base",
      "_view_module_version": "1.2.0",
      "_view_name": "StyleView",
      "description_width": ""
     }
    },
    "98a32537482b4143bdeb0fb541e5a207": {
     "model_module": "@jupyter-widgets/base",
     "model_module_version": "1.2.0",
     "model_name": "LayoutModel",
     "state": {
      "_model_module": "@jupyter-widgets/base",
      "_model_module_version": "1.2.0",
      "_model_name": "LayoutModel",
      "_view_count": null,
      "_view_module": "@jupyter-widgets/base",
      "_view_module_version": "1.2.0",
      "_view_name": "LayoutView",
      "align_content": null,
      "align_items": null,
      "align_self": null,
      "border": null,
      "bottom": null,
      "display": null,
      "flex": null,
      "flex_flow": null,
      "grid_area": null,
      "grid_auto_columns": null,
      "grid_auto_flow": null,
      "grid_auto_rows": null,
      "grid_column": null,
      "grid_gap": null,
      "grid_row": null,
      "grid_template_areas": null,
      "grid_template_columns": null,
      "grid_template_rows": null,
      "height": null,
      "justify_content": null,
      "justify_items": null,
      "left": null,
      "margin": null,
      "max_height": null,
      "max_width": null,
      "min_height": null,
      "min_width": null,
      "object_fit": null,
      "object_position": null,
      "order": null,
      "overflow": null,
      "overflow_x": null,
      "overflow_y": null,
      "padding": null,
      "right": null,
      "top": null,
      "visibility": null,
      "width": null
     }
    },
    "9f560c5bc55c4d26b7b41565eae8d2ab": {
     "model_module": "@jupyter-widgets/controls",
     "model_module_version": "1.5.0",
     "model_name": "HBoxModel",
     "state": {
      "_dom_classes": [],
      "_model_module": "@jupyter-widgets/controls",
      "_model_module_version": "1.5.0",
      "_model_name": "HBoxModel",
      "_view_count": null,
      "_view_module": "@jupyter-widgets/controls",
      "_view_module_version": "1.5.0",
      "_view_name": "HBoxView",
      "box_style": "",
      "children": [
       "IPY_MODEL_8c555e3eb6084d56882cfa2bbef220d0",
       "IPY_MODEL_faf400f4769e4d7d8ac623821a7ecb07",
       "IPY_MODEL_e4344682e9b44878bf02c6e553f7870a"
      ],
      "layout": "IPY_MODEL_e13ea5fb7dfe48b48452d0363f6b304c"
     }
    },
    "a06ac2458a85449191a075f0860f0f8e": {
     "model_module": "@jupyter-widgets/base",
     "model_module_version": "1.2.0",
     "model_name": "LayoutModel",
     "state": {
      "_model_module": "@jupyter-widgets/base",
      "_model_module_version": "1.2.0",
      "_model_name": "LayoutModel",
      "_view_count": null,
      "_view_module": "@jupyter-widgets/base",
      "_view_module_version": "1.2.0",
      "_view_name": "LayoutView",
      "align_content": null,
      "align_items": null,
      "align_self": null,
      "border": null,
      "bottom": null,
      "display": null,
      "flex": null,
      "flex_flow": null,
      "grid_area": null,
      "grid_auto_columns": null,
      "grid_auto_flow": null,
      "grid_auto_rows": null,
      "grid_column": null,
      "grid_gap": null,
      "grid_row": null,
      "grid_template_areas": null,
      "grid_template_columns": null,
      "grid_template_rows": null,
      "height": null,
      "justify_content": null,
      "justify_items": null,
      "left": null,
      "margin": null,
      "max_height": null,
      "max_width": null,
      "min_height": null,
      "min_width": null,
      "object_fit": null,
      "object_position": null,
      "order": null,
      "overflow": null,
      "overflow_x": null,
      "overflow_y": null,
      "padding": null,
      "right": null,
      "top": null,
      "visibility": null,
      "width": null
     }
    },
    "a0d8bc4bd7ea42a381bcfde3e055bf8d": {
     "model_module": "@jupyter-widgets/controls",
     "model_module_version": "1.5.0",
     "model_name": "HTMLModel",
     "state": {
      "_dom_classes": [],
      "_model_module": "@jupyter-widgets/controls",
      "_model_module_version": "1.5.0",
      "_model_name": "HTMLModel",
      "_view_count": null,
      "_view_module": "@jupyter-widgets/controls",
      "_view_module_version": "1.5.0",
      "_view_name": "HTMLView",
      "description": "",
      "description_tooltip": null,
      "layout": "IPY_MODEL_1f160d6b2ec249b0ada5009d4ee9ae86",
      "placeholder": "​",
      "style": "IPY_MODEL_1a8818f7621a41d8b80dd75a56757d81",
      "value": " 4.84G/4.84G [00:31&lt;00:00, 264MB/s]"
     }
    },
    "a4eb042e0b3a49e0910b94ce5fcc11a6": {
     "model_module": "@jupyter-widgets/controls",
     "model_module_version": "1.5.0",
     "model_name": "DescriptionStyleModel",
     "state": {
      "_model_module": "@jupyter-widgets/controls",
      "_model_module_version": "1.5.0",
      "_model_name": "DescriptionStyleModel",
      "_view_count": null,
      "_view_module": "@jupyter-widgets/base",
      "_view_module_version": "1.2.0",
      "_view_name": "StyleView",
      "description_width": ""
     }
    },
    "a7b9078445654be9905878df1dbc0028": {
     "model_module": "@jupyter-widgets/base",
     "model_module_version": "1.2.0",
     "model_name": "LayoutModel",
     "state": {
      "_model_module": "@jupyter-widgets/base",
      "_model_module_version": "1.2.0",
      "_model_name": "LayoutModel",
      "_view_count": null,
      "_view_module": "@jupyter-widgets/base",
      "_view_module_version": "1.2.0",
      "_view_name": "LayoutView",
      "align_content": null,
      "align_items": null,
      "align_self": null,
      "border": null,
      "bottom": null,
      "display": null,
      "flex": null,
      "flex_flow": null,
      "grid_area": null,
      "grid_auto_columns": null,
      "grid_auto_flow": null,
      "grid_auto_rows": null,
      "grid_column": null,
      "grid_gap": null,
      "grid_row": null,
      "grid_template_areas": null,
      "grid_template_columns": null,
      "grid_template_rows": null,
      "height": null,
      "justify_content": null,
      "justify_items": null,
      "left": null,
      "margin": null,
      "max_height": null,
      "max_width": null,
      "min_height": null,
      "min_width": null,
      "object_fit": null,
      "object_position": null,
      "order": null,
      "overflow": null,
      "overflow_x": null,
      "overflow_y": null,
      "padding": null,
      "right": null,
      "top": null,
      "visibility": null,
      "width": null
     }
    },
    "a8473ae6be48454ba0b6d5070a5a79d8": {
     "model_module": "@jupyter-widgets/base",
     "model_module_version": "1.2.0",
     "model_name": "LayoutModel",
     "state": {
      "_model_module": "@jupyter-widgets/base",
      "_model_module_version": "1.2.0",
      "_model_name": "LayoutModel",
      "_view_count": null,
      "_view_module": "@jupyter-widgets/base",
      "_view_module_version": "1.2.0",
      "_view_name": "LayoutView",
      "align_content": null,
      "align_items": null,
      "align_self": null,
      "border": null,
      "bottom": null,
      "display": null,
      "flex": null,
      "flex_flow": null,
      "grid_area": null,
      "grid_auto_columns": null,
      "grid_auto_flow": null,
      "grid_auto_rows": null,
      "grid_column": null,
      "grid_gap": null,
      "grid_row": null,
      "grid_template_areas": null,
      "grid_template_columns": null,
      "grid_template_rows": null,
      "height": null,
      "justify_content": null,
      "justify_items": null,
      "left": null,
      "margin": null,
      "max_height": null,
      "max_width": null,
      "min_height": null,
      "min_width": null,
      "object_fit": null,
      "object_position": null,
      "order": null,
      "overflow": null,
      "overflow_x": null,
      "overflow_y": null,
      "padding": null,
      "right": null,
      "top": null,
      "visibility": null,
      "width": null
     }
    },
    "acc8f20895514e02988238062aa358f5": {
     "model_module": "@jupyter-widgets/controls",
     "model_module_version": "1.5.0",
     "model_name": "HTMLModel",
     "state": {
      "_dom_classes": [],
      "_model_module": "@jupyter-widgets/controls",
      "_model_module_version": "1.5.0",
      "_model_name": "HTMLModel",
      "_view_count": null,
      "_view_module": "@jupyter-widgets/controls",
      "_view_module_version": "1.5.0",
      "_view_name": "HTMLView",
      "description": "",
      "description_tooltip": null,
      "layout": "IPY_MODEL_781448299cf34cd881fe1cfce30176e5",
      "placeholder": "​",
      "style": "IPY_MODEL_85e34517c51149a19ac9b897af43b3e9",
      "value": "generation_config.json: 100%"
     }
    },
    "ae05be92c94b4603b6b2ab478159468d": {
     "model_module": "@jupyter-widgets/controls",
     "model_module_version": "1.5.0",
     "model_name": "HTMLModel",
     "state": {
      "_dom_classes": [],
      "_model_module": "@jupyter-widgets/controls",
      "_model_module_version": "1.5.0",
      "_model_name": "HTMLModel",
      "_view_count": null,
      "_view_module": "@jupyter-widgets/controls",
      "_view_module_version": "1.5.0",
      "_view_name": "HTMLView",
      "description": "",
      "description_tooltip": null,
      "layout": "IPY_MODEL_d0d6049d3467462888c4097ac23eb6f5",
      "placeholder": "​",
      "style": "IPY_MODEL_f5c4999d94d44c39974daa1e7e8ce0d7",
      "value": "Generating train split: "
     }
    },
    "b0053152f6c14a338ca94c55b125d8c9": {
     "model_module": "@jupyter-widgets/controls",
     "model_module_version": "1.5.0",
     "model_name": "HBoxModel",
     "state": {
      "_dom_classes": [],
      "_model_module": "@jupyter-widgets/controls",
      "_model_module_version": "1.5.0",
      "_model_name": "HBoxModel",
      "_view_count": null,
      "_view_module": "@jupyter-widgets/controls",
      "_view_module_version": "1.5.0",
      "_view_name": "HBoxView",
      "box_style": "",
      "children": [
       "IPY_MODEL_d73815ee4550463b967f57086536772c",
       "IPY_MODEL_3b6821f54bb443809c2eeb625cd557ab",
       "IPY_MODEL_d81df7837487415b849cb4fcf6630b2c"
      ],
      "layout": "IPY_MODEL_e2205bba78764fddb5323950c710ddba"
     }
    },
    "b1b2f243018c4f7a94ba05c0dca09e17": {
     "model_module": "@jupyter-widgets/controls",
     "model_module_version": "1.5.0",
     "model_name": "HTMLModel",
     "state": {
      "_dom_classes": [],
      "_model_module": "@jupyter-widgets/controls",
      "_model_module_version": "1.5.0",
      "_model_name": "HTMLModel",
      "_view_count": null,
      "_view_module": "@jupyter-widgets/controls",
      "_view_module_version": "1.5.0",
      "_view_name": "HTMLView",
      "description": "",
      "description_tooltip": null,
      "layout": "IPY_MODEL_87a089836f6f49159878e55333ffedee",
      "placeholder": "​",
      "style": "IPY_MODEL_978ea2b307b649c885910780d06193a3",
      "value": " 23.9k/23.9k [00:00&lt;00:00, 890kB/s]"
     }
    },
    "b7bcd2b42b2e474789934f36ee718310": {
     "model_module": "@jupyter-widgets/base",
     "model_module_version": "1.2.0",
     "model_name": "LayoutModel",
     "state": {
      "_model_module": "@jupyter-widgets/base",
      "_model_module_version": "1.2.0",
      "_model_name": "LayoutModel",
      "_view_count": null,
      "_view_module": "@jupyter-widgets/base",
      "_view_module_version": "1.2.0",
      "_view_name": "LayoutView",
      "align_content": null,
      "align_items": null,
      "align_self": null,
      "border": null,
      "bottom": null,
      "display": null,
      "flex": null,
      "flex_flow": null,
      "grid_area": null,
      "grid_auto_columns": null,
      "grid_auto_flow": null,
      "grid_auto_rows": null,
      "grid_column": null,
      "grid_gap": null,
      "grid_row": null,
      "grid_template_areas": null,
      "grid_template_columns": null,
      "grid_template_rows": null,
      "height": null,
      "justify_content": null,
      "justify_items": null,
      "left": null,
      "margin": null,
      "max_height": null,
      "max_width": null,
      "min_height": null,
      "min_width": null,
      "object_fit": null,
      "object_position": null,
      "order": null,
      "overflow": null,
      "overflow_x": null,
      "overflow_y": null,
      "padding": null,
      "right": null,
      "top": null,
      "visibility": null,
      "width": null
     }
    },
    "ba9b05b7824944e584886d7e32749852": {
     "model_module": "@jupyter-widgets/base",
     "model_module_version": "1.2.0",
     "model_name": "LayoutModel",
     "state": {
      "_model_module": "@jupyter-widgets/base",
      "_model_module_version": "1.2.0",
      "_model_name": "LayoutModel",
      "_view_count": null,
      "_view_module": "@jupyter-widgets/base",
      "_view_module_version": "1.2.0",
      "_view_name": "LayoutView",
      "align_content": null,
      "align_items": null,
      "align_self": null,
      "border": null,
      "bottom": null,
      "display": null,
      "flex": null,
      "flex_flow": null,
      "grid_area": null,
      "grid_auto_columns": null,
      "grid_auto_flow": null,
      "grid_auto_rows": null,
      "grid_column": null,
      "grid_gap": null,
      "grid_row": null,
      "grid_template_areas": null,
      "grid_template_columns": null,
      "grid_template_rows": null,
      "height": null,
      "justify_content": null,
      "justify_items": null,
      "left": null,
      "margin": null,
      "max_height": null,
      "max_width": null,
      "min_height": null,
      "min_width": null,
      "object_fit": null,
      "object_position": null,
      "order": null,
      "overflow": null,
      "overflow_x": null,
      "overflow_y": null,
      "padding": null,
      "right": null,
      "top": null,
      "visibility": null,
      "width": null
     }
    },
    "bb271b39f9294758a9fc294cdef91e0e": {
     "model_module": "@jupyter-widgets/controls",
     "model_module_version": "1.5.0",
     "model_name": "HBoxModel",
     "state": {
      "_dom_classes": [],
      "_model_module": "@jupyter-widgets/controls",
      "_model_module_version": "1.5.0",
      "_model_name": "HBoxModel",
      "_view_count": null,
      "_view_module": "@jupyter-widgets/controls",
      "_view_module_version": "1.5.0",
      "_view_name": "HBoxView",
      "box_style": "",
      "children": [
       "IPY_MODEL_5de3e45bbdb74e809f08c91343900b83",
       "IPY_MODEL_5bf72b41c7014ee99e9360047097f7b4",
       "IPY_MODEL_104dc0111b4a4f2cabe0568b4e85ab28"
      ],
      "layout": "IPY_MODEL_daa655060f1f4e33a9cab83b9b3fec19"
     }
    },
    "bdac836b13404e45af909b006b4303c9": {
     "model_module": "@jupyter-widgets/controls",
     "model_module_version": "1.5.0",
     "model_name": "HBoxModel",
     "state": {
      "_dom_classes": [],
      "_model_module": "@jupyter-widgets/controls",
      "_model_module_version": "1.5.0",
      "_model_name": "HBoxModel",
      "_view_count": null,
      "_view_module": "@jupyter-widgets/controls",
      "_view_module_version": "1.5.0",
      "_view_name": "HBoxView",
      "box_style": "",
      "children": [
       "IPY_MODEL_f68995584e904b52962aebd4ba869b29",
       "IPY_MODEL_7d19ecd3c5b74f0fa2e4499d951ea19c",
       "IPY_MODEL_8578147e065f4ed58ee76b96663517f9"
      ],
      "layout": "IPY_MODEL_f11b4064cbc640249ceff2c9f6278c10"
     }
    },
    "bdc5eb2954be4bfa8f6b9406e5c8dbb6": {
     "model_module": "@jupyter-widgets/controls",
     "model_module_version": "1.5.0",
     "model_name": "DescriptionStyleModel",
     "state": {
      "_model_module": "@jupyter-widgets/controls",
      "_model_module_version": "1.5.0",
      "_model_name": "DescriptionStyleModel",
      "_view_count": null,
      "_view_module": "@jupyter-widgets/base",
      "_view_module_version": "1.2.0",
      "_view_name": "StyleView",
      "description_width": ""
     }
    },
    "be617f5426ac46ea806399df210cdd18": {
     "model_module": "@jupyter-widgets/controls",
     "model_module_version": "1.5.0",
     "model_name": "FloatProgressModel",
     "state": {
      "_dom_classes": [],
      "_model_module": "@jupyter-widgets/controls",
      "_model_module_version": "1.5.0",
      "_model_name": "FloatProgressModel",
      "_view_count": null,
      "_view_module": "@jupyter-widgets/controls",
      "_view_module_version": "1.5.0",
      "_view_name": "ProgressView",
      "bar_style": "success",
      "description": "",
      "description_tooltip": null,
      "layout": "IPY_MODEL_437503b148f1473da74efc0e4e900bc1",
      "max": 4915916176,
      "min": 0,
      "orientation": "horizontal",
      "style": "IPY_MODEL_071637dc0df1470495ad9ffbdd7be316",
      "value": 4915916176
     }
    },
    "be9c0733e512449a93b63635cee4da5f": {
     "model_module": "@jupyter-widgets/base",
     "model_module_version": "1.2.0",
     "model_name": "LayoutModel",
     "state": {
      "_model_module": "@jupyter-widgets/base",
      "_model_module_version": "1.2.0",
      "_model_name": "LayoutModel",
      "_view_count": null,
      "_view_module": "@jupyter-widgets/base",
      "_view_module_version": "1.2.0",
      "_view_name": "LayoutView",
      "align_content": null,
      "align_items": null,
      "align_self": null,
      "border": null,
      "bottom": null,
      "display": null,
      "flex": null,
      "flex_flow": null,
      "grid_area": null,
      "grid_auto_columns": null,
      "grid_auto_flow": null,
      "grid_auto_rows": null,
      "grid_column": null,
      "grid_gap": null,
      "grid_row": null,
      "grid_template_areas": null,
      "grid_template_columns": null,
      "grid_template_rows": null,
      "height": null,
      "justify_content": null,
      "justify_items": null,
      "left": null,
      "margin": null,
      "max_height": null,
      "max_width": null,
      "min_height": null,
      "min_width": null,
      "object_fit": null,
      "object_position": null,
      "order": null,
      "overflow": null,
      "overflow_x": null,
      "overflow_y": null,
      "padding": null,
      "right": null,
      "top": null,
      "visibility": null,
      "width": null
     }
    },
    "c1efc223fff24e44a67ddbcb3e956811": {
     "model_module": "@jupyter-widgets/controls",
     "model_module_version": "1.5.0",
     "model_name": "DescriptionStyleModel",
     "state": {
      "_model_module": "@jupyter-widgets/controls",
      "_model_module_version": "1.5.0",
      "_model_name": "DescriptionStyleModel",
      "_view_count": null,
      "_view_module": "@jupyter-widgets/base",
      "_view_module_version": "1.2.0",
      "_view_name": "StyleView",
      "description_width": ""
     }
    },
    "c25cfbbb004e4d9fbdf1ac7dd66d03d7": {
     "model_module": "@jupyter-widgets/controls",
     "model_module_version": "1.5.0",
     "model_name": "ProgressStyleModel",
     "state": {
      "_model_module": "@jupyter-widgets/controls",
      "_model_module_version": "1.5.0",
      "_model_name": "ProgressStyleModel",
      "_view_count": null,
      "_view_module": "@jupyter-widgets/base",
      "_view_module_version": "1.2.0",
      "_view_name": "StyleView",
      "bar_color": null,
      "description_width": ""
     }
    },
    "c394fafc19fc44a28ad936747e0b897a": {
     "model_module": "@jupyter-widgets/base",
     "model_module_version": "1.2.0",
     "model_name": "LayoutModel",
     "state": {
      "_model_module": "@jupyter-widgets/base",
      "_model_module_version": "1.2.0",
      "_model_name": "LayoutModel",
      "_view_count": null,
      "_view_module": "@jupyter-widgets/base",
      "_view_module_version": "1.2.0",
      "_view_name": "LayoutView",
      "align_content": null,
      "align_items": null,
      "align_self": null,
      "border": null,
      "bottom": null,
      "display": null,
      "flex": null,
      "flex_flow": null,
      "grid_area": null,
      "grid_auto_columns": null,
      "grid_auto_flow": null,
      "grid_auto_rows": null,
      "grid_column": null,
      "grid_gap": null,
      "grid_row": null,
      "grid_template_areas": null,
      "grid_template_columns": null,
      "grid_template_rows": null,
      "height": null,
      "justify_content": null,
      "justify_items": null,
      "left": null,
      "margin": null,
      "max_height": null,
      "max_width": null,
      "min_height": null,
      "min_width": null,
      "object_fit": null,
      "object_position": null,
      "order": null,
      "overflow": null,
      "overflow_x": null,
      "overflow_y": null,
      "padding": null,
      "right": null,
      "top": null,
      "visibility": null,
      "width": null
     }
    },
    "c40b9220e1c8413281fa4a092e78e432": {
     "model_module": "@jupyter-widgets/controls",
     "model_module_version": "1.5.0",
     "model_name": "HBoxModel",
     "state": {
      "_dom_classes": [],
      "_model_module": "@jupyter-widgets/controls",
      "_model_module_version": "1.5.0",
      "_model_name": "HBoxModel",
      "_view_count": null,
      "_view_module": "@jupyter-widgets/controls",
      "_view_module_version": "1.5.0",
      "_view_name": "HBoxView",
      "box_style": "",
      "children": [
       "IPY_MODEL_e712542676c446b4977f36d7b3aede70",
       "IPY_MODEL_105af6f0b19d4f9b8f03cb1520782de0",
       "IPY_MODEL_a0d8bc4bd7ea42a381bcfde3e055bf8d"
      ],
      "layout": "IPY_MODEL_81c931fe094d405c93d2f5aacf97474f"
     }
    },
    "c9ecdd08450346bda79602a1e46436cd": {
     "model_module": "@jupyter-widgets/base",
     "model_module_version": "1.2.0",
     "model_name": "LayoutModel",
     "state": {
      "_model_module": "@jupyter-widgets/base",
      "_model_module_version": "1.2.0",
      "_model_name": "LayoutModel",
      "_view_count": null,
      "_view_module": "@jupyter-widgets/base",
      "_view_module_version": "1.2.0",
      "_view_name": "LayoutView",
      "align_content": null,
      "align_items": null,
      "align_self": null,
      "border": null,
      "bottom": null,
      "display": null,
      "flex": null,
      "flex_flow": null,
      "grid_area": null,
      "grid_auto_columns": null,
      "grid_auto_flow": null,
      "grid_auto_rows": null,
      "grid_column": null,
      "grid_gap": null,
      "grid_row": null,
      "grid_template_areas": null,
      "grid_template_columns": null,
      "grid_template_rows": null,
      "height": null,
      "justify_content": null,
      "justify_items": null,
      "left": null,
      "margin": null,
      "max_height": null,
      "max_width": null,
      "min_height": null,
      "min_width": null,
      "object_fit": null,
      "object_position": null,
      "order": null,
      "overflow": null,
      "overflow_x": null,
      "overflow_y": null,
      "padding": null,
      "right": null,
      "top": null,
      "visibility": null,
      "width": null
     }
    },
    "cb2bd29cb0c341809a568607e648c491": {
     "model_module": "@jupyter-widgets/base",
     "model_module_version": "1.2.0",
     "model_name": "LayoutModel",
     "state": {
      "_model_module": "@jupyter-widgets/base",
      "_model_module_version": "1.2.0",
      "_model_name": "LayoutModel",
      "_view_count": null,
      "_view_module": "@jupyter-widgets/base",
      "_view_module_version": "1.2.0",
      "_view_name": "LayoutView",
      "align_content": null,
      "align_items": null,
      "align_self": null,
      "border": null,
      "bottom": null,
      "display": null,
      "flex": null,
      "flex_flow": null,
      "grid_area": null,
      "grid_auto_columns": null,
      "grid_auto_flow": null,
      "grid_auto_rows": null,
      "grid_column": null,
      "grid_gap": null,
      "grid_row": null,
      "grid_template_areas": null,
      "grid_template_columns": null,
      "grid_template_rows": null,
      "height": null,
      "justify_content": null,
      "justify_items": null,
      "left": null,
      "margin": null,
      "max_height": null,
      "max_width": null,
      "min_height": null,
      "min_width": null,
      "object_fit": null,
      "object_position": null,
      "order": null,
      "overflow": null,
      "overflow_x": null,
      "overflow_y": null,
      "padding": null,
      "right": null,
      "top": null,
      "visibility": null,
      "width": null
     }
    },
    "ce6af25e4e234fe7867c5eef0dc071f9": {
     "model_module": "@jupyter-widgets/controls",
     "model_module_version": "1.5.0",
     "model_name": "HTMLModel",
     "state": {
      "_dom_classes": [],
      "_model_module": "@jupyter-widgets/controls",
      "_model_module_version": "1.5.0",
      "_model_name": "HTMLModel",
      "_view_count": null,
      "_view_module": "@jupyter-widgets/controls",
      "_view_module_version": "1.5.0",
      "_view_name": "HTMLView",
      "description": "",
      "description_tooltip": null,
      "layout": "IPY_MODEL_c394fafc19fc44a28ad936747e0b897a",
      "placeholder": "​",
      "style": "IPY_MODEL_55216296dec740a986cc2027d293c8ed",
      "value": "model-00002-of-00003.safetensors: 100%"
     }
    },
    "d0d6049d3467462888c4097ac23eb6f5": {
     "model_module": "@jupyter-widgets/base",
     "model_module_version": "1.2.0",
     "model_name": "LayoutModel",
     "state": {
      "_model_module": "@jupyter-widgets/base",
      "_model_module_version": "1.2.0",
      "_model_name": "LayoutModel",
      "_view_count": null,
      "_view_module": "@jupyter-widgets/base",
      "_view_module_version": "1.2.0",
      "_view_name": "LayoutView",
      "align_content": null,
      "align_items": null,
      "align_self": null,
      "border": null,
      "bottom": null,
      "display": null,
      "flex": null,
      "flex_flow": null,
      "grid_area": null,
      "grid_auto_columns": null,
      "grid_auto_flow": null,
      "grid_auto_rows": null,
      "grid_column": null,
      "grid_gap": null,
      "grid_row": null,
      "grid_template_areas": null,
      "grid_template_columns": null,
      "grid_template_rows": null,
      "height": null,
      "justify_content": null,
      "justify_items": null,
      "left": null,
      "margin": null,
      "max_height": null,
      "max_width": null,
      "min_height": null,
      "min_width": null,
      "object_fit": null,
      "object_position": null,
      "order": null,
      "overflow": null,
      "overflow_x": null,
      "overflow_y": null,
      "padding": null,
      "right": null,
      "top": null,
      "visibility": null,
      "width": null
     }
    },
    "d4180e91111d41138582babfb40528cb": {
     "model_module": "@jupyter-widgets/controls",
     "model_module_version": "1.5.0",
     "model_name": "FloatProgressModel",
     "state": {
      "_dom_classes": [],
      "_model_module": "@jupyter-widgets/controls",
      "_model_module_version": "1.5.0",
      "_model_name": "FloatProgressModel",
      "_view_count": null,
      "_view_module": "@jupyter-widgets/controls",
      "_view_module_version": "1.5.0",
      "_view_name": "ProgressView",
      "bar_style": "success",
      "description": "",
      "description_tooltip": null,
      "layout": "IPY_MODEL_22fe43180d3340578a1e2be40a0d5833",
      "max": 450,
      "min": 0,
      "orientation": "horizontal",
      "style": "IPY_MODEL_522cb2700fef4ce7bd6d80bfafc2b7be",
      "value": 450
     }
    },
    "d73815ee4550463b967f57086536772c": {
     "model_module": "@jupyter-widgets/controls",
     "model_module_version": "1.5.0",
     "model_name": "HTMLModel",
     "state": {
      "_dom_classes": [],
      "_model_module": "@jupyter-widgets/controls",
      "_model_module_version": "1.5.0",
      "_model_name": "HTMLModel",
      "_view_count": null,
      "_view_module": "@jupyter-widgets/controls",
      "_view_module_version": "1.5.0",
      "_view_name": "HTMLView",
      "description": "",
      "description_tooltip": null,
      "layout": "IPY_MODEL_e7337069636948b7bcf6977cf7e286d3",
      "placeholder": "​",
      "style": "IPY_MODEL_581ed5170a734dc889b75e53bb4e400b",
      "value": "tokenizer_config.json: 100%"
     }
    },
    "d81df7837487415b849cb4fcf6630b2c": {
     "model_module": "@jupyter-widgets/controls",
     "model_module_version": "1.5.0",
     "model_name": "HTMLModel",
     "state": {
      "_dom_classes": [],
      "_model_module": "@jupyter-widgets/controls",
      "_model_module_version": "1.5.0",
      "_model_name": "HTMLModel",
      "_view_count": null,
      "_view_module": "@jupyter-widgets/controls",
      "_view_module_version": "1.5.0",
      "_view_name": "HTMLView",
      "description": "",
      "description_tooltip": null,
      "layout": "IPY_MODEL_5577fba1eb1d45fbb25f907c66fed9a5",
      "placeholder": "​",
      "style": "IPY_MODEL_012cd7546a724d1e9aa82ce805327719",
      "value": " 1.42k/1.42k [00:00&lt;00:00, 56.4kB/s]"
     }
    },
    "da1cbf9ea6674034a09a1a5ca832afd2": {
     "model_module": "@jupyter-widgets/controls",
     "model_module_version": "1.5.0",
     "model_name": "ProgressStyleModel",
     "state": {
      "_model_module": "@jupyter-widgets/controls",
      "_model_module_version": "1.5.0",
      "_model_name": "ProgressStyleModel",
      "_view_count": null,
      "_view_module": "@jupyter-widgets/base",
      "_view_module_version": "1.2.0",
      "_view_name": "StyleView",
      "bar_color": null,
      "description_width": ""
     }
    },
    "daa655060f1f4e33a9cab83b9b3fec19": {
     "model_module": "@jupyter-widgets/base",
     "model_module_version": "1.2.0",
     "model_name": "LayoutModel",
     "state": {
      "_model_module": "@jupyter-widgets/base",
      "_model_module_version": "1.2.0",
      "_model_name": "LayoutModel",
      "_view_count": null,
      "_view_module": "@jupyter-widgets/base",
      "_view_module_version": "1.2.0",
      "_view_name": "LayoutView",
      "align_content": null,
      "align_items": null,
      "align_self": null,
      "border": null,
      "bottom": null,
      "display": null,
      "flex": null,
      "flex_flow": null,
      "grid_area": null,
      "grid_auto_columns": null,
      "grid_auto_flow": null,
      "grid_auto_rows": null,
      "grid_column": null,
      "grid_gap": null,
      "grid_row": null,
      "grid_template_areas": null,
      "grid_template_columns": null,
      "grid_template_rows": null,
      "height": null,
      "justify_content": null,
      "justify_items": null,
      "left": null,
      "margin": null,
      "max_height": null,
      "max_width": null,
      "min_height": null,
      "min_width": null,
      "object_fit": null,
      "object_position": null,
      "order": null,
      "overflow": null,
      "overflow_x": null,
      "overflow_y": null,
      "padding": null,
      "right": null,
      "top": null,
      "visibility": null,
      "width": null
     }
    },
    "de8bf8f509334ec08eeebca4ebe68514": {
     "model_module": "@jupyter-widgets/base",
     "model_module_version": "1.2.0",
     "model_name": "LayoutModel",
     "state": {
      "_model_module": "@jupyter-widgets/base",
      "_model_module_version": "1.2.0",
      "_model_name": "LayoutModel",
      "_view_count": null,
      "_view_module": "@jupyter-widgets/base",
      "_view_module_version": "1.2.0",
      "_view_name": "LayoutView",
      "align_content": null,
      "align_items": null,
      "align_self": null,
      "border": null,
      "bottom": null,
      "display": null,
      "flex": null,
      "flex_flow": null,
      "grid_area": null,
      "grid_auto_columns": null,
      "grid_auto_flow": null,
      "grid_auto_rows": null,
      "grid_column": null,
      "grid_gap": null,
      "grid_row": null,
      "grid_template_areas": null,
      "grid_template_columns": null,
      "grid_template_rows": null,
      "height": null,
      "justify_content": null,
      "justify_items": null,
      "left": null,
      "margin": null,
      "max_height": null,
      "max_width": null,
      "min_height": null,
      "min_width": null,
      "object_fit": null,
      "object_position": null,
      "order": null,
      "overflow": null,
      "overflow_x": null,
      "overflow_y": null,
      "padding": null,
      "right": null,
      "top": null,
      "visibility": null,
      "width": null
     }
    },
    "e13ea5fb7dfe48b48452d0363f6b304c": {
     "model_module": "@jupyter-widgets/base",
     "model_module_version": "1.2.0",
     "model_name": "LayoutModel",
     "state": {
      "_model_module": "@jupyter-widgets/base",
      "_model_module_version": "1.2.0",
      "_model_name": "LayoutModel",
      "_view_count": null,
      "_view_module": "@jupyter-widgets/base",
      "_view_module_version": "1.2.0",
      "_view_name": "LayoutView",
      "align_content": null,
      "align_items": null,
      "align_self": null,
      "border": null,
      "bottom": null,
      "display": null,
      "flex": null,
      "flex_flow": null,
      "grid_area": null,
      "grid_auto_columns": null,
      "grid_auto_flow": null,
      "grid_auto_rows": null,
      "grid_column": null,
      "grid_gap": null,
      "grid_row": null,
      "grid_template_areas": null,
      "grid_template_columns": null,
      "grid_template_rows": null,
      "height": null,
      "justify_content": null,
      "justify_items": null,
      "left": null,
      "margin": null,
      "max_height": null,
      "max_width": null,
      "min_height": null,
      "min_width": null,
      "object_fit": null,
      "object_position": null,
      "order": null,
      "overflow": null,
      "overflow_x": null,
      "overflow_y": null,
      "padding": null,
      "right": null,
      "top": null,
      "visibility": null,
      "width": null
     }
    },
    "e18977b4f79f4b46999b34a6583dc906": {
     "model_module": "@jupyter-widgets/controls",
     "model_module_version": "1.5.0",
     "model_name": "FloatProgressModel",
     "state": {
      "_dom_classes": [],
      "_model_module": "@jupyter-widgets/controls",
      "_model_module_version": "1.5.0",
      "_model_name": "FloatProgressModel",
      "_view_count": null,
      "_view_module": "@jupyter-widgets/controls",
      "_view_module_version": "1.5.0",
      "_view_name": "ProgressView",
      "bar_style": "success",
      "description": "",
      "description_tooltip": null,
      "layout": "IPY_MODEL_858a11559c7644959eef71b7976fa7a3",
      "max": 1,
      "min": 0,
      "orientation": "horizontal",
      "style": "IPY_MODEL_da1cbf9ea6674034a09a1a5ca832afd2",
      "value": 1
     }
    },
    "e2205bba78764fddb5323950c710ddba": {
     "model_module": "@jupyter-widgets/base",
     "model_module_version": "1.2.0",
     "model_name": "LayoutModel",
     "state": {
      "_model_module": "@jupyter-widgets/base",
      "_model_module_version": "1.2.0",
      "_model_name": "LayoutModel",
      "_view_count": null,
      "_view_module": "@jupyter-widgets/base",
      "_view_module_version": "1.2.0",
      "_view_name": "LayoutView",
      "align_content": null,
      "align_items": null,
      "align_self": null,
      "border": null,
      "bottom": null,
      "display": null,
      "flex": null,
      "flex_flow": null,
      "grid_area": null,
      "grid_auto_columns": null,
      "grid_auto_flow": null,
      "grid_auto_rows": null,
      "grid_column": null,
      "grid_gap": null,
      "grid_row": null,
      "grid_template_areas": null,
      "grid_template_columns": null,
      "grid_template_rows": null,
      "height": null,
      "justify_content": null,
      "justify_items": null,
      "left": null,
      "margin": null,
      "max_height": null,
      "max_width": null,
      "min_height": null,
      "min_width": null,
      "object_fit": null,
      "object_position": null,
      "order": null,
      "overflow": null,
      "overflow_x": null,
      "overflow_y": null,
      "padding": null,
      "right": null,
      "top": null,
      "visibility": null,
      "width": null
     }
    },
    "e2bd9e690a664ca4941d104976d11ba7": {
     "model_module": "@jupyter-widgets/controls",
     "model_module_version": "1.5.0",
     "model_name": "ProgressStyleModel",
     "state": {
      "_model_module": "@jupyter-widgets/controls",
      "_model_module_version": "1.5.0",
      "_model_name": "ProgressStyleModel",
      "_view_count": null,
      "_view_module": "@jupyter-widgets/base",
      "_view_module_version": "1.2.0",
      "_view_name": "StyleView",
      "bar_color": null,
      "description_width": ""
     }
    },
    "e4344682e9b44878bf02c6e553f7870a": {
     "model_module": "@jupyter-widgets/controls",
     "model_module_version": "1.5.0",
     "model_name": "HTMLModel",
     "state": {
      "_dom_classes": [],
      "_model_module": "@jupyter-widgets/controls",
      "_model_module_version": "1.5.0",
      "_model_name": "HTMLModel",
      "_view_count": null,
      "_view_module": "@jupyter-widgets/controls",
      "_view_module_version": "1.5.0",
      "_view_name": "HTMLView",
      "description": "",
      "description_tooltip": null,
      "layout": "IPY_MODEL_75803716e71746d59ef5b148741eaf6a",
      "placeholder": "​",
      "style": "IPY_MODEL_87515115ba9746b3ad4ccc081ad06b47",
      "value": " 655/655 [00:00&lt;00:00, 39.9kB/s]"
     }
    },
    "e4e7294b031d48b689018def2c6e9385": {
     "model_module": "@jupyter-widgets/controls",
     "model_module_version": "1.5.0",
     "model_name": "DescriptionStyleModel",
     "state": {
      "_model_module": "@jupyter-widgets/controls",
      "_model_module_version": "1.5.0",
      "_model_name": "DescriptionStyleModel",
      "_view_count": null,
      "_view_module": "@jupyter-widgets/base",
      "_view_module_version": "1.2.0",
      "_view_name": "StyleView",
      "description_width": ""
     }
    },
    "e628c7df8b7848369b5c6e900f425e24": {
     "model_module": "@jupyter-widgets/controls",
     "model_module_version": "1.5.0",
     "model_name": "DescriptionStyleModel",
     "state": {
      "_model_module": "@jupyter-widgets/controls",
      "_model_module_version": "1.5.0",
      "_model_name": "DescriptionStyleModel",
      "_view_count": null,
      "_view_module": "@jupyter-widgets/base",
      "_view_module_version": "1.2.0",
      "_view_name": "StyleView",
      "description_width": ""
     }
    },
    "e712542676c446b4977f36d7b3aede70": {
     "model_module": "@jupyter-widgets/controls",
     "model_module_version": "1.5.0",
     "model_name": "HTMLModel",
     "state": {
      "_dom_classes": [],
      "_model_module": "@jupyter-widgets/controls",
      "_model_module_version": "1.5.0",
      "_model_name": "HTMLModel",
      "_view_count": null,
      "_view_module": "@jupyter-widgets/controls",
      "_view_module_version": "1.5.0",
      "_view_name": "HTMLView",
      "description": "",
      "description_tooltip": null,
      "layout": "IPY_MODEL_6a8345ec90e4494faea9595236c1b194",
      "placeholder": "​",
      "style": "IPY_MODEL_0e102c457d5a4d7eaca0c99acb8eb17d",
      "value": "model-00003-of-00003.safetensors: 100%"
     }
    },
    "e7337069636948b7bcf6977cf7e286d3": {
     "model_module": "@jupyter-widgets/base",
     "model_module_version": "1.2.0",
     "model_name": "LayoutModel",
     "state": {
      "_model_module": "@jupyter-widgets/base",
      "_model_module_version": "1.2.0",
      "_model_name": "LayoutModel",
      "_view_count": null,
      "_view_module": "@jupyter-widgets/base",
      "_view_module_version": "1.2.0",
      "_view_name": "LayoutView",
      "align_content": null,
      "align_items": null,
      "align_self": null,
      "border": null,
      "bottom": null,
      "display": null,
      "flex": null,
      "flex_flow": null,
      "grid_area": null,
      "grid_auto_columns": null,
      "grid_auto_flow": null,
      "grid_auto_rows": null,
      "grid_column": null,
      "grid_gap": null,
      "grid_row": null,
      "grid_template_areas": null,
      "grid_template_columns": null,
      "grid_template_rows": null,
      "height": null,
      "justify_content": null,
      "justify_items": null,
      "left": null,
      "margin": null,
      "max_height": null,
      "max_width": null,
      "min_height": null,
      "min_width": null,
      "object_fit": null,
      "object_position": null,
      "order": null,
      "overflow": null,
      "overflow_x": null,
      "overflow_y": null,
      "padding": null,
      "right": null,
      "top": null,
      "visibility": null,
      "width": null
     }
    },
    "ee256b2bd7b94affb0c406e0d2afdda3": {
     "model_module": "@jupyter-widgets/controls",
     "model_module_version": "1.5.0",
     "model_name": "DescriptionStyleModel",
     "state": {
      "_model_module": "@jupyter-widgets/controls",
      "_model_module_version": "1.5.0",
      "_model_name": "DescriptionStyleModel",
      "_view_count": null,
      "_view_module": "@jupyter-widgets/base",
      "_view_module_version": "1.2.0",
      "_view_name": "StyleView",
      "description_width": ""
     }
    },
    "f05d54ec27804680aba2d15b0e7d4b4e": {
     "model_module": "@jupyter-widgets/base",
     "model_module_version": "1.2.0",
     "model_name": "LayoutModel",
     "state": {
      "_model_module": "@jupyter-widgets/base",
      "_model_module_version": "1.2.0",
      "_model_name": "LayoutModel",
      "_view_count": null,
      "_view_module": "@jupyter-widgets/base",
      "_view_module_version": "1.2.0",
      "_view_name": "LayoutView",
      "align_content": null,
      "align_items": null,
      "align_self": null,
      "border": null,
      "bottom": null,
      "display": null,
      "flex": null,
      "flex_flow": null,
      "grid_area": null,
      "grid_auto_columns": null,
      "grid_auto_flow": null,
      "grid_auto_rows": null,
      "grid_column": null,
      "grid_gap": null,
      "grid_row": null,
      "grid_template_areas": null,
      "grid_template_columns": null,
      "grid_template_rows": null,
      "height": null,
      "justify_content": null,
      "justify_items": null,
      "left": null,
      "margin": null,
      "max_height": null,
      "max_width": null,
      "min_height": null,
      "min_width": null,
      "object_fit": null,
      "object_position": null,
      "order": null,
      "overflow": null,
      "overflow_x": null,
      "overflow_y": null,
      "padding": null,
      "right": null,
      "top": null,
      "visibility": null,
      "width": null
     }
    },
    "f0fd3dff79d44681b94b7660b7699f21": {
     "model_module": "@jupyter-widgets/controls",
     "model_module_version": "1.5.0",
     "model_name": "ProgressStyleModel",
     "state": {
      "_model_module": "@jupyter-widgets/controls",
      "_model_module_version": "1.5.0",
      "_model_name": "ProgressStyleModel",
      "_view_count": null,
      "_view_module": "@jupyter-widgets/base",
      "_view_module_version": "1.2.0",
      "_view_name": "StyleView",
      "bar_color": null,
      "description_width": ""
     }
    },
    "f11b4064cbc640249ceff2c9f6278c10": {
     "model_module": "@jupyter-widgets/base",
     "model_module_version": "1.2.0",
     "model_name": "LayoutModel",
     "state": {
      "_model_module": "@jupyter-widgets/base",
      "_model_module_version": "1.2.0",
      "_model_name": "LayoutModel",
      "_view_count": null,
      "_view_module": "@jupyter-widgets/base",
      "_view_module_version": "1.2.0",
      "_view_name": "LayoutView",
      "align_content": null,
      "align_items": null,
      "align_self": null,
      "border": null,
      "bottom": null,
      "display": null,
      "flex": null,
      "flex_flow": null,
      "grid_area": null,
      "grid_auto_columns": null,
      "grid_auto_flow": null,
      "grid_auto_rows": null,
      "grid_column": null,
      "grid_gap": null,
      "grid_row": null,
      "grid_template_areas": null,
      "grid_template_columns": null,
      "grid_template_rows": null,
      "height": null,
      "justify_content": null,
      "justify_items": null,
      "left": null,
      "margin": null,
      "max_height": null,
      "max_width": null,
      "min_height": null,
      "min_width": null,
      "object_fit": null,
      "object_position": null,
      "order": null,
      "overflow": null,
      "overflow_x": null,
      "overflow_y": null,
      "padding": null,
      "right": null,
      "top": null,
      "visibility": null,
      "width": null
     }
    },
    "f24a418c6b534dffa94b8c4dda06bb5b": {
     "model_module": "@jupyter-widgets/controls",
     "model_module_version": "1.5.0",
     "model_name": "DescriptionStyleModel",
     "state": {
      "_model_module": "@jupyter-widgets/controls",
      "_model_module_version": "1.5.0",
      "_model_name": "DescriptionStyleModel",
      "_view_count": null,
      "_view_module": "@jupyter-widgets/base",
      "_view_module_version": "1.2.0",
      "_view_name": "StyleView",
      "description_width": ""
     }
    },
    "f2c94128196f46488cafbf518e26de19": {
     "model_module": "@jupyter-widgets/controls",
     "model_module_version": "1.5.0",
     "model_name": "HTMLModel",
     "state": {
      "_dom_classes": [],
      "_model_module": "@jupyter-widgets/controls",
      "_model_module_version": "1.5.0",
      "_model_name": "HTMLModel",
      "_view_count": null,
      "_view_module": "@jupyter-widgets/controls",
      "_view_module_version": "1.5.0",
      "_view_name": "HTMLView",
      "description": "",
      "description_tooltip": null,
      "layout": "IPY_MODEL_3f0aa99d0ede4e1d8852c67be1755780",
      "placeholder": "​",
      "style": "IPY_MODEL_62d86dee12d346df88d26343eba4d6d1",
      "value": "tokenizer.model: 100%"
     }
    },
    "f5c4999d94d44c39974daa1e7e8ce0d7": {
     "model_module": "@jupyter-widgets/controls",
     "model_module_version": "1.5.0",
     "model_name": "DescriptionStyleModel",
     "state": {
      "_model_module": "@jupyter-widgets/controls",
      "_model_module_version": "1.5.0",
      "_model_name": "DescriptionStyleModel",
      "_view_count": null,
      "_view_module": "@jupyter-widgets/base",
      "_view_module_version": "1.2.0",
      "_view_name": "StyleView",
      "description_width": ""
     }
    },
    "f63a8b16016b42d9ac6fbd223971c7a5": {
     "model_module": "@jupyter-widgets/controls",
     "model_module_version": "1.5.0",
     "model_name": "HBoxModel",
     "state": {
      "_dom_classes": [],
      "_model_module": "@jupyter-widgets/controls",
      "_model_module_version": "1.5.0",
      "_model_name": "HBoxModel",
      "_view_count": null,
      "_view_module": "@jupyter-widgets/controls",
      "_view_module_version": "1.5.0",
      "_view_name": "HBoxView",
      "box_style": "",
      "children": [
       "IPY_MODEL_ce6af25e4e234fe7867c5eef0dc071f9",
       "IPY_MODEL_be617f5426ac46ea806399df210cdd18",
       "IPY_MODEL_15c9b94cd671475daf29d586551fa84d"
      ],
      "layout": "IPY_MODEL_a06ac2458a85449191a075f0860f0f8e"
     }
    },
    "f68995584e904b52962aebd4ba869b29": {
     "model_module": "@jupyter-widgets/controls",
     "model_module_version": "1.5.0",
     "model_name": "HTMLModel",
     "state": {
      "_dom_classes": [],
      "_model_module": "@jupyter-widgets/controls",
      "_model_module_version": "1.5.0",
      "_model_name": "HTMLModel",
      "_view_count": null,
      "_view_module": "@jupyter-widgets/controls",
      "_view_module_version": "1.5.0",
      "_view_name": "HTMLView",
      "description": "",
      "description_tooltip": null,
      "layout": "IPY_MODEL_096817325dfe4969963ce9a48ffe1a63",
      "placeholder": "​",
      "style": "IPY_MODEL_08a9112251244ff39ac1b7dbbc0a776a",
      "value": "model-00001-of-00003.safetensors: 100%"
     }
    },
    "f6b3942047c1405f9185fe85199d0747": {
     "model_module": "@jupyter-widgets/controls",
     "model_module_version": "1.5.0",
     "model_name": "HBoxModel",
     "state": {
      "_dom_classes": [],
      "_model_module": "@jupyter-widgets/controls",
      "_model_module_version": "1.5.0",
      "_model_name": "HBoxModel",
      "_view_count": null,
      "_view_module": "@jupyter-widgets/controls",
      "_view_module_version": "1.5.0",
      "_view_name": "HBoxView",
      "box_style": "",
      "children": [
       "IPY_MODEL_566c609cf4f2457aa07fac5093d3d0ea",
       "IPY_MODEL_8be9d98be84646eca2273f2274ba6557",
       "IPY_MODEL_6004d4a247bb4ce387bd7119ecc844d8"
      ],
      "layout": "IPY_MODEL_363324ede95b4a618283c6f41f838ce9"
     }
    },
    "f86fcf6327f44f808864797c44b6b9d7": {
     "model_module": "@jupyter-widgets/controls",
     "model_module_version": "1.5.0",
     "model_name": "HTMLModel",
     "state": {
      "_dom_classes": [],
      "_model_module": "@jupyter-widgets/controls",
      "_model_module_version": "1.5.0",
      "_model_name": "HTMLModel",
      "_view_count": null,
      "_view_module": "@jupyter-widgets/controls",
      "_view_module_version": "1.5.0",
      "_view_name": "HTMLView",
      "description": "",
      "description_tooltip": null,
      "layout": "IPY_MODEL_44d54aeb4d3f44efbaef344cd9aa3f79",
      "placeholder": "​",
      "style": "IPY_MODEL_8d5068d7e96f458c9c5a41c1fa137db6",
      "value": "model.safetensors.index.json: 100%"
     }
    },
    "f9b3de0c2832459aaf551fc9a5779000": {
     "model_module": "@jupyter-widgets/controls",
     "model_module_version": "1.5.0",
     "model_name": "ProgressStyleModel",
     "state": {
      "_model_module": "@jupyter-widgets/controls",
      "_model_module_version": "1.5.0",
      "_model_name": "ProgressStyleModel",
      "_view_count": null,
      "_view_module": "@jupyter-widgets/base",
      "_view_module_version": "1.2.0",
      "_view_name": "StyleView",
      "bar_color": null,
      "description_width": ""
     }
    },
    "faf400f4769e4d7d8ac623821a7ecb07": {
     "model_module": "@jupyter-widgets/controls",
     "model_module_version": "1.5.0",
     "model_name": "FloatProgressModel",
     "state": {
      "_dom_classes": [],
      "_model_module": "@jupyter-widgets/controls",
      "_model_module_version": "1.5.0",
      "_model_name": "FloatProgressModel",
      "_view_count": null,
      "_view_module": "@jupyter-widgets/controls",
      "_view_module_version": "1.5.0",
      "_view_name": "ProgressView",
      "bar_style": "success",
      "description": "",
      "description_tooltip": null,
      "layout": "IPY_MODEL_8e6dca186dfa46f4b757110c220e3cff",
      "max": 655,
      "min": 0,
      "orientation": "horizontal",
      "style": "IPY_MODEL_e2bd9e690a664ca4941d104976d11ba7",
      "value": 655
     }
    },
    "fcc2a298b2c4449f84526981742ef0c0": {
     "model_module": "@jupyter-widgets/base",
     "model_module_version": "1.2.0",
     "model_name": "LayoutModel",
     "state": {
      "_model_module": "@jupyter-widgets/base",
      "_model_module_version": "1.2.0",
      "_model_name": "LayoutModel",
      "_view_count": null,
      "_view_module": "@jupyter-widgets/base",
      "_view_module_version": "1.2.0",
      "_view_name": "LayoutView",
      "align_content": null,
      "align_items": null,
      "align_self": null,
      "border": null,
      "bottom": null,
      "display": null,
      "flex": null,
      "flex_flow": null,
      "grid_area": null,
      "grid_auto_columns": null,
      "grid_auto_flow": null,
      "grid_auto_rows": null,
      "grid_column": null,
      "grid_gap": null,
      "grid_row": null,
      "grid_template_areas": null,
      "grid_template_columns": null,
      "grid_template_rows": null,
      "height": null,
      "justify_content": null,
      "justify_items": null,
      "left": null,
      "margin": null,
      "max_height": null,
      "max_width": null,
      "min_height": null,
      "min_width": null,
      "object_fit": null,
      "object_position": null,
      "order": null,
      "overflow": null,
      "overflow_x": null,
      "overflow_y": null,
      "padding": null,
      "right": null,
      "top": null,
      "visibility": null,
      "width": null
     }
    }
   }
  }
 },
 "nbformat": 4,
 "nbformat_minor": 4
}
